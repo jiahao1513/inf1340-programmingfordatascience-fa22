{
  "cells": [
    {
      "cell_type": "markdown",
      "source": [
        "# Midterm Code"
      ],
      "metadata": {
        "id": "sq1K5JfG3j7D"
      },
      "id": "sq1K5JfG3j7D"
    },
    {
      "cell_type": "code",
      "source": [],
      "metadata": {
        "id": "ORyCS2uLNCVm"
      },
      "id": "ORyCS2uLNCVm",
      "execution_count": null,
      "outputs": []
    },
    {
      "cell_type": "code",
      "execution_count": null,
      "id": "a3aa6a48",
      "metadata": {
        "colab": {
          "base_uri": "https://localhost:8080/"
        },
        "id": "a3aa6a48",
        "outputId": "6978a28f-d290-43f9-96d6-47b60374c091"
      },
      "outputs": [
        {
          "output_type": "stream",
          "name": "stdout",
          "text": [
            "Looking in indexes: https://pypi.org/simple, https://us-python.pkg.dev/colab-wheels/public/simple/\n",
            "Requirement already satisfied: openpyxl in /usr/local/lib/python3.8/dist-packages (3.0.10)\n",
            "Requirement already satisfied: et-xmlfile in /usr/local/lib/python3.8/dist-packages (from openpyxl) (1.1.0)\n"
          ]
        }
      ],
      "source": [
        "\n",
        "import numpy as np\n",
        "import pandas as pd\n",
        "import matplotlib.pyplot as plt\n",
        "import seaborn as sns\n",
        "import plotly\n",
        "import os\n",
        "\n",
        "import sys\n",
        "!{sys.executable} -m pip install openpyxl"
      ]
    },
    {
      "cell_type": "markdown",
      "source": [],
      "metadata": {
        "id": "cGXQfPHG3i6O"
      },
      "id": "cGXQfPHG3i6O"
    },
    {
      "cell_type": "code",
      "execution_count": null,
      "id": "089c0828",
      "metadata": {
        "id": "089c0828"
      },
      "outputs": [],
      "source": [
        "df_wholething = pd.read_excel('https://github.com/shionguha/inf1340-programmingfordatascience-fa22/blob/main/project%20data/UN_MigrantStockTotal_2015.xlsx?raw=true', sheet_name = None)\n",
        "\n"
      ]
    },
    {
      "cell_type": "code",
      "execution_count": null,
      "id": "8dbee063",
      "metadata": {
        "colab": {
          "base_uri": "https://localhost:8080/"
        },
        "id": "8dbee063",
        "outputId": "6aa4338c-73d5-453d-8ab1-61271f0dd28a"
      },
      "outputs": [
        {
          "output_type": "execute_result",
          "data": {
            "text/plain": [
              "                                          Unnamed: 1 Unnamed: 3 Unnamed: 5  \\\n",
              "0                                              WORLD        900  152563212   \n",
              "1                                  Developed regions        901   82378628   \n",
              "2                                 Developing regions        902   70184584   \n",
              "3                          Least developed countries        941   11075966   \n",
              "4  Less developed regions excluding least develop...        934   59105261   \n",
              "\n",
              "  Unnamed: 6 Unnamed: 7 Unnamed: 8   Unnamed: 9  Unnamed: 10 Unnamed: 11  \\\n",
              "0  160801752  172703309  191269100  221714243.0  243700236.0    77747510   \n",
              "1   92306854  103375363  117181109  132560325.0  140481955.0    40263397   \n",
              "2   68494898   69327946   74087991   89153918.0  103218281.0    37484113   \n",
              "3   11711703   10077824    9809634   10018128.0   11951316.0     5843107   \n",
              "4   56778501   59244124   64272611   79130668.0   91262036.0    31641006   \n",
              "\n",
              "  Unnamed: 12 Unnamed: 13 Unnamed: 14  Unnamed: 15  Unnamed: 16 Unnamed: 17  \\\n",
              "0    81737477    87884839    97866674  114613714.0  126115435.0    74815702   \n",
              "1    45092799    50536796    57217777   64081077.0   67618619.0    42115231   \n",
              "2    36644678    37348043    40648897   50532637.0   58496816.0    32700471   \n",
              "3     6142712     5361902     5383009    5462714.0    6463217.0     5236216   \n",
              "4    30501966    31986141    35265888   45069923.0   52033599.0    27464255   \n",
              "\n",
              "  Unnamed: 18 Unnamed: 19 Unnamed: 20  Unnamed: 21  Unnamed: 22  \n",
              "0    79064275    84818470    93402426  107100529.0  117584801.0  \n",
              "1    47214055    52838567    59963332   68479248.0   72863336.0  \n",
              "2    31850220    31979903    33439094   38621281.0   44721465.0  \n",
              "3     5573685     4721920     4432371    4560536.0    5493028.0  \n",
              "4    26276535    27257983    29006723   34060745.0   39228437.0  "
            ],
            "text/html": [
              "\n",
              "  <div id=\"df-a1ddac78-f7d9-41ee-8ff1-2b4df2656ab4\">\n",
              "    <div class=\"colab-df-container\">\n",
              "      <div>\n",
              "<style scoped>\n",
              "    .dataframe tbody tr th:only-of-type {\n",
              "        vertical-align: middle;\n",
              "    }\n",
              "\n",
              "    .dataframe tbody tr th {\n",
              "        vertical-align: top;\n",
              "    }\n",
              "\n",
              "    .dataframe thead th {\n",
              "        text-align: right;\n",
              "    }\n",
              "</style>\n",
              "<table border=\"1\" class=\"dataframe\">\n",
              "  <thead>\n",
              "    <tr style=\"text-align: right;\">\n",
              "      <th></th>\n",
              "      <th>Unnamed: 1</th>\n",
              "      <th>Unnamed: 3</th>\n",
              "      <th>Unnamed: 5</th>\n",
              "      <th>Unnamed: 6</th>\n",
              "      <th>Unnamed: 7</th>\n",
              "      <th>Unnamed: 8</th>\n",
              "      <th>Unnamed: 9</th>\n",
              "      <th>Unnamed: 10</th>\n",
              "      <th>Unnamed: 11</th>\n",
              "      <th>Unnamed: 12</th>\n",
              "      <th>Unnamed: 13</th>\n",
              "      <th>Unnamed: 14</th>\n",
              "      <th>Unnamed: 15</th>\n",
              "      <th>Unnamed: 16</th>\n",
              "      <th>Unnamed: 17</th>\n",
              "      <th>Unnamed: 18</th>\n",
              "      <th>Unnamed: 19</th>\n",
              "      <th>Unnamed: 20</th>\n",
              "      <th>Unnamed: 21</th>\n",
              "      <th>Unnamed: 22</th>\n",
              "    </tr>\n",
              "  </thead>\n",
              "  <tbody>\n",
              "    <tr>\n",
              "      <th>0</th>\n",
              "      <td>WORLD</td>\n",
              "      <td>900</td>\n",
              "      <td>152563212</td>\n",
              "      <td>160801752</td>\n",
              "      <td>172703309</td>\n",
              "      <td>191269100</td>\n",
              "      <td>221714243.0</td>\n",
              "      <td>243700236.0</td>\n",
              "      <td>77747510</td>\n",
              "      <td>81737477</td>\n",
              "      <td>87884839</td>\n",
              "      <td>97866674</td>\n",
              "      <td>114613714.0</td>\n",
              "      <td>126115435.0</td>\n",
              "      <td>74815702</td>\n",
              "      <td>79064275</td>\n",
              "      <td>84818470</td>\n",
              "      <td>93402426</td>\n",
              "      <td>107100529.0</td>\n",
              "      <td>117584801.0</td>\n",
              "    </tr>\n",
              "    <tr>\n",
              "      <th>1</th>\n",
              "      <td>Developed regions</td>\n",
              "      <td>901</td>\n",
              "      <td>82378628</td>\n",
              "      <td>92306854</td>\n",
              "      <td>103375363</td>\n",
              "      <td>117181109</td>\n",
              "      <td>132560325.0</td>\n",
              "      <td>140481955.0</td>\n",
              "      <td>40263397</td>\n",
              "      <td>45092799</td>\n",
              "      <td>50536796</td>\n",
              "      <td>57217777</td>\n",
              "      <td>64081077.0</td>\n",
              "      <td>67618619.0</td>\n",
              "      <td>42115231</td>\n",
              "      <td>47214055</td>\n",
              "      <td>52838567</td>\n",
              "      <td>59963332</td>\n",
              "      <td>68479248.0</td>\n",
              "      <td>72863336.0</td>\n",
              "    </tr>\n",
              "    <tr>\n",
              "      <th>2</th>\n",
              "      <td>Developing regions</td>\n",
              "      <td>902</td>\n",
              "      <td>70184584</td>\n",
              "      <td>68494898</td>\n",
              "      <td>69327946</td>\n",
              "      <td>74087991</td>\n",
              "      <td>89153918.0</td>\n",
              "      <td>103218281.0</td>\n",
              "      <td>37484113</td>\n",
              "      <td>36644678</td>\n",
              "      <td>37348043</td>\n",
              "      <td>40648897</td>\n",
              "      <td>50532637.0</td>\n",
              "      <td>58496816.0</td>\n",
              "      <td>32700471</td>\n",
              "      <td>31850220</td>\n",
              "      <td>31979903</td>\n",
              "      <td>33439094</td>\n",
              "      <td>38621281.0</td>\n",
              "      <td>44721465.0</td>\n",
              "    </tr>\n",
              "    <tr>\n",
              "      <th>3</th>\n",
              "      <td>Least developed countries</td>\n",
              "      <td>941</td>\n",
              "      <td>11075966</td>\n",
              "      <td>11711703</td>\n",
              "      <td>10077824</td>\n",
              "      <td>9809634</td>\n",
              "      <td>10018128.0</td>\n",
              "      <td>11951316.0</td>\n",
              "      <td>5843107</td>\n",
              "      <td>6142712</td>\n",
              "      <td>5361902</td>\n",
              "      <td>5383009</td>\n",
              "      <td>5462714.0</td>\n",
              "      <td>6463217.0</td>\n",
              "      <td>5236216</td>\n",
              "      <td>5573685</td>\n",
              "      <td>4721920</td>\n",
              "      <td>4432371</td>\n",
              "      <td>4560536.0</td>\n",
              "      <td>5493028.0</td>\n",
              "    </tr>\n",
              "    <tr>\n",
              "      <th>4</th>\n",
              "      <td>Less developed regions excluding least develop...</td>\n",
              "      <td>934</td>\n",
              "      <td>59105261</td>\n",
              "      <td>56778501</td>\n",
              "      <td>59244124</td>\n",
              "      <td>64272611</td>\n",
              "      <td>79130668.0</td>\n",
              "      <td>91262036.0</td>\n",
              "      <td>31641006</td>\n",
              "      <td>30501966</td>\n",
              "      <td>31986141</td>\n",
              "      <td>35265888</td>\n",
              "      <td>45069923.0</td>\n",
              "      <td>52033599.0</td>\n",
              "      <td>27464255</td>\n",
              "      <td>26276535</td>\n",
              "      <td>27257983</td>\n",
              "      <td>29006723</td>\n",
              "      <td>34060745.0</td>\n",
              "      <td>39228437.0</td>\n",
              "    </tr>\n",
              "  </tbody>\n",
              "</table>\n",
              "</div>\n",
              "      <button class=\"colab-df-convert\" onclick=\"convertToInteractive('df-a1ddac78-f7d9-41ee-8ff1-2b4df2656ab4')\"\n",
              "              title=\"Convert this dataframe to an interactive table.\"\n",
              "              style=\"display:none;\">\n",
              "        \n",
              "  <svg xmlns=\"http://www.w3.org/2000/svg\" height=\"24px\"viewBox=\"0 0 24 24\"\n",
              "       width=\"24px\">\n",
              "    <path d=\"M0 0h24v24H0V0z\" fill=\"none\"/>\n",
              "    <path d=\"M18.56 5.44l.94 2.06.94-2.06 2.06-.94-2.06-.94-.94-2.06-.94 2.06-2.06.94zm-11 1L8.5 8.5l.94-2.06 2.06-.94-2.06-.94L8.5 2.5l-.94 2.06-2.06.94zm10 10l.94 2.06.94-2.06 2.06-.94-2.06-.94-.94-2.06-.94 2.06-2.06.94z\"/><path d=\"M17.41 7.96l-1.37-1.37c-.4-.4-.92-.59-1.43-.59-.52 0-1.04.2-1.43.59L10.3 9.45l-7.72 7.72c-.78.78-.78 2.05 0 2.83L4 21.41c.39.39.9.59 1.41.59.51 0 1.02-.2 1.41-.59l7.78-7.78 2.81-2.81c.8-.78.8-2.07 0-2.86zM5.41 20L4 18.59l7.72-7.72 1.47 1.35L5.41 20z\"/>\n",
              "  </svg>\n",
              "      </button>\n",
              "      \n",
              "  <style>\n",
              "    .colab-df-container {\n",
              "      display:flex;\n",
              "      flex-wrap:wrap;\n",
              "      gap: 12px;\n",
              "    }\n",
              "\n",
              "    .colab-df-convert {\n",
              "      background-color: #E8F0FE;\n",
              "      border: none;\n",
              "      border-radius: 50%;\n",
              "      cursor: pointer;\n",
              "      display: none;\n",
              "      fill: #1967D2;\n",
              "      height: 32px;\n",
              "      padding: 0 0 0 0;\n",
              "      width: 32px;\n",
              "    }\n",
              "\n",
              "    .colab-df-convert:hover {\n",
              "      background-color: #E2EBFA;\n",
              "      box-shadow: 0px 1px 2px rgba(60, 64, 67, 0.3), 0px 1px 3px 1px rgba(60, 64, 67, 0.15);\n",
              "      fill: #174EA6;\n",
              "    }\n",
              "\n",
              "    [theme=dark] .colab-df-convert {\n",
              "      background-color: #3B4455;\n",
              "      fill: #D2E3FC;\n",
              "    }\n",
              "\n",
              "    [theme=dark] .colab-df-convert:hover {\n",
              "      background-color: #434B5C;\n",
              "      box-shadow: 0px 1px 3px 1px rgba(0, 0, 0, 0.15);\n",
              "      filter: drop-shadow(0px 1px 2px rgba(0, 0, 0, 0.3));\n",
              "      fill: #FFFFFF;\n",
              "    }\n",
              "  </style>\n",
              "\n",
              "      <script>\n",
              "        const buttonEl =\n",
              "          document.querySelector('#df-a1ddac78-f7d9-41ee-8ff1-2b4df2656ab4 button.colab-df-convert');\n",
              "        buttonEl.style.display =\n",
              "          google.colab.kernel.accessAllowed ? 'block' : 'none';\n",
              "\n",
              "        async function convertToInteractive(key) {\n",
              "          const element = document.querySelector('#df-a1ddac78-f7d9-41ee-8ff1-2b4df2656ab4');\n",
              "          const dataTable =\n",
              "            await google.colab.kernel.invokeFunction('convertToInteractive',\n",
              "                                                     [key], {});\n",
              "          if (!dataTable) return;\n",
              "\n",
              "          const docLinkHtml = 'Like what you see? Visit the ' +\n",
              "            '<a target=\"_blank\" href=https://colab.research.google.com/notebooks/data_table.ipynb>data table notebook</a>'\n",
              "            + ' to learn more about interactive tables.';\n",
              "          element.innerHTML = '';\n",
              "          dataTable['output_type'] = 'display_data';\n",
              "          await google.colab.output.renderOutput(dataTable, element);\n",
              "          const docLink = document.createElement('div');\n",
              "          docLink.innerHTML = docLinkHtml;\n",
              "          element.appendChild(docLink);\n",
              "        }\n",
              "      </script>\n",
              "    </div>\n",
              "  </div>\n",
              "  "
            ]
          },
          "metadata": {},
          "execution_count": 79
        }
      ],
      "source": [
        "df1 = df_wholething.get('Table 1')\n",
        "df1 = df1.drop(df1.index[0:15])\n",
        "df1 = df1.reset_index(drop=True).drop(columns=['Unnamed: 0','Unnamed: 2','Unnamed: 4'])\n",
        "\n",
        "df1.head()"
      ]
    },
    {
      "cell_type": "code",
      "execution_count": null,
      "id": "70c7f7cf",
      "metadata": {
        "id": "70c7f7cf"
      },
      "outputs": [],
      "source": [
        "df2 = df_wholething.get('Table 2')\n",
        "df2 = df2.drop(df2.index[0:15])\n",
        "df2 = df2.reset_index(drop=True).drop(columns=['Unnamed: 0','Unnamed: 2'])\n"
      ]
    },
    {
      "cell_type": "code",
      "execution_count": null,
      "id": "68e122ce",
      "metadata": {
        "id": "68e122ce"
      },
      "outputs": [],
      "source": [
        "df3 = df_wholething.get('Table 3')\n",
        "df3 = df3.drop(df3.index[0:15])\n",
        "df3 = df3.reset_index(drop=True).drop(columns=['Unnamed: 0','Unnamed: 2','Unnamed: 4'])\n"
      ]
    },
    {
      "cell_type": "code",
      "execution_count": null,
      "id": "7c180a54",
      "metadata": {
        "scrolled": true,
        "id": "7c180a54"
      },
      "outputs": [],
      "source": [
        "df4 = df_wholething.get('Table 4')\n",
        "df4 = df4.drop(df4.index[0:15])\n",
        "df4 = df4.reset_index(drop=True).drop(columns=['Unnamed: 0','Unnamed: 2','Unnamed: 4'])\n"
      ]
    },
    {
      "cell_type": "code",
      "execution_count": null,
      "id": "0f3ac0ac",
      "metadata": {
        "id": "0f3ac0ac"
      },
      "outputs": [],
      "source": [
        "df5 = df_wholething.get('Table 5')\n",
        "df5 = df5.drop(df5.index[0:15])\n",
        "df5 = df5.reset_index(drop=True).drop(columns=['Unnamed: 0','Unnamed: 2','Unnamed: 4'])"
      ]
    },
    {
      "cell_type": "code",
      "execution_count": null,
      "id": "f1f3b512",
      "metadata": {
        "id": "f1f3b512"
      },
      "outputs": [],
      "source": [
        "df61 = df_wholething.get('Table 6')\n",
        "df61 = df61.drop(df61.index[0:15])\n",
        "df61 = df61.reset_index(drop=True).drop(columns=['Unnamed: 0','Unnamed: 2','Unnamed: 4'])"
      ]
    },
    {
      "cell_type": "code",
      "execution_count": null,
      "id": "e1fcb079",
      "metadata": {
        "id": "e1fcb079"
      },
      "outputs": [],
      "source": [
        "df62 = df_wholething.get('Table 6')\n",
        "df62 = df62.drop(df62.index[0:15])\n",
        "df62 = df62.reset_index(drop=True).drop(columns=['Unnamed: 0','Unnamed: 2','Unnamed: 4'])"
      ]
    },
    {
      "cell_type": "code",
      "execution_count": null,
      "id": "ce5a6943",
      "metadata": {
        "id": "ce5a6943"
      },
      "outputs": [],
      "source": [
        "df63 = df_wholething.get('Table 6')\n",
        "df63 = df63.drop(df63.index[0:15])\n",
        "df63 = df63.reset_index(drop=True).drop(columns=['Unnamed: 0','Unnamed: 2','Unnamed: 4'])"
      ]
    },
    {
      "cell_type": "code",
      "execution_count": null,
      "id": "f2683373",
      "metadata": {
        "id": "f2683373"
      },
      "outputs": [],
      "source": [
        "\n",
        "df1.rename(columns={df1.columns[0] : \"country\", df1.columns[1] : \"Country code\", \n",
        "                    df1.columns[2] : \"1990b\", df1.columns[3]: \"1995b\", \n",
        "                    df1.columns[4]: \"2000b\", df1.columns[5]: \"2005b\", \n",
        "                    df1.columns[6]: \"2010b\", df1.columns[7]: \"2015b\", \n",
        "                    df1.columns[8]: \"1990m\", df1.columns[9]: \"1995m\", \n",
        "                    df1.columns[10]: \"2000m\", df1.columns[11]: \"2005m\", \n",
        "                    df1.columns[12]: \"2010m\", df1.columns[13]: \"2015m\",\n",
        "                    df1.columns[14]: \"1990f\", df1.columns[15]: \"1995f\",\n",
        "                    df1.columns[16]: \"2000f\", df1.columns[17]: \"2005f\", \n",
        "                    df1.columns[18]: \"2010f\", df1.columns[19]: \"2015f\"}, inplace=True)\n"
      ]
    },
    {
      "cell_type": "code",
      "execution_count": null,
      "id": "94eb1e44",
      "metadata": {
        "id": "94eb1e44"
      },
      "outputs": [],
      "source": [
        "\n",
        "df2.rename(columns={df2.columns[0] : \"country\", df2.columns[1] : \"Country code\", \n",
        "                    df2.columns[2] : \"1990b\", df2.columns[3]: \"1995b\", \n",
        "                    df2.columns[4]: \"2000b\", df2.columns[5]: \"2005b\", \n",
        "                    df2.columns[6]: \"2010b\", df2.columns[7]: \"2015b\", \n",
        "                    df2.columns[8]: \"1990m\", df2.columns[9]: \"1995m\", \n",
        "                    df2.columns[10]: \"2000m\", df2.columns[11]: \"2005m\", \n",
        "                    df2.columns[12]: \"2010m\", df2.columns[13]: \"2015m\",\n",
        "                    df2.columns[14]: \"1990f\", df2.columns[15]: \"1995f\", \n",
        "                    df2.columns[16]: \"2000f\", df2.columns[17]: \"2005f\", \n",
        "                    df2.columns[18]: \"2010f\", df2.columns[19]: \"2015f\"}, inplace=True)\n"
      ]
    },
    {
      "cell_type": "code",
      "execution_count": null,
      "id": "cd7f6fda",
      "metadata": {
        "id": "cd7f6fda"
      },
      "outputs": [],
      "source": [
        "df3.rename(columns={df3.columns[0] : \"country\", df3.columns[1] : \"Country code\", \n",
        "                    df3.columns[2] : \"1990b\", df3.columns[3]: \"1995b\", \n",
        "                    df3.columns[4]: \"2000b\", df3.columns[5]: \"2005b\", \n",
        "                    df3.columns[6]: \"2010b\", df3.columns[7]: \"2015b\", \n",
        "                    df3.columns[8]: \"1990m\", df3.columns[9]: \"1995m\", \n",
        "                    df3.columns[10]: \"2000m\", df3.columns[11]: \"2005m\", \n",
        "                    df3.columns[12]: \"2010m\", df3.columns[13]: \"2015m\", \n",
        "                    df3.columns[14]: \"1990f\", df3.columns[15]: \"1995f\",\n",
        "                    df3.columns[16]: \"2000f\", df3.columns[17]: \"2005f\",\n",
        "                    df3.columns[18]: \"2010f\", df3.columns[19]: \"2015f\"}, inplace=True)\n"
      ]
    },
    {
      "cell_type": "code",
      "execution_count": null,
      "id": "559c6c91",
      "metadata": {
        "id": "559c6c91"
      },
      "outputs": [],
      "source": [
        "df4.rename(columns={df4.columns[0] : \"country\", df4.columns[1] : \"Country code\",\n",
        "                    df4.columns[2] : \"1990\", df4.columns[3]: \"1995\",\n",
        "                    df4.columns[4]: \"2000\", df4.columns[5]: \"2005\", \n",
        "                    df4.columns[6]: \"2010\", df4.columns[7]: \"2015\"}, inplace=True)"
      ]
    },
    {
      "cell_type": "code",
      "execution_count": null,
      "id": "6107cae7",
      "metadata": {
        "scrolled": true,
        "id": "6107cae7"
      },
      "outputs": [],
      "source": [
        "df5.rename(columns={df5.columns[0] : \"country\", df5.columns[1] : \"Country code\", \n",
        "                    df5.columns[2] : \"1990-1995b\", df5.columns[3]: \"1995-2000b\", \n",
        "                    df5.columns[4]: \"2000-2005b\", df5.columns[5]: \"2005-2010b\", \n",
        "                    df5.columns[6]: \"2010-2015b\", df5.columns[7]: \"1990-1995m\", \n",
        "                    df5.columns[8]: \"1995-2000m\", df5.columns[9]: \"2000-2005m\", \n",
        "                    df5.columns[10]: \"2005-2010m\", df5.columns[11]: \"2010-2015m\",\n",
        "                    df5.columns[12]: \"1990-1995f\", df5.columns[13]: \"1995-2000f\", \n",
        "                    df5.columns[14]: \"2000-2005f\", df5.columns[15]: \"2005-2010f\",\n",
        "                    df5.columns[16]: \"2010-2015f\"}, inplace=True)"
      ]
    },
    {
      "cell_type": "code",
      "execution_count": null,
      "id": "8b1a5120",
      "metadata": {
        "id": "8b1a5120"
      },
      "outputs": [],
      "source": [
        "df61.rename(columns={df61.columns[0] : \"country\", df61.columns[1] : \"Country code\", \n",
        "                     df61.columns[2] : \"1990\", df61.columns[3]: \"1995\", \n",
        "                     df61.columns[4]: \"2000\", df61.columns[5]: \"2005\", \n",
        "                     df61.columns[6]: \"2010\", df61.columns[7]: \"2015\", \n",
        "                    }, inplace=True)\n",
        "\n",
        "\n",
        "\n",
        "df61 = df61.reset_index(drop=True).drop(columns=['Unnamed: 11', 'Unnamed: 12', 'Unnamed: 13', 'Unnamed: 14',\n",
        "       'Unnamed: 15', 'Unnamed: 16', 'Unnamed: 17', 'Unnamed: 18',\n",
        "       'Unnamed: 19', 'Unnamed: 20', 'Unnamed: 21'])\n"
      ]
    },
    {
      "cell_type": "code",
      "execution_count": null,
      "id": "80490ae8",
      "metadata": {
        "id": "80490ae8"
      },
      "outputs": [],
      "source": [
        "df62.rename(columns={df62.columns[0] : \"country\", df62.columns[1] : \"Country code\",  \n",
        "                     df62.columns[8]: \"1990\", df62.columns[9]: \"1995\",\n",
        "                     df62.columns[10]: \"2000\", df62.columns[11]: \"2005\",\n",
        "                     df62.columns[12]: \"2010\", df62.columns[13]: \"2015\",}, inplace=True)\n",
        "\n",
        "df62 = df62.reset_index(drop=True).drop(columns=['Unnamed: 5', 'Unnamed: 6', 'Unnamed: 7',\n",
        "       'Unnamed: 8', 'Unnamed: 9', 'Unnamed: 10', 'Unnamed: 17', 'Unnamed: 18', 'Unnamed: 19',\n",
        "       'Unnamed: 20', 'Unnamed: 21'])\n"
      ]
    },
    {
      "cell_type": "code",
      "execution_count": null,
      "id": "466578ee",
      "metadata": {
        "id": "466578ee"
      },
      "outputs": [],
      "source": [
        "df63.rename(columns={df63.columns[0] : \"country\", df63.columns[1] : \"Country code\",  \n",
        "                     df63.columns[14]: \"1990-1995\", df63.columns[15]: \"1995-2000\", \n",
        "                     df63.columns[16]: \"2000-2005\", df63.columns[17]: \"2005-2010\",\n",
        "                    df63.columns[18]: \"2010-2015\",}, inplace=True)\n",
        "\n",
        "df63 = df63.reset_index(drop=True).drop(columns=['Unnamed: 5', 'Unnamed: 6', 'Unnamed: 7',\n",
        "       'Unnamed: 8', 'Unnamed: 9', 'Unnamed: 10', 'Unnamed: 11', 'Unnamed: 12',\n",
        "       'Unnamed: 13', 'Unnamed: 14', 'Unnamed: 15', 'Unnamed: 16',])\n"
      ]
    },
    {
      "cell_type": "code",
      "execution_count": null,
      "id": "78bf28ae",
      "metadata": {
        "id": "78bf28ae"
      },
      "outputs": [],
      "source": [
        "\n",
        "df1['region']=['NA']*len(df1)\n",
        "df1['continent']=['NA']*len(df1)\n"
      ]
    },
    {
      "cell_type": "code",
      "execution_count": null,
      "id": "e8ed3c27",
      "metadata": {
        "scrolled": false,
        "id": "e8ed3c27"
      },
      "outputs": [],
      "source": [
        "\n",
        "df2['region']=['NA']*len(df2)\n",
        "df2['continent']=['NA']*len(df2)\n"
      ]
    },
    {
      "cell_type": "code",
      "execution_count": null,
      "id": "49d76305",
      "metadata": {
        "id": "49d76305"
      },
      "outputs": [],
      "source": [
        "df3['region']=['NA']*len(df3)\n",
        "df3['continent']=['NA']*len(df3)\n"
      ]
    },
    {
      "cell_type": "code",
      "execution_count": null,
      "id": "886f10c6",
      "metadata": {
        "id": "886f10c6"
      },
      "outputs": [],
      "source": [
        "df4['region']=['NA']*len(df4)\n",
        "df4['continent']=['NA']*len(df4)\n"
      ]
    },
    {
      "cell_type": "code",
      "execution_count": null,
      "id": "67d85d3d",
      "metadata": {
        "id": "67d85d3d"
      },
      "outputs": [],
      "source": [
        "df5['region']=['NA']*len(df5)\n",
        "df5['continent']=['NA']*len(df5)\n"
      ]
    },
    {
      "cell_type": "code",
      "execution_count": null,
      "id": "ad87fc80",
      "metadata": {
        "id": "ad87fc80"
      },
      "outputs": [],
      "source": [
        "df61['region']=['NA']*len(df61)\n",
        "df61['continent']=['NA']*len(df61)"
      ]
    },
    {
      "cell_type": "code",
      "execution_count": null,
      "id": "8d26c389",
      "metadata": {
        "id": "8d26c389"
      },
      "outputs": [],
      "source": [
        "df62['region']=['NA']*len(df62)\n",
        "df62['continent']=['NA']*len(df62)"
      ]
    },
    {
      "cell_type": "code",
      "execution_count": null,
      "id": "990acdc8",
      "metadata": {
        "id": "990acdc8"
      },
      "outputs": [],
      "source": [
        "df63['region']=['NA']*len(df63)\n",
        "df63['continent']=['NA']*len(df63)"
      ]
    },
    {
      "cell_type": "code",
      "execution_count": null,
      "id": "b43e64ff",
      "metadata": {
        "id": "b43e64ff"
      },
      "outputs": [],
      "source": [
        "#COTINENT\n",
        "\n",
        "df1.iloc[7:70, 21] = 'Africa'\n",
        "df1.iloc[71:126, 21] = 'Asia'\n",
        "df1.iloc[127:179, 21] = 'Europe'\n",
        "df1.iloc[180:231, 21] = 'Latin America and Caribbean'\n",
        "df1.iloc[232:237, 21] = 'Northern America'\n",
        "df1.iloc[238:265, 21] = 'Oceania'\n",
        "\n",
        "df2.iloc[7:70, 21] = 'Africa'\n",
        "df2.iloc[71:126, 21] = 'Asia'\n",
        "df2.iloc[127:179, 21] = 'Europe'\n",
        "df2.iloc[180:231, 21] = 'Latin America and Caribbean'\n",
        "df2.iloc[232:237, 21] = 'Northern America'\n",
        "df2.iloc[238:265, 21] = 'Oceania'\n",
        "\n",
        "\n",
        "df3.iloc[7:70, 21] = 'Africa'\n",
        "df3.iloc[71:126, 21] = 'Asia'\n",
        "df3.iloc[127:179, 21] = 'Europe'\n",
        "df3.iloc[180:231, 21] = 'Latin America and Caribbean'\n",
        "df3.iloc[232:237, 21] = 'Northern America'\n",
        "df3.iloc[238:265, 21] = 'Oceania'\n",
        "\n",
        "df4.iloc[7:70, 9] = 'Africa'\n",
        "df4.iloc[71:126, 9] = 'Asia'\n",
        "df4.iloc[127:179, 9] = 'Europe'\n",
        "df4.iloc[180:231, 9] = 'Latin America and Caribbean'\n",
        "df4.iloc[232:237, 9] = 'Northern America'\n",
        "df4.iloc[238:265, 9] = 'Oceania'\n",
        "\n",
        "\n",
        "df5.iloc[7:70, 18] = 'Africa'\n",
        "df5.iloc[71:126, 18] = 'Asia'\n",
        "df5.iloc[127:179, 18] = 'Europe'\n",
        "df5.iloc[180:231, 18] = 'Latin America and Caribbean'\n",
        "df5.iloc[232:237, 18] = 'Northern America'\n",
        "df5.iloc[238:265, 18] = 'Oceania'\n",
        "\n",
        "df61.iloc[7:70, 9] = 'Africa'\n",
        "df61.iloc[71:126, 9] = 'Asia'\n",
        "df61.iloc[127:179, 9] = 'Europe'\n",
        "df61.iloc[180:231, 9] = 'Latin America and Caribbean'\n",
        "df61.iloc[232:237, 9] = 'Northern America'\n",
        "df61.iloc[238:265, 9] = 'Oceania'\n",
        "\n",
        "df62.iloc[7:70, 9] = 'Africa'\n",
        "df62.iloc[71:126, 9] = 'Asia'\n",
        "df62.iloc[127:179, 9] = 'Europe'\n",
        "df62.iloc[180:231, 9] = 'Latin America and Caribbean'\n",
        "df62.iloc[232:237, 9] = 'Northern America'\n",
        "df62.iloc[238:265, 9] = 'Oceania'\n",
        "\n",
        "df63.iloc[7:70, 8] = 'Africa'\n",
        "df63.iloc[71:126, 8] = 'Asia'\n",
        "df63.iloc[127:179, 8] = 'Europe'\n",
        "df63.iloc[180:231, 8] = 'Latin America and Caribbean'\n",
        "df63.iloc[232:237, 8] = 'Northern America'\n",
        "df63.iloc[238:265, 8] = 'Oceania'\n",
        "\n"
      ]
    },
    {
      "cell_type": "code",
      "execution_count": null,
      "id": "b35216e6",
      "metadata": {
        "id": "b35216e6"
      },
      "outputs": [],
      "source": [
        "#REGIONS\n",
        "\n",
        "df1.iloc[8:28, 20] = 'Eastern Africa'\n",
        "df1.iloc[29:38, 20] = 'Middle Africa'\n",
        "df1.iloc[39:46, 20] = 'Northern Africa'\n",
        "df1.iloc[47:52, 20] = 'Southern Africa'\n",
        "df1.iloc[53:70, 20] = 'Western Africa'\n",
        "df1.iloc[72:77, 20] = 'Central Asia'\n",
        "df1.iloc[78:85, 20] = 'Eastern Asia'\n",
        "df1.iloc[86:97, 20] = 'SouthEastern Asia'\n",
        "df1.iloc[98:107, 20] = 'Southern Asia'\n",
        "df1.iloc[108:126, 20] = 'Western Asia'\n",
        "df1.iloc[128:138, 20] = 'Eastern Europe'\n",
        "df1.iloc[139:152, 20] = 'Northern Europe'\n",
        "df1.iloc[153:169, 20] = 'Southern Europe'\n",
        "df1.iloc[170:179, 20] = 'Western Europe'\n",
        "df1.iloc[181:207, 20] = 'Caribbean'\n",
        "df1.iloc[208:216, 20] = 'Central America'\n",
        "df1.iloc[217:231, 20] = 'South America'\n",
        "df1.iloc[232:237, 20] = 'Northern America'\n",
        "df1.iloc[239:241, 20] = 'Australia and New Zealand'\n",
        "df1.iloc[242:247, 20] = 'Melanesia'\n",
        "df1.iloc[248:255, 20] = 'Micronesia'\n",
        "df1.iloc[256:265, 20] = 'Polynesia'\n",
        "\n",
        "\n",
        "df2.iloc[8:28, 20] = 'Eastern Africa'\n",
        "df2.iloc[29:38, 20] = 'Middle Africa'\n",
        "df2.iloc[39:46, 20] = 'Northern Africa'\n",
        "df2.iloc[47:52, 20] = 'Southern Africa'\n",
        "df2.iloc[53:70, 20] = 'Western Africa'\n",
        "df2.iloc[72:77, 20] = 'Central Asia'\n",
        "df2.iloc[78:85, 20] = 'Eastern Asia'\n",
        "df2.iloc[86:97, 20] = 'SouthEastern Asia'\n",
        "df2.iloc[98:107, 20] = 'Southern Asia'\n",
        "df2.iloc[108:126, 20] = 'Western Asia'\n",
        "df2.iloc[128:138, 20] = 'Eastern Europe'\n",
        "df2.iloc[139:152, 20] = 'Northern Europe'\n",
        "df2.iloc[153:169, 20] = 'Southern Europe'\n",
        "df2.iloc[170:179, 20] = 'Western Europe'\n",
        "df2.iloc[181:207, 20] = 'Caribbean'\n",
        "df2.iloc[208:216, 20] = 'Central America'\n",
        "df2.iloc[217:231, 20] = 'South America'\n",
        "df2.iloc[232:237, 20] = 'Northern America'\n",
        "df2.iloc[239:241, 20] = 'Australia and New Zealand'\n",
        "df2.iloc[242:247, 20] = 'Melanesia'\n",
        "df2.iloc[248:255, 20] = 'Micronesia'\n",
        "df2.iloc[256:265, 20] = 'Polynesia'\n",
        "\n",
        "\n",
        "\n",
        "df3.iloc[8:28, 20] = 'Eastern Africa'\n",
        "df3.iloc[29:38, 20] = 'Middle Africa'\n",
        "df3.iloc[39:46, 20] = 'Northern Africa'\n",
        "df3.iloc[47:52, 20] = 'Southern Africa'\n",
        "df3.iloc[53:70, 20] = 'Western Africa'\n",
        "df3.iloc[72:77, 20] = 'Central Asia'\n",
        "df3.iloc[78:85, 20] = 'Eastern Asia'\n",
        "df3.iloc[86:97, 20] = 'SouthEastern Asia'\n",
        "df3.iloc[98:107, 20] = 'Southern Asia'\n",
        "df3.iloc[108:126, 20] = 'Western Asia'\n",
        "df3.iloc[128:138, 20] = 'Eastern Europe'\n",
        "df3.iloc[139:152, 20] = 'Northern Europe'\n",
        "df3.iloc[153:169, 20] = 'Southern Europe'\n",
        "df3.iloc[170:179, 20] = 'Western Europe'\n",
        "df3.iloc[181:207, 20] = 'Caribbean'\n",
        "df3.iloc[208:216, 20] = 'Central America'\n",
        "df3.iloc[217:231, 20] = 'South America'\n",
        "df3.iloc[232:237, 20] = 'Northern America'\n",
        "df3.iloc[239:241, 20] = 'Australia and New Zealand'\n",
        "df3.iloc[242:247, 20] = 'Melanesia'\n",
        "df3.iloc[248:255, 20] = 'Micronesia'\n",
        "df3.iloc[256:265, 20] = 'Polynesia'\n",
        "\n",
        "\n",
        "\n",
        "df4.iloc[8:28, 8] = 'Eastern Africa'\n",
        "df4.iloc[29:38, 8] = 'Middle Africa'\n",
        "df4.iloc[39:46, 8] = 'Northern Africa'\n",
        "df4.iloc[47:52, 8] = 'Southern Africa'\n",
        "df4.iloc[53:70, 8] = 'Western Africa'\n",
        "df4.iloc[72:77, 8] = 'Central Asia'\n",
        "df4.iloc[78:85, 8] = 'Eastern Asia'\n",
        "df4.iloc[86:97, 8] = 'SouthEastern Asia'\n",
        "df4.iloc[98:107, 8] = 'Southern Asia'\n",
        "df4.iloc[108:126, 8] = 'Western Asia'\n",
        "df4.iloc[128:138, 8] = 'Eastern Europe'\n",
        "df4.iloc[139:152, 8] = 'Northern Europe'\n",
        "df4.iloc[153:169, 8] = 'Southern Europe'\n",
        "df4.iloc[170:179, 8] = 'Western Europe'\n",
        "df4.iloc[181:207, 8] = 'Caribbean'\n",
        "df4.iloc[208:216, 8] = 'Central America'\n",
        "df4.iloc[217:231, 8] = 'South America'\n",
        "df4.iloc[232:237, 8] = 'Northern America'\n",
        "df4.iloc[239:241, 8] = 'Australia and New Zealand'\n",
        "df4.iloc[242:247, 8] = 'Melanesia'\n",
        "df4.iloc[248:255, 8] = 'Micronesia'\n",
        "df4.iloc[256:265, 8] = 'Polynesia'\n",
        "\n",
        "\n",
        "df5.iloc[8:28, 17] = 'Eastern Africa'\n",
        "df5.iloc[29:38, 17] = 'Middle Africa'\n",
        "df5.iloc[39:46, 17] = 'Northern Africa'\n",
        "df5.iloc[47:52, 17] = 'Southern Africa'\n",
        "df5.iloc[53:70, 17] = 'Western Africa'\n",
        "df5.iloc[72:77, 17] = 'Central Asia'\n",
        "df5.iloc[78:85, 17] = 'Eastern Asia'\n",
        "df5.iloc[86:97, 17] = 'SouthEastern Asia'\n",
        "df5.iloc[98:107, 17] = 'Southern Asia'\n",
        "df5.iloc[108:126, 17] = 'Western Asia'\n",
        "df5.iloc[128:138, 17] = 'Eastern Europe'\n",
        "df5.iloc[139:152, 17] = 'Northern Europe'\n",
        "df5.iloc[153:169, 17] = 'Southern Europe'\n",
        "df5.iloc[170:179, 17] = 'Western Europe'\n",
        "df5.iloc[181:207, 17] = 'Caribbean'\n",
        "df5.iloc[208:216, 17] = 'Central America'\n",
        "df5.iloc[217:231, 17] = 'South America'\n",
        "df5.iloc[232:237, 17] = 'Northern America'\n",
        "df5.iloc[239:241, 17] = 'Australia and New Zealand'\n",
        "df5.iloc[242:247, 17] = 'Melanesia'\n",
        "df5.iloc[248:255, 17] = 'Micronesia'\n",
        "df5.iloc[256:265, 17] = 'Polynesia'\n",
        "\n",
        "df61.iloc[8:28, 8] = 'Eastern Africa'\n",
        "df61.iloc[29:38, 8] = 'Middle Africa'\n",
        "df61.iloc[39:46, 8] = 'Northern Africa'\n",
        "df61.iloc[47:52, 8] = 'Southern Africa'\n",
        "df61.iloc[53:70, 8] = 'Western Africa'\n",
        "df61.iloc[72:77, 8] = 'Central Asia'\n",
        "df61.iloc[78:85, 8] = 'Eastern Asia'\n",
        "df61.iloc[86:97, 8] = 'SouthEastern Asia'\n",
        "df61.iloc[98:107, 8] = 'Southern Asia'\n",
        "df61.iloc[108:126, 8] = 'Western Asia'\n",
        "df61.iloc[128:138, 8] = 'Eastern Europe'\n",
        "df61.iloc[139:152, 8] = 'Northern Europe'\n",
        "df61.iloc[153:169, 8] = 'Southern Europe'\n",
        "df61.iloc[170:179, 8] = 'Western Europe'\n",
        "df61.iloc[181:207, 8] = 'Caribbean'\n",
        "df61.iloc[208:216, 8] = 'Central America'\n",
        "df61.iloc[217:231, 8] = 'South America'\n",
        "df61.iloc[232:237, 8] = 'Northern America'\n",
        "df61.iloc[239:241, 8] = 'Australia and New Zealand'\n",
        "df61.iloc[242:247, 8] = 'Melanesia'\n",
        "df61.iloc[248:255, 8] = 'Micronesia'\n",
        "df61.iloc[256:265, 8] = 'Polynesia'\n",
        "\n",
        "df62.iloc[8:28, 8] = 'Eastern Africa'\n",
        "df62.iloc[29:38, 8] = 'Middle Africa'\n",
        "df62.iloc[39:46, 8] = 'Northern Africa'\n",
        "df62.iloc[47:52, 8] = 'Southern Africa'\n",
        "df62.iloc[53:70, 8] = 'Western Africa'\n",
        "df62.iloc[72:77, 8] = 'Central Asia'\n",
        "df62.iloc[78:85, 8] = 'Eastern Asia'\n",
        "df62.iloc[86:97, 8] = 'SouthEastern Asia'\n",
        "df62.iloc[98:107, 8] = 'Southern Asia'\n",
        "df62.iloc[108:126, 8] = 'Western Asia'\n",
        "df62.iloc[128:138, 8] = 'Eastern Europe'\n",
        "df62.iloc[139:152, 8] = 'Northern Europe'\n",
        "df62.iloc[153:169, 8] = 'Southern Europe'\n",
        "df62.iloc[170:179, 8] = 'Western Europe'\n",
        "df62.iloc[181:207, 8] = 'Caribbean'\n",
        "df62.iloc[208:216, 8] = 'Central America'\n",
        "df62.iloc[217:231, 8] = 'South America'\n",
        "df62.iloc[232:237, 8] = 'Northern America'\n",
        "df62.iloc[239:241, 8] = 'Australia and New Zealand'\n",
        "df62.iloc[242:247, 8] = 'Melanesia'\n",
        "df62.iloc[248:255, 8] = 'Micronesia'\n",
        "df62.iloc[256:265, 8] = 'Polynesia'\n",
        "\n",
        "df63.iloc[8:28, 7] = 'Eastern Africa'\n",
        "df63.iloc[29:38, 7] = 'Middle Africa'\n",
        "df63.iloc[39:46, 7] = 'Northern Africa'\n",
        "df63.iloc[47:52, 7] = 'Southern Africa'\n",
        "df63.iloc[53:70, 7] = 'Western Africa'\n",
        "df63.iloc[72:77, 7] = 'Central Asia'\n",
        "df63.iloc[78:85, 7] = 'Eastern Asia'\n",
        "df63.iloc[86:97, 7] = 'SouthEastern Asia'\n",
        "df63.iloc[98:107, 7] = 'Southern Asia'\n",
        "df63.iloc[108:126, 7] = 'Western Asia'\n",
        "df63.iloc[128:138, 7] = 'Eastern Europe'\n",
        "df63.iloc[139:152, 7] = 'Northern Europe'\n",
        "df63.iloc[153:169, 7] = 'Southern Europe'\n",
        "df63.iloc[170:179, 7] = 'Western Europe'\n",
        "df63.iloc[181:207, 7] = 'Caribbean'\n",
        "df63.iloc[208:216, 7] = 'Central America'\n",
        "df63.iloc[217:231, 7] = 'South America'\n",
        "df63.iloc[232:237, 7] = 'Northern America'\n",
        "df63.iloc[239:241, 7] = 'Australia and New Zealand'\n",
        "df63.iloc[242:247, 7] = 'Melanesia'\n",
        "df63.iloc[248:255, 7] = 'Micronesia'\n",
        "df63.iloc[256:265, 7] = 'Polynesia'\n",
        "\n"
      ]
    },
    {
      "cell_type": "code",
      "execution_count": null,
      "id": "b58b572d",
      "metadata": {
        "id": "b58b572d"
      },
      "outputs": [],
      "source": [
        "df1melt = df1.melt(id_vars = [\"country\", \"Country code\", \"region\", \"continent\"], var_name = \"Year\")\n",
        "df2melt = df2.melt(id_vars = [\"country\", \"Country code\", \"region\", \"continent\"], var_name = \"Year\")\n",
        "df3melt = df3.melt(id_vars = [\"country\", \"Country code\", \"region\", \"continent\"], var_name = \"Year\")\n",
        "df4melt = df4.melt(id_vars = [\"country\", \"Country code\", \"region\", \"continent\"], var_name = \"Year\")\n",
        "df5melt = df5.melt(id_vars = [\"country\", \"Country code\", \"region\", \"continent\"], var_name = \"Year\")\n",
        "df61melt = df61.melt(id_vars = [\"country\", \"Country code\", \"region\", \"continent\"], var_name = \"Year\")\n",
        "df62melt = df62.melt(id_vars = [\"country\", \"Country code\", \"region\", \"continent\"], var_name = \"Year\")\n",
        "df63melt = df63.melt(id_vars = [\"country\", \"Country code\", \"region\", \"continent\"], var_name = \"Year\")"
      ]
    },
    {
      "cell_type": "code",
      "execution_count": null,
      "id": "e09895dd",
      "metadata": {
        "id": "e09895dd"
      },
      "outputs": [],
      "source": [
        "\n",
        "def split(df):\n",
        "    return df.assign(year = lambda a: a.Year.str[0:4].astype(str),\n",
        "                     sex = lambda a: a.Year.str[4:].astype(str))\n",
        "def split5(df):\n",
        "    return df.assign(year = lambda a: a.Year.str[0:9].astype(str),\n",
        "                     sex = lambda a: a.Year.str[9:].astype(str))\n",
        "\n",
        "\n",
        "splitdf1 = split(df1melt)\n",
        "splitdf2 = split(df2melt)\n",
        "splitdf3 = split(df3melt)\n",
        "#df4melt doesn't need to be split because there's only one gender accounted for\n",
        "splitdf5 = split5(df5melt)\n",
        "#df61melt, df62melt, df63melt don't need to be split because only one gender category is accounted for\n",
        "\n",
        "\n",
        "splitdf1.drop(columns = 'Year', inplace = True)\n",
        "splitdf2.drop(columns = 'Year', inplace = True)\n",
        "splitdf3.drop(columns = 'Year', inplace = True)\n",
        "splitdf5.drop(columns = 'Year', inplace = True)\n",
        "\n"
      ]
    },
    {
      "cell_type": "markdown",
      "id": "eed62b18",
      "metadata": {
        "id": "eed62b18"
      },
      "source": [
        "**Final cleaning 1: Dropping rows**\n",
        "\n",
        "Finally, I dropped all rows that were redundant, or whose values didn't fit conceptually into the dataframe I was trying to create. I explain my reasoning for this decision in \"3.1 Removing Rows\"."
      ]
    },
    {
      "cell_type": "code",
      "execution_count": null,
      "id": "f6ec8a34",
      "metadata": {
        "id": "f6ec8a34"
      },
      "outputs": [],
      "source": [
        "df1_filtered = splitdf1\n",
        "df1_filtered1 = df1_filtered[~df1_filtered['country'].isin(['WORLD', 'Developed regions',\n",
        "                                                            'Developing regions', 'Least developed countries',\n",
        "                                                            'Less developed regions excluding least developed countries',\n",
        "                                                            'Sub-Saharan Africa', 'Africa', 'Eastern Africa', \n",
        "                                                            'Middle Africa', 'Northern Africa', 'Southern Africa', \n",
        "                                                            'Western Africa', 'Asia', 'Central Asia', 'Eastern Asia', \n",
        "                                                            'South-Eastern Asia', 'Southern Asia', 'Western Asia', \n",
        "                                                            'Europe', 'Eastern Europe', 'Northern Europe', \n",
        "                                                            'Southern Europe', 'Western Europe', \n",
        "                                                            'Latin America and the Caribbean',\n",
        "                                                            'Caribbean', 'Central America', \n",
        "                                                            'Northern America', 'Oceania', \n",
        "                                                            'Australia and New Zealand', 'Melanesia', 'Micronesia', \n",
        "                                                            'Polynesia'])]\n",
        "\n",
        "df2_filtered = splitdf2\n",
        "df2_filtered1 = df2_filtered[~df2_filtered['country'].isin(['WORLD', 'Developed regions', 'Developing regions',\n",
        "                                                            'Least developed countries',\n",
        "                                                            'Less developed regions excluding least developed countries',\n",
        "                                                            'Sub-Saharan Africa', 'Africa', 'Eastern Africa',\n",
        "                                                            'Middle Africa', 'Northern Africa', 'Southern Africa', \n",
        "                                                            'Western Africa', 'Asia', 'Central Asia', 'Eastern Asia',\n",
        "                                                            'South-Eastern Asia', 'Southern Asia', 'Western Asia', 'Europe', \n",
        "                                                            'Eastern Europe', 'Northern Europe', 'Southern Europe', \n",
        "                                                            'Western Europe', 'Latin America and the Caribbean', 'Caribbean',\n",
        "                                                            'Central America', 'Northern America', 'Oceania', \n",
        "                                                            'Australia and New Zealand', 'Melanesia', 'Micronesia', \n",
        "                                                            'Polynesia'])]\n",
        "\n",
        "df3_filtered = splitdf3\n",
        "df3_filtered1 = df3_filtered[~df3_filtered['country'].isin(['WORLD', 'Developed regions', 'Developing regions',\n",
        "                                                            'Least developed countries', \n",
        "                                                            'Less developed regions excluding least developed countries',\n",
        "                                                            'Sub-Saharan Africa', 'Africa', 'Eastern Africa', 'Middle Africa',\n",
        "                                                            'Northern Africa', 'Southern Africa', 'Western Africa',\n",
        "                                                            'Asia', 'Central Asia', 'Eastern Asia', 'South-Eastern Asia', \n",
        "                                                            'Southern Asia', 'Western Asia', 'Europe', 'Eastern Europe', \n",
        "                                                            'Northern Europe', 'Southern Europe', 'Western Europe', \n",
        "                                                            'Latin America and the Caribbean', 'Caribbean', 'Central America',\n",
        "                                                            'Northern America', 'Oceania', 'Australia and New Zealand', \n",
        "                                                            'Melanesia', 'Micronesia', 'Polynesia'])]\n",
        "\n",
        "df4_filtered = df4melt\n",
        "df4_filtered1 = df4_filtered[~df4_filtered['country'].isin(['WORLD', 'Developed regions', 'Developing regions', \n",
        "                                                            'Least developed countries', \n",
        "                                                            'Less developed regions excluding least developed countries',\n",
        "                                                            'Sub-Saharan Africa', 'Africa', 'Eastern Africa', 'Middle Africa',\n",
        "                                                            'Northern Africa', 'Southern Africa', 'Western Africa', \n",
        "                                                            'Asia', 'Central Asia', 'Eastern Asia', 'South-Eastern Asia',\n",
        "                                                            'Southern Asia', 'Western Asia', 'Europe', 'Eastern Europe',\n",
        "                                                            'Northern Europe', 'Southern Europe', 'Western Europe', \n",
        "                                                            'Latin America and the Caribbean', 'Caribbean', \n",
        "                                                            'Central America', 'Northern America', 'Oceania', \n",
        "                                                            'Australia and New Zealand', 'Melanesia', 'Micronesia', \n",
        "                                                            'Polynesia'])]\n",
        "\n",
        "\n",
        "df5_filtered = splitdf5\n",
        "df5_filtered1 = df5_filtered[~df5_filtered['country'].isin(['WORLD', 'Developed regions', 'Developing regions',\n",
        "                                                            'Least developed countries', \n",
        "                                                            'Less developed regions excluding least developed countries',\n",
        "                                                            'Sub-Saharan Africa', 'Africa', 'Eastern Africa', \n",
        "                                                            'Middle Africa', 'Northern Africa', 'Southern Africa', \n",
        "                                                            'Western Africa', 'Asia', 'Central Asia', 'Eastern Asia', \n",
        "                                                            'South-Eastern Asia', 'Southern Asia', 'Western Asia',\n",
        "                                                            'Europe', 'Eastern Europe', 'Northern Europe', \n",
        "                                                            'Southern Europe', 'Western Europe', \n",
        "                                                            'Latin America and the Caribbean', 'Caribbean', 'Central America',\n",
        "                                                            'Northern America', 'Oceania', 'Australia and New Zealand', \n",
        "                                                            'Melanesia', 'Micronesia', 'Polynesia'])]\n",
        "\n",
        "\n",
        "df61_filtered = df61melt\n",
        "df61_filtered1 = df61_filtered[~df61_filtered['country'].isin(['WORLD', 'Developed regions', 'Developing regions', \n",
        "                                                               'Least developed countries', \n",
        "                                                               'Less developed regions excluding least developed countries',\n",
        "                                                               'Sub-Saharan Africa', 'Africa', 'Eastern Africa', 'Middle Africa',\n",
        "                                                               'Northern Africa', 'Southern Africa', 'Western Africa', \n",
        "                                                               'Asia', 'Central Asia', 'Eastern Asia', 'South-Eastern Asia',\n",
        "                                                               'Southern Asia', 'Western Asia', 'Europe', 'Eastern Europe', \n",
        "                                                               'Northern Europe', 'Southern Europe', 'Western Europe', \n",
        "                                                               'Latin America and the Caribbean', 'Caribbean', 'Central America',\n",
        "                                                               'Northern America', 'Oceania', 'Australia and New Zealand', \n",
        "                                                               'Melanesia', 'Micronesia', 'Polynesia'])]\n",
        "\n",
        "\n",
        "df62_filtered = df62melt\n",
        "df62_filtered1 = df62_filtered[~df62_filtered['country'].isin(['WORLD', 'Developed regions', 'Developing regions',\n",
        "                                                               'Least developed countries', \n",
        "                                                               'Less developed regions excluding least developed countries',\n",
        "                                                               'Sub-Saharan Africa', 'Africa', 'Eastern Africa', 'Middle Africa',\n",
        "                                                               'Northern Africa', 'Southern Africa', 'Western Africa',\n",
        "                                                               'Asia', 'Central Asia', 'Eastern Asia', 'South-Eastern Asia',\n",
        "                                                               'Southern Asia', 'Western Asia', 'Europe', 'Eastern Europe', \n",
        "                                                               'Northern Europe', 'Southern Europe', 'Western Europe',\n",
        "                                                               'Latin America and the Caribbean', 'Caribbean', 'Central America',\n",
        "                                                               'Northern America', 'Oceania', 'Australia and New Zealand',\n",
        "                                                               'Melanesia', 'Micronesia', 'Polynesia'])]\n",
        "\n",
        "\n",
        "df63_filtered = df63melt\n",
        "df63_filtered1 = df63_filtered[~df63_filtered['country'].isin(['WORLD', 'Developed regions', 'Developing regions',\n",
        "                                                               'Least developed countries', \n",
        "                                                               'Less developed regions excluding least developed countries',\n",
        "                                                               'Sub-Saharan Africa', 'Africa', 'Eastern Africa', 'Middle Africa',\n",
        "                                                               'Northern Africa', 'Southern Africa', 'Western Africa', \n",
        "                                                               'Asia', 'Central Asia', 'Eastern Asia', 'South-Eastern Asia',\n",
        "                                                               'Southern Asia', 'Western Asia', 'Europe', 'Eastern Europe',\n",
        "                                                               'Northern Europe', 'Southern Europe', 'Western Europe', \n",
        "                                                               'Latin America and the Caribbean', 'Caribbean', 'Central America',\n",
        "                                                               'Northern America', 'Oceania', 'Australia and New Zealand',\n",
        "                                                               'Melanesia', 'Micronesia', 'Polynesia'])]"
      ]
    },
    {
      "cell_type": "code",
      "execution_count": null,
      "id": "19bb0683",
      "metadata": {
        "id": "19bb0683"
      },
      "outputs": [],
      "source": [
        "df1_filtered1 = df1_filtered1.reset_index()\n",
        "df1_filtered1 = df1_filtered1.drop(\"index\", axis = 1)\n",
        "df1_filtered1.rename(columns={'value': 'MigrantStock'}, inplace=True)"
      ]
    },
    {
      "cell_type": "code",
      "execution_count": null,
      "id": "e6ac8ef5",
      "metadata": {
        "id": "e6ac8ef5"
      },
      "outputs": [],
      "source": [
        "df2_filtered1 = df2_filtered1.reset_index()\n",
        "df2_filtered1 = df2_filtered1.drop(\"index\", axis = 1)\n",
        "df2_filtered1.rename(columns={'value': 'Total Population Mid Year'}, inplace=True)"
      ]
    },
    {
      "cell_type": "code",
      "execution_count": null,
      "id": "c67d9272",
      "metadata": {
        "id": "c67d9272"
      },
      "outputs": [],
      "source": [
        "df3_filtered1 = df3_filtered1.reset_index()\n",
        "df3_filtered1 = df3_filtered1.drop(\"index\", axis = 1)\n",
        "df3_filtered1.rename(columns={'value': 'Migrant Stock as Percentage'}, inplace=True)"
      ]
    },
    {
      "cell_type": "code",
      "execution_count": null,
      "id": "18092b8c",
      "metadata": {
        "id": "18092b8c"
      },
      "outputs": [],
      "source": [
        "df4_filtered1 = df4_filtered1.reset_index()\n",
        "df4_filtered1 = df4_filtered1.drop(\"index\", axis = 1)\n",
        "df4_filtered1.rename(columns={'value': 'Female Migrants as Percentage of Total Pop'}, inplace=True)"
      ]
    },
    {
      "cell_type": "code",
      "execution_count": null,
      "id": "00680782",
      "metadata": {
        "id": "00680782"
      },
      "outputs": [],
      "source": [
        "df5_filtered1 = df5_filtered1.reset_index()\n",
        "df5_filtered1 = df5_filtered1.drop(\"index\", axis = 1)\n",
        "df5_filtered1.rename(columns={'value': 'Annual Rate of Change of Migrant Stock'}, inplace=True)"
      ]
    },
    {
      "cell_type": "code",
      "execution_count": null,
      "id": "94407aff",
      "metadata": {
        "id": "94407aff"
      },
      "outputs": [],
      "source": [
        "df61_filtered1 = df61_filtered1.reset_index()\n",
        "df61_filtered1 = df61_filtered1.drop(\"index\", axis = 1)\n",
        "df61_filtered1.rename(columns={'value': 'Estimated Refugee Stock MidYear'}, inplace=True)"
      ]
    },
    {
      "cell_type": "code",
      "execution_count": null,
      "id": "d78e242a",
      "metadata": {
        "id": "d78e242a"
      },
      "outputs": [],
      "source": [
        "df62_filtered1 = df62_filtered1.reset_index()\n",
        "df62_filtered1 = df62_filtered1.drop(\"index\", axis = 1)\n",
        "df62_filtered1.rename(columns={'value': 'Refugees as percentage of intl migrant stock'}, inplace=True)"
      ]
    },
    {
      "cell_type": "code",
      "execution_count": null,
      "id": "327040f7",
      "metadata": {
        "id": "327040f7"
      },
      "outputs": [],
      "source": [
        "df63_filtered1 = df63_filtered1.reset_index()\n",
        "df63_filtered1 = df63_filtered1.drop(\"index\", axis = 1)\n",
        "df63_filtered1.rename(columns={'value': 'Annual Rate of Change of Refugee Stock'}, inplace=True)"
      ]
    },
    {
      "cell_type": "code",
      "execution_count": null,
      "id": "835be6ed",
      "metadata": {
        "colab": {
          "base_uri": "https://localhost:8080/"
        },
        "id": "835be6ed",
        "outputId": "b06fcd39-be46-4792-988f-e8727a5d4dd4"
      },
      "outputs": [
        {
          "output_type": "stream",
          "name": "stdout",
          "text": [
            "Looking in indexes: https://pypi.org/simple, https://us-python.pkg.dev/colab-wheels/public/simple/\n",
            "Requirement already satisfied: xlsxwriter in /usr/local/lib/python3.8/dist-packages (3.0.3)\n"
          ]
        }
      ],
      "source": [
        "pip install xlsxwriter"
      ]
    },
    {
      "cell_type": "code",
      "execution_count": null,
      "id": "cfd1c14b",
      "metadata": {
        "id": "cfd1c14b"
      },
      "outputs": [],
      "source": [
        "with pd.ExcelWriter('output2.xlsx') as writer:  \n",
        "    df1_filtered1.to_excel(writer, sheet_name='Sheet1')\n",
        "    df2_filtered1.to_excel(writer, sheet_name='Sheet2')\n",
        "    df3_filtered1.to_excel(writer, sheet_name='Sheet3')\n",
        "    df4_filtered1.to_excel(writer, sheet_name='Sheet4')\n",
        "    df5_filtered1.to_excel(writer, sheet_name='Sheet5')\n",
        "    df61_filtered1.to_excel(writer, sheet_name='Sheet6')\n",
        "    df62_filtered1.to_excel(writer, sheet_name='Sheet7')\n",
        "    df63_filtered1.to_excel(writer, sheet_name='Sheet8')"
      ]
    },
    {
      "cell_type": "markdown",
      "id": "b2c56aaf",
      "metadata": {
        "id": "b2c56aaf"
      },
      "source": [
        "# EDA Imports and Data prep"
      ]
    },
    {
      "cell_type": "code",
      "source": [
        "import plotly.express as px\n",
        "import matplotlib.pyplot as plt"
      ],
      "metadata": {
        "id": "4dNiwqNXOsl4"
      },
      "id": "4dNiwqNXOsl4",
      "execution_count": null,
      "outputs": []
    },
    {
      "cell_type": "code",
      "execution_count": null,
      "id": "8c703f79",
      "metadata": {
        "scrolled": true,
        "id": "8c703f79",
        "colab": {
          "base_uri": "https://localhost:8080/"
        },
        "outputId": "d4a30da6-49b2-489d-94cc-49895719e1cc"
      },
      "outputs": [
        {
          "output_type": "stream",
          "name": "stdout",
          "text": [
            "country         object\n",
            "Country code    object\n",
            "region          object\n",
            "continent       object\n",
            "MigrantStock    object\n",
            "year            object\n",
            "sex             object\n",
            "dtype: object\n"
          ]
        }
      ],
      "source": [
        "DF1 = df1_filtered1\n",
        "DF2 = df2_filtered1\n",
        "DF3 = df3_filtered1\n",
        "DF4 = df4_filtered1\n",
        "DF5 = df5_filtered1\n",
        "DF61 = df61_filtered1\n",
        "DF62 = df62_filtered1\n",
        "DF63 = df63_filtered1\n",
        "\n",
        "print(DF1.dtypes)"
      ]
    },
    {
      "cell_type": "markdown",
      "id": "a47e2017",
      "metadata": {
        "scrolled": true,
        "id": "a47e2017"
      },
      "source": [
        "We have to replace the missing values, marked as \"..\" with NaN so that we can convert this column into numeric values."
      ]
    },
    {
      "cell_type": "code",
      "execution_count": null,
      "id": "f971f3a9",
      "metadata": {
        "id": "f971f3a9"
      },
      "outputs": [],
      "source": [
        "DF1['MigrantStock'] = DF1['MigrantStock'].replace(\"..\", np.nan)\n",
        "DF2['Total Population Mid Year'] = DF2['Total Population Mid Year'].replace(\"..\", np.nan)\n",
        "DF3['Migrant Stock as Percentage'] = DF3['Migrant Stock as Percentage'].replace(\"..\", np.nan)\n",
        "DF3['Migrant Stock as Percentage'] = DF3['Migrant Stock as Percentage'].replace(\"..\", np.nan)\n",
        "DF4['Female Migrants as Percentage of Total Pop'] = DF4['Female Migrants as Percentage of Total Pop'].replace(\"..\", np.nan)\n",
        "DF5['Annual Rate of Change of Migrant Stock'] = DF5['Annual Rate of Change of Migrant Stock'].replace(\"..\", np.nan)\n",
        "DF61['Estimated Refugee Stock MidYear'] = DF61['Estimated Refugee Stock MidYear'].replace(\"..\", np.nan)\n",
        "DF62['Refugees as percentage of intl migrant stock'] = DF62['Refugees as percentage of intl migrant stock'].replace(\"..\", np.nan)\n",
        "DF63['Annual Rate of Change of Refugee Stock'] = DF63['Annual Rate of Change of Refugee Stock'].replace(\"..\", np.nan)"
      ]
    },
    {
      "cell_type": "code",
      "execution_count": null,
      "id": "ad7c3abf",
      "metadata": {
        "scrolled": true,
        "id": "ad7c3abf"
      },
      "outputs": [],
      "source": [
        "DF1['year'] = pd.to_numeric(DF1['year'])\n",
        "DF1['MigrantStock'] = pd.to_numeric(DF1['MigrantStock'])\n",
        "\n",
        "DF2['year'] = pd.to_numeric(DF2['year'])\n",
        "DF2['Total Population Mid Year'] = pd.to_numeric(DF2['Total Population Mid Year'])\n",
        "\n",
        "DF3['year'] = pd.to_numeric(DF3['year'])\n",
        "DF3['Migrant Stock as Percentage'] = pd.to_numeric(DF3['Migrant Stock as Percentage'])\n",
        "\n",
        "DF4['Year'] = pd.to_numeric(DF4['Year'])\n",
        "DF4['Female Migrants as Percentage of Total Pop'] = pd.to_numeric(DF4['Female Migrants as Percentage of Total Pop'])\n",
        "\n",
        "DF5['year'] = DF5['year'].astype('category')\n",
        "DF5['Annual Rate of Change of Migrant Stock'] = pd.to_numeric(DF5['Annual Rate of Change of Migrant Stock'])\n",
        "\n",
        "DF61['Year'] = pd.to_numeric(DF61['Year'])\n",
        "DF61['Estimated Refugee Stock MidYear'] = pd.to_numeric(DF61['Estimated Refugee Stock MidYear'])\n",
        "\n",
        "DF62['Year'] = pd.to_numeric(DF62['Year'])\n",
        "DF62['Refugees as percentage of intl migrant stock'] = pd.to_numeric(DF62['Refugees as percentage of intl migrant stock'])\n",
        "\n",
        "#DF63['Year'] = pd.to_numeric(DF63['Year'])\n",
        "DF63['Annual Rate of Change of Refugee Stock'] = pd.to_numeric(DF63['Annual Rate of Change of Refugee Stock'])\n"
      ]
    },
    {
      "cell_type": "markdown",
      "source": [
        "Subsetting for sex"
      ],
      "metadata": {
        "id": "V7Auw6Y9eaQ9"
      },
      "id": "V7Auw6Y9eaQ9"
    },
    {
      "cell_type": "code",
      "source": [
        "DF1both = DF1[DF1['sex'] == 'b']\n",
        "DF1MF = DF1[DF1['sex'] != 'b']\n",
        "\n",
        "DF2both = DF2[DF2['sex'] == 'b']\n",
        "DF2MF = DF2[DF2['sex'] != 'b']\n",
        "\n",
        "DF3both = DF3[DF3['sex'] == 'b']\n",
        "DF3MF = DF3[DF3['sex'] != 'b']\n",
        "\n",
        "DF5both = DF5[DF5['sex'] == 'b']\n",
        "DF5MF = DF5[DF5['sex'] != 'b']\n",
        "\n",
        "\n"
      ],
      "metadata": {
        "id": "IPfXvM31edZ1"
      },
      "id": "IPfXvM31edZ1",
      "execution_count": null,
      "outputs": []
    },
    {
      "cell_type": "markdown",
      "source": [
        "# Final Visualizations"
      ],
      "metadata": {
        "id": "R5GVhllnLHsF"
      },
      "id": "R5GVhllnLHsF"
    },
    {
      "cell_type": "code",
      "source": [
        "vizrefROC = px.box(data_frame = DF63\n",
        "            , x = 'Year'\n",
        "            , y = 'Annual Rate of Change of Refugee Stock'\n",
        "            , facet_col = 'continent'\n",
        "            , facet_col_spacing = 0.0001\n",
        "            , title = 'Annual Rate of Change of Refugee Stock Per Continent'\n",
        "            , template = 'ggplot2')  \n",
        "vizrefROC.for_each_annotation(lambda a: a.update(text=a.text.split(\"=\")[1]))\n",
        "vizrefROC.update_xaxes(showgrid=False, gridcolor=None, ticks = \"\")\n",
        "vizrefROC.update_yaxes(showgrid=False, gridcolor=None, ticks = \"\")\n",
        "\n",
        "vizrefROC.show()"
      ],
      "metadata": {
        "colab": {
          "base_uri": "https://localhost:8080/",
          "height": 542
        },
        "id": "bHCEWuB_LJEO",
        "outputId": "cccc0368-1c4e-48bb-b03f-9154fceed9fa"
      },
      "id": "bHCEWuB_LJEO",
      "execution_count": null,
      "outputs": [
        {
          "output_type": "display_data",
          "data": {
            "text/html": [
              "<html>\n",
              "<head><meta charset=\"utf-8\" /></head>\n",
              "<body>\n",
              "    <div>            <script src=\"https://cdnjs.cloudflare.com/ajax/libs/mathjax/2.7.5/MathJax.js?config=TeX-AMS-MML_SVG\"></script><script type=\"text/javascript\">if (window.MathJax) {MathJax.Hub.Config({SVG: {font: \"STIX-Web\"}});}</script>                <script type=\"text/javascript\">window.PlotlyConfig = {MathJaxConfig: 'local'};</script>\n",
              "        <script src=\"https://cdn.plot.ly/plotly-2.8.3.min.js\"></script>                <div id=\"ae19d589-ff02-439b-b19a-9dbcd80e0a05\" class=\"plotly-graph-div\" style=\"height:525px; width:100%;\"></div>            <script type=\"text/javascript\">                                    window.PLOTLYENV=window.PLOTLYENV || {};                                    if (document.getElementById(\"ae19d589-ff02-439b-b19a-9dbcd80e0a05\")) {                    Plotly.newPlot(                        \"ae19d589-ff02-439b-b19a-9dbcd80e0a05\",                        [{\"alignmentgroup\":\"True\",\"hovertemplate\":\"continent=Africa<br>Year=%{x}<br>Annual Rate of Change of Refugee Stock=%{y}<extra></extra>\",\"legendgroup\":\"\",\"marker\":{\"color\":\"#F8766D\"},\"name\":\"\",\"notched\":false,\"offsetgroup\":\"\",\"orientation\":\"v\",\"showlegend\":false,\"x\":[\"1990-1995\",\"1990-1995\",\"1990-1995\",\"1990-1995\",\"1990-1995\",\"1990-1995\",\"1990-1995\",\"1990-1995\",\"1990-1995\",\"1990-1995\",\"1990-1995\",\"1990-1995\",\"1990-1995\",\"1990-1995\",\"1990-1995\",\"1990-1995\",\"1990-1995\",\"1990-1995\",\"1990-1995\",\"1990-1995\",\"1990-1995\",\"1990-1995\",\"1990-1995\",\"1990-1995\",\"1990-1995\",\"1990-1995\",\"1990-1995\",\"1990-1995\",\"1990-1995\",\"1990-1995\",\"1990-1995\",\"1990-1995\",\"1990-1995\",\"1990-1995\",\"1990-1995\",\"1990-1995\",\"1990-1995\",\"1990-1995\",\"1990-1995\",\"1990-1995\",\"1990-1995\",\"1990-1995\",\"1990-1995\",\"1990-1995\",\"1990-1995\",\"1990-1995\",\"1990-1995\",\"1990-1995\",\"1990-1995\",\"1990-1995\",\"1990-1995\",\"1990-1995\",\"1990-1995\",\"1990-1995\",\"1990-1995\",\"1990-1995\",\"1990-1995\",\"1990-1995\",\"1995-2000\",\"1995-2000\",\"1995-2000\",\"1995-2000\",\"1995-2000\",\"1995-2000\",\"1995-2000\",\"1995-2000\",\"1995-2000\",\"1995-2000\",\"1995-2000\",\"1995-2000\",\"1995-2000\",\"1995-2000\",\"1995-2000\",\"1995-2000\",\"1995-2000\",\"1995-2000\",\"1995-2000\",\"1995-2000\",\"1995-2000\",\"1995-2000\",\"1995-2000\",\"1995-2000\",\"1995-2000\",\"1995-2000\",\"1995-2000\",\"1995-2000\",\"1995-2000\",\"1995-2000\",\"1995-2000\",\"1995-2000\",\"1995-2000\",\"1995-2000\",\"1995-2000\",\"1995-2000\",\"1995-2000\",\"1995-2000\",\"1995-2000\",\"1995-2000\",\"1995-2000\",\"1995-2000\",\"1995-2000\",\"1995-2000\",\"1995-2000\",\"1995-2000\",\"1995-2000\",\"1995-2000\",\"1995-2000\",\"1995-2000\",\"1995-2000\",\"1995-2000\",\"1995-2000\",\"1995-2000\",\"1995-2000\",\"1995-2000\",\"1995-2000\",\"1995-2000\",\"2000-2005\",\"2000-2005\",\"2000-2005\",\"2000-2005\",\"2000-2005\",\"2000-2005\",\"2000-2005\",\"2000-2005\",\"2000-2005\",\"2000-2005\",\"2000-2005\",\"2000-2005\",\"2000-2005\",\"2000-2005\",\"2000-2005\",\"2000-2005\",\"2000-2005\",\"2000-2005\",\"2000-2005\",\"2000-2005\",\"2000-2005\",\"2000-2005\",\"2000-2005\",\"2000-2005\",\"2000-2005\",\"2000-2005\",\"2000-2005\",\"2000-2005\",\"2000-2005\",\"2000-2005\",\"2000-2005\",\"2000-2005\",\"2000-2005\",\"2000-2005\",\"2000-2005\",\"2000-2005\",\"2000-2005\",\"2000-2005\",\"2000-2005\",\"2000-2005\",\"2000-2005\",\"2000-2005\",\"2000-2005\",\"2000-2005\",\"2000-2005\",\"2000-2005\",\"2000-2005\",\"2000-2005\",\"2000-2005\",\"2000-2005\",\"2000-2005\",\"2000-2005\",\"2000-2005\",\"2000-2005\",\"2000-2005\",\"2000-2005\",\"2000-2005\",\"2000-2005\",\"2005-2010\",\"2005-2010\",\"2005-2010\",\"2005-2010\",\"2005-2010\",\"2005-2010\",\"2005-2010\",\"2005-2010\",\"2005-2010\",\"2005-2010\",\"2005-2010\",\"2005-2010\",\"2005-2010\",\"2005-2010\",\"2005-2010\",\"2005-2010\",\"2005-2010\",\"2005-2010\",\"2005-2010\",\"2005-2010\",\"2005-2010\",\"2005-2010\",\"2005-2010\",\"2005-2010\",\"2005-2010\",\"2005-2010\",\"2005-2010\",\"2005-2010\",\"2005-2010\",\"2005-2010\",\"2005-2010\",\"2005-2010\",\"2005-2010\",\"2005-2010\",\"2005-2010\",\"2005-2010\",\"2005-2010\",\"2005-2010\",\"2005-2010\",\"2005-2010\",\"2005-2010\",\"2005-2010\",\"2005-2010\",\"2005-2010\",\"2005-2010\",\"2005-2010\",\"2005-2010\",\"2005-2010\",\"2005-2010\",\"2005-2010\",\"2005-2010\",\"2005-2010\",\"2005-2010\",\"2005-2010\",\"2005-2010\",\"2005-2010\",\"2005-2010\",\"2005-2010\",\"2010-2015\",\"2010-2015\",\"2010-2015\",\"2010-2015\",\"2010-2015\",\"2010-2015\",\"2010-2015\",\"2010-2015\",\"2010-2015\",\"2010-2015\",\"2010-2015\",\"2010-2015\",\"2010-2015\",\"2010-2015\",\"2010-2015\",\"2010-2015\",\"2010-2015\",\"2010-2015\",\"2010-2015\",\"2010-2015\",\"2010-2015\",\"2010-2015\",\"2010-2015\",\"2010-2015\",\"2010-2015\",\"2010-2015\",\"2010-2015\",\"2010-2015\",\"2010-2015\",\"2010-2015\",\"2010-2015\",\"2010-2015\",\"2010-2015\",\"2010-2015\",\"2010-2015\",\"2010-2015\",\"2010-2015\",\"2010-2015\",\"2010-2015\",\"2010-2015\",\"2010-2015\",\"2010-2015\",\"2010-2015\",\"2010-2015\",\"2010-2015\",\"2010-2015\",\"2010-2015\",\"2010-2015\",\"2010-2015\",\"2010-2015\",\"2010-2015\",\"2010-2015\",\"2010-2015\",\"2010-2015\",\"2010-2015\",\"2010-2015\",\"2010-2015\",\"2010-2015\"],\"x0\":\" \",\"xaxis\":\"x\",\"y\":[-3.3909261411250875,null,-9.763425826711018,null,-5.505716936298401,42.521055181350214,null,-104.30737611295288,null,null,-30.139448326414197,null,-6.0627656845470845,null,-68.02407828888308,null,6.509171393612798,9.694684024184413,1.5113691739317874,-110.03617607888569,-4.4616639611770825,0.8674789835111534,38.14948769523996,null,28.24832633786012,9.048074071437565,null,23.05165638810818,null,3.4800186788249228,22.070974431051454,null,-32.665790036883536,-2.769561843315898,37.90384882184993,null,-38.03261825483049,-11.166702697672113,null,5.346087405129542,-60.42752837442566,18.80358630045769,3.3117676301872385,null,12.951407466112967,97.72574230363713,51.63807220684568,1.5025743100966016,20.652949669848336,121.61712895093689,3.9567247839871076,-6.72049152506167,66.34330929037799,16.147339614028684,null,1.5406093344738816,-33.18926187581787,19.20653503183523,-22.903336934690902,14.064834430765544,-3.3593304395703307,11.236525941589692,-8.189765965038449,-5.03849421136358,null,27.622264259434274,null,null,6.5916412875858175,null,-4.4325533404205,null,-2.865322502256772,null,0.6216786348351812,-0.4470242709904906,5.831507921298549,42.66915848443493,-0.9745678561846884,0.9624280038796663,5.659471408316769,100.37164185099674,27.67045671431982,-11.380561433416828,null,57.563199640712945,null,-1.8554096349122733,3.5157733101205157,19.119838022357964,71.86003105506582,-4.248372750620126,-1.805410869354868,null,44.80770875836112,-137.24164423273805,52.65731702138658,-38.09868285567228,1.1911766219754643,5.962316008486574,1.9244064389498339,null,-17.262575814577602,8.180903694739627,-31.589890181772812,-2.5856389967192888,-7.837028361218448,-4.645348459217589,-16.57492138436327,-82.84449851025784,-119.76949954644445,-3.2535241189984507,null,-17.255311784301963,-9.605425699770317,-3.7765284730051976,-11.817674031110696,-12.988989404645087,-14.239600549360013,14.011684663883454,-10.034433568868776,2.375355983513172,null,2.636874985359011,null,null,43.986555331973435,null,9.07341023354078,null,-3.0492064475977356,null,1.1047363271783712,-0.5968953746047705,-2.892765783898339,2.3041176715327287,-3.7556636723444474,-0.22399096710232605,-10.98756592916604,30.67281189858459,-13.118939872267005,-6.173038467208122,null,-16.693041448138757,null,-11.319865720848203,42.58277854244721,-0.8879368257960669,-45.76087697829426,-12.884493236055722,-7.961134164310018,null,-11.509357023375502,-0.3949714940598694,-28.033633662122213,9.796132638323181,-1.4725254635609009,1.7191194258851774,-5.140515247461059,null,-21.456375620951608,-8.074105499298886,19.061407878619548,-20.282973453148262,-0.20146793095853827,-27.289415667436405,-0.29664365975011814,11.55830800443687,32.5764952996859,-1.3653854387320359,null,-0.0005092640172317571,35.885303964223944,-13.26623130925942,0.8492811027764255,null,5.3952681964818066,-0.12181487446758336,6.532499891424708,5.389652909945637,null,6.416522184088169,null,null,13.776629808177828,null,1.8896775727247839,null,24.384487754955476,null,-8.572876786045756,-13.967336700003463,-13.112894823064265,-0.26299924630995286,-2.657193013041276,11.681022790642306,-2.390686544623503,1.2932472836640068,8.286193602556006,-2.995707890753923,null,-1.5408256304130494,null,0.21811312527738955,-0.19648534814353816,-10.374789106719778,20.401406941727203,-1.7450096620306017,-4.351816366243102,null,-6.974325339556084,null,6.992229242529778,3.8838258222699635,-2.3766624768937135,1.026017325655437,-5.165474057621779,null,-10.068001281406664,0.5086123437421373,-29.106999426785645,-27.83003788167044,-0.14627271860279575,15.21236770656807,-1.6501856776763069,67.35581894982315,0.5263490458554113,-7.624091690474103,null,-1.8663776353641512,-30.824769309579036,3.7371751920918435,5.783876136975078,null,4.121943283063937,-10.46463689422319,16.322282729649412,3.136790276591641,null,0.5960532247523025,null,null,0.9680268475542776,null,1.8647865364758214,null,4.06693803418506,20.389761105632548,12.450603800519557,-0.4057408503725739,-10.118904804316529,3.8773641083898096,-6.25234883639694,13.015148329215235,-17.905101993792673,1.0586768310751733,-18.6130825540116,-5.045745780756607,null,-45.62513968640561,null,0.21118272359313922,10.09058402515977,21.027502078707588,9.12300470373916,9.85306428755245,36.752269800944084,null,-7.213203883756582,null,-29.53335720458476,3.6154707077076673,-7.043932599550313,-72.87061536744798,81.01521413783634,null,-45.190168182559596,5.805060727943958,2.3672210155598945,-11.676397085420032,1.2870101077729474,5.9293229458691945,-0.13983204150401402,12.133593524412545,97.34949259604704,-40.16560380069254,null,-9.983926896066906,-23.61873478676614,7.493143971935634],\"y0\":\" \",\"yaxis\":\"y\",\"type\":\"box\"},{\"alignmentgroup\":\"True\",\"hovertemplate\":\"continent=Asia<br>Year=%{x}<br>Annual Rate of Change of Refugee Stock=%{y}<extra></extra>\",\"legendgroup\":\"\",\"marker\":{\"color\":\"#F8766D\"},\"name\":\"\",\"notched\":false,\"offsetgroup\":\"\",\"orientation\":\"v\",\"showlegend\":false,\"x\":[\"1990-1995\",\"1990-1995\",\"1990-1995\",\"1990-1995\",\"1990-1995\",\"1990-1995\",\"1990-1995\",\"1990-1995\",\"1990-1995\",\"1990-1995\",\"1990-1995\",\"1990-1995\",\"1990-1995\",\"1990-1995\",\"1990-1995\",\"1990-1995\",\"1990-1995\",\"1990-1995\",\"1990-1995\",\"1990-1995\",\"1990-1995\",\"1990-1995\",\"1990-1995\",\"1990-1995\",\"1990-1995\",\"1990-1995\",\"1990-1995\",\"1990-1995\",\"1990-1995\",\"1990-1995\",\"1990-1995\",\"1990-1995\",\"1990-1995\",\"1990-1995\",\"1990-1995\",\"1990-1995\",\"1990-1995\",\"1990-1995\",\"1990-1995\",\"1990-1995\",\"1990-1995\",\"1990-1995\",\"1990-1995\",\"1990-1995\",\"1990-1995\",\"1990-1995\",\"1990-1995\",\"1990-1995\",\"1990-1995\",\"1990-1995\",\"1995-2000\",\"1995-2000\",\"1995-2000\",\"1995-2000\",\"1995-2000\",\"1995-2000\",\"1995-2000\",\"1995-2000\",\"1995-2000\",\"1995-2000\",\"1995-2000\",\"1995-2000\",\"1995-2000\",\"1995-2000\",\"1995-2000\",\"1995-2000\",\"1995-2000\",\"1995-2000\",\"1995-2000\",\"1995-2000\",\"1995-2000\",\"1995-2000\",\"1995-2000\",\"1995-2000\",\"1995-2000\",\"1995-2000\",\"1995-2000\",\"1995-2000\",\"1995-2000\",\"1995-2000\",\"1995-2000\",\"1995-2000\",\"1995-2000\",\"1995-2000\",\"1995-2000\",\"1995-2000\",\"1995-2000\",\"1995-2000\",\"1995-2000\",\"1995-2000\",\"1995-2000\",\"1995-2000\",\"1995-2000\",\"1995-2000\",\"1995-2000\",\"1995-2000\",\"1995-2000\",\"1995-2000\",\"1995-2000\",\"1995-2000\",\"2000-2005\",\"2000-2005\",\"2000-2005\",\"2000-2005\",\"2000-2005\",\"2000-2005\",\"2000-2005\",\"2000-2005\",\"2000-2005\",\"2000-2005\",\"2000-2005\",\"2000-2005\",\"2000-2005\",\"2000-2005\",\"2000-2005\",\"2000-2005\",\"2000-2005\",\"2000-2005\",\"2000-2005\",\"2000-2005\",\"2000-2005\",\"2000-2005\",\"2000-2005\",\"2000-2005\",\"2000-2005\",\"2000-2005\",\"2000-2005\",\"2000-2005\",\"2000-2005\",\"2000-2005\",\"2000-2005\",\"2000-2005\",\"2000-2005\",\"2000-2005\",\"2000-2005\",\"2000-2005\",\"2000-2005\",\"2000-2005\",\"2000-2005\",\"2000-2005\",\"2000-2005\",\"2000-2005\",\"2000-2005\",\"2000-2005\",\"2000-2005\",\"2000-2005\",\"2000-2005\",\"2000-2005\",\"2000-2005\",\"2000-2005\",\"2005-2010\",\"2005-2010\",\"2005-2010\",\"2005-2010\",\"2005-2010\",\"2005-2010\",\"2005-2010\",\"2005-2010\",\"2005-2010\",\"2005-2010\",\"2005-2010\",\"2005-2010\",\"2005-2010\",\"2005-2010\",\"2005-2010\",\"2005-2010\",\"2005-2010\",\"2005-2010\",\"2005-2010\",\"2005-2010\",\"2005-2010\",\"2005-2010\",\"2005-2010\",\"2005-2010\",\"2005-2010\",\"2005-2010\",\"2005-2010\",\"2005-2010\",\"2005-2010\",\"2005-2010\",\"2005-2010\",\"2005-2010\",\"2005-2010\",\"2005-2010\",\"2005-2010\",\"2005-2010\",\"2005-2010\",\"2005-2010\",\"2005-2010\",\"2005-2010\",\"2005-2010\",\"2005-2010\",\"2005-2010\",\"2005-2010\",\"2005-2010\",\"2005-2010\",\"2005-2010\",\"2005-2010\",\"2005-2010\",\"2005-2010\",\"2010-2015\",\"2010-2015\",\"2010-2015\",\"2010-2015\",\"2010-2015\",\"2010-2015\",\"2010-2015\",\"2010-2015\",\"2010-2015\",\"2010-2015\",\"2010-2015\",\"2010-2015\",\"2010-2015\",\"2010-2015\",\"2010-2015\",\"2010-2015\",\"2010-2015\",\"2010-2015\",\"2010-2015\",\"2010-2015\",\"2010-2015\",\"2010-2015\",\"2010-2015\",\"2010-2015\",\"2010-2015\",\"2010-2015\",\"2010-2015\",\"2010-2015\",\"2010-2015\",\"2010-2015\",\"2010-2015\",\"2010-2015\",\"2010-2015\",\"2010-2015\",\"2010-2015\",\"2010-2015\",\"2010-2015\",\"2010-2015\",\"2010-2015\",\"2010-2015\",\"2010-2015\",\"2010-2015\",\"2010-2015\",\"2010-2015\",\"2010-2015\",\"2010-2015\",\"2010-2015\",\"2010-2015\",\"2010-2015\",\"2010-2015\"],\"x0\":\" \",\"xaxis\":\"x2\",\"y\":[null,null,-27.37246814998373,null,null,-2.9490221040940754,-13.94410155176887,null,null,-9.451851762146775,null,null,null,null,-43.068727670366016,null,3.055822833617981,null,-70.6060155812786,-11.500636640055326,-7.218080803457169,null,-2.2824627481444617,128.99347009872616,99.12644125628034,null,15.823010487452633,-2.973811722744841,null,30.018007270401686,-9.46506156491099,1.6402853976376566,null,null,-17.305643197358936,17.268071416516186,null,79.92079604093063,null,0.06488569000996941,-41.04888889259297,-0.697346175610278,null,null,-19.021502537805475,5.286324092803866,2.0075060125911515,-18.206282593592054,-7.9122536169980355,2.2765492979470765,16.310362739339585,19.260643320046114,67.23858421655922,-5.445621376473777,55.0902322585552,-2.5044579015788844,-36.413840952921724,null,null,-10.987542649399277,null,-9.924282456674637,null,7.168142733606135,136.37781226344265,null,9.258167167217197,null,-38.41229417344431,null,-9.111515905033288,null,-17.413753308488314,null,12.691028714043126,null,-4.094758475317599,-1.313759747607739,null,-0.0801704475207511,7.574350809584731,0.3502491546312611,6.029445505426408,-28.070784259939174,-138.85086156420172,5.497316920604295,18.702842297063697,0.7315816059131601,13.213795398828127,0.03848322678892161,-7.522297163308177,-0.5437149096573528,null,null,-18.711095815543853,4.3562017948522564,1.2652545426315993,-29.443537740685798,0.5811057409225303,1.4831342176874953,-19.344815518505598,-5.353030216474918,-52.98456887766586,-2.906653924314077,3.836539589920216,-5.553482248149107,-11.31017161600016,null,null,-16.719500840096263,null,35.0994094394292,null,31.777844573357,-117.08461484040049,null,-14.068474813549377,null,-7.893623276061325,null,-8.666441236193457,null,-36.39603471607807,null,31.58472627350711,null,-2.514088088177536,-11.094558155345076,null,0.6624931409582596,-6.718041123926858,38.1213141943482,1.8575676093473028,-53.330831744263804,77.90708097914789,31.943797890206138,-10.158706318790797,-9.498269524094864,-6.526927447302019,0.7947055788783097,-15.357586759423919,0.302693528906207,null,-3.818470965270547,72.05689515393068,4.1900007881617745,2.101779506799708,-5.735160879059604,-39.61080433977154,2.5467063599458664,-11.442070779272196,-13.711309184013304,22.634377177862994,-103.78137675841386,-97.30603267294873,-4.2472486002957455,-26.49507643729403,null,null,4.568489673454324,null,20.162303936680097,null,6.446191500872392,12.821927249151916,null,10.984503673382713,null,22.7838988743626,12.236266643849252,-11.804653194410019,-21.427957838547407,-7.546507335807109,102.91169186982982,9.184295731224765,null,7.375714263779207,0.4905367449128475,null,-4.1470684460656555,6.867763937271743,15.163630989450022,-40.43376173943948,-10.412795201146034,3.9915647027520285,22.09614904053239,-32.28171770004541,-4.920270984031144,55.3749179797964,0.5441335959472337,-49.05168582500743,0.2520573498256895,44.15286815866257,-14.194157109894073,-126.64104466410673,3.672872773364437,10.854906985333775,27.902747035503662,16.829592891601244,6.5645230782949175,-40.038641228976545,-30.09045158617491,-6.698358641926778,-10.710731848184253,-16.1648526270091,-2.8052928345900625,3.1416445178361103,null,null,0.6623078650053819,-29.57870017094328,10.504250817225092,null,-2.2509550653494683,31.743725555086016,null,2.8455320231189676,null,-5.336715978194532,-20.17135986661391,2.4813736929663164,null,null,50.501738813329766,-0.8281028749963062,null,2.1754643223511025,-1.5214043056781672,null,-12.72248241617972,-1.6617569302503168,6.588863916581783,4.278628594408373,-5.543471955765737,10.530224447647178,3.7848685509596947,7.398459910027344,19.077045590992107,12.139807359061598,0.2892833276037786,15.577088155334055,7.23846702543877,-3.3660000279942466,15.300138276929856,-4.406536598372758,1.151560475509583,-1.7956883348493415,85.79702203073835,-2.93500408510181,1.0576478943255139],\"y0\":\" \",\"yaxis\":\"y2\",\"type\":\"box\"},{\"alignmentgroup\":\"True\",\"hovertemplate\":\"continent=Europe<br>Year=%{x}<br>Annual Rate of Change of Refugee Stock=%{y}<extra></extra>\",\"legendgroup\":\"\",\"marker\":{\"color\":\"#F8766D\"},\"name\":\"\",\"notched\":false,\"offsetgroup\":\"\",\"orientation\":\"v\",\"showlegend\":false,\"x\":[\"1990-1995\",\"1990-1995\",\"1990-1995\",\"1990-1995\",\"1990-1995\",\"1990-1995\",\"1990-1995\",\"1990-1995\",\"1990-1995\",\"1990-1995\",\"1990-1995\",\"1990-1995\",\"1990-1995\",\"1990-1995\",\"1990-1995\",\"1990-1995\",\"1990-1995\",\"1990-1995\",\"1990-1995\",\"1990-1995\",\"1990-1995\",\"1990-1995\",\"1990-1995\",\"1990-1995\",\"1990-1995\",\"1990-1995\",\"1990-1995\",\"1990-1995\",\"1990-1995\",\"1990-1995\",\"1990-1995\",\"1990-1995\",\"1990-1995\",\"1990-1995\",\"1990-1995\",\"1990-1995\",\"1990-1995\",\"1990-1995\",\"1990-1995\",\"1990-1995\",\"1990-1995\",\"1990-1995\",\"1990-1995\",\"1990-1995\",\"1990-1995\",\"1990-1995\",\"1990-1995\",\"1990-1995\",\"1995-2000\",\"1995-2000\",\"1995-2000\",\"1995-2000\",\"1995-2000\",\"1995-2000\",\"1995-2000\",\"1995-2000\",\"1995-2000\",\"1995-2000\",\"1995-2000\",\"1995-2000\",\"1995-2000\",\"1995-2000\",\"1995-2000\",\"1995-2000\",\"1995-2000\",\"1995-2000\",\"1995-2000\",\"1995-2000\",\"1995-2000\",\"1995-2000\",\"1995-2000\",\"1995-2000\",\"1995-2000\",\"1995-2000\",\"1995-2000\",\"1995-2000\",\"1995-2000\",\"1995-2000\",\"1995-2000\",\"1995-2000\",\"1995-2000\",\"1995-2000\",\"1995-2000\",\"1995-2000\",\"1995-2000\",\"1995-2000\",\"1995-2000\",\"1995-2000\",\"1995-2000\",\"1995-2000\",\"1995-2000\",\"1995-2000\",\"1995-2000\",\"1995-2000\",\"1995-2000\",\"1995-2000\",\"2000-2005\",\"2000-2005\",\"2000-2005\",\"2000-2005\",\"2000-2005\",\"2000-2005\",\"2000-2005\",\"2000-2005\",\"2000-2005\",\"2000-2005\",\"2000-2005\",\"2000-2005\",\"2000-2005\",\"2000-2005\",\"2000-2005\",\"2000-2005\",\"2000-2005\",\"2000-2005\",\"2000-2005\",\"2000-2005\",\"2000-2005\",\"2000-2005\",\"2000-2005\",\"2000-2005\",\"2000-2005\",\"2000-2005\",\"2000-2005\",\"2000-2005\",\"2000-2005\",\"2000-2005\",\"2000-2005\",\"2000-2005\",\"2000-2005\",\"2000-2005\",\"2000-2005\",\"2000-2005\",\"2000-2005\",\"2000-2005\",\"2000-2005\",\"2000-2005\",\"2000-2005\",\"2000-2005\",\"2000-2005\",\"2000-2005\",\"2000-2005\",\"2000-2005\",\"2000-2005\",\"2000-2005\",\"2005-2010\",\"2005-2010\",\"2005-2010\",\"2005-2010\",\"2005-2010\",\"2005-2010\",\"2005-2010\",\"2005-2010\",\"2005-2010\",\"2005-2010\",\"2005-2010\",\"2005-2010\",\"2005-2010\",\"2005-2010\",\"2005-2010\",\"2005-2010\",\"2005-2010\",\"2005-2010\",\"2005-2010\",\"2005-2010\",\"2005-2010\",\"2005-2010\",\"2005-2010\",\"2005-2010\",\"2005-2010\",\"2005-2010\",\"2005-2010\",\"2005-2010\",\"2005-2010\",\"2005-2010\",\"2005-2010\",\"2005-2010\",\"2005-2010\",\"2005-2010\",\"2005-2010\",\"2005-2010\",\"2005-2010\",\"2005-2010\",\"2005-2010\",\"2005-2010\",\"2005-2010\",\"2005-2010\",\"2005-2010\",\"2005-2010\",\"2005-2010\",\"2005-2010\",\"2005-2010\",\"2005-2010\",\"2010-2015\",\"2010-2015\",\"2010-2015\",\"2010-2015\",\"2010-2015\",\"2010-2015\",\"2010-2015\",\"2010-2015\",\"2010-2015\",\"2010-2015\",\"2010-2015\",\"2010-2015\",\"2010-2015\",\"2010-2015\",\"2010-2015\",\"2010-2015\",\"2010-2015\",\"2010-2015\",\"2010-2015\",\"2010-2015\",\"2010-2015\",\"2010-2015\",\"2010-2015\",\"2010-2015\",\"2010-2015\",\"2010-2015\",\"2010-2015\",\"2010-2015\",\"2010-2015\",\"2010-2015\",\"2010-2015\",\"2010-2015\",\"2010-2015\",\"2010-2015\",\"2010-2015\",\"2010-2015\",\"2010-2015\",\"2010-2015\",\"2010-2015\",\"2010-2015\",\"2010-2015\",\"2010-2015\",\"2010-2015\",\"2010-2015\",\"2010-2015\",\"2010-2015\",\"2010-2015\",\"2010-2015\"],\"x0\":\" \",\"xaxis\":\"x3\",\"y\":[null,null,null,-20.606655167591153,null,null,null,null,null,null,null,4.326392152652272,null,null,15.989000924582164,18.75823790877387,0.6003647266917345,null,null,null,13.932686979315529,5.942125843952627,12.19874713012257,7.507895984749643,null,null,null,null,-18.356669768438294,null,-9.835747819774596,null,null,-29.05311043946433,null,84.635627247434,null,-11.323945164705943,null,0.4919901365680148,4.315403391799463,-4.318952446247046,6.673321380184283,null,12.15428877084536,null,28.189329184619442,12.913326771839431,14.893284554400527,-3.5990242659501357,-21.486632915542366,-15.65754883742166,13.73567510416954,null,44.46852135363024,null,-20.161835926327647,-9.095013721752133,null,2.3255581697875622,18.57213533501086,null,4.551159112273564,6.2524017750638565,29.408503750907304,null,15.668962381817478,null,-4.4824187685756005,-6.1326118049906215,11.752859408347886,-45.253018161082565,null,null,-40.79165803701394,null,2.3946803093557816,null,-11.158705785322178,-19.537368276695837,null,7.125239472097097,null,-8.557887168475297,-41.00410419002064,-6.160892268293186,-2.7781777350526053,0.382736942997705,-9.675310064297319,-3.9955412446538072,-10.446751383509167,null,-0.43621693118735844,null,9.164726248677676,-8.480356302186602,5.855457919905256,15.08052099906797,0.699122650901287,5.183154757932297,32.801611387872626,11.30471817184346,1.298637092821562,-56.5561312767093,-6.621567662427777,-2.7843895114682096,null,-12.732295823184502,48.3367949373007,null,-10.522135319458506,-17.560278952157198,9.075189886950337,null,36.48719217775454,46.61025796495021,-6.2762277801657955,-17.119723329970167,5.236703601811591,-31.775281239343045,null,-14.053108697618951,-40.5277224793778,null,-21.28523865351884,null,10.88294287306863,43.81627364837343,null,-6.900549440662536,null,-19.00317139102753,-51.20909454971295,-23.400918191957782,-39.52817751889132,-3.9275722470528103,-4.583467324178986,-0.4865584097844504,-7.871859769059498,11.25653207042325,16.015931646470264,null,-6.437509759563409,-6.437242069321059,4.646636605474727,0.06433570499302291,1.644518195907797,-11.409193489989997,26.698977812024022,13.294241214201877,-15.437401284740451,24.288125477881195,2.2166038794288014,2.3854088916340244,null,-20.875600964505697,13.78182761291705,null,-9.563819065184125,-20.254543808891544,0.6367361500766405,null,15.294515977086757,12.7589929862192,-8.883487631398838,-2.1831458469751,-9.816091560702187,5.768320622186542,null,-4.613628071843355,-24.21726318839875,null,-11.362966405252136,null,12.452998101608651,17.08140018507444,null,1.3427613467251165,null,-12.196214508062102,-0.6867476015267197,-15.319091137168392,-5.9966450233278445,-3.714198629438071,-0.6417761388428634,6.2714652633618115,-5.664085393962609,-13.125178716708763,10.001521057773273,null,-10.186938025831271,-2.4615067557170636,9.164894682045349,8.006061128480525,3.554057674081511,-14.554155150518081,1.8339022399533924,14.931062083604491,5.908087401099558,76.59538937667507,4.553528211830342,4.265551885719477,null,-2.4764096115004905,16.097777388410822,null,0.2615086960210505,-2.32750991228632,-8.768091342516493,null,21.250319774391834,6.72454008476001,-4.133868901235816,3.0892785484129113,-15.051151927973372,85.68309023267678,null,1.8570516975725173,-8.775978949695613,null,39.73595251005727,null,6.03204554090658,5.074449851917201,-17.533623317927212,6.996915523972466,null,-9.943206357857024,-4.212280166025029,5.285023866581224,-8.059877945633964,9.191485703386675,4.25540054865867,3.003955819677594,-20.828887319043847,0.053764243321776393,-33.74805793634888,null,-1.6108957126254604,0.14561748154659473],\"y0\":\" \",\"yaxis\":\"y3\",\"type\":\"box\"},{\"alignmentgroup\":\"True\",\"hovertemplate\":\"continent=Latin America and Caribbean<br>Year=%{x}<br>Annual Rate of Change of Refugee Stock=%{y}<extra></extra>\",\"legendgroup\":\"\",\"marker\":{\"color\":\"#F8766D\"},\"name\":\"\",\"notched\":false,\"offsetgroup\":\"\",\"orientation\":\"v\",\"showlegend\":false,\"x\":[\"1990-1995\",\"1990-1995\",\"1990-1995\",\"1990-1995\",\"1990-1995\",\"1990-1995\",\"1990-1995\",\"1990-1995\",\"1990-1995\",\"1990-1995\",\"1990-1995\",\"1990-1995\",\"1990-1995\",\"1990-1995\",\"1990-1995\",\"1990-1995\",\"1990-1995\",\"1990-1995\",\"1990-1995\",\"1990-1995\",\"1990-1995\",\"1990-1995\",\"1990-1995\",\"1990-1995\",\"1990-1995\",\"1990-1995\",\"1990-1995\",\"1990-1995\",\"1990-1995\",\"1990-1995\",\"1990-1995\",\"1990-1995\",\"1990-1995\",\"1990-1995\",\"1990-1995\",\"1990-1995\",\"1990-1995\",\"1990-1995\",\"1990-1995\",\"1990-1995\",\"1990-1995\",\"1990-1995\",\"1990-1995\",\"1990-1995\",\"1990-1995\",\"1990-1995\",\"1990-1995\",\"1990-1995\",\"1990-1995\",\"1995-2000\",\"1995-2000\",\"1995-2000\",\"1995-2000\",\"1995-2000\",\"1995-2000\",\"1995-2000\",\"1995-2000\",\"1995-2000\",\"1995-2000\",\"1995-2000\",\"1995-2000\",\"1995-2000\",\"1995-2000\",\"1995-2000\",\"1995-2000\",\"1995-2000\",\"1995-2000\",\"1995-2000\",\"1995-2000\",\"1995-2000\",\"1995-2000\",\"1995-2000\",\"1995-2000\",\"1995-2000\",\"1995-2000\",\"1995-2000\",\"1995-2000\",\"1995-2000\",\"1995-2000\",\"1995-2000\",\"1995-2000\",\"1995-2000\",\"1995-2000\",\"1995-2000\",\"1995-2000\",\"1995-2000\",\"1995-2000\",\"1995-2000\",\"1995-2000\",\"1995-2000\",\"1995-2000\",\"1995-2000\",\"1995-2000\",\"1995-2000\",\"1995-2000\",\"1995-2000\",\"1995-2000\",\"1995-2000\",\"2000-2005\",\"2000-2005\",\"2000-2005\",\"2000-2005\",\"2000-2005\",\"2000-2005\",\"2000-2005\",\"2000-2005\",\"2000-2005\",\"2000-2005\",\"2000-2005\",\"2000-2005\",\"2000-2005\",\"2000-2005\",\"2000-2005\",\"2000-2005\",\"2000-2005\",\"2000-2005\",\"2000-2005\",\"2000-2005\",\"2000-2005\",\"2000-2005\",\"2000-2005\",\"2000-2005\",\"2000-2005\",\"2000-2005\",\"2000-2005\",\"2000-2005\",\"2000-2005\",\"2000-2005\",\"2000-2005\",\"2000-2005\",\"2000-2005\",\"2000-2005\",\"2000-2005\",\"2000-2005\",\"2000-2005\",\"2000-2005\",\"2000-2005\",\"2000-2005\",\"2000-2005\",\"2000-2005\",\"2000-2005\",\"2000-2005\",\"2000-2005\",\"2000-2005\",\"2000-2005\",\"2000-2005\",\"2000-2005\",\"2005-2010\",\"2005-2010\",\"2005-2010\",\"2005-2010\",\"2005-2010\",\"2005-2010\",\"2005-2010\",\"2005-2010\",\"2005-2010\",\"2005-2010\",\"2005-2010\",\"2005-2010\",\"2005-2010\",\"2005-2010\",\"2005-2010\",\"2005-2010\",\"2005-2010\",\"2005-2010\",\"2005-2010\",\"2005-2010\",\"2005-2010\",\"2005-2010\",\"2005-2010\",\"2005-2010\",\"2005-2010\",\"2005-2010\",\"2005-2010\",\"2005-2010\",\"2005-2010\",\"2005-2010\",\"2005-2010\",\"2005-2010\",\"2005-2010\",\"2005-2010\",\"2005-2010\",\"2005-2010\",\"2005-2010\",\"2005-2010\",\"2005-2010\",\"2005-2010\",\"2005-2010\",\"2005-2010\",\"2005-2010\",\"2005-2010\",\"2005-2010\",\"2005-2010\",\"2005-2010\",\"2005-2010\",\"2005-2010\",\"2010-2015\",\"2010-2015\",\"2010-2015\",\"2010-2015\",\"2010-2015\",\"2010-2015\",\"2010-2015\",\"2010-2015\",\"2010-2015\",\"2010-2015\",\"2010-2015\",\"2010-2015\",\"2010-2015\",\"2010-2015\",\"2010-2015\",\"2010-2015\",\"2010-2015\",\"2010-2015\",\"2010-2015\",\"2010-2015\",\"2010-2015\",\"2010-2015\",\"2010-2015\",\"2010-2015\",\"2010-2015\",\"2010-2015\",\"2010-2015\",\"2010-2015\",\"2010-2015\",\"2010-2015\",\"2010-2015\",\"2010-2015\",\"2010-2015\",\"2010-2015\",\"2010-2015\",\"2010-2015\",\"2010-2015\",\"2010-2015\",\"2010-2015\",\"2010-2015\",\"2010-2015\",\"2010-2015\",\"2010-2015\",\"2010-2015\",\"2010-2015\",\"2010-2015\",\"2010-2015\",\"2010-2015\",\"2010-2015\"],\"x0\":\" \",\"xaxis\":\"x4\",\"y\":[null,null,null,null,null,null,null,null,-4.000220475611612,null,null,-21.84034870286739,null,null,null,null,null,null,null,null,null,null,null,null,null,null,-26.817569951788155,-46.03526897642298,-10.210245972349519,-3.2806833554177532,-2.0003507527992,-36.062248312355635,-57.10683272231931,-11.28589351655479,4.269253223117335,-9.630807751560038,18.89206383343631,27.51749863284615,1.993989477909872,-7.540121828509677,-3.060347213768048,null,-15.811169794438376,null,1.6523539036621002,-0.2510350124801751,null,9.317063398147868,-1.5323460294517148,null,null,null,11.039210233365896,null,null,null,null,-11.219346878192557,null,null,-15.064743152085041,null,null,null,11.982612980874448,null,null,null,null,null,null,null,null,null,null,0.5500236915250322,-22.81645291071855,-105.59356777708655,-77.22338075715263,-152.54114698920694,-18.020928110016055,-13.703255037931255,5.035988567098112,-37.92991704601731,-21.7310382144935,-15.260352484757203,null,1.06065691277813,-11.526103318996805,-1.7949667856885037,null,null,null,-18.07952859532268,-0.7374110087322664,null,-9.266977280446568,-49.93641905216754,null,null,null,-13.40067944422613,null,null,null,null,-5.8290593955677705,null,null,1.5947178188727964,null,null,null,-4.209742297846613,null,null,null,null,null,null,null,null,null,null,-57.64176041217469,7.819025868648717,-3.522200994459549,-13.858197867839946,3.7571716792346574,-40.4750878587584,-10.382134123428125,34.26438602589337,25.34706477791594,1.8419221182801655,5.354192366041085,null,12.34227488712647,-0.5910428006235477,42.78487092553894,null,null,null,19.46944037939708,1.0764765152877003,9.822446522744334,11.646911100282853,21.47704020750858,null,null,null,-20.18804280068176,null,null,11.4764067823287,-2.1037927965282313,-7.4712340078336466,null,null,-0.4137515702592438,null,null,null,-6.6025348121198535,null,null,null,null,null,null,-13.862943611198904,null,null,null,-33.01774327761771,8.523473524054975,-3.283870851421291,-25.783307807108947,1.9078231363532008,-22.94672159033309,-26.65884265149689,4.350411079760817,54.116865462726096,6.519436637483455,3.6441468871485547,8.39181452248703,3.9817856700916137,-3.9798455258021184,38.74593926326194,null,null,7.416869668959861,14.657153188569389,4.407137711895358,24.420895764491675,8.859031897959273,119.68794679557857,null,null,null,-1.6037770617696856,null,null,5.977425230602171,36.1122798096429,-5.56856197562026,34.72991214372763,null,-0.5527193453885674,null,null,null,2.254940774365145,null,null,null,null,null,null,21.1533632840288,-17.318560480135126,null,null,-54.90411551737535,0.3237537946512241,-2.4806349266027654,0.6542915956410973,11.81569726297554,1.288623631536458,23.455164920790132,-3.211500073039604,-2.0971509422543786,-2.6272528178439067,-2.5004981673811417,3.7480335921150782,-3.2367941203455057,2.5496367043448895,-3.346102591517662,null,null,5.865042230162193,3.6914060474584383,-0.16051083049860837,-22.916056019753054,2.8316061691380465,-0.7579524395904346],\"y0\":\" \",\"yaxis\":\"y4\",\"type\":\"box\"},{\"alignmentgroup\":\"True\",\"hovertemplate\":\"continent=Northern America<br>Year=%{x}<br>Annual Rate of Change of Refugee Stock=%{y}<extra></extra>\",\"legendgroup\":\"\",\"marker\":{\"color\":\"#F8766D\"},\"name\":\"\",\"notched\":false,\"offsetgroup\":\"\",\"orientation\":\"v\",\"showlegend\":false,\"x\":[\"1990-1995\",\"1990-1995\",\"1990-1995\",\"1990-1995\",\"1990-1995\",\"1995-2000\",\"1995-2000\",\"1995-2000\",\"1995-2000\",\"1995-2000\",\"2000-2005\",\"2000-2005\",\"2000-2005\",\"2000-2005\",\"2000-2005\",\"2005-2010\",\"2005-2010\",\"2005-2010\",\"2005-2010\",\"2005-2010\",\"2010-2015\",\"2010-2015\",\"2010-2015\",\"2010-2015\",\"2010-2015\"],\"x0\":\" \",\"xaxis\":\"x5\",\"y\":[null,-1.3897917647913849,null,null,3.010459057893113,null,-6.400968420621231,null,null,-8.118718250172316,null,1.2824877403594221,null,null,-8.252540817310445,null,-0.5000558004842571,null,null,-9.570077188274471,null,-2.8700708660429166,null,null,-1.145606256750486],\"y0\":\" \",\"yaxis\":\"y5\",\"type\":\"box\"},{\"alignmentgroup\":\"True\",\"hovertemplate\":\"continent=Oceania<br>Year=%{x}<br>Annual Rate of Change of Refugee Stock=%{y}<extra></extra>\",\"legendgroup\":\"\",\"marker\":{\"color\":\"#F8766D\"},\"name\":\"\",\"notched\":false,\"offsetgroup\":\"\",\"orientation\":\"v\",\"showlegend\":false,\"x\":[\"1990-1995\",\"1990-1995\",\"1990-1995\",\"1990-1995\",\"1990-1995\",\"1990-1995\",\"1990-1995\",\"1990-1995\",\"1990-1995\",\"1990-1995\",\"1990-1995\",\"1990-1995\",\"1990-1995\",\"1990-1995\",\"1990-1995\",\"1990-1995\",\"1990-1995\",\"1990-1995\",\"1990-1995\",\"1990-1995\",\"1990-1995\",\"1990-1995\",\"1990-1995\",\"1995-2000\",\"1995-2000\",\"1995-2000\",\"1995-2000\",\"1995-2000\",\"1995-2000\",\"1995-2000\",\"1995-2000\",\"1995-2000\",\"1995-2000\",\"1995-2000\",\"1995-2000\",\"1995-2000\",\"1995-2000\",\"1995-2000\",\"1995-2000\",\"1995-2000\",\"1995-2000\",\"1995-2000\",\"1995-2000\",\"1995-2000\",\"1995-2000\",\"1995-2000\",\"2000-2005\",\"2000-2005\",\"2000-2005\",\"2000-2005\",\"2000-2005\",\"2000-2005\",\"2000-2005\",\"2000-2005\",\"2000-2005\",\"2000-2005\",\"2000-2005\",\"2000-2005\",\"2000-2005\",\"2000-2005\",\"2000-2005\",\"2000-2005\",\"2000-2005\",\"2000-2005\",\"2000-2005\",\"2000-2005\",\"2000-2005\",\"2000-2005\",\"2000-2005\",\"2005-2010\",\"2005-2010\",\"2005-2010\",\"2005-2010\",\"2005-2010\",\"2005-2010\",\"2005-2010\",\"2005-2010\",\"2005-2010\",\"2005-2010\",\"2005-2010\",\"2005-2010\",\"2005-2010\",\"2005-2010\",\"2005-2010\",\"2005-2010\",\"2005-2010\",\"2005-2010\",\"2005-2010\",\"2005-2010\",\"2005-2010\",\"2005-2010\",\"2005-2010\",\"2010-2015\",\"2010-2015\",\"2010-2015\",\"2010-2015\",\"2010-2015\",\"2010-2015\",\"2010-2015\",\"2010-2015\",\"2010-2015\",\"2010-2015\",\"2010-2015\",\"2010-2015\",\"2010-2015\",\"2010-2015\",\"2010-2015\",\"2010-2015\",\"2010-2015\",\"2010-2015\",\"2010-2015\",\"2010-2015\",\"2010-2015\",\"2010-2015\",\"2010-2015\"],\"x0\":\" \",\"xaxis\":\"x6\",\"y\":[-5.250061563971201,-6.882500366983726,null,null,5.551571703673961,null,null,null,null,null,null,null,null,null,null,null,null,null,null,null,null,null,null,-3.1779638443099425,2.549224652795523,null,null,-4.075845410117875,null,null,null,null,null,null,null,null,null,null,null,null,null,null,null,null,null,null,-3.437414910451597,-2.757809193147956,null,null,7.132691595501664,null,null,null,null,null,null,null,null,null,null,null,null,null,null,null,null,null,null,-22.979644173193915,-19.07001508284584,-1.4215242230517937,null,-11.818900706664584,null,null,null,null,null,null,null,null,null,null,null,null,null,null,null,null,null,null,9.858589796404646,-11.805810299856493,50.70858194257374,null,0.13741744113305357,null,-15.132388726946672,null,null,null,null,null,null,null,null,null,null,null,null,null,null,null,null],\"y0\":\" \",\"yaxis\":\"y6\",\"type\":\"box\"}],                        {\"template\":{\"data\":{\"barpolar\":[{\"marker\":{\"line\":{\"color\":\"rgb(237,237,237)\",\"width\":0.5},\"pattern\":{\"fillmode\":\"overlay\",\"size\":10,\"solidity\":0.2}},\"type\":\"barpolar\"}],\"bar\":[{\"error_x\":{\"color\":\"rgb(51,51,51)\"},\"error_y\":{\"color\":\"rgb(51,51,51)\"},\"marker\":{\"line\":{\"color\":\"rgb(237,237,237)\",\"width\":0.5},\"pattern\":{\"fillmode\":\"overlay\",\"size\":10,\"solidity\":0.2}},\"type\":\"bar\"}],\"carpet\":[{\"aaxis\":{\"endlinecolor\":\"rgb(51,51,51)\",\"gridcolor\":\"white\",\"linecolor\":\"white\",\"minorgridcolor\":\"white\",\"startlinecolor\":\"rgb(51,51,51)\"},\"baxis\":{\"endlinecolor\":\"rgb(51,51,51)\",\"gridcolor\":\"white\",\"linecolor\":\"white\",\"minorgridcolor\":\"white\",\"startlinecolor\":\"rgb(51,51,51)\"},\"type\":\"carpet\"}],\"choropleth\":[{\"colorbar\":{\"outlinewidth\":0,\"tickcolor\":\"rgb(237,237,237)\",\"ticklen\":6,\"ticks\":\"inside\"},\"type\":\"choropleth\"}],\"contourcarpet\":[{\"colorbar\":{\"outlinewidth\":0,\"tickcolor\":\"rgb(237,237,237)\",\"ticklen\":6,\"ticks\":\"inside\"},\"type\":\"contourcarpet\"}],\"contour\":[{\"colorbar\":{\"outlinewidth\":0,\"tickcolor\":\"rgb(237,237,237)\",\"ticklen\":6,\"ticks\":\"inside\"},\"colorscale\":[[0,\"rgb(20,44,66)\"],[1,\"rgb(90,179,244)\"]],\"type\":\"contour\"}],\"heatmapgl\":[{\"colorbar\":{\"outlinewidth\":0,\"tickcolor\":\"rgb(237,237,237)\",\"ticklen\":6,\"ticks\":\"inside\"},\"colorscale\":[[0,\"rgb(20,44,66)\"],[1,\"rgb(90,179,244)\"]],\"type\":\"heatmapgl\"}],\"heatmap\":[{\"colorbar\":{\"outlinewidth\":0,\"tickcolor\":\"rgb(237,237,237)\",\"ticklen\":6,\"ticks\":\"inside\"},\"colorscale\":[[0,\"rgb(20,44,66)\"],[1,\"rgb(90,179,244)\"]],\"type\":\"heatmap\"}],\"histogram2dcontour\":[{\"colorbar\":{\"outlinewidth\":0,\"tickcolor\":\"rgb(237,237,237)\",\"ticklen\":6,\"ticks\":\"inside\"},\"colorscale\":[[0,\"rgb(20,44,66)\"],[1,\"rgb(90,179,244)\"]],\"type\":\"histogram2dcontour\"}],\"histogram2d\":[{\"colorbar\":{\"outlinewidth\":0,\"tickcolor\":\"rgb(237,237,237)\",\"ticklen\":6,\"ticks\":\"inside\"},\"colorscale\":[[0,\"rgb(20,44,66)\"],[1,\"rgb(90,179,244)\"]],\"type\":\"histogram2d\"}],\"histogram\":[{\"marker\":{\"pattern\":{\"fillmode\":\"overlay\",\"size\":10,\"solidity\":0.2}},\"type\":\"histogram\"}],\"mesh3d\":[{\"colorbar\":{\"outlinewidth\":0,\"tickcolor\":\"rgb(237,237,237)\",\"ticklen\":6,\"ticks\":\"inside\"},\"type\":\"mesh3d\"}],\"parcoords\":[{\"line\":{\"colorbar\":{\"outlinewidth\":0,\"tickcolor\":\"rgb(237,237,237)\",\"ticklen\":6,\"ticks\":\"inside\"}},\"type\":\"parcoords\"}],\"pie\":[{\"automargin\":true,\"type\":\"pie\"}],\"scatter3d\":[{\"line\":{\"colorbar\":{\"outlinewidth\":0,\"tickcolor\":\"rgb(237,237,237)\",\"ticklen\":6,\"ticks\":\"inside\"}},\"marker\":{\"colorbar\":{\"outlinewidth\":0,\"tickcolor\":\"rgb(237,237,237)\",\"ticklen\":6,\"ticks\":\"inside\"}},\"type\":\"scatter3d\"}],\"scattercarpet\":[{\"marker\":{\"colorbar\":{\"outlinewidth\":0,\"tickcolor\":\"rgb(237,237,237)\",\"ticklen\":6,\"ticks\":\"inside\"}},\"type\":\"scattercarpet\"}],\"scattergeo\":[{\"marker\":{\"colorbar\":{\"outlinewidth\":0,\"tickcolor\":\"rgb(237,237,237)\",\"ticklen\":6,\"ticks\":\"inside\"}},\"type\":\"scattergeo\"}],\"scattergl\":[{\"marker\":{\"colorbar\":{\"outlinewidth\":0,\"tickcolor\":\"rgb(237,237,237)\",\"ticklen\":6,\"ticks\":\"inside\"}},\"type\":\"scattergl\"}],\"scattermapbox\":[{\"marker\":{\"colorbar\":{\"outlinewidth\":0,\"tickcolor\":\"rgb(237,237,237)\",\"ticklen\":6,\"ticks\":\"inside\"}},\"type\":\"scattermapbox\"}],\"scatterpolargl\":[{\"marker\":{\"colorbar\":{\"outlinewidth\":0,\"tickcolor\":\"rgb(237,237,237)\",\"ticklen\":6,\"ticks\":\"inside\"}},\"type\":\"scatterpolargl\"}],\"scatterpolar\":[{\"marker\":{\"colorbar\":{\"outlinewidth\":0,\"tickcolor\":\"rgb(237,237,237)\",\"ticklen\":6,\"ticks\":\"inside\"}},\"type\":\"scatterpolar\"}],\"scatter\":[{\"marker\":{\"colorbar\":{\"outlinewidth\":0,\"tickcolor\":\"rgb(237,237,237)\",\"ticklen\":6,\"ticks\":\"inside\"}},\"type\":\"scatter\"}],\"scatterternary\":[{\"marker\":{\"colorbar\":{\"outlinewidth\":0,\"tickcolor\":\"rgb(237,237,237)\",\"ticklen\":6,\"ticks\":\"inside\"}},\"type\":\"scatterternary\"}],\"surface\":[{\"colorbar\":{\"outlinewidth\":0,\"tickcolor\":\"rgb(237,237,237)\",\"ticklen\":6,\"ticks\":\"inside\"},\"colorscale\":[[0,\"rgb(20,44,66)\"],[1,\"rgb(90,179,244)\"]],\"type\":\"surface\"}],\"table\":[{\"cells\":{\"fill\":{\"color\":\"rgb(237,237,237)\"},\"line\":{\"color\":\"white\"}},\"header\":{\"fill\":{\"color\":\"rgb(217,217,217)\"},\"line\":{\"color\":\"white\"}},\"type\":\"table\"}]},\"layout\":{\"annotationdefaults\":{\"arrowhead\":0,\"arrowwidth\":1},\"autotypenumbers\":\"strict\",\"coloraxis\":{\"colorbar\":{\"outlinewidth\":0,\"tickcolor\":\"rgb(237,237,237)\",\"ticklen\":6,\"ticks\":\"inside\"}},\"colorscale\":{\"sequential\":[[0,\"rgb(20,44,66)\"],[1,\"rgb(90,179,244)\"]],\"sequentialminus\":[[0,\"rgb(20,44,66)\"],[1,\"rgb(90,179,244)\"]]},\"colorway\":[\"#F8766D\",\"#A3A500\",\"#00BF7D\",\"#00B0F6\",\"#E76BF3\"],\"font\":{\"color\":\"rgb(51,51,51)\"},\"geo\":{\"bgcolor\":\"white\",\"lakecolor\":\"white\",\"landcolor\":\"rgb(237,237,237)\",\"showlakes\":true,\"showland\":true,\"subunitcolor\":\"white\"},\"hoverlabel\":{\"align\":\"left\"},\"hovermode\":\"closest\",\"paper_bgcolor\":\"white\",\"plot_bgcolor\":\"rgb(237,237,237)\",\"polar\":{\"angularaxis\":{\"gridcolor\":\"white\",\"linecolor\":\"white\",\"showgrid\":true,\"tickcolor\":\"rgb(51,51,51)\",\"ticks\":\"outside\"},\"bgcolor\":\"rgb(237,237,237)\",\"radialaxis\":{\"gridcolor\":\"white\",\"linecolor\":\"white\",\"showgrid\":true,\"tickcolor\":\"rgb(51,51,51)\",\"ticks\":\"outside\"}},\"scene\":{\"xaxis\":{\"backgroundcolor\":\"rgb(237,237,237)\",\"gridcolor\":\"white\",\"gridwidth\":2,\"linecolor\":\"white\",\"showbackground\":true,\"showgrid\":true,\"tickcolor\":\"rgb(51,51,51)\",\"ticks\":\"outside\",\"zerolinecolor\":\"white\"},\"yaxis\":{\"backgroundcolor\":\"rgb(237,237,237)\",\"gridcolor\":\"white\",\"gridwidth\":2,\"linecolor\":\"white\",\"showbackground\":true,\"showgrid\":true,\"tickcolor\":\"rgb(51,51,51)\",\"ticks\":\"outside\",\"zerolinecolor\":\"white\"},\"zaxis\":{\"backgroundcolor\":\"rgb(237,237,237)\",\"gridcolor\":\"white\",\"gridwidth\":2,\"linecolor\":\"white\",\"showbackground\":true,\"showgrid\":true,\"tickcolor\":\"rgb(51,51,51)\",\"ticks\":\"outside\",\"zerolinecolor\":\"white\"}},\"shapedefaults\":{\"fillcolor\":\"black\",\"line\":{\"width\":0},\"opacity\":0.3},\"ternary\":{\"aaxis\":{\"gridcolor\":\"white\",\"linecolor\":\"white\",\"showgrid\":true,\"tickcolor\":\"rgb(51,51,51)\",\"ticks\":\"outside\"},\"baxis\":{\"gridcolor\":\"white\",\"linecolor\":\"white\",\"showgrid\":true,\"tickcolor\":\"rgb(51,51,51)\",\"ticks\":\"outside\"},\"bgcolor\":\"rgb(237,237,237)\",\"caxis\":{\"gridcolor\":\"white\",\"linecolor\":\"white\",\"showgrid\":true,\"tickcolor\":\"rgb(51,51,51)\",\"ticks\":\"outside\"}},\"xaxis\":{\"automargin\":true,\"gridcolor\":\"white\",\"linecolor\":\"white\",\"showgrid\":true,\"tickcolor\":\"rgb(51,51,51)\",\"ticks\":\"outside\",\"title\":{\"standoff\":15},\"zerolinecolor\":\"white\"},\"yaxis\":{\"automargin\":true,\"gridcolor\":\"white\",\"linecolor\":\"white\",\"showgrid\":true,\"tickcolor\":\"rgb(51,51,51)\",\"ticks\":\"outside\",\"title\":{\"standoff\":15},\"zerolinecolor\":\"white\"}}},\"xaxis\":{\"anchor\":\"y\",\"domain\":[0.0,0.16658333333333333],\"title\":{\"text\":\"Year\"},\"showgrid\":false,\"ticks\":\"\"},\"yaxis\":{\"anchor\":\"x\",\"domain\":[0.0,1.0],\"title\":{\"text\":\"Annual Rate of Change of Refugee Stock\"},\"showgrid\":false,\"ticks\":\"\"},\"xaxis2\":{\"anchor\":\"y2\",\"domain\":[0.16668333333333332,0.33326666666666666],\"matches\":\"x\",\"title\":{\"text\":\"Year\"},\"showgrid\":false,\"ticks\":\"\"},\"yaxis2\":{\"anchor\":\"x2\",\"domain\":[0.0,1.0],\"matches\":\"y\",\"showticklabels\":false,\"showgrid\":false,\"ticks\":\"\"},\"xaxis3\":{\"anchor\":\"y3\",\"domain\":[0.33336666666666664,0.49995],\"matches\":\"x\",\"title\":{\"text\":\"Year\"},\"showgrid\":false,\"ticks\":\"\"},\"yaxis3\":{\"anchor\":\"x3\",\"domain\":[0.0,1.0],\"matches\":\"y\",\"showticklabels\":false,\"showgrid\":false,\"ticks\":\"\"},\"xaxis4\":{\"anchor\":\"y4\",\"domain\":[0.50005,0.6666333333333333],\"matches\":\"x\",\"title\":{\"text\":\"Year\"},\"showgrid\":false,\"ticks\":\"\"},\"yaxis4\":{\"anchor\":\"x4\",\"domain\":[0.0,1.0],\"matches\":\"y\",\"showticklabels\":false,\"showgrid\":false,\"ticks\":\"\"},\"xaxis5\":{\"anchor\":\"y5\",\"domain\":[0.6667333333333333,0.8333166666666666],\"matches\":\"x\",\"title\":{\"text\":\"Year\"},\"showgrid\":false,\"ticks\":\"\"},\"yaxis5\":{\"anchor\":\"x5\",\"domain\":[0.0,1.0],\"matches\":\"y\",\"showticklabels\":false,\"showgrid\":false,\"ticks\":\"\"},\"xaxis6\":{\"anchor\":\"y6\",\"domain\":[0.8334166666666666,0.9999999999999999],\"matches\":\"x\",\"title\":{\"text\":\"Year\"},\"showgrid\":false,\"ticks\":\"\"},\"yaxis6\":{\"anchor\":\"x6\",\"domain\":[0.0,1.0],\"matches\":\"y\",\"showticklabels\":false,\"showgrid\":false,\"ticks\":\"\"},\"annotations\":[{\"font\":{},\"showarrow\":false,\"text\":\"Africa\",\"x\":0.08329166666666667,\"xanchor\":\"center\",\"xref\":\"paper\",\"y\":1.0,\"yanchor\":\"bottom\",\"yref\":\"paper\"},{\"font\":{},\"showarrow\":false,\"text\":\"Asia\",\"x\":0.249975,\"xanchor\":\"center\",\"xref\":\"paper\",\"y\":1.0,\"yanchor\":\"bottom\",\"yref\":\"paper\"},{\"font\":{},\"showarrow\":false,\"text\":\"Europe\",\"x\":0.41665833333333335,\"xanchor\":\"center\",\"xref\":\"paper\",\"y\":1.0,\"yanchor\":\"bottom\",\"yref\":\"paper\"},{\"font\":{},\"showarrow\":false,\"text\":\"Latin America and Caribbean\",\"x\":0.5833416666666666,\"xanchor\":\"center\",\"xref\":\"paper\",\"y\":1.0,\"yanchor\":\"bottom\",\"yref\":\"paper\"},{\"font\":{},\"showarrow\":false,\"text\":\"Northern America\",\"x\":0.7500249999999999,\"xanchor\":\"center\",\"xref\":\"paper\",\"y\":1.0,\"yanchor\":\"bottom\",\"yref\":\"paper\"},{\"font\":{},\"showarrow\":false,\"text\":\"Oceania\",\"x\":0.9167083333333332,\"xanchor\":\"center\",\"xref\":\"paper\",\"y\":1.0,\"yanchor\":\"bottom\",\"yref\":\"paper\"}],\"legend\":{\"tracegroupgap\":0},\"title\":{\"text\":\"Annual Rate of Change of Refugee Stock Per Continent\"},\"boxmode\":\"group\"},                        {\"responsive\": true}                    ).then(function(){\n",
              "                            \n",
              "var gd = document.getElementById('ae19d589-ff02-439b-b19a-9dbcd80e0a05');\n",
              "var x = new MutationObserver(function (mutations, observer) {{\n",
              "        var display = window.getComputedStyle(gd).display;\n",
              "        if (!display || display === 'none') {{\n",
              "            console.log([gd, 'removed!']);\n",
              "            Plotly.purge(gd);\n",
              "            observer.disconnect();\n",
              "        }}\n",
              "}});\n",
              "\n",
              "// Listen for the removal of the full notebook cells\n",
              "var notebookContainer = gd.closest('#notebook-container');\n",
              "if (notebookContainer) {{\n",
              "    x.observe(notebookContainer, {childList: true});\n",
              "}}\n",
              "\n",
              "// Listen for the clearing of the current output cell\n",
              "var outputEl = gd.closest('.output');\n",
              "if (outputEl) {{\n",
              "    x.observe(outputEl, {childList: true});\n",
              "}}\n",
              "\n",
              "                        })                };                            </script>        </div>\n",
              "</body>\n",
              "</html>"
            ]
          },
          "metadata": {}
        }
      ]
    },
    {
      "cell_type": "code",
      "source": [
        "vizmigROC = px.box(data_frame = DF5\n",
        "            , x = 'year'\n",
        "            , y = 'Annual Rate of Change of Migrant Stock'\n",
        "            , facet_col = 'continent'\n",
        "            , facet_col_spacing = 0.0001\n",
        "            , title = 'Annual Rate of Change of Migrant Stock Per Continent'\n",
        "            , template = 'ggplot2')  \n",
        "vizmigROC.for_each_annotation(lambda a: a.update(text=a.text.split(\"=\")[1]))\n",
        "vizmigROC.update_xaxes(showgrid=False, gridcolor=None, ticks = \"\")\n",
        "vizmigROC.update_yaxes(showgrid=False, gridcolor=None, ticks = \"\")\n",
        "\n",
        "vizmigROC.show()"
      ],
      "metadata": {
        "id": "KL5MHPmfLHe7",
        "colab": {
          "base_uri": "https://localhost:8080/",
          "height": 542
        },
        "outputId": "8096bdea-f525-4887-f846-b1eff9aa4038"
      },
      "id": "KL5MHPmfLHe7",
      "execution_count": null,
      "outputs": [
        {
          "output_type": "display_data",
          "data": {
            "text/html": [
              "<html>\n",
              "<head><meta charset=\"utf-8\" /></head>\n",
              "<body>\n",
              "    <div>            <script src=\"https://cdnjs.cloudflare.com/ajax/libs/mathjax/2.7.5/MathJax.js?config=TeX-AMS-MML_SVG\"></script><script type=\"text/javascript\">if (window.MathJax) {MathJax.Hub.Config({SVG: {font: \"STIX-Web\"}});}</script>                <script type=\"text/javascript\">window.PlotlyConfig = {MathJaxConfig: 'local'};</script>\n",
              "        <script src=\"https://cdn.plot.ly/plotly-2.8.3.min.js\"></script>                <div id=\"d8c1a383-b965-4f36-9122-dec74ae60a42\" class=\"plotly-graph-div\" style=\"height:525px; width:100%;\"></div>            <script type=\"text/javascript\">                                    window.PLOTLYENV=window.PLOTLYENV || {};                                    if (document.getElementById(\"d8c1a383-b965-4f36-9122-dec74ae60a42\")) {                    Plotly.newPlot(                        \"d8c1a383-b965-4f36-9122-dec74ae60a42\",                        [{\"alignmentgroup\":\"True\",\"hovertemplate\":\"continent=Africa<br>year=%{x}<br>Annual Rate of Change of Migrant Stock=%{y}<extra></extra>\",\"legendgroup\":\"\",\"marker\":{\"color\":\"#F8766D\"},\"name\":\"\",\"notched\":false,\"offsetgroup\":\"\",\"orientation\":\"v\",\"showlegend\":false,\"x\":[\"1990-1995\",\"1990-1995\",\"1990-1995\",\"1990-1995\",\"1990-1995\",\"1990-1995\",\"1990-1995\",\"1990-1995\",\"1990-1995\",\"1990-1995\",\"1990-1995\",\"1990-1995\",\"1990-1995\",\"1990-1995\",\"1990-1995\",\"1990-1995\",\"1990-1995\",\"1990-1995\",\"1990-1995\",\"1990-1995\",\"1990-1995\",\"1990-1995\",\"1990-1995\",\"1990-1995\",\"1990-1995\",\"1990-1995\",\"1990-1995\",\"1990-1995\",\"1990-1995\",\"1990-1995\",\"1990-1995\",\"1990-1995\",\"1990-1995\",\"1990-1995\",\"1990-1995\",\"1990-1995\",\"1990-1995\",\"1990-1995\",\"1990-1995\",\"1990-1995\",\"1990-1995\",\"1990-1995\",\"1990-1995\",\"1990-1995\",\"1990-1995\",\"1990-1995\",\"1990-1995\",\"1990-1995\",\"1990-1995\",\"1990-1995\",\"1990-1995\",\"1990-1995\",\"1990-1995\",\"1990-1995\",\"1990-1995\",\"1990-1995\",\"1990-1995\",\"1990-1995\",\"1995-2000\",\"1995-2000\",\"1995-2000\",\"1995-2000\",\"1995-2000\",\"1995-2000\",\"1995-2000\",\"1995-2000\",\"1995-2000\",\"1995-2000\",\"1995-2000\",\"1995-2000\",\"1995-2000\",\"1995-2000\",\"1995-2000\",\"1995-2000\",\"1995-2000\",\"1995-2000\",\"1995-2000\",\"1995-2000\",\"1995-2000\",\"1995-2000\",\"1995-2000\",\"1995-2000\",\"1995-2000\",\"1995-2000\",\"1995-2000\",\"1995-2000\",\"1995-2000\",\"1995-2000\",\"1995-2000\",\"1995-2000\",\"1995-2000\",\"1995-2000\",\"1995-2000\",\"1995-2000\",\"1995-2000\",\"1995-2000\",\"1995-2000\",\"1995-2000\",\"1995-2000\",\"1995-2000\",\"1995-2000\",\"1995-2000\",\"1995-2000\",\"1995-2000\",\"1995-2000\",\"1995-2000\",\"1995-2000\",\"1995-2000\",\"1995-2000\",\"1995-2000\",\"1995-2000\",\"1995-2000\",\"1995-2000\",\"1995-2000\",\"1995-2000\",\"1995-2000\",\"2000-2005\",\"2000-2005\",\"2000-2005\",\"2000-2005\",\"2000-2005\",\"2000-2005\",\"2000-2005\",\"2000-2005\",\"2000-2005\",\"2000-2005\",\"2000-2005\",\"2000-2005\",\"2000-2005\",\"2000-2005\",\"2000-2005\",\"2000-2005\",\"2000-2005\",\"2000-2005\",\"2000-2005\",\"2000-2005\",\"2000-2005\",\"2000-2005\",\"2000-2005\",\"2000-2005\",\"2000-2005\",\"2000-2005\",\"2000-2005\",\"2000-2005\",\"2000-2005\",\"2000-2005\",\"2000-2005\",\"2000-2005\",\"2000-2005\",\"2000-2005\",\"2000-2005\",\"2000-2005\",\"2000-2005\",\"2000-2005\",\"2000-2005\",\"2000-2005\",\"2000-2005\",\"2000-2005\",\"2000-2005\",\"2000-2005\",\"2000-2005\",\"2000-2005\",\"2000-2005\",\"2000-2005\",\"2000-2005\",\"2000-2005\",\"2000-2005\",\"2000-2005\",\"2000-2005\",\"2000-2005\",\"2000-2005\",\"2000-2005\",\"2000-2005\",\"2000-2005\",\"2005-2010\",\"2005-2010\",\"2005-2010\",\"2005-2010\",\"2005-2010\",\"2005-2010\",\"2005-2010\",\"2005-2010\",\"2005-2010\",\"2005-2010\",\"2005-2010\",\"2005-2010\",\"2005-2010\",\"2005-2010\",\"2005-2010\",\"2005-2010\",\"2005-2010\",\"2005-2010\",\"2005-2010\",\"2005-2010\",\"2005-2010\",\"2005-2010\",\"2005-2010\",\"2005-2010\",\"2005-2010\",\"2005-2010\",\"2005-2010\",\"2005-2010\",\"2005-2010\",\"2005-2010\",\"2005-2010\",\"2005-2010\",\"2005-2010\",\"2005-2010\",\"2005-2010\",\"2005-2010\",\"2005-2010\",\"2005-2010\",\"2005-2010\",\"2005-2010\",\"2005-2010\",\"2005-2010\",\"2005-2010\",\"2005-2010\",\"2005-2010\",\"2005-2010\",\"2005-2010\",\"2005-2010\",\"2005-2010\",\"2005-2010\",\"2005-2010\",\"2005-2010\",\"2005-2010\",\"2005-2010\",\"2005-2010\",\"2005-2010\",\"2005-2010\",\"2005-2010\",\"2010-2015\",\"2010-2015\",\"2010-2015\",\"2010-2015\",\"2010-2015\",\"2010-2015\",\"2010-2015\",\"2010-2015\",\"2010-2015\",\"2010-2015\",\"2010-2015\",\"2010-2015\",\"2010-2015\",\"2010-2015\",\"2010-2015\",\"2010-2015\",\"2010-2015\",\"2010-2015\",\"2010-2015\",\"2010-2015\",\"2010-2015\",\"2010-2015\",\"2010-2015\",\"2010-2015\",\"2010-2015\",\"2010-2015\",\"2010-2015\",\"2010-2015\",\"2010-2015\",\"2010-2015\",\"2010-2015\",\"2010-2015\",\"2010-2015\",\"2010-2015\",\"2010-2015\",\"2010-2015\",\"2010-2015\",\"2010-2015\",\"2010-2015\",\"2010-2015\",\"2010-2015\",\"2010-2015\",\"2010-2015\",\"2010-2015\",\"2010-2015\",\"2010-2015\",\"2010-2015\",\"2010-2015\",\"2010-2015\",\"2010-2015\",\"2010-2015\",\"2010-2015\",\"2010-2015\",\"2010-2015\",\"2010-2015\",\"2010-2015\",\"2010-2015\",\"2010-2015\",\"1990-1995\",\"1990-1995\",\"1990-1995\",\"1990-1995\",\"1990-1995\",\"1990-1995\",\"1990-1995\",\"1990-1995\",\"1990-1995\",\"1990-1995\",\"1990-1995\",\"1990-1995\",\"1990-1995\",\"1990-1995\",\"1990-1995\",\"1990-1995\",\"1990-1995\",\"1990-1995\",\"1990-1995\",\"1990-1995\",\"1990-1995\",\"1990-1995\",\"1990-1995\",\"1990-1995\",\"1990-1995\",\"1990-1995\",\"1990-1995\",\"1990-1995\",\"1990-1995\",\"1990-1995\",\"1990-1995\",\"1990-1995\",\"1990-1995\",\"1990-1995\",\"1990-1995\",\"1990-1995\",\"1990-1995\",\"1990-1995\",\"1990-1995\",\"1990-1995\",\"1990-1995\",\"1990-1995\",\"1990-1995\",\"1990-1995\",\"1990-1995\",\"1990-1995\",\"1990-1995\",\"1990-1995\",\"1990-1995\",\"1990-1995\",\"1990-1995\",\"1990-1995\",\"1990-1995\",\"1990-1995\",\"1990-1995\",\"1990-1995\",\"1990-1995\",\"1990-1995\",\"1995-2000\",\"1995-2000\",\"1995-2000\",\"1995-2000\",\"1995-2000\",\"1995-2000\",\"1995-2000\",\"1995-2000\",\"1995-2000\",\"1995-2000\",\"1995-2000\",\"1995-2000\",\"1995-2000\",\"1995-2000\",\"1995-2000\",\"1995-2000\",\"1995-2000\",\"1995-2000\",\"1995-2000\",\"1995-2000\",\"1995-2000\",\"1995-2000\",\"1995-2000\",\"1995-2000\",\"1995-2000\",\"1995-2000\",\"1995-2000\",\"1995-2000\",\"1995-2000\",\"1995-2000\",\"1995-2000\",\"1995-2000\",\"1995-2000\",\"1995-2000\",\"1995-2000\",\"1995-2000\",\"1995-2000\",\"1995-2000\",\"1995-2000\",\"1995-2000\",\"1995-2000\",\"1995-2000\",\"1995-2000\",\"1995-2000\",\"1995-2000\",\"1995-2000\",\"1995-2000\",\"1995-2000\",\"1995-2000\",\"1995-2000\",\"1995-2000\",\"1995-2000\",\"1995-2000\",\"1995-2000\",\"1995-2000\",\"1995-2000\",\"1995-2000\",\"1995-2000\",\"2000-2005\",\"2000-2005\",\"2000-2005\",\"2000-2005\",\"2000-2005\",\"2000-2005\",\"2000-2005\",\"2000-2005\",\"2000-2005\",\"2000-2005\",\"2000-2005\",\"2000-2005\",\"2000-2005\",\"2000-2005\",\"2000-2005\",\"2000-2005\",\"2000-2005\",\"2000-2005\",\"2000-2005\",\"2000-2005\",\"2000-2005\",\"2000-2005\",\"2000-2005\",\"2000-2005\",\"2000-2005\",\"2000-2005\",\"2000-2005\",\"2000-2005\",\"2000-2005\",\"2000-2005\",\"2000-2005\",\"2000-2005\",\"2000-2005\",\"2000-2005\",\"2000-2005\",\"2000-2005\",\"2000-2005\",\"2000-2005\",\"2000-2005\",\"2000-2005\",\"2000-2005\",\"2000-2005\",\"2000-2005\",\"2000-2005\",\"2000-2005\",\"2000-2005\",\"2000-2005\",\"2000-2005\",\"2000-2005\",\"2000-2005\",\"2000-2005\",\"2000-2005\",\"2000-2005\",\"2000-2005\",\"2000-2005\",\"2000-2005\",\"2000-2005\",\"2000-2005\",\"2005-2010\",\"2005-2010\",\"2005-2010\",\"2005-2010\",\"2005-2010\",\"2005-2010\",\"2005-2010\",\"2005-2010\",\"2005-2010\",\"2005-2010\",\"2005-2010\",\"2005-2010\",\"2005-2010\",\"2005-2010\",\"2005-2010\",\"2005-2010\",\"2005-2010\",\"2005-2010\",\"2005-2010\",\"2005-2010\",\"2005-2010\",\"2005-2010\",\"2005-2010\",\"2005-2010\",\"2005-2010\",\"2005-2010\",\"2005-2010\",\"2005-2010\",\"2005-2010\",\"2005-2010\",\"2005-2010\",\"2005-2010\",\"2005-2010\",\"2005-2010\",\"2005-2010\",\"2005-2010\",\"2005-2010\",\"2005-2010\",\"2005-2010\",\"2005-2010\",\"2005-2010\",\"2005-2010\",\"2005-2010\",\"2005-2010\",\"2005-2010\",\"2005-2010\",\"2005-2010\",\"2005-2010\",\"2005-2010\",\"2005-2010\",\"2005-2010\",\"2005-2010\",\"2005-2010\",\"2005-2010\",\"2005-2010\",\"2005-2010\",\"2005-2010\",\"2005-2010\",\"2010-2015\",\"2010-2015\",\"2010-2015\",\"2010-2015\",\"2010-2015\",\"2010-2015\",\"2010-2015\",\"2010-2015\",\"2010-2015\",\"2010-2015\",\"2010-2015\",\"2010-2015\",\"2010-2015\",\"2010-2015\",\"2010-2015\",\"2010-2015\",\"2010-2015\",\"2010-2015\",\"2010-2015\",\"2010-2015\",\"2010-2015\",\"2010-2015\",\"2010-2015\",\"2010-2015\",\"2010-2015\",\"2010-2015\",\"2010-2015\",\"2010-2015\",\"2010-2015\",\"2010-2015\",\"2010-2015\",\"2010-2015\",\"2010-2015\",\"2010-2015\",\"2010-2015\",\"2010-2015\",\"2010-2015\",\"2010-2015\",\"2010-2015\",\"2010-2015\",\"2010-2015\",\"2010-2015\",\"2010-2015\",\"2010-2015\",\"2010-2015\",\"2010-2015\",\"2010-2015\",\"2010-2015\",\"2010-2015\",\"2010-2015\",\"2010-2015\",\"2010-2015\",\"2010-2015\",\"2010-2015\",\"2010-2015\",\"2010-2015\",\"2010-2015\",\"2010-2015\",\"1990-1995\",\"1990-1995\",\"1990-1995\",\"1990-1995\",\"1990-1995\",\"1990-1995\",\"1990-1995\",\"1990-1995\",\"1990-1995\",\"1990-1995\",\"1990-1995\",\"1990-1995\",\"1990-1995\",\"1990-1995\",\"1990-1995\",\"1990-1995\",\"1990-1995\",\"1990-1995\",\"1990-1995\",\"1990-1995\",\"1990-1995\",\"1990-1995\",\"1990-1995\",\"1990-1995\",\"1990-1995\",\"1990-1995\",\"1990-1995\",\"1990-1995\",\"1990-1995\",\"1990-1995\",\"1990-1995\",\"1990-1995\",\"1990-1995\",\"1990-1995\",\"1990-1995\",\"1990-1995\",\"1990-1995\",\"1990-1995\",\"1990-1995\",\"1990-1995\",\"1990-1995\",\"1990-1995\",\"1990-1995\",\"1990-1995\",\"1990-1995\",\"1990-1995\",\"1990-1995\",\"1990-1995\",\"1990-1995\",\"1990-1995\",\"1990-1995\",\"1990-1995\",\"1990-1995\",\"1990-1995\",\"1990-1995\",\"1990-1995\",\"1990-1995\",\"1990-1995\",\"1995-2000\",\"1995-2000\",\"1995-2000\",\"1995-2000\",\"1995-2000\",\"1995-2000\",\"1995-2000\",\"1995-2000\",\"1995-2000\",\"1995-2000\",\"1995-2000\",\"1995-2000\",\"1995-2000\",\"1995-2000\",\"1995-2000\",\"1995-2000\",\"1995-2000\",\"1995-2000\",\"1995-2000\",\"1995-2000\",\"1995-2000\",\"1995-2000\",\"1995-2000\",\"1995-2000\",\"1995-2000\",\"1995-2000\",\"1995-2000\",\"1995-2000\",\"1995-2000\",\"1995-2000\",\"1995-2000\",\"1995-2000\",\"1995-2000\",\"1995-2000\",\"1995-2000\",\"1995-2000\",\"1995-2000\",\"1995-2000\",\"1995-2000\",\"1995-2000\",\"1995-2000\",\"1995-2000\",\"1995-2000\",\"1995-2000\",\"1995-2000\",\"1995-2000\",\"1995-2000\",\"1995-2000\",\"1995-2000\",\"1995-2000\",\"1995-2000\",\"1995-2000\",\"1995-2000\",\"1995-2000\",\"1995-2000\",\"1995-2000\",\"1995-2000\",\"1995-2000\",\"2000-2005\",\"2000-2005\",\"2000-2005\",\"2000-2005\",\"2000-2005\",\"2000-2005\",\"2000-2005\",\"2000-2005\",\"2000-2005\",\"2000-2005\",\"2000-2005\",\"2000-2005\",\"2000-2005\",\"2000-2005\",\"2000-2005\",\"2000-2005\",\"2000-2005\",\"2000-2005\",\"2000-2005\",\"2000-2005\",\"2000-2005\",\"2000-2005\",\"2000-2005\",\"2000-2005\",\"2000-2005\",\"2000-2005\",\"2000-2005\",\"2000-2005\",\"2000-2005\",\"2000-2005\",\"2000-2005\",\"2000-2005\",\"2000-2005\",\"2000-2005\",\"2000-2005\",\"2000-2005\",\"2000-2005\",\"2000-2005\",\"2000-2005\",\"2000-2005\",\"2000-2005\",\"2000-2005\",\"2000-2005\",\"2000-2005\",\"2000-2005\",\"2000-2005\",\"2000-2005\",\"2000-2005\",\"2000-2005\",\"2000-2005\",\"2000-2005\",\"2000-2005\",\"2000-2005\",\"2000-2005\",\"2000-2005\",\"2000-2005\",\"2000-2005\",\"2000-2005\",\"2005-2010\",\"2005-2010\",\"2005-2010\",\"2005-2010\",\"2005-2010\",\"2005-2010\",\"2005-2010\",\"2005-2010\",\"2005-2010\",\"2005-2010\",\"2005-2010\",\"2005-2010\",\"2005-2010\",\"2005-2010\",\"2005-2010\",\"2005-2010\",\"2005-2010\",\"2005-2010\",\"2005-2010\",\"2005-2010\",\"2005-2010\",\"2005-2010\",\"2005-2010\",\"2005-2010\",\"2005-2010\",\"2005-2010\",\"2005-2010\",\"2005-2010\",\"2005-2010\",\"2005-2010\",\"2005-2010\",\"2005-2010\",\"2005-2010\",\"2005-2010\",\"2005-2010\",\"2005-2010\",\"2005-2010\",\"2005-2010\",\"2005-2010\",\"2005-2010\",\"2005-2010\",\"2005-2010\",\"2005-2010\",\"2005-2010\",\"2005-2010\",\"2005-2010\",\"2005-2010\",\"2005-2010\",\"2005-2010\",\"2005-2010\",\"2005-2010\",\"2005-2010\",\"2005-2010\",\"2005-2010\",\"2005-2010\",\"2005-2010\",\"2005-2010\",\"2005-2010\",\"2010-2015\",\"2010-2015\",\"2010-2015\",\"2010-2015\",\"2010-2015\",\"2010-2015\",\"2010-2015\",\"2010-2015\",\"2010-2015\",\"2010-2015\",\"2010-2015\",\"2010-2015\",\"2010-2015\",\"2010-2015\",\"2010-2015\",\"2010-2015\",\"2010-2015\",\"2010-2015\",\"2010-2015\",\"2010-2015\",\"2010-2015\",\"2010-2015\",\"2010-2015\",\"2010-2015\",\"2010-2015\",\"2010-2015\",\"2010-2015\",\"2010-2015\",\"2010-2015\",\"2010-2015\",\"2010-2015\",\"2010-2015\",\"2010-2015\",\"2010-2015\",\"2010-2015\",\"2010-2015\",\"2010-2015\",\"2010-2015\",\"2010-2015\",\"2010-2015\",\"2010-2015\",\"2010-2015\",\"2010-2015\",\"2010-2015\",\"2010-2015\",\"2010-2015\",\"2010-2015\",\"2010-2015\",\"2010-2015\",\"2010-2015\",\"2010-2015\",\"2010-2015\",\"2010-2015\",\"2010-2015\",\"2010-2015\",\"2010-2015\",\"2010-2015\",\"2010-2015\"],\"x0\":\" \",\"xaxis\":\"x\",\"y\":[-5.355717148331725,-0.19987317465281818,-4.058465061328198,0.9107479129098696,-7.179770524250253,14.659568244929003,-2.4334763215056583,-30.811478447847207,14.588615984333412,10.939512287083955,6.374959379258264,5.982790391803276,7.550834492027084,6.492316807387896,-63.968549658420514,null,2.5623480853665765,13.117422215822142,-2.655264128903243,-7.480573976150209,3.4428143864255882,-1.4437903934517917,7.882139176978438,3.7300132936517563,7.82325771171872,17.5854415121921,5.61998415661909,3.567617927948684,-2.459836970220874,-0.8898715074983218,-0.7930282715571391,2.1142932353712385,-1.724501210210987,-5.730388813397641,-0.0616999606031889,2.122829212817955,7.570421675918423,-2.687278332153414,-0.8931500606370607,-2.9592411415646382,-21.154618431214306,6.403303818497622,4.360877415371779,2.219090284008529,2.6752380236631246,4.896492801438381,8.557381556693809,13.03495593547172,11.970465132778022,15.734865629163968,1.8356532683379043,-4.4087571081401835,4.692819586090978,0.277423382059206,0.5663184023457571,1.2363808653479813,-14.925019037711424,3.601238443054776,-14.147234984438365,-0.20189081956663935,0.14639496962043666,0.8710748752868551,-5.549589248376171,2.4431268986074697,2.116557894640019,-0.7595315592888829,14.592822502371744,10.939272296683914,3.022129299329218,5.321181545612999,7.952946433240321,4.890283710162948,0.5654943278810235,null,0.0026155675149114456,-3.5063676134926123,5.468174488832441,-1.0075031984866,2.9358595723108847,-1.5562706702408682,4.283798310163622,3.1423112090057783,9.294516257498433,-17.847212881326183,4.377818568830678,4.913371734828329,-2.4587419462304223,-0.9313162523375952,0.7635317804403877,2.2113162936483013,1.0347201626143878,-5.45623595753236,-0.7649661466646945,1.9128936781023804,7.022055724866652,-3.108478626087077,3.0536211790078904,-0.039528700084356244,-1.8189028983888793,4.842774407019721,3.578145280500533,1.99727851748732,-0.8084472598579047,3.8055157576702623,-5.549920574498534,-6.483068245620263,-6.256555992326919,-6.344588627479755,1.4542231742712677,-8.909586590955874,-3.5489969553846383,1.046973581572891,0.550723156172107,-4.308956250903558,-1.4018456571981432,6.1117463935032275,6.384756926331635,-0.8739542065538178,-1.749003163963945,1.9997572588214367,-3.4606253578190893,1.5874727848042423,2.031624819345879,-0.965140663193701,4.686285568065307,6.575674962746655,0.9117454547737476,2.673309489981774,4.414500395235234,6.275374263859081,0.5722106808253168,null,0.5674190107544761,-3.714741329573422,-4.791286713089441,-0.8645803717107711,5.705326870644288,2.4957611516581957,-5.368318800748669,24.23030006789438,0.6601915025964057,-3.5644967416521274,7.5480351128585355,1.8125426282382162,-4.8036734963202115,-0.20681510611296308,9.14461703933352,1.9392564911108336,0.5008966522946454,-7.834155613395341,-0.7868289399134535,3.3616525359099327,8.85079456568882,0.39497149405986876,-4.696441692372228,3.7914055515664775,3.405062177342332,4.975091876009989,2.7593280471412927,2.8251036537600838,0.16668431911746026,-0.06684619264416478,9.260915994102287,-17.833682612550703,0.2777687536210696,-11.098900314627318,6.080575996129695,0.2608167888310892,0.3568497843632273,5.676928871494898,3.6875411195210117,0.5442286966309,8.412833687869975,7.7721543092343275,6.16248058930244,-0.915480989862175,1.9604044651426744,1.8178560204195857,1.9786873530974742,4.053722373605366,2.0737953550739903,-0.3586033623359946,4.687391171972402,2.824012783175055,0.9330275961526777,1.3365464057973353,0.18353732365848124,4.769500315857648,2.9832420323306392,null,-4.2047455977461325,-18.308853461736632,-10.483690805010356,0.26299924630995364,4.433564887802063,2.2185883133934974,-0.20924544959411967,3.381933090805979,5.72181476990106,-1.1198986679805063,5.464678734087899,2.611696432167576,-4.80365482930543,-0.20897609624652608,1.5252203000722613,1.7972840284116023,5.308386298231297,1.2989353591902553,4.174037417898182,2.8770887217121266,6.166996700363722,0.390440611172282,-0.7417025022307286,9.457810138879493,2.350329359198776,3.9806702583447926,2.4243491282626173,2.474989062090983,0.8219453330313079,0.4197418982621967,2.033449794979452,-2.2567055338167155,0.31103337578963924,2.5671065092823078,5.412603764663141,7.527500085202118,0.31930537733214603,7.011638115557038,3.1123262208748215,1.4402952726512934,-8.574107576106883,4.544384704514796,3.9626588142834533,-0.10010746678138882,2.0166091494900096,0.33527052628249077,12.730757435622639,3.1366625536159503,2.081246399345215,-0.23692755361274306,2.811757824265764,1.1315279799636198,0.7603420550207527,0.6682260635959872,0.21577962998791067,2.267511887787841,1.0520625182121535,23.23454554287099,6.961535614765188,-3.333506388548023,-3.136927606620961,0.04894844910944994,6.668962548746864,5.5727441094283305,-2.7158596386700085,4.301540520994376,-1.3123842777483814,-1.5256582265055945,4.4674904973752945,1.9056670586309328,-2.4057233174900388,-0.21118272359313683,10.167201446679512,2.3984545291242685,4.434589464843981,-2.7732733670054457,5.451994205987708,2.841827147074631,5.682554566267937,0.48670197808116966,-1.7366591403567346,9.614760812815042,0.7110570820844115,3.185490173728779,0.893009103483237,0.7523841757963348,0.751404820545423,0.7166451331969179,3.4001559529832677,2.1520819567149845,1.1728483255798279,2.7567187632531067,1.5177225160880339,9.791185453410257,8.062752587249324,5.296742820025065,1.1938752761696785,0.5507401253752394,-1.3232503661349986,1.6232740395206395,-5.475511425098014,-0.3090602345025274,-4.046025603708082,0.9837535028888064,-7.179743917429533,13.893072846442816,-2.294882613776496,-30.965505418091166,12.096916939839383,10.278829866561418,6.452022404588469,5.628593087569038,7.58970111624116,6.306280222277335,-63.35193726078003,null,2.0478290768010736,13.155749080704144,-2.6110357731183287,-7.166608053172645,2.6911497862449916,-1.490036878737928,7.901232982902514,3.7038242681884888,7.941984130883606,18.184014330186667,5.513295208955273,3.564450597176657,-2.9502573010373725,-0.8898824326331009,-0.7498952918914055,4.298859382160484,-1.9984778746686898,-5.623401165353159,0.15285355729941433,2.3905184493792078,6.949557009156298,-2.414222512981009,-0.7798969844558125,-3.2031918919747278,-19.8435554111309,6.632718858364747,4.398131836000636,2.7860089995827555,2.573972535700252,4.260481020468999,8.566205446436587,13.052599797177539,11.74532611685269,14.555329208286214,2.0424857721468412,-4.050350572994932,4.671406658176439,0.14973128152872034,-0.36364638166380947,1.1646443057975673,-14.47135868288891,3.350331193309876,-14.183953291192946,-0.31391120609752104,0.16850834055942346,0.9376250435857297,-5.495558439489239,1.5753918271858882,2.186709273148509,-0.8200403911856714,11.389604658126732,9.450761073618178,2.4652407089315687,4.996680700471233,7.971858221631553,4.782058177205608,0.6506505673378892,null,-0.4426901514356373,-2.996681669959731,5.332087728591262,-1.0146073044952253,2.3707517820183828,-1.610208892624932,4.286084435170824,3.1239080888566795,9.315204498359028,-18.075528725504338,4.308912084379745,4.913133477447379,-2.828233080996571,-0.9313282190166025,0.810069233326401,4.077264197754344,0.7246058604313407,-5.3135389699080395,-0.5558279357996289,2.1350528258999537,6.70951000484595,-2.752170541519563,3.3553546062518333,-0.3649961139800472,-2.0524100808538877,4.972349145019954,3.603234833297625,2.4449436592191494,-0.817917293739056,3.3765641201329437,-5.398582440720206,-6.512575813422643,-6.181816937206604,-6.141018527679543,1.4598548127096462,-8.224704121645805,-3.623677385432637,0.9178179874191114,-0.2771406932285248,-3.8341197858409255,-1.7659861848821081,6.176428318383804,6.55881683281648,-0.703362317586984,-0.6159646429815446,2.397106136585106,-3.5565703430188367,2.3118432699098483,2.09756653019588,-1.0301134849248625,8.990562401000101,5.734095674253408,-0.13127554120365306,2.490923490023046,4.226583020190459,8.33218900957062,0.784631517798614,null,0.5086132501673386,0.6604507661243171,-4.824107908461838,-0.8627567138259563,5.156815614108221,2.66539167003877,-5.347848495140471,20.796108410902157,2.31728313692846,-3.775251102008063,7.95835804945563,1.824818203809873,-4.950225689910935,-0.20666640474518932,10.806646071153466,3.775076451810474,0.22637893217628413,-7.5792562856789925,-0.5728289048884253,3.823471403106947,8.254105206059533,0.3978162921216579,-4.8012622170949575,3.42804922519974,2.4143364698452987,5.412169224322408,2.6266696600281034,2.5122586986560496,0.1621150437538213,-0.18782976992975806,9.872029608010818,-18.30883917031016,0.279670131832033,-9.457674723965386,6.044300841499258,0.8942525760329044,0.3333353688793909,5.612681567970693,4.030320081002035,0.5459327533455985,7.5348690477520766,7.965087414678511,6.234173208010291,-0.7323027658830544,0.7571882208684493,2.142629830289541,1.9625116546490324,3.2059424589492664,2.1410936946895487,-0.393148979714307,7.768724436908811,1.9059717133727727,0.4201413332123779,1.1523822422181607,0.12841872841168706,5.866723220350365,3.123061926282744,null,-4.177313997683756,-23.019024975003923,-10.571456954371868,0.26585036299589254,4.096035224749439,2.3515871787958145,-0.19724301937070038,3.1300599762335937,5.72036211394973,-1.231075945753816,5.677740029664586,2.6291632324678376,-4.896016430875385,-0.20867539457612677,0.9613749034590234,1.8890711244453482,5.209322572535937,1.3228650567311795,4.226816783901167,3.216176700516974,5.8836136255648706,0.3900574802788537,-0.7066611897274871,9.335655874910307,1.4854586362351225,4.254981501218872,2.3213417196326525,2.23161182376274,0.8229288384382822,0.382069709997838,2.607810858501623,-2.0300356635623613,0.017471488614123464,2.112484806615957,5.358864534672479,7.995645676492738,0.2895950867786679,6.948489782981385,3.4169831126343544,1.6923945834361873,-8.054003107832644,4.568929897905353,3.9779994297062014,0.0362707213414768,2.0613373116118527,0.5276745624756811,12.180672747000624,3.296235027790257,2.1473893057583155,-0.25677030025232267,3.6545176618156,0.6406434524938949,0.616892167775909,0.5753123718316768,0.14524219820184953,2.7492787411581823,1.2690767660184472,23.089469936403734,7.168675801523318,-3.3242275408688835,-3.218343398700364,0.036271926058716666,6.537138533699391,3.0559158611654302,-2.8377220681717574,4.859295205794092,-1.1644631163602435,-1.4439946812202948,4.673001137414964,1.8723034914762033,-2.435331020898725,-0.21087564264380415,9.35036342108808,2.290171577810416,4.335993407789485,-2.9363478574076183,5.552280403054318,3.159437075091635,5.516151691438118,0.506644425120617,-1.652901085681379,10.101374395148628,0.6111517622879754,3.4002731160871833,0.8930588540349597,0.6847029860127063,0.748507427242356,0.6844801156371327,3.607323684551482,2.180713307974191,0.9825474464026115,2.6298462125282285,1.475026841700715,10.023422069850644,8.038437895301511,5.23542962450003,1.422546880311681,0.553074783495198,-1.2705698799750151,1.4926985681622011,-5.241233556406414,-0.10076960107396793,-4.072257294245642,0.8295316899988386,-7.179800003801959,15.527022264107684,-2.6098953726785012,-30.667717415084038,16.70513083706818,11.80529194195399,6.284111406911305,6.385954634626054,7.5111483028964905,6.759556717034097,-64.63271214918645,null,3.1042958516402606,13.079979912281573,-2.70173574666859,-7.890123472898831,4.294882944668297,-1.3877639044755414,7.860518933253136,3.7606938421013356,7.705220879638933,17.013152830051197,5.74187328158811,3.5718297060109983,-1.9229470043477705,-0.8898582410441849,-0.8416248938733131,-0.6864681944086579,-1.4215359729180175,-5.83640612854035,-0.2764777843452889,1.7973821000200292,8.481490505516462,-2.9922797274144775,-1.0208154924567452,-2.573632966459135,-22.818472436841912,6.145540739830592,4.326426764668194,1.6452295876950722,2.801839380862188,5.681914860898987,8.548423302227555,13.017392617913545,12.193386270263954,17.185948461653368,1.6176810528760504,-4.797471508842767,4.71242804327207,0.4394263052960071,1.781592601073777,1.3118032903228567,-15.502515581653645,3.8546848171702437,-14.112411728052527,-0.10127989890947682,0.12183206773458755,0.796491399576069,-5.609624785240415,3.3450603098979577,2.026192621552234,-0.7036374492885007,16.716205148590113,12.671493637490899,3.661956954818583,5.677500097166982,7.933579374848258,5.042997876808838,0.4703583964439613,null,0.44936064032816936,-4.018137574829459,5.610494118881605,-0.9980710121524581,3.533650036065916,-1.4912861841362783,4.281206739432224,3.1638184387201465,9.27380464798305,-17.624956932311843,4.45580680062648,4.913688496246109,-2.0718795429625936,-0.9313017211487149,0.7108485441683922,-0.8530437186543606,1.3673479849774748,-5.599413355192288,-0.978831883742717,1.6353190939313533,7.455320662819681,-3.5200913114391468,2.7058341672989643,0.45659911109118023,-1.503995572388059,4.694376741787078,3.554874222564808,1.5201173212360137,-0.7966813885275512,4.3050201411111395,-5.704812781474872,-6.4537127456061345,-6.33000606763703,-6.581698435476217,1.4482231103700398,-9.694708784341769,-3.4809233265855046,1.2084730121608422,1.530801542446688,-4.818750832689616,-0.9359664220077655,6.047019471605617,6.218567628981856,-1.027599165235377,-3.0893188330963017,1.5432303362179836,-3.3542524659465873,0.8401397739092298,1.94601692900134,-0.9054835781257706,1.6873013002544912,7.441584361888085,2.014047825610859,2.8683501258867317,4.6053105903541125,2.9814985045767397,0.3311056342595505,null,0.6249461857738251,-9.518651481349966,-4.757257271725991,-0.8670009149717474,6.253691922817958,2.290077282544139,-5.391552313668348,27.611733022470325,-1.1507999247481848,-3.3637106116717406,7.075005511923352,1.7962108923668823,-4.654215386254772,-0.20699567617895676,7.07428296507098,-1.998057947223219,0.7866203766856937,-8.09509080714431,-1.0104256569658112,2.7616737473210518,9.635106930638864,0.39162090398213123,-4.57433886286224,4.322035399504462,4.651214681538187,4.458877454633016,2.881737157760513,3.1608725756533436,0.1723568664679951,0.0699207381513721,8.610452071880985,-17.372589020629828,0.27589305482937465,-13.22203768941083,6.119163248659902,-0.5196101587622581,0.3781836411281307,5.756397712649033,3.292439593891072,0.542353416672901,9.461271915336297,7.57657089168484,6.093201298066296,-1.0832704654686367,3.378474463831803,1.4298076571721707,1.9965154912405487,4.923027426921066,1.9857533473190345,-0.32703498472543996,1.6903397613691493,3.6896594593990075,1.4339098638011207,1.5298069051989733,0.23882421013964608,2.588621744851018,2.8215172715984904,null,-4.23153913080921,-12.165662069474994,-10.393249510952389,0.2592139262447181,4.756500916852098,2.054588284583549,-0.22289168102306747,3.5886916547657153,5.72354608630497,-1.0156271709812097,5.210621667716603,2.5884178341810076,-4.710588731587443,-0.2093412514036499,2.271529466133219,1.567738887790638,5.4095521940977145,1.274090789512045,4.118132876533501,2.4155589310047265,6.521163794292248,0.3908919214594026,-0.7823672516598722,9.630975467254236,3.3326268210173495,3.643768311692419,2.5183299678992244,2.728823819837327,0.8207246011587152,0.4619707905041609,1.382899344993549,-2.473975932729016,0.596495703325296,3.1960902836679574,5.46950372428253,6.913579683146738,0.3461922728220576,7.089194188955718,2.7486006608035995,1.1591169247626754,-9.182955062855473,4.519228236098734,3.947771013675373,-0.22696149098053617,1.9671184939915387,0.09872384477104029,13.319515000982138,2.978663775855577,1.9940456219040428,-0.21884201443093232,1.8126409318086518,1.5641051602188114,0.8959787980016575,0.7643579454953126,0.2860894031237434,1.1864473746977036,0.7961426166958172,23.387148990217348,6.756842413669656,-3.3427515889840103,-3.0537461675658144,0.06576897440231802,6.792232773258587,8.31389818537532,-2.578115532686931,3.837189780268678,-1.4901076791870065,-1.6021395868174189,4.216714072792259,1.9500906575500168,-2.3760717182855826,-0.21155563793395968,11.167065694296848,2.668864682850834,4.53427960361518,-2.6051554848391545,5.344927272802909,2.392250767300556,5.885353602413485,0.46318566201507505,-1.8344859120592107,8.909318330547302,0.8188474062346909,2.9143636221438074,0.8929639354752338,0.8218628839307379,0.7550006941371865,0.7525675769807368,3.155459929271602,2.1242924379444035,1.353555349076704,2.926301291931966,1.5627058035582393,9.47395049381205,8.08470012211283,5.371525764651018,0.9127058941323871,0.5481008895195516,-1.3868701715101097,1.7563873401950238],\"y0\":\" \",\"yaxis\":\"y\",\"type\":\"box\"},{\"alignmentgroup\":\"True\",\"hovertemplate\":\"continent=Asia<br>year=%{x}<br>Annual Rate of Change of Migrant Stock=%{y}<extra></extra>\",\"legendgroup\":\"\",\"marker\":{\"color\":\"#F8766D\"},\"name\":\"\",\"notched\":false,\"offsetgroup\":\"\",\"orientation\":\"v\",\"showlegend\":false,\"x\":[\"1990-1995\",\"1990-1995\",\"1990-1995\",\"1990-1995\",\"1990-1995\",\"1990-1995\",\"1990-1995\",\"1990-1995\",\"1990-1995\",\"1990-1995\",\"1990-1995\",\"1990-1995\",\"1990-1995\",\"1990-1995\",\"1990-1995\",\"1990-1995\",\"1990-1995\",\"1990-1995\",\"1990-1995\",\"1990-1995\",\"1990-1995\",\"1990-1995\",\"1990-1995\",\"1990-1995\",\"1990-1995\",\"1990-1995\",\"1990-1995\",\"1990-1995\",\"1990-1995\",\"1990-1995\",\"1990-1995\",\"1990-1995\",\"1990-1995\",\"1990-1995\",\"1990-1995\",\"1990-1995\",\"1990-1995\",\"1990-1995\",\"1990-1995\",\"1990-1995\",\"1990-1995\",\"1990-1995\",\"1990-1995\",\"1990-1995\",\"1990-1995\",\"1990-1995\",\"1990-1995\",\"1990-1995\",\"1990-1995\",\"1990-1995\",\"1995-2000\",\"1995-2000\",\"1995-2000\",\"1995-2000\",\"1995-2000\",\"1995-2000\",\"1995-2000\",\"1995-2000\",\"1995-2000\",\"1995-2000\",\"1995-2000\",\"1995-2000\",\"1995-2000\",\"1995-2000\",\"1995-2000\",\"1995-2000\",\"1995-2000\",\"1995-2000\",\"1995-2000\",\"1995-2000\",\"1995-2000\",\"1995-2000\",\"1995-2000\",\"1995-2000\",\"1995-2000\",\"1995-2000\",\"1995-2000\",\"1995-2000\",\"1995-2000\",\"1995-2000\",\"1995-2000\",\"1995-2000\",\"1995-2000\",\"1995-2000\",\"1995-2000\",\"1995-2000\",\"1995-2000\",\"1995-2000\",\"1995-2000\",\"1995-2000\",\"1995-2000\",\"1995-2000\",\"1995-2000\",\"1995-2000\",\"1995-2000\",\"1995-2000\",\"1995-2000\",\"1995-2000\",\"1995-2000\",\"1995-2000\",\"2000-2005\",\"2000-2005\",\"2000-2005\",\"2000-2005\",\"2000-2005\",\"2000-2005\",\"2000-2005\",\"2000-2005\",\"2000-2005\",\"2000-2005\",\"2000-2005\",\"2000-2005\",\"2000-2005\",\"2000-2005\",\"2000-2005\",\"2000-2005\",\"2000-2005\",\"2000-2005\",\"2000-2005\",\"2000-2005\",\"2000-2005\",\"2000-2005\",\"2000-2005\",\"2000-2005\",\"2000-2005\",\"2000-2005\",\"2000-2005\",\"2000-2005\",\"2000-2005\",\"2000-2005\",\"2000-2005\",\"2000-2005\",\"2000-2005\",\"2000-2005\",\"2000-2005\",\"2000-2005\",\"2000-2005\",\"2000-2005\",\"2000-2005\",\"2000-2005\",\"2000-2005\",\"2000-2005\",\"2000-2005\",\"2000-2005\",\"2000-2005\",\"2000-2005\",\"2000-2005\",\"2000-2005\",\"2000-2005\",\"2000-2005\",\"2005-2010\",\"2005-2010\",\"2005-2010\",\"2005-2010\",\"2005-2010\",\"2005-2010\",\"2005-2010\",\"2005-2010\",\"2005-2010\",\"2005-2010\",\"2005-2010\",\"2005-2010\",\"2005-2010\",\"2005-2010\",\"2005-2010\",\"2005-2010\",\"2005-2010\",\"2005-2010\",\"2005-2010\",\"2005-2010\",\"2005-2010\",\"2005-2010\",\"2005-2010\",\"2005-2010\",\"2005-2010\",\"2005-2010\",\"2005-2010\",\"2005-2010\",\"2005-2010\",\"2005-2010\",\"2005-2010\",\"2005-2010\",\"2005-2010\",\"2005-2010\",\"2005-2010\",\"2005-2010\",\"2005-2010\",\"2005-2010\",\"2005-2010\",\"2005-2010\",\"2005-2010\",\"2005-2010\",\"2005-2010\",\"2005-2010\",\"2005-2010\",\"2005-2010\",\"2005-2010\",\"2005-2010\",\"2005-2010\",\"2005-2010\",\"2010-2015\",\"2010-2015\",\"2010-2015\",\"2010-2015\",\"2010-2015\",\"2010-2015\",\"2010-2015\",\"2010-2015\",\"2010-2015\",\"2010-2015\",\"2010-2015\",\"2010-2015\",\"2010-2015\",\"2010-2015\",\"2010-2015\",\"2010-2015\",\"2010-2015\",\"2010-2015\",\"2010-2015\",\"2010-2015\",\"2010-2015\",\"2010-2015\",\"2010-2015\",\"2010-2015\",\"2010-2015\",\"2010-2015\",\"2010-2015\",\"2010-2015\",\"2010-2015\",\"2010-2015\",\"2010-2015\",\"2010-2015\",\"2010-2015\",\"2010-2015\",\"2010-2015\",\"2010-2015\",\"2010-2015\",\"2010-2015\",\"2010-2015\",\"2010-2015\",\"2010-2015\",\"2010-2015\",\"2010-2015\",\"2010-2015\",\"2010-2015\",\"2010-2015\",\"2010-2015\",\"2010-2015\",\"2010-2015\",\"2010-2015\",\"1990-1995\",\"1990-1995\",\"1990-1995\",\"1990-1995\",\"1990-1995\",\"1990-1995\",\"1990-1995\",\"1990-1995\",\"1990-1995\",\"1990-1995\",\"1990-1995\",\"1990-1995\",\"1990-1995\",\"1990-1995\",\"1990-1995\",\"1990-1995\",\"1990-1995\",\"1990-1995\",\"1990-1995\",\"1990-1995\",\"1990-1995\",\"1990-1995\",\"1990-1995\",\"1990-1995\",\"1990-1995\",\"1990-1995\",\"1990-1995\",\"1990-1995\",\"1990-1995\",\"1990-1995\",\"1990-1995\",\"1990-1995\",\"1990-1995\",\"1990-1995\",\"1990-1995\",\"1990-1995\",\"1990-1995\",\"1990-1995\",\"1990-1995\",\"1990-1995\",\"1990-1995\",\"1990-1995\",\"1990-1995\",\"1990-1995\",\"1990-1995\",\"1990-1995\",\"1990-1995\",\"1990-1995\",\"1990-1995\",\"1990-1995\",\"1995-2000\",\"1995-2000\",\"1995-2000\",\"1995-2000\",\"1995-2000\",\"1995-2000\",\"1995-2000\",\"1995-2000\",\"1995-2000\",\"1995-2000\",\"1995-2000\",\"1995-2000\",\"1995-2000\",\"1995-2000\",\"1995-2000\",\"1995-2000\",\"1995-2000\",\"1995-2000\",\"1995-2000\",\"1995-2000\",\"1995-2000\",\"1995-2000\",\"1995-2000\",\"1995-2000\",\"1995-2000\",\"1995-2000\",\"1995-2000\",\"1995-2000\",\"1995-2000\",\"1995-2000\",\"1995-2000\",\"1995-2000\",\"1995-2000\",\"1995-2000\",\"1995-2000\",\"1995-2000\",\"1995-2000\",\"1995-2000\",\"1995-2000\",\"1995-2000\",\"1995-2000\",\"1995-2000\",\"1995-2000\",\"1995-2000\",\"1995-2000\",\"1995-2000\",\"1995-2000\",\"1995-2000\",\"1995-2000\",\"1995-2000\",\"2000-2005\",\"2000-2005\",\"2000-2005\",\"2000-2005\",\"2000-2005\",\"2000-2005\",\"2000-2005\",\"2000-2005\",\"2000-2005\",\"2000-2005\",\"2000-2005\",\"2000-2005\",\"2000-2005\",\"2000-2005\",\"2000-2005\",\"2000-2005\",\"2000-2005\",\"2000-2005\",\"2000-2005\",\"2000-2005\",\"2000-2005\",\"2000-2005\",\"2000-2005\",\"2000-2005\",\"2000-2005\",\"2000-2005\",\"2000-2005\",\"2000-2005\",\"2000-2005\",\"2000-2005\",\"2000-2005\",\"2000-2005\",\"2000-2005\",\"2000-2005\",\"2000-2005\",\"2000-2005\",\"2000-2005\",\"2000-2005\",\"2000-2005\",\"2000-2005\",\"2000-2005\",\"2000-2005\",\"2000-2005\",\"2000-2005\",\"2000-2005\",\"2000-2005\",\"2000-2005\",\"2000-2005\",\"2000-2005\",\"2000-2005\",\"2005-2010\",\"2005-2010\",\"2005-2010\",\"2005-2010\",\"2005-2010\",\"2005-2010\",\"2005-2010\",\"2005-2010\",\"2005-2010\",\"2005-2010\",\"2005-2010\",\"2005-2010\",\"2005-2010\",\"2005-2010\",\"2005-2010\",\"2005-2010\",\"2005-2010\",\"2005-2010\",\"2005-2010\",\"2005-2010\",\"2005-2010\",\"2005-2010\",\"2005-2010\",\"2005-2010\",\"2005-2010\",\"2005-2010\",\"2005-2010\",\"2005-2010\",\"2005-2010\",\"2005-2010\",\"2005-2010\",\"2005-2010\",\"2005-2010\",\"2005-2010\",\"2005-2010\",\"2005-2010\",\"2005-2010\",\"2005-2010\",\"2005-2010\",\"2005-2010\",\"2005-2010\",\"2005-2010\",\"2005-2010\",\"2005-2010\",\"2005-2010\",\"2005-2010\",\"2005-2010\",\"2005-2010\",\"2005-2010\",\"2005-2010\",\"2010-2015\",\"2010-2015\",\"2010-2015\",\"2010-2015\",\"2010-2015\",\"2010-2015\",\"2010-2015\",\"2010-2015\",\"2010-2015\",\"2010-2015\",\"2010-2015\",\"2010-2015\",\"2010-2015\",\"2010-2015\",\"2010-2015\",\"2010-2015\",\"2010-2015\",\"2010-2015\",\"2010-2015\",\"2010-2015\",\"2010-2015\",\"2010-2015\",\"2010-2015\",\"2010-2015\",\"2010-2015\",\"2010-2015\",\"2010-2015\",\"2010-2015\",\"2010-2015\",\"2010-2015\",\"2010-2015\",\"2010-2015\",\"2010-2015\",\"2010-2015\",\"2010-2015\",\"2010-2015\",\"2010-2015\",\"2010-2015\",\"2010-2015\",\"2010-2015\",\"2010-2015\",\"2010-2015\",\"2010-2015\",\"2010-2015\",\"2010-2015\",\"2010-2015\",\"2010-2015\",\"2010-2015\",\"2010-2015\",\"2010-2015\",\"1990-1995\",\"1990-1995\",\"1990-1995\",\"1990-1995\",\"1990-1995\",\"1990-1995\",\"1990-1995\",\"1990-1995\",\"1990-1995\",\"1990-1995\",\"1990-1995\",\"1990-1995\",\"1990-1995\",\"1990-1995\",\"1990-1995\",\"1990-1995\",\"1990-1995\",\"1990-1995\",\"1990-1995\",\"1990-1995\",\"1990-1995\",\"1990-1995\",\"1990-1995\",\"1990-1995\",\"1990-1995\",\"1990-1995\",\"1990-1995\",\"1990-1995\",\"1990-1995\",\"1990-1995\",\"1990-1995\",\"1990-1995\",\"1990-1995\",\"1990-1995\",\"1990-1995\",\"1990-1995\",\"1990-1995\",\"1990-1995\",\"1990-1995\",\"1990-1995\",\"1990-1995\",\"1990-1995\",\"1990-1995\",\"1990-1995\",\"1990-1995\",\"1990-1995\",\"1990-1995\",\"1990-1995\",\"1990-1995\",\"1990-1995\",\"1995-2000\",\"1995-2000\",\"1995-2000\",\"1995-2000\",\"1995-2000\",\"1995-2000\",\"1995-2000\",\"1995-2000\",\"1995-2000\",\"1995-2000\",\"1995-2000\",\"1995-2000\",\"1995-2000\",\"1995-2000\",\"1995-2000\",\"1995-2000\",\"1995-2000\",\"1995-2000\",\"1995-2000\",\"1995-2000\",\"1995-2000\",\"1995-2000\",\"1995-2000\",\"1995-2000\",\"1995-2000\",\"1995-2000\",\"1995-2000\",\"1995-2000\",\"1995-2000\",\"1995-2000\",\"1995-2000\",\"1995-2000\",\"1995-2000\",\"1995-2000\",\"1995-2000\",\"1995-2000\",\"1995-2000\",\"1995-2000\",\"1995-2000\",\"1995-2000\",\"1995-2000\",\"1995-2000\",\"1995-2000\",\"1995-2000\",\"1995-2000\",\"1995-2000\",\"1995-2000\",\"1995-2000\",\"1995-2000\",\"1995-2000\",\"2000-2005\",\"2000-2005\",\"2000-2005\",\"2000-2005\",\"2000-2005\",\"2000-2005\",\"2000-2005\",\"2000-2005\",\"2000-2005\",\"2000-2005\",\"2000-2005\",\"2000-2005\",\"2000-2005\",\"2000-2005\",\"2000-2005\",\"2000-2005\",\"2000-2005\",\"2000-2005\",\"2000-2005\",\"2000-2005\",\"2000-2005\",\"2000-2005\",\"2000-2005\",\"2000-2005\",\"2000-2005\",\"2000-2005\",\"2000-2005\",\"2000-2005\",\"2000-2005\",\"2000-2005\",\"2000-2005\",\"2000-2005\",\"2000-2005\",\"2000-2005\",\"2000-2005\",\"2000-2005\",\"2000-2005\",\"2000-2005\",\"2000-2005\",\"2000-2005\",\"2000-2005\",\"2000-2005\",\"2000-2005\",\"2000-2005\",\"2000-2005\",\"2000-2005\",\"2000-2005\",\"2000-2005\",\"2000-2005\",\"2000-2005\",\"2005-2010\",\"2005-2010\",\"2005-2010\",\"2005-2010\",\"2005-2010\",\"2005-2010\",\"2005-2010\",\"2005-2010\",\"2005-2010\",\"2005-2010\",\"2005-2010\",\"2005-2010\",\"2005-2010\",\"2005-2010\",\"2005-2010\",\"2005-2010\",\"2005-2010\",\"2005-2010\",\"2005-2010\",\"2005-2010\",\"2005-2010\",\"2005-2010\",\"2005-2010\",\"2005-2010\",\"2005-2010\",\"2005-2010\",\"2005-2010\",\"2005-2010\",\"2005-2010\",\"2005-2010\",\"2005-2010\",\"2005-2010\",\"2005-2010\",\"2005-2010\",\"2005-2010\",\"2005-2010\",\"2005-2010\",\"2005-2010\",\"2005-2010\",\"2005-2010\",\"2005-2010\",\"2005-2010\",\"2005-2010\",\"2005-2010\",\"2005-2010\",\"2005-2010\",\"2005-2010\",\"2005-2010\",\"2005-2010\",\"2005-2010\",\"2010-2015\",\"2010-2015\",\"2010-2015\",\"2010-2015\",\"2010-2015\",\"2010-2015\",\"2010-2015\",\"2010-2015\",\"2010-2015\",\"2010-2015\",\"2010-2015\",\"2010-2015\",\"2010-2015\",\"2010-2015\",\"2010-2015\",\"2010-2015\",\"2010-2015\",\"2010-2015\",\"2010-2015\",\"2010-2015\",\"2010-2015\",\"2010-2015\",\"2010-2015\",\"2010-2015\",\"2010-2015\",\"2010-2015\",\"2010-2015\",\"2010-2015\",\"2010-2015\",\"2010-2015\",\"2010-2015\",\"2010-2015\",\"2010-2015\",\"2010-2015\",\"2010-2015\",\"2010-2015\",\"2010-2015\",\"2010-2015\",\"2010-2015\",\"2010-2015\",\"2010-2015\",\"2010-2015\",\"2010-2015\",\"2010-2015\",\"2010-2015\",\"2010-2015\",\"2010-2015\",\"2010-2015\",\"2010-2015\",\"2010-2015\"],\"x0\":\" \",\"xaxis\":\"x2\",\"y\":[-2.181212362973948,-3.993775734500096,-4.160493642238464,-2.2735700357489734,-1.7755400024188472,3.2241791281447294,1.93468530250001,1.85091151395203,0.6008018990017168,4.999505864850363,1.9985500858759677,21.1553280299892,2.929734523895564,17.537585026805324,-4.118440213309698,0.5691020283694297,5.956824734640602,-3.2240113932631154,5.939410749111392,6.198481631790483,8.52561171524638,1.6889743724886102,12.01079592588578,4.299811698438451,1.1701069064545566,3.2244870952249753,-1.4986570858453512,-7.580875749389744,15.125065374566745,9.465857792995802,-10.517371094729548,-0.34951497488623195,1.0413443688876318,-0.9384837144935227,3.465158881052503,6.928687059050495,-3.893891315019704,17.38231505406023,1.8639601950960927,5.866269261346839,-3.0602787526734834,2.995349566532692,11.47760216821344,3.0993056596297652,0.49110340320065005,-0.4606421139520003,3.0216269812722176,0.8823297938797815,6.673762765800137,2.7692585859908387,-2.448549998062668,-5.399563728607164,-3.037325988026054,-4.495247848262844,-1.4719919163579491,2.7758125779982286,1.7639238575818215,1.3628908094034302,0.5832788671955583,3.996339821168894,2.0029519707218975,13.570713592553732,2.5548926783077897,9.198063736672895,-5.192520775728266,-1.3886034668304121,6.187350417799588,-2.963164255220889,8.559320154391278,6.198016016822162,8.808952577894956,1.689871682448205,2.035528030141675,1.1927108712319545,1.1054166919211827,2.7760800896155575,-1.6201186189221637,-0.9327729215891783,7.618547095345021,0.7862530437881419,2.615309395847994,-0.35024915463126494,-1.0683515098324803,-0.9846988004563916,3.0039730147855375,5.135877292772356,-4.839898685864788,1.0798139188466787,0.6491482123707778,4.530144524922604,4.02773802822269,2.6046267418366664,2.8922831204161925,-0.10956956581268798,0.5418540330128858,-0.47150229606759286,0.040002827725380156,1.0380619130279187,5.872667548099391,0.9973138537926717,1.5518450058016466,-4.3827740036264755,-1.2991749694406807,-0.5049057501380879,-1.1105776635617979,5.799893881496625,0.3867248399449997,2.967715565123674,2.054242465541944,3.537786300954162,6.706103238532292,13.747531267954887,0.44061205731980413,-4.954366056568576,-0.18828925320720688,-1.4912739672261695,5.979959278548637,-3.3187590001346736,-4.2290927953449815,4.709685548277279,10.846438484689616,1.2504071396266785,-1.83907881408247,2.7941964920774924,3.328012571533882,4.51644454006606,-1.5821245748912964,-1.749759068893966,10.168470175014921,-1.1007266763697867,-5.533598725698628,-0.30430675690247416,-6.76392952973485,-1.609099120722142,10.469731176784066,7.61214028041801,-1.7980336963216146,-9.197891694973608,0.40841750155753714,3.749905778762962,3.351007384793255,1.7634685136343322,1.3201583217972113,11.711554805349522,4.22614496063117,-0.6338440364301774,1.0334701194233042,0.5888128468858933,5.8685853247251725,3.5158034920852668,1.4400498064302987,-6.024933486100627,-0.16412669354424098,-1.4674121841023993,-1.7142671457330536,4.4905947630537675,0.4269424110115725,2.6265239512448586,1.8623072455337446,1.1696898498015262,6.724464342683027,12.766225699388716,0.43131281439805264,-6.600632422750598,1.065692491025562,0.7836212648620411,6.685680713580419,-1.6595168360909591,-4.209633836908358,4.7096905638948225,7.979213470655363,-0.5442879348147895,3.528378780494305,3.160624230155081,2.852412555738796,3.681654203684221,-1.7181151729406368,1.4461325951833728,9.820747639614492,-3.2116809684083565,4.349891168948975,-0.2889774424889962,-15.00326068880613,-1.7499037480631408,9.75053261932763,9.448982134659243,-1.844518584246748,-2.484332398527961,0.6366175188000194,3.156597657081551,6.781653919283912,1.620498520512469,4.063105394022997,16.25784183459869,5.194191372800129,-0.6545912682994507,12.797920498699986,0.7118129651564891,16.039760328806988,10.266627045734397,1.2335991246143023,-2.4927319353326847,-0.22364213501661337,-0.16157708359537953,-0.8240230521405085,2.809677939866768,0.4180185860710233,1.4644573943034125,1.9256112512447414,-0.8644083021692724,1.8528129485454656,7.346696967871609,0.4222072980596312,-2.0574750390565226,1.478295487059123,0.9755785049359013,0.8800314952502046,-0.829923640052642,0.3104274125764099,3.225402658869843,3.8741363709483654,-0.27318571141003356,3.2885731990745777,26.379879508768266,1.1166079329746341,1.0797791127335121,-0.7308203226469562,-0.2561341250514989,4.910197710856431,-2.203962470166502,-1.6527635355796495,-0.13030368631266642,-2.947573253736049,-0.935969521373892,1.359737542154937,0.8586806560557954,-1.527790625622443,22.069349843737523,0.6169769935774388,2.6709198095821303,8.524095255429085,17.793740778411973,16.310749613111597,2.9470907977554543,3.7843455266797554,-0.19667603418849752,-12.825803597463302,15.484105442213064,2.0222981909694235,3.7120136111522135,-2.1812173497339513,-3.9937712412851543,-4.270499922653489,-2.425337146877905,-1.9166814804570613,2.999934514033005,0.8792913451001894,1.4565595439959482,0.19339301023575256,4.094512122842174,2.9328671493365883,21.449170579863857,2.6691943148773962,17.31604834756018,-3.643386366895059,0.654922086962059,5.526386271400672,-3.2420827032136708,5.5798024633550085,5.548233919979623,8.159142532094258,1.3594725128114915,12.311874236785966,3.6645444373451332,1.169772109561853,3.2239816630149067,-1.6247281870728179,-7.293678993770255,13.201075477496316,10.88581544042796,-10.29226992852094,-0.636764401375412,1.0414031264050427,-1.0865326672735578,3.2280325331748543,5.986846248353269,-4.016025033988714,14.44958093173146,1.4884823033429677,5.824134134139949,-2.0373685647756523,2.957037418818703,10.864870860786198,3.561683617509935,0.5436153376271461,-0.5795459041559408,3.005572519641897,0.5672528431633693,6.807272092234569,2.994215913760943,-2.4485411534892245,-5.399544067975937,-2.903985692348964,-4.655803732556235,-1.6433714433150757,2.6080912774577545,0.8422398839169651,1.0762461386358408,0.19154086274095541,3.397009496739252,2.844159277516713,14.09687919646868,2.354173972990576,9.139459088126877,-4.458304741752219,-1.0691431402500169,5.743170714498821,-3.29468231158791,8.185789770472073,5.526341298526324,8.36701978615528,1.347638897119296,3.0465908288498205,1.828172669103746,1.105141398534962,2.7764690319543153,-1.7684790978581393,-0.5190901537899376,9.559287860113054,2.1693097805262624,2.8491216562509654,-0.6431364713553794,-1.068404915213483,-1.14911017491709,2.732794096732288,4.601499740158706,-5.03018015996353,0.9595311824420898,0.5554137648719789,4.505047683525216,5.054508001533358,2.575678844591041,3.1392363180494787,0.3138535669579775,0.5842890561852784,-0.5968420178369478,0.16560298346045282,0.7296678058943811,5.873985368179417,0.46806405260547057,2.171288571203612,-4.571879902900013,-1.5892788501279256,0.050484186870026385,-0.5418627721528504,8.046073093531039,-0.6721860505050541,3.5115666315592784,2.155766741579957,2.9694964566567403,10.135718477678957,13.699687702921565,0.5347245306957323,-4.392988511668518,1.528685388019135,-1.1277104393130477,6.6798922153514475,-3.1700033980571454,-3.929630427717902,4.639547468912779,10.338769763598455,1.8257493687888444,-1.0757938713298314,2.7947517811444174,3.3816200919310693,4.457984933301974,-1.6254442680557486,-3.2872921729588596,11.938552369041568,-0.5663863854094923,-5.505769028367662,-0.6034323141457623,-6.89361373657659,-0.8428101553760957,11.141240062138642,7.447441563924971,-1.7952088117090517,-7.966945741906213,0.32746269332621464,3.7153643458612615,3.750461376196927,1.9932678114302353,1.5536955407935917,11.948964348110616,4.790361718651833,-0.808379480703445,1.0428990395795825,0.09493558023773203,6.137656808712836,4.217430126890355,1.95846667958233,-6.340610356990814,-0.208196327386597,-0.8230083480949437,-1.0825980149252012,5.721951795476528,-0.6445045955153917,2.3176692664096477,1.9449252424004126,0.7497359501101432,8.997419161014435,12.287267183240584,0.5207995091717113,-5.637249492186689,1.101592621684236,0.7840623703225241,7.3420725722022615,-1.3629807934125011,-4.1802276271396,4.639295043541962,8.0540594168291,2.862733449012465,2.9062466328791436,3.160331639747057,2.8916928963302175,3.6426639576626076,-1.769327617085172,2.167130997857689,11.44676638150257,-4.3192992845251865,3.8813739410159345,-0.5941596616837244,-15.014700570036169,-0.8797406846757191,10.002561985381524,9.795378462553769,-1.8413320823048938,-2.0604758378549337,0.5129971021707415,3.132106545460113,7.096228439781011,1.8125394468108804,4.430820624616082,17.68157171140572,5.664651297069401,-0.8422602695021976,12.7158906437337,0.22562730355533503,16.550395027054346,9.054500601661191,1.5751300997137299,-2.6557341510505217,-0.2558670291981894,0.20272187531180924,-0.4581253148777209,3.4219600436622493,-0.4865871518057884,1.2297856413496564,2.045551458384196,-0.8643905954045048,1.5806419233522586,6.992550724904903,0.5075813746992942,-1.697819652701212,1.6392471448301975,0.9768924551366316,1.2464985012112855,-0.6836055857190647,0.3399005177172987,3.2018715628338628,3.828041835638811,-0.18091202581666785,3.178971625731603,24.191601875744073,1.147282320155763,1.0695774723784826,-0.7540108079116249,-1.6779967960179325,6.413537374762932,-3.280110723617264,-2.245477291026159,-0.43871907397268717,-3.0836777284418226,-0.4548206245825777,1.3432592439248487,1.110030581585291,-1.5031277289957936,20.867624498008837,0.5001672001554353,2.481438479801226,7.31498887918057,16.185661792216738,16.395684635623727,3.206169080462634,3.1304477690618624,-0.2546486085030419,-12.802490749161066,17.670660597271834,2.0227263260713912,3.0754773420852457,-2.1812081086959574,-3.993778960890388,-4.074958989536635,-2.15619561043027,-1.6663326196693256,3.454960773576092,2.9645124395415836,2.194277120204464,1.0162286170670023,5.897962554557461,0.981864807908445,20.77056256767055,3.272444004022907,17.75435620384247,-4.592849118583368,0.47708520248775765,6.543790075511864,-3.2026926992206177,6.334142563334301,6.770340142573734,8.941086460663715,2.009280003983448,11.649062690284854,5.094004286351655,1.1721880820191684,3.2267174869546236,-1.361668104143994,-7.971968953629334,17.24821900863967,8.846619405934389,-10.769982359953637,0.015431249043291377,1.0413034266060484,-0.8239672179093697,4.030190530961714,7.719383539711395,-3.799311998596521,22.20469045754424,2.1938626270360246,5.9103110369565375,-4.769636079787997,3.0354032739306644,13.724795495202684,1.7969942315143417,0.38636749515553687,-0.3606517462832564,3.038310487631756,1.1877803158501778,6.337592079932171,2.474745690026355,-2.448557543499156,-5.399577846101286,-3.1411117157271295,-4.372778605141152,-1.3412070075159406,2.9450392549410407,2.5812889273056463,1.6046977495662758,0.9670798446984291,4.548966434347017,0.9964069732709928,12.847734343828158,2.812003149940774,9.25461973439842,-5.9723104466368495,-1.7384619251368478,6.762979177370308,-2.579384076504261,8.954020705678762,6.753634710728289,9.289086595026461,2.0118023848756583,0.7268266421652607,0.39826622190719607,1.1071277914801356,2.7743637761647526,-1.4611922949722809,-1.5202595484216344,5.474919689452305,0.11817819646086998,2.34641184575987,0.009913805176419474,-1.0683142969150552,-0.8592700721332216,3.6233686580502624,5.555352703586382,-4.6945668693424665,1.2418413045005077,0.7297135097911708,4.556287054217564,2.0474057665304137,2.6347866938299664,2.0248964576302737,-1.4108672545579815,0.45661162884596956,-0.36727484475414923,-0.09125191846390449,1.3280607632568133,5.869309716490973,1.6783308827553085,1.007786086131727,-4.248079219660942,-1.0749308436481246,-0.9360695944225071,-1.5523402725064008,3.2677719506968526,1.2437995987373798,2.5033971589246686,1.9561972252988884,4.033551966322867,1.363742573900883,13.815162390671256,0.32079132831945345,-5.509858100029401,-2.270603120881204,-1.9040850642270921,5.059182669192114,-3.4892691326808367,-4.544315321580187,4.765773515777803,11.371682969945192,0.7029534566330092,-2.9358969613985044,2.793476972762125,2.9915679416354912,4.77240539145589,-1.5361775290064767,0.2968553971514761,7.765507914596907,-1.377948520715103,-5.566058202627909,0.05169240415117792,-6.674060214781914,-2.209665493521796,8.882884379365583,7.737465608894451,-1.8001735015965779,-10.972566091901461,0.4774368185940235,3.785777157003735,2.4937139346833908,1.521565234166835,0.4531939153208898,10.930048806771964,3.038363978184458,-0.4906795229320294,1.0235484277831544,1.0357017137041842,5.166077823420596,2.6038445866880817,0.9594312724722104,-5.804865138217603,-0.13056235284571133,-1.9954241802767652,-2.2321558120126275,2.808143216882083,1.2160442469975778,2.893078572572434,1.7817936472959781,1.5196311891848044,1.396606847479355,13.422421479882834,0.3161830557081123,-7.63099113423213,1.0177078671025792,0.7831105777096251,5.7499740365482594,-2.007709481373258,-4.2411149012079115,4.765630080878761,7.903465581955568,-4.556004788572561,4.42993326151337,3.1610033617403084,2.6016577319321117,3.8501575831030124,-1.6640602073811652,0.5319057910009013,7.089255387897728,-2.6491972932551104,4.883629489242193,0.06251204606650777,-14.99538022236083,-2.484472203592652,9.105968090802191,9.183264313460654,-1.8469329465542095,-3.161580999720786,0.7410208292996756,3.18195539384927,6.066803001070771,1.4138955729901541,2.594226669249575,10.526727122539887,4.11864854365758,-0.5031607933787418,12.883917132792497,1.1318905323727315,14.605949706255123,11.798149380743679,0.9034656863325043,-2.3813765891089305,-0.19918127041916658,-0.47419791840142017,-1.1380489729963341,1.874300817421527,1.0302956539850243,1.6619509205719398,1.8075480261272092,-0.8644227756080574,2.606545388885908,7.808797238452267,0.31126216371240334,-2.4696744403955093,1.2606639761372909,0.9740571430851594,0.323706346374549,-1.005935040097557,0.27877834283954095,3.2440229494242683,3.9208538126822803,-0.40477307299299026,3.4404748272393766,28.90006681307013,0.9182329638265995,1.1235801728762154,-0.7064360123668616,1.4793497396027986,1.7466044891271009,-1.7001092158325706,-1.0142089151483626,0.21347477082373006,-2.8543972445591574,-1.3685300774421645,1.4027735461961797,0.6606877466444151,-1.5465002069963592,23.89873932111854,0.7145433340431306,2.864991743749564,11.088298619013374,19.405924120324897,15.951488287242876,1.6463818703255317,5.257570172992514,-0.15041350384294028,-12.85017038215384,13.43054535709413,2.0210358594935687,4.437871995976847],\"y0\":\" \",\"yaxis\":\"y2\",\"type\":\"box\"},{\"alignmentgroup\":\"True\",\"hovertemplate\":\"continent=Europe<br>year=%{x}<br>Annual Rate of Change of Migrant Stock=%{y}<extra></extra>\",\"legendgroup\":\"\",\"marker\":{\"color\":\"#F8766D\"},\"name\":\"\",\"notched\":false,\"offsetgroup\":\"\",\"orientation\":\"v\",\"showlegend\":false,\"x\":[\"1990-1995\",\"1990-1995\",\"1990-1995\",\"1990-1995\",\"1990-1995\",\"1990-1995\",\"1990-1995\",\"1990-1995\",\"1990-1995\",\"1990-1995\",\"1990-1995\",\"1990-1995\",\"1990-1995\",\"1990-1995\",\"1990-1995\",\"1990-1995\",\"1990-1995\",\"1990-1995\",\"1990-1995\",\"1990-1995\",\"1990-1995\",\"1990-1995\",\"1990-1995\",\"1990-1995\",\"1990-1995\",\"1990-1995\",\"1990-1995\",\"1990-1995\",\"1990-1995\",\"1990-1995\",\"1990-1995\",\"1990-1995\",\"1990-1995\",\"1990-1995\",\"1990-1995\",\"1990-1995\",\"1990-1995\",\"1990-1995\",\"1990-1995\",\"1990-1995\",\"1990-1995\",\"1990-1995\",\"1990-1995\",\"1990-1995\",\"1990-1995\",\"1990-1995\",\"1990-1995\",\"1990-1995\",\"1995-2000\",\"1995-2000\",\"1995-2000\",\"1995-2000\",\"1995-2000\",\"1995-2000\",\"1995-2000\",\"1995-2000\",\"1995-2000\",\"1995-2000\",\"1995-2000\",\"1995-2000\",\"1995-2000\",\"1995-2000\",\"1995-2000\",\"1995-2000\",\"1995-2000\",\"1995-2000\",\"1995-2000\",\"1995-2000\",\"1995-2000\",\"1995-2000\",\"1995-2000\",\"1995-2000\",\"1995-2000\",\"1995-2000\",\"1995-2000\",\"1995-2000\",\"1995-2000\",\"1995-2000\",\"1995-2000\",\"1995-2000\",\"1995-2000\",\"1995-2000\",\"1995-2000\",\"1995-2000\",\"1995-2000\",\"1995-2000\",\"1995-2000\",\"1995-2000\",\"1995-2000\",\"1995-2000\",\"1995-2000\",\"1995-2000\",\"1995-2000\",\"1995-2000\",\"1995-2000\",\"1995-2000\",\"2000-2005\",\"2000-2005\",\"2000-2005\",\"2000-2005\",\"2000-2005\",\"2000-2005\",\"2000-2005\",\"2000-2005\",\"2000-2005\",\"2000-2005\",\"2000-2005\",\"2000-2005\",\"2000-2005\",\"2000-2005\",\"2000-2005\",\"2000-2005\",\"2000-2005\",\"2000-2005\",\"2000-2005\",\"2000-2005\",\"2000-2005\",\"2000-2005\",\"2000-2005\",\"2000-2005\",\"2000-2005\",\"2000-2005\",\"2000-2005\",\"2000-2005\",\"2000-2005\",\"2000-2005\",\"2000-2005\",\"2000-2005\",\"2000-2005\",\"2000-2005\",\"2000-2005\",\"2000-2005\",\"2000-2005\",\"2000-2005\",\"2000-2005\",\"2000-2005\",\"2000-2005\",\"2000-2005\",\"2000-2005\",\"2000-2005\",\"2000-2005\",\"2000-2005\",\"2000-2005\",\"2000-2005\",\"2005-2010\",\"2005-2010\",\"2005-2010\",\"2005-2010\",\"2005-2010\",\"2005-2010\",\"2005-2010\",\"2005-2010\",\"2005-2010\",\"2005-2010\",\"2005-2010\",\"2005-2010\",\"2005-2010\",\"2005-2010\",\"2005-2010\",\"2005-2010\",\"2005-2010\",\"2005-2010\",\"2005-2010\",\"2005-2010\",\"2005-2010\",\"2005-2010\",\"2005-2010\",\"2005-2010\",\"2005-2010\",\"2005-2010\",\"2005-2010\",\"2005-2010\",\"2005-2010\",\"2005-2010\",\"2005-2010\",\"2005-2010\",\"2005-2010\",\"2005-2010\",\"2005-2010\",\"2005-2010\",\"2005-2010\",\"2005-2010\",\"2005-2010\",\"2005-2010\",\"2005-2010\",\"2005-2010\",\"2005-2010\",\"2005-2010\",\"2005-2010\",\"2005-2010\",\"2005-2010\",\"2005-2010\",\"2010-2015\",\"2010-2015\",\"2010-2015\",\"2010-2015\",\"2010-2015\",\"2010-2015\",\"2010-2015\",\"2010-2015\",\"2010-2015\",\"2010-2015\",\"2010-2015\",\"2010-2015\",\"2010-2015\",\"2010-2015\",\"2010-2015\",\"2010-2015\",\"2010-2015\",\"2010-2015\",\"2010-2015\",\"2010-2015\",\"2010-2015\",\"2010-2015\",\"2010-2015\",\"2010-2015\",\"2010-2015\",\"2010-2015\",\"2010-2015\",\"2010-2015\",\"2010-2015\",\"2010-2015\",\"2010-2015\",\"2010-2015\",\"2010-2015\",\"2010-2015\",\"2010-2015\",\"2010-2015\",\"2010-2015\",\"2010-2015\",\"2010-2015\",\"2010-2015\",\"2010-2015\",\"2010-2015\",\"2010-2015\",\"2010-2015\",\"2010-2015\",\"2010-2015\",\"2010-2015\",\"2010-2015\",\"1990-1995\",\"1990-1995\",\"1990-1995\",\"1990-1995\",\"1990-1995\",\"1990-1995\",\"1990-1995\",\"1990-1995\",\"1990-1995\",\"1990-1995\",\"1990-1995\",\"1990-1995\",\"1990-1995\",\"1990-1995\",\"1990-1995\",\"1990-1995\",\"1990-1995\",\"1990-1995\",\"1990-1995\",\"1990-1995\",\"1990-1995\",\"1990-1995\",\"1990-1995\",\"1990-1995\",\"1990-1995\",\"1990-1995\",\"1990-1995\",\"1990-1995\",\"1990-1995\",\"1990-1995\",\"1990-1995\",\"1990-1995\",\"1990-1995\",\"1990-1995\",\"1990-1995\",\"1990-1995\",\"1990-1995\",\"1990-1995\",\"1990-1995\",\"1990-1995\",\"1990-1995\",\"1990-1995\",\"1990-1995\",\"1990-1995\",\"1990-1995\",\"1990-1995\",\"1990-1995\",\"1990-1995\",\"1995-2000\",\"1995-2000\",\"1995-2000\",\"1995-2000\",\"1995-2000\",\"1995-2000\",\"1995-2000\",\"1995-2000\",\"1995-2000\",\"1995-2000\",\"1995-2000\",\"1995-2000\",\"1995-2000\",\"1995-2000\",\"1995-2000\",\"1995-2000\",\"1995-2000\",\"1995-2000\",\"1995-2000\",\"1995-2000\",\"1995-2000\",\"1995-2000\",\"1995-2000\",\"1995-2000\",\"1995-2000\",\"1995-2000\",\"1995-2000\",\"1995-2000\",\"1995-2000\",\"1995-2000\",\"1995-2000\",\"1995-2000\",\"1995-2000\",\"1995-2000\",\"1995-2000\",\"1995-2000\",\"1995-2000\",\"1995-2000\",\"1995-2000\",\"1995-2000\",\"1995-2000\",\"1995-2000\",\"1995-2000\",\"1995-2000\",\"1995-2000\",\"1995-2000\",\"1995-2000\",\"1995-2000\",\"2000-2005\",\"2000-2005\",\"2000-2005\",\"2000-2005\",\"2000-2005\",\"2000-2005\",\"2000-2005\",\"2000-2005\",\"2000-2005\",\"2000-2005\",\"2000-2005\",\"2000-2005\",\"2000-2005\",\"2000-2005\",\"2000-2005\",\"2000-2005\",\"2000-2005\",\"2000-2005\",\"2000-2005\",\"2000-2005\",\"2000-2005\",\"2000-2005\",\"2000-2005\",\"2000-2005\",\"2000-2005\",\"2000-2005\",\"2000-2005\",\"2000-2005\",\"2000-2005\",\"2000-2005\",\"2000-2005\",\"2000-2005\",\"2000-2005\",\"2000-2005\",\"2000-2005\",\"2000-2005\",\"2000-2005\",\"2000-2005\",\"2000-2005\",\"2000-2005\",\"2000-2005\",\"2000-2005\",\"2000-2005\",\"2000-2005\",\"2000-2005\",\"2000-2005\",\"2000-2005\",\"2000-2005\",\"2005-2010\",\"2005-2010\",\"2005-2010\",\"2005-2010\",\"2005-2010\",\"2005-2010\",\"2005-2010\",\"2005-2010\",\"2005-2010\",\"2005-2010\",\"2005-2010\",\"2005-2010\",\"2005-2010\",\"2005-2010\",\"2005-2010\",\"2005-2010\",\"2005-2010\",\"2005-2010\",\"2005-2010\",\"2005-2010\",\"2005-2010\",\"2005-2010\",\"2005-2010\",\"2005-2010\",\"2005-2010\",\"2005-2010\",\"2005-2010\",\"2005-2010\",\"2005-2010\",\"2005-2010\",\"2005-2010\",\"2005-2010\",\"2005-2010\",\"2005-2010\",\"2005-2010\",\"2005-2010\",\"2005-2010\",\"2005-2010\",\"2005-2010\",\"2005-2010\",\"2005-2010\",\"2005-2010\",\"2005-2010\",\"2005-2010\",\"2005-2010\",\"2005-2010\",\"2005-2010\",\"2005-2010\",\"2010-2015\",\"2010-2015\",\"2010-2015\",\"2010-2015\",\"2010-2015\",\"2010-2015\",\"2010-2015\",\"2010-2015\",\"2010-2015\",\"2010-2015\",\"2010-2015\",\"2010-2015\",\"2010-2015\",\"2010-2015\",\"2010-2015\",\"2010-2015\",\"2010-2015\",\"2010-2015\",\"2010-2015\",\"2010-2015\",\"2010-2015\",\"2010-2015\",\"2010-2015\",\"2010-2015\",\"2010-2015\",\"2010-2015\",\"2010-2015\",\"2010-2015\",\"2010-2015\",\"2010-2015\",\"2010-2015\",\"2010-2015\",\"2010-2015\",\"2010-2015\",\"2010-2015\",\"2010-2015\",\"2010-2015\",\"2010-2015\",\"2010-2015\",\"2010-2015\",\"2010-2015\",\"2010-2015\",\"2010-2015\",\"2010-2015\",\"2010-2015\",\"2010-2015\",\"2010-2015\",\"2010-2015\",\"1990-1995\",\"1990-1995\",\"1990-1995\",\"1990-1995\",\"1990-1995\",\"1990-1995\",\"1990-1995\",\"1990-1995\",\"1990-1995\",\"1990-1995\",\"1990-1995\",\"1990-1995\",\"1990-1995\",\"1990-1995\",\"1990-1995\",\"1990-1995\",\"1990-1995\",\"1990-1995\",\"1990-1995\",\"1990-1995\",\"1990-1995\",\"1990-1995\",\"1990-1995\",\"1990-1995\",\"1990-1995\",\"1990-1995\",\"1990-1995\",\"1990-1995\",\"1990-1995\",\"1990-1995\",\"1990-1995\",\"1990-1995\",\"1990-1995\",\"1990-1995\",\"1990-1995\",\"1990-1995\",\"1990-1995\",\"1990-1995\",\"1990-1995\",\"1990-1995\",\"1990-1995\",\"1990-1995\",\"1990-1995\",\"1990-1995\",\"1990-1995\",\"1990-1995\",\"1990-1995\",\"1990-1995\",\"1995-2000\",\"1995-2000\",\"1995-2000\",\"1995-2000\",\"1995-2000\",\"1995-2000\",\"1995-2000\",\"1995-2000\",\"1995-2000\",\"1995-2000\",\"1995-2000\",\"1995-2000\",\"1995-2000\",\"1995-2000\",\"1995-2000\",\"1995-2000\",\"1995-2000\",\"1995-2000\",\"1995-2000\",\"1995-2000\",\"1995-2000\",\"1995-2000\",\"1995-2000\",\"1995-2000\",\"1995-2000\",\"1995-2000\",\"1995-2000\",\"1995-2000\",\"1995-2000\",\"1995-2000\",\"1995-2000\",\"1995-2000\",\"1995-2000\",\"1995-2000\",\"1995-2000\",\"1995-2000\",\"1995-2000\",\"1995-2000\",\"1995-2000\",\"1995-2000\",\"1995-2000\",\"1995-2000\",\"1995-2000\",\"1995-2000\",\"1995-2000\",\"1995-2000\",\"1995-2000\",\"1995-2000\",\"2000-2005\",\"2000-2005\",\"2000-2005\",\"2000-2005\",\"2000-2005\",\"2000-2005\",\"2000-2005\",\"2000-2005\",\"2000-2005\",\"2000-2005\",\"2000-2005\",\"2000-2005\",\"2000-2005\",\"2000-2005\",\"2000-2005\",\"2000-2005\",\"2000-2005\",\"2000-2005\",\"2000-2005\",\"2000-2005\",\"2000-2005\",\"2000-2005\",\"2000-2005\",\"2000-2005\",\"2000-2005\",\"2000-2005\",\"2000-2005\",\"2000-2005\",\"2000-2005\",\"2000-2005\",\"2000-2005\",\"2000-2005\",\"2000-2005\",\"2000-2005\",\"2000-2005\",\"2000-2005\",\"2000-2005\",\"2000-2005\",\"2000-2005\",\"2000-2005\",\"2000-2005\",\"2000-2005\",\"2000-2005\",\"2000-2005\",\"2000-2005\",\"2000-2005\",\"2000-2005\",\"2000-2005\",\"2005-2010\",\"2005-2010\",\"2005-2010\",\"2005-2010\",\"2005-2010\",\"2005-2010\",\"2005-2010\",\"2005-2010\",\"2005-2010\",\"2005-2010\",\"2005-2010\",\"2005-2010\",\"2005-2010\",\"2005-2010\",\"2005-2010\",\"2005-2010\",\"2005-2010\",\"2005-2010\",\"2005-2010\",\"2005-2010\",\"2005-2010\",\"2005-2010\",\"2005-2010\",\"2005-2010\",\"2005-2010\",\"2005-2010\",\"2005-2010\",\"2005-2010\",\"2005-2010\",\"2005-2010\",\"2005-2010\",\"2005-2010\",\"2005-2010\",\"2005-2010\",\"2005-2010\",\"2005-2010\",\"2005-2010\",\"2005-2010\",\"2005-2010\",\"2005-2010\",\"2005-2010\",\"2005-2010\",\"2005-2010\",\"2005-2010\",\"2005-2010\",\"2005-2010\",\"2005-2010\",\"2005-2010\",\"2010-2015\",\"2010-2015\",\"2010-2015\",\"2010-2015\",\"2010-2015\",\"2010-2015\",\"2010-2015\",\"2010-2015\",\"2010-2015\",\"2010-2015\",\"2010-2015\",\"2010-2015\",\"2010-2015\",\"2010-2015\",\"2010-2015\",\"2010-2015\",\"2010-2015\",\"2010-2015\",\"2010-2015\",\"2010-2015\",\"2010-2015\",\"2010-2015\",\"2010-2015\",\"2010-2015\",\"2010-2015\",\"2010-2015\",\"2010-2015\",\"2010-2015\",\"2010-2015\",\"2010-2015\",\"2010-2015\",\"2010-2015\",\"2010-2015\",\"2010-2015\",\"2010-2015\",\"2010-2015\",\"2010-2015\",\"2010-2015\",\"2010-2015\",\"2010-2015\",\"2010-2015\",\"2010-2015\",\"2010-2015\",\"2010-2015\",\"2010-2015\",\"2010-2015\",\"2010-2015\",\"2010-2015\"],\"x0\":\" \",\"xaxis\":\"x3\",\"y\":[-1.0300153979995736,8.2144028677076,8.10942294130956,-1.510309037494577,-3.123106212610984,-7.865118376016538,-0.11636954953042442,0.6890442759704268,10.360706284033087,-2.208342028196125,-0.3735611427536188,5.0739946284308255,-3.8089231750925006,-7.808196301146296,9.105646628475498,5.6898922115216095,-0.09400856700594024,1.1821178016017504,-3.6555786392176555,-4.883824682054024,3.8357150392369728,3.423360275227679,2.5915484516186016,1.5560342338374407,0.816439890405104,4.31259356913234,6.9823946260099286,-0.7677946918766686,6.554318155368007,0.23241062046037578,4.34692587190655,3.253031461693038,null,4.020905827153135,2.004833932961964,36.96474429017183,-0.41511181058419955,4.327276922265631,2.7823843601270317,2.411591893817413,-0.14090439103292468,0.6365889500565265,4.581597183566869,3.985553291220246,2.054484782554763,0.677048642865789,2.596573356659946,1.206128615634853,-1.0859738024391539,5.805985409327443,5.75361125431743,-1.6338128503673826,-3.1231100829261345,-7.865122413579033,-1.2352676791675603,-0.048058659024745425,10.360991740136523,-2.208335656275457,1.2123563580370218,4.043659267391598,-4.709191723811947,4.285535422779067,6.233798252282879,4.424523720063569,8.700698432310352,1.1156170321086987,-4.476646623109028,-4.8838287785224255,4.518515315624792,1.3981420863040512,2.5915428469263833,1.4436622636157748,0.7844142630656266,3.5456151612842177,-2.8247019296030644,-0.7959675337501354,5.183698228013615,0.2043440509330983,3.5687498236063346,3.864144514680291,null,4.020940164653059,2.0058332894677045,6.141815654763567,-0.39383272748319975,9.7062481965419,2.7825981130129094,2.151842911263859,-0.7341935033594991,0.6169469751490807,3.7251921536907053,3.0230377353963527,2.0546457782318672,0.6787590987673485,2.9015183397232485,1.206129474837243,-0.29775925576930445,6.85097773133734,7.580393304620175,4.223879018410872,-2.6591541166034944,-7.078536298499319,2.6812985829503106,-0.3949723331487081,2.289558607922305,-1.8042574031221643,1.9654672488691434,3.4274532363497077,-1.3092897940311532,4.867325947912106,6.884575466007538,9.450976789993902,10.379904482342676,1.229558184209185,-2.653671964333083,-1.2616812447608459,4.220345066765489,2.293884112560105,4.508313757189562,-3.389454304445189,3.5365106821750847,-11.246879464252071,-0.20694500398003055,2.6845911915367235,1.3737671380900152,0.15189946434889537,12.45431008371689,2.641798013269877,null,3.3738515659097565,0.8375906309225571,-0.2736541030415139,2.8566989867899686,18.151342804417496,0.3161135076540515,2.6241988695714236,0.40582961832806563,1.4107591782447901,2.71313748670074,3.9862689705146885,1.4978343620152101,-0.4408633457243642,2.1864357392315372,2.784912712406756,-0.30225936634452144,4.448325999943642,4.193689975318243,3.485455843280258,-2.349845022224737,-1.9663317157858475,1.4378051165326482,-0.8274679167644048,2.2896982171255473,-0.9385991454051443,1.7894801236639521,2.9251197794139054,-1.4010434447925841,2.1220422548575053,5.111955193828284,6.391600197692639,4.305648906609423,0.9290193674402782,-3.656085068092342,-4.4871391321227465,7.550846017006563,4.143277267028593,4.98750636769882,-4.083113749831745,0.6859423080773824,-3.9540822848064447,-0.2091087237704097,2.3684432714008503,1.2854398957964441,0.15075448262853347,7.6168163921949334,5.958613571014366,null,-0.21796698026759512,0.8403232061999961,-0.4560791126435198,5.03775257508069,8.49264938567208,0.3161297983544327,2.319458943912985,3.7953365457473978,1.3177675623854177,2.3886631315513953,3.3482443757644504,1.5974831414083173,-0.1696363011181846,1.0805968309066862,2.784923858688231,-0.13754360482857997,5.831549990414525,0.36410024114078127,0.5875076032651319,-0.729630292419234,-1.9663696060220397,7.499165373035319,0.785750014218979,3.828668668928491,0.06683892599709762,1.1826721379051601,2.322937550268305,-1.480027217554974,1.5875663204086312,4.827852149743507,1.339654805694789,0.42574681095038136,0.8003955253117956,-3.5215643999023523,-3.3413531127874387,6.845562364550993,3.3781544630526987,2.327503775958217,1.751843848405877,-4.252846689410478,-2.1702089968334337,0.1264208026109521,1.2993277585374394,-0.4336499322300017,0.025015638033053532,0.003393002269218119,4.504901550104619,1.0021469360352555,1.8620485032856369,1.3959152387108384,-0.456093721292759,-1.456073307281441,-1.408680210764428,0.15804652361723817,3.132884505997055,5.526511189117896,1.5706377358868806,0.6777041796746842,1.0046837857650757,8.482725581630934,-0.08536077831946585,1.543012065125668,3.228341397351471,-1.0300233258418483,8.21440116377846,8.61579768204642,-1.184708178110212,-3.535460697886947,-7.865155406579323,1.8812199972055588,0.9328448004228782,10.360710154660465,-2.2082663715317787,-0.3737515896200598,5.039084328501945,-4.621456292277544,-8.754855340550284,8.954759562784014,5.974870989441651,-0.728403625851525,1.3885701286352585,-4.327839583041892,-4.928031500918889,3.2657801430203985,3.261769683485436,2.3830406929520462,1.6952660436759588,0.6067524785684495,4.4281736764539605,6.996610039475666,-1.5229730073366208,5.977509430872715,0.10610104459386197,4.624985756361117,3.5310581192203734,null,4.227846821568952,2.3144660538674566,36.48619268733423,0.16487919423317127,4.910794575445251,2.7824525185697806,2.784466935622285,-0.5218125504109852,0.30904471839138736,3.374551400611641,3.4235687927137484,2.107495709429255,0.9968087854439068,2.4111109112635276,1.8496418261132421,-1.0859648148733523,5.807081205578925,6.002158948014704,-1.2593281872984594,-3.55070194531459,-7.864984058923157,-0.9229670968210733,0.19280478344186305,10.360631840255603,-2.208260820681703,1.2037293897898271,4.021552407073862,-6.020975331548504,3.971812230176465,6.163631174430632,4.597218850611673,9.402917392019035,1.298390921986314,-5.530595439990379,-4.9282048961659175,4.229268980130042,1.2576041960061948,2.378810537740695,1.5632864210551192,0.5888857540995157,3.62276219607853,-2.7753933127540504,-1.6434001698933103,4.589711760408306,0.05284018925677152,3.753761684400999,4.137989807473332,null,4.223780000321008,2.286813829308213,5.641062851549639,0.046259683415100866,10.365055678489528,2.7825865556186065,2.4437982193098238,-1.0696497398890483,0.30433539730455283,2.886525775635714,2.4272171400853506,2.1281971790383056,0.9858459649955832,2.7125824522060853,1.8092181133825953,-0.2977792456962337,7.543565938460807,8.4286459771125,4.62913049713153,-2.6027523431249246,-7.078671839066955,1.8438837922896911,-0.5980505044587,2.7187621840860485,-1.7673332590729864,2.1177255083514543,3.378367923192388,-1.3537520901529867,4.86484281540432,7.142775062487862,10.873830691830136,11.664547211124596,1.530318084983754,-2.7587078728547256,-1.306238645678508,3.949410474638922,2.290866713501199,4.694081450290321,-1.7389140867493325,3.6830624251616135,-11.376197462140272,-0.23262374578339393,3.1221547201285245,0.9721723665815332,-0.05284018925677393,12.451615606568026,2.907579991586864,null,3.2465632790889773,1.1349929151808682,-0.5503631024434319,3.382008063463779,18.755830081073217,0.31627949489229673,2.5594202209774854,0.09057746146873172,1.3021892962375026,2.137597110266053,3.347635468007051,1.571834022054889,-0.26179392078806896,1.944459651478243,1.8271416960064129,-0.30223991571455594,4.81974917388629,5.221980878055673,3.756412732997421,-2.4903125249074987,-4.705525105695376,3.13236539508569,-1.0326330209560963,2.62109111479223,-0.9017939151560277,1.9115582688141162,2.8893159962394983,-1.4520801775763685,1.9432749690729536,5.2522783760245515,7.004671093493628,3.0208714924009774,1.1038279164613352,-4.321364988656564,-6.049052628374728,8.397319803469204,4.4619944819782695,5.266687769130392,-4.082639142309051,0.6861622167127682,-3.8865532740943487,-0.23543580565880806,2.699933507365457,0.9270989071254516,-0.052980163431539065,7.615825121774525,6.871090756304941,null,-0.27999548587948875,1.1233689246972434,-0.4779350802089204,5.534534845170428,8.278116382941612,0.3157950534553666,2.2687363474077458,3.6373050346977984,1.2225568018899777,1.9310312270390206,2.8282097843728917,1.6557275277416152,0.005811982411222305,0.8772746156899766,0.333803731770408,-0.13756088570100958,6.756696543760328,-0.3453454848008152,0.9930482710478274,-0.3812469408436446,-3.609135857115121,8.638252298160594,0.7153636603500948,4.472788194239873,0.10353022273364135,1.2351933008581293,2.363231642743685,-1.5182469307390507,0.6916066719355823,4.956143610177106,0.600464387714539,0.1702311920478666,0.9436316109431311,-3.883223414353575,-3.924888519168995,7.316167103943641,3.7097059844397253,2.0361130534290766,1.7514383544960592,-4.252779928667964,-2.1728894469011126,0.06106897686380891,1.5618413726084766,-1.3310301208514084,-0.15978780066957723,-0.4206105316342087,5.392469359175579,1.173034559689586,0.9462618095275581,1.1335835027134962,-0.5264851113272687,-0.9856368927602508,-2.5178963310151143,0.1580657251593283,3.253055290146495,5.818947126434018,1.5021209827074788,0.67770383902348,1.0067162057562435,8.761770317356612,0.0019369522072163543,1.3431067269911006,4.845647704129292,-1.0300086990551713,8.214404104604482,7.54598167777783,-1.780094766918863,-2.8205834723390324,-7.865089240514333,-1.7263793442678916,0.45129174473920186,10.360703237680639,-2.2083987538900303,-0.37339198453280587,5.107008469534687,-3.1692166212965818,-6.621336361086098,9.255918939313016,5.460080712230159,0.5011426518373095,0.9966021801278075,-3.1215540772553756,-4.844508685114541,4.428226686864923,3.5747607950778493,2.783005972486059,1.4350951843232074,1.0549151910634134,4.207909485772256,6.9698782268554735,0.019125031340214264,7.195270579321885,0.3522103601727074,4.116697780391637,3.0081237584668434,null,3.8266287491108866,1.6610571411049997,37.38067168117443,-1.0189377357662548,3.783750672725552,2.782335636421676,2.0827172628407506,0.2952614177137247,0.9700475311157574,5.990247097655823,4.641465189980163,2.002873364868394,0.39468383994451806,2.781083062504807,0.5314961748387194,-1.0859813968393053,5.80518992381195,5.465720414094153,-1.954275399710628,-2.8205386073024816,-7.865231270974745,-1.5147970267680726,-0.28867062706715463,10.361274992523365,-2.208391766718174,1.2200157932291245,4.06450732921798,-3.767742999714036,4.652161104486485,6.302914204873705,4.282341109364752,8.039713412764856,0.948303334499418,-3.7005920785493807,-4.8445268399028505,4.806423000817649,1.52791128783742,2.7829917298996842,1.3384872926306994,1.002049678900258,3.475095292378306,-2.868247214520372,0.01910676046918343,5.804793624925528,0.3461149419518485,3.4122747366329795,3.616538955658819,null,3.8266745695510545,1.683914089315662,6.557772605959103,-0.8767901877977028,9.054027723496452,2.782606374945235,1.8861028999832326,-0.36441648225977763,0.9251663728413027,4.603502393173855,3.676842089679693,1.9825867817058644,0.39940705089921374,3.0860225393057066,0.5314880833106338,-0.29774236449636005,6.332709790608623,6.536402617895662,3.864197450613291,-2.6984365594034823,-7.078429655213863,3.4127638340719706,-0.191724699402005,1.9451687315581687,-1.8319873696198463,1.8293623827411225,3.4735839341074817,-1.2791864380928586,4.8701784965340735,6.627844035512073,8.18820981627894,9.044094057678423,0.9477433941980362,-2.5801224523393294,-1.222383687718632,4.482642571767589,2.2966511382803017,4.341346655275147,-4.971684037517829,3.3738126038686476,-11.128964130459206,-0.18424244074297713,2.2721998969476553,1.7730524683915407,0.3402269165307308,12.456608206008909,2.3951911050932173,null,3.4962094629600275,0.486024973643472,-0.05179369703248349,2.2498343601396553,17.51345541369325,0.31599484903843733,2.6838030136416604,0.7417494308199784,1.5155942474019908,3.274384413491031,4.643843722249877,1.4248038597943704,-0.6076008295164304,2.417786401519991,3.8368780764969572,-0.30227580191693165,4.157064680359142,2.783484429259446,3.237121942446032,-2.252360129170503,-0.0473046846475194,-0.10547676323789026,-0.6262613851434273,2.0144563780017464,-0.9663292241714564,1.6789228567197172,2.9586302869395205,-1.3666268005558928,2.32542481527979,4.969619912425376,5.791834181109583,5.641590501431617,0.7613903025742078,-3.2050628694194354,-3.2066742466045857,6.707311676461821,3.846516667083065,4.730943387072599,-4.083607012129074,0.6856962732198992,-4.015475030449975,-0.18588987692777073,2.0440379881403574,1.6285870759933412,0.33453587610627167,7.617661703409423,5.06136121882048,null,-0.1588911995769905,0.4948706076721073,-0.4387894244610021,4.430852509993885,8.723592346219164,0.31636909433499866,2.3658720819315424,3.9596796983768265,1.4087891166244866,2.812967067487975,3.8535125854104653,1.5396221874605838,-0.33583392189002803,1.270823390425305,5.060099754681617,-0.13752900267640808,5.0620144898751445,1.3552019876131216,0.2034632365784995,-0.9735622119647701,-1.006724865332637,6.306868411352602,0.8538444036828904,3.2689134789268985,0.03910541899022755,1.1347097940671906,2.285216138364223,-1.4543497906761622,2.5513244795214263,4.695943009713941,2.0583870325368956,0.67149302832796,0.6608785809904517,-3.286661589165315,-2.90700659255601,6.3443235823130735,3.059519603786896,2.5951311858245036,1.7522652820172517,-4.252921382790128,-2.1677645620083976,0.18380933390416543,1.0347134879837778,0.3754872640039477,0.1886806446671743,0.3579801770193816,3.548688544806021,0.885973886348016,2.6944323924658753,1.7164523820297213,-0.4006381278778931,-2.062992955377926,-0.2917661698021122,0.15803279737466458,3.0225563380132527,5.220287980821949,1.6356183113733638,0.6777044886287156,1.002758862607722,8.200785587722523,-0.16912241277332585,1.7264443717475926,1.7885261618089197],\"y0\":\" \",\"yaxis\":\"y3\",\"type\":\"box\"},{\"alignmentgroup\":\"True\",\"hovertemplate\":\"continent=Latin America and Caribbean<br>year=%{x}<br>Annual Rate of Change of Migrant Stock=%{y}<extra></extra>\",\"legendgroup\":\"\",\"marker\":{\"color\":\"#F8766D\"},\"name\":\"\",\"notched\":false,\"offsetgroup\":\"\",\"orientation\":\"v\",\"showlegend\":false,\"x\":[\"1990-1995\",\"1990-1995\",\"1990-1995\",\"1990-1995\",\"1990-1995\",\"1990-1995\",\"1990-1995\",\"1990-1995\",\"1990-1995\",\"1990-1995\",\"1990-1995\",\"1990-1995\",\"1990-1995\",\"1990-1995\",\"1990-1995\",\"1990-1995\",\"1990-1995\",\"1990-1995\",\"1990-1995\",\"1990-1995\",\"1990-1995\",\"1990-1995\",\"1990-1995\",\"1990-1995\",\"1990-1995\",\"1990-1995\",\"1990-1995\",\"1990-1995\",\"1990-1995\",\"1990-1995\",\"1990-1995\",\"1990-1995\",\"1990-1995\",\"1990-1995\",\"1990-1995\",\"1990-1995\",\"1990-1995\",\"1990-1995\",\"1990-1995\",\"1990-1995\",\"1990-1995\",\"1990-1995\",\"1990-1995\",\"1990-1995\",\"1990-1995\",\"1990-1995\",\"1990-1995\",\"1990-1995\",\"1990-1995\",\"1995-2000\",\"1995-2000\",\"1995-2000\",\"1995-2000\",\"1995-2000\",\"1995-2000\",\"1995-2000\",\"1995-2000\",\"1995-2000\",\"1995-2000\",\"1995-2000\",\"1995-2000\",\"1995-2000\",\"1995-2000\",\"1995-2000\",\"1995-2000\",\"1995-2000\",\"1995-2000\",\"1995-2000\",\"1995-2000\",\"1995-2000\",\"1995-2000\",\"1995-2000\",\"1995-2000\",\"1995-2000\",\"1995-2000\",\"1995-2000\",\"1995-2000\",\"1995-2000\",\"1995-2000\",\"1995-2000\",\"1995-2000\",\"1995-2000\",\"1995-2000\",\"1995-2000\",\"1995-2000\",\"1995-2000\",\"1995-2000\",\"1995-2000\",\"1995-2000\",\"1995-2000\",\"1995-2000\",\"1995-2000\",\"1995-2000\",\"1995-2000\",\"1995-2000\",\"1995-2000\",\"1995-2000\",\"1995-2000\",\"2000-2005\",\"2000-2005\",\"2000-2005\",\"2000-2005\",\"2000-2005\",\"2000-2005\",\"2000-2005\",\"2000-2005\",\"2000-2005\",\"2000-2005\",\"2000-2005\",\"2000-2005\",\"2000-2005\",\"2000-2005\",\"2000-2005\",\"2000-2005\",\"2000-2005\",\"2000-2005\",\"2000-2005\",\"2000-2005\",\"2000-2005\",\"2000-2005\",\"2000-2005\",\"2000-2005\",\"2000-2005\",\"2000-2005\",\"2000-2005\",\"2000-2005\",\"2000-2005\",\"2000-2005\",\"2000-2005\",\"2000-2005\",\"2000-2005\",\"2000-2005\",\"2000-2005\",\"2000-2005\",\"2000-2005\",\"2000-2005\",\"2000-2005\",\"2000-2005\",\"2000-2005\",\"2000-2005\",\"2000-2005\",\"2000-2005\",\"2000-2005\",\"2000-2005\",\"2000-2005\",\"2000-2005\",\"2000-2005\",\"2005-2010\",\"2005-2010\",\"2005-2010\",\"2005-2010\",\"2005-2010\",\"2005-2010\",\"2005-2010\",\"2005-2010\",\"2005-2010\",\"2005-2010\",\"2005-2010\",\"2005-2010\",\"2005-2010\",\"2005-2010\",\"2005-2010\",\"2005-2010\",\"2005-2010\",\"2005-2010\",\"2005-2010\",\"2005-2010\",\"2005-2010\",\"2005-2010\",\"2005-2010\",\"2005-2010\",\"2005-2010\",\"2005-2010\",\"2005-2010\",\"2005-2010\",\"2005-2010\",\"2005-2010\",\"2005-2010\",\"2005-2010\",\"2005-2010\",\"2005-2010\",\"2005-2010\",\"2005-2010\",\"2005-2010\",\"2005-2010\",\"2005-2010\",\"2005-2010\",\"2005-2010\",\"2005-2010\",\"2005-2010\",\"2005-2010\",\"2005-2010\",\"2005-2010\",\"2005-2010\",\"2005-2010\",\"2005-2010\",\"2010-2015\",\"2010-2015\",\"2010-2015\",\"2010-2015\",\"2010-2015\",\"2010-2015\",\"2010-2015\",\"2010-2015\",\"2010-2015\",\"2010-2015\",\"2010-2015\",\"2010-2015\",\"2010-2015\",\"2010-2015\",\"2010-2015\",\"2010-2015\",\"2010-2015\",\"2010-2015\",\"2010-2015\",\"2010-2015\",\"2010-2015\",\"2010-2015\",\"2010-2015\",\"2010-2015\",\"2010-2015\",\"2010-2015\",\"2010-2015\",\"2010-2015\",\"2010-2015\",\"2010-2015\",\"2010-2015\",\"2010-2015\",\"2010-2015\",\"2010-2015\",\"2010-2015\",\"2010-2015\",\"2010-2015\",\"2010-2015\",\"2010-2015\",\"2010-2015\",\"2010-2015\",\"2010-2015\",\"2010-2015\",\"2010-2015\",\"2010-2015\",\"2010-2015\",\"2010-2015\",\"2010-2015\",\"2010-2015\",\"1990-1995\",\"1990-1995\",\"1990-1995\",\"1990-1995\",\"1990-1995\",\"1990-1995\",\"1990-1995\",\"1990-1995\",\"1990-1995\",\"1990-1995\",\"1990-1995\",\"1990-1995\",\"1990-1995\",\"1990-1995\",\"1990-1995\",\"1990-1995\",\"1990-1995\",\"1990-1995\",\"1990-1995\",\"1990-1995\",\"1990-1995\",\"1990-1995\",\"1990-1995\",\"1990-1995\",\"1990-1995\",\"1990-1995\",\"1990-1995\",\"1990-1995\",\"1990-1995\",\"1990-1995\",\"1990-1995\",\"1990-1995\",\"1990-1995\",\"1990-1995\",\"1990-1995\",\"1990-1995\",\"1990-1995\",\"1990-1995\",\"1990-1995\",\"1990-1995\",\"1990-1995\",\"1990-1995\",\"1990-1995\",\"1990-1995\",\"1990-1995\",\"1990-1995\",\"1990-1995\",\"1990-1995\",\"1990-1995\",\"1995-2000\",\"1995-2000\",\"1995-2000\",\"1995-2000\",\"1995-2000\",\"1995-2000\",\"1995-2000\",\"1995-2000\",\"1995-2000\",\"1995-2000\",\"1995-2000\",\"1995-2000\",\"1995-2000\",\"1995-2000\",\"1995-2000\",\"1995-2000\",\"1995-2000\",\"1995-2000\",\"1995-2000\",\"1995-2000\",\"1995-2000\",\"1995-2000\",\"1995-2000\",\"1995-2000\",\"1995-2000\",\"1995-2000\",\"1995-2000\",\"1995-2000\",\"1995-2000\",\"1995-2000\",\"1995-2000\",\"1995-2000\",\"1995-2000\",\"1995-2000\",\"1995-2000\",\"1995-2000\",\"1995-2000\",\"1995-2000\",\"1995-2000\",\"1995-2000\",\"1995-2000\",\"1995-2000\",\"1995-2000\",\"1995-2000\",\"1995-2000\",\"1995-2000\",\"1995-2000\",\"1995-2000\",\"1995-2000\",\"2000-2005\",\"2000-2005\",\"2000-2005\",\"2000-2005\",\"2000-2005\",\"2000-2005\",\"2000-2005\",\"2000-2005\",\"2000-2005\",\"2000-2005\",\"2000-2005\",\"2000-2005\",\"2000-2005\",\"2000-2005\",\"2000-2005\",\"2000-2005\",\"2000-2005\",\"2000-2005\",\"2000-2005\",\"2000-2005\",\"2000-2005\",\"2000-2005\",\"2000-2005\",\"2000-2005\",\"2000-2005\",\"2000-2005\",\"2000-2005\",\"2000-2005\",\"2000-2005\",\"2000-2005\",\"2000-2005\",\"2000-2005\",\"2000-2005\",\"2000-2005\",\"2000-2005\",\"2000-2005\",\"2000-2005\",\"2000-2005\",\"2000-2005\",\"2000-2005\",\"2000-2005\",\"2000-2005\",\"2000-2005\",\"2000-2005\",\"2000-2005\",\"2000-2005\",\"2000-2005\",\"2000-2005\",\"2000-2005\",\"2005-2010\",\"2005-2010\",\"2005-2010\",\"2005-2010\",\"2005-2010\",\"2005-2010\",\"2005-2010\",\"2005-2010\",\"2005-2010\",\"2005-2010\",\"2005-2010\",\"2005-2010\",\"2005-2010\",\"2005-2010\",\"2005-2010\",\"2005-2010\",\"2005-2010\",\"2005-2010\",\"2005-2010\",\"2005-2010\",\"2005-2010\",\"2005-2010\",\"2005-2010\",\"2005-2010\",\"2005-2010\",\"2005-2010\",\"2005-2010\",\"2005-2010\",\"2005-2010\",\"2005-2010\",\"2005-2010\",\"2005-2010\",\"2005-2010\",\"2005-2010\",\"2005-2010\",\"2005-2010\",\"2005-2010\",\"2005-2010\",\"2005-2010\",\"2005-2010\",\"2005-2010\",\"2005-2010\",\"2005-2010\",\"2005-2010\",\"2005-2010\",\"2005-2010\",\"2005-2010\",\"2005-2010\",\"2005-2010\",\"2010-2015\",\"2010-2015\",\"2010-2015\",\"2010-2015\",\"2010-2015\",\"2010-2015\",\"2010-2015\",\"2010-2015\",\"2010-2015\",\"2010-2015\",\"2010-2015\",\"2010-2015\",\"2010-2015\",\"2010-2015\",\"2010-2015\",\"2010-2015\",\"2010-2015\",\"2010-2015\",\"2010-2015\",\"2010-2015\",\"2010-2015\",\"2010-2015\",\"2010-2015\",\"2010-2015\",\"2010-2015\",\"2010-2015\",\"2010-2015\",\"2010-2015\",\"2010-2015\",\"2010-2015\",\"2010-2015\",\"2010-2015\",\"2010-2015\",\"2010-2015\",\"2010-2015\",\"2010-2015\",\"2010-2015\",\"2010-2015\",\"2010-2015\",\"2010-2015\",\"2010-2015\",\"2010-2015\",\"2010-2015\",\"2010-2015\",\"2010-2015\",\"2010-2015\",\"2010-2015\",\"2010-2015\",\"2010-2015\",\"1990-1995\",\"1990-1995\",\"1990-1995\",\"1990-1995\",\"1990-1995\",\"1990-1995\",\"1990-1995\",\"1990-1995\",\"1990-1995\",\"1990-1995\",\"1990-1995\",\"1990-1995\",\"1990-1995\",\"1990-1995\",\"1990-1995\",\"1990-1995\",\"1990-1995\",\"1990-1995\",\"1990-1995\",\"1990-1995\",\"1990-1995\",\"1990-1995\",\"1990-1995\",\"1990-1995\",\"1990-1995\",\"1990-1995\",\"1990-1995\",\"1990-1995\",\"1990-1995\",\"1990-1995\",\"1990-1995\",\"1990-1995\",\"1990-1995\",\"1990-1995\",\"1990-1995\",\"1990-1995\",\"1990-1995\",\"1990-1995\",\"1990-1995\",\"1990-1995\",\"1990-1995\",\"1990-1995\",\"1990-1995\",\"1990-1995\",\"1990-1995\",\"1990-1995\",\"1990-1995\",\"1990-1995\",\"1990-1995\",\"1995-2000\",\"1995-2000\",\"1995-2000\",\"1995-2000\",\"1995-2000\",\"1995-2000\",\"1995-2000\",\"1995-2000\",\"1995-2000\",\"1995-2000\",\"1995-2000\",\"1995-2000\",\"1995-2000\",\"1995-2000\",\"1995-2000\",\"1995-2000\",\"1995-2000\",\"1995-2000\",\"1995-2000\",\"1995-2000\",\"1995-2000\",\"1995-2000\",\"1995-2000\",\"1995-2000\",\"1995-2000\",\"1995-2000\",\"1995-2000\",\"1995-2000\",\"1995-2000\",\"1995-2000\",\"1995-2000\",\"1995-2000\",\"1995-2000\",\"1995-2000\",\"1995-2000\",\"1995-2000\",\"1995-2000\",\"1995-2000\",\"1995-2000\",\"1995-2000\",\"1995-2000\",\"1995-2000\",\"1995-2000\",\"1995-2000\",\"1995-2000\",\"1995-2000\",\"1995-2000\",\"1995-2000\",\"1995-2000\",\"2000-2005\",\"2000-2005\",\"2000-2005\",\"2000-2005\",\"2000-2005\",\"2000-2005\",\"2000-2005\",\"2000-2005\",\"2000-2005\",\"2000-2005\",\"2000-2005\",\"2000-2005\",\"2000-2005\",\"2000-2005\",\"2000-2005\",\"2000-2005\",\"2000-2005\",\"2000-2005\",\"2000-2005\",\"2000-2005\",\"2000-2005\",\"2000-2005\",\"2000-2005\",\"2000-2005\",\"2000-2005\",\"2000-2005\",\"2000-2005\",\"2000-2005\",\"2000-2005\",\"2000-2005\",\"2000-2005\",\"2000-2005\",\"2000-2005\",\"2000-2005\",\"2000-2005\",\"2000-2005\",\"2000-2005\",\"2000-2005\",\"2000-2005\",\"2000-2005\",\"2000-2005\",\"2000-2005\",\"2000-2005\",\"2000-2005\",\"2000-2005\",\"2000-2005\",\"2000-2005\",\"2000-2005\",\"2000-2005\",\"2005-2010\",\"2005-2010\",\"2005-2010\",\"2005-2010\",\"2005-2010\",\"2005-2010\",\"2005-2010\",\"2005-2010\",\"2005-2010\",\"2005-2010\",\"2005-2010\",\"2005-2010\",\"2005-2010\",\"2005-2010\",\"2005-2010\",\"2005-2010\",\"2005-2010\",\"2005-2010\",\"2005-2010\",\"2005-2010\",\"2005-2010\",\"2005-2010\",\"2005-2010\",\"2005-2010\",\"2005-2010\",\"2005-2010\",\"2005-2010\",\"2005-2010\",\"2005-2010\",\"2005-2010\",\"2005-2010\",\"2005-2010\",\"2005-2010\",\"2005-2010\",\"2005-2010\",\"2005-2010\",\"2005-2010\",\"2005-2010\",\"2005-2010\",\"2005-2010\",\"2005-2010\",\"2005-2010\",\"2005-2010\",\"2005-2010\",\"2005-2010\",\"2005-2010\",\"2005-2010\",\"2005-2010\",\"2005-2010\",\"2010-2015\",\"2010-2015\",\"2010-2015\",\"2010-2015\",\"2010-2015\",\"2010-2015\",\"2010-2015\",\"2010-2015\",\"2010-2015\",\"2010-2015\",\"2010-2015\",\"2010-2015\",\"2010-2015\",\"2010-2015\",\"2010-2015\",\"2010-2015\",\"2010-2015\",\"2010-2015\",\"2010-2015\",\"2010-2015\",\"2010-2015\",\"2010-2015\",\"2010-2015\",\"2010-2015\",\"2010-2015\",\"2010-2015\",\"2010-2015\",\"2010-2015\",\"2010-2015\",\"2010-2015\",\"2010-2015\",\"2010-2015\",\"2010-2015\",\"2010-2015\",\"2010-2015\",\"2010-2015\",\"2010-2015\",\"2010-2015\",\"2010-2015\",\"2010-2015\",\"2010-2015\",\"2010-2015\",\"2010-2015\",\"2010-2015\",\"2010-2015\",\"2010-2015\",\"2010-2015\",\"2010-2015\",\"2010-2015\"],\"x0\":\" \",\"xaxis\":\"x4\",\"y\":[5.103097221155741,7.554670977998787,8.662819511113943,3.2882499910733753,1.7524338264088926,1.9095168526702986,4.467350922767542,8.446628163552896,-5.545783062440705,null,4.285829318363383,2.0997832342233904,5.2548624820905765,2.4575748446341548,3.255932209929728,2.0746563610029223,3.712205820344061,-4.4430100514643565,0.9795040756749255,5.603546935954266,5.974845316105331,0.8144246755311134,null,-1.9348824199546744,6.594089050061244,0.8554090204001802,1.9071603851027414,-2.7329813125285063,-3.610820964917768,-10.517234091903147,-11.861580840689179,-8.336280071705449,-8.84325504161629,2.4294756235161272,-0.19820238637653478,-0.6761840061839902,2.504602648925014,-1.4800845503295519,5.625184480496966,0.504903245783614,7.611351841911191,0.3018049144717971,1.951255797726821,8.780060132796038,-0.9743228701484757,-2.728667718047082,4.2229596495009,-0.9791873195121246,-0.09805374639530455,4.057217140813488,5.470449353431933,6.0247594864045535,2.823733377833006,1.6111767343450407,1.7425543799955243,3.6510758947872186,5.920194624293977,-7.701078442457407,null,3.527526632038749,1.9001248430106927,4.157521583668425,2.18836934826081,2.7993427061125424,1.8803306303244574,3.12949640459869,-5.720583590269627,0.979614506183681,6.471533862848222,6.438103215917944,0.8150855519263773,null,-1.9347929639275996,4.948474840585719,0.8553246515147326,1.7410248290093646,-3.166455096800125,-4.410205017504525,-23.54766600719801,-33.16747257219544,3.197723899853872,2.649109086099032,3.2646293833469753,-0.12213521319924008,-0.6998476276404932,2.057913982188184,-1.5984629315894592,4.385286159467903,0.4924701137967505,5.499938628218056,4.128290732828063,1.77743274476585,6.083091889896096,-1.0974783305363354,3.1149177098321186,4.223273628464795,-1.0001041219404188,-0.12456405860922298,2.8446165745976226,1.3977073787171324,1.556240969995113,4.474937391657742,1.4910031310363563,1.260789172372662,2.7103958854771655,2.351389638387829,-0.9128762293203729,null,4.847017336096891,1.115087323324313,0.2243776720957649,1.3652666717754753,3.301258381091352,-0.5180332634379989,0.9118735865725194,0.5377105949206499,-0.16369286296014823,2.587847337050318,3.005266987080262,0.404518501303336,null,1.4140931138745312,1.963601113013097,0.012714334073499563,2.537539671995652,2.8280486023349454,2.5463977110709095,3.4757093362262332,-0.41608998597133257,5.616166303086252,2.7784350947264125,6.864123077111382,1.3902836256257014,1.6549281326743774,3.0170405745191142,-1.3915758005194316,8.657074368348894,-0.36774644515883737,4.25058571371051,1.7745623121736844,2.4107568875500647,4.657967462489238,-0.9704644870516902,3.1344503561033714,4.040497088454571,-1.5319216856002529,1.092264828847235,1.7135231269272713,1.3071333162599392,1.0692422947053621,3.6544713369923993,1.3881280983663244,-29.12815818410415,2.3865368288702054,2.1037927965282264,-2.774454256759366,null,3.8984898405119615,0.9209638760036924,0.2247538419693888,1.2779947718644162,2.8327626316455596,-0.5309640666547938,0.8717688350473093,0.5236316546682889,-2.8766010150959023,1.6178846367616166,1.0728980916314395,0.405419287472384,13.862943611198904,1.468446680260731,1.7879332933762433,0.013059092857056339,2.251531909247382,2.477248139760222,2.25800496367028,2.9598697453708356,-0.4256636932787645,6.161160060276908,1.3375039690622754,5.824753276603171,2.588966247373728,1.528392488932762,2.6232842841932817,-1.4956891773734975,6.02200236167858,2.8786499821415656,11.033679764932183,4.165647653954635,2.1513859430365656,3.775446089748593,-0.9673708322327749,1.6159075177602784,3.304991457906144,-1.528038060789455,4.362267392148709,1.3890002870411078,1.2269191745078458,1.014967705350579,1.6037770617696825,0.9808800698101127,2.5510047675549408,2.1318769315611186,-0.2770904250817962,-2.107510250919446,1.653256724595758,3.0656600162807144,1.079932739209936,0.21942230488824324,0.7372286561030802,2.374389913063864,-0.43550521025060945,0.7110042573719594,1.1266296385531924,-2.07081715593182,0.5392483521025607,1.0794304582285912,0.4061053232149105,0.8188824893333952,0.6756393728031029,1.4419219494730102,0.013050571425548736,2.9990213782380377,0.7880589179526516,0.835872961863324,2.7979632576987767,0.5650869051489308,4.150733376844437,1.5106088412188041,3.211500073039606,2.4948830401584696,2.8860495120120557,3.036723316394278,3.7162420570910446,4.791089115558718,1.3778295006472117,3.4959738815489123,1.7970177729490315,1.9422748579065445,3.174660244698953,-0.48455304595484744,1.5589750763256063,3.2994709595185285,-1.2063468875627341,1.0669445837131608,4.608602702279707,6.632736342394783,8.783254039287621,3.6796717404164236,2.1993969309107535,1.7446696880723822,3.978129641281279,8.770402140611463,-6.379929518014054,null,4.3002560320938255,1.8056030880563587,5.307097872679909,2.0491764438571516,3.5010172425043873,2.3794695775086767,3.081367278123805,-4.419186989987374,0.9406591439405522,5.814450252340954,6.162282225379736,0.8429782920432237,null,-1.9868658676725517,6.592664005068424,0.7402394818014767,1.3206389155248532,-2.7966764053522395,-3.5935709956120254,-10.411633072328053,-11.848174000643105,-8.338511591542476,-8.905378501562325,2.0576739360036713,-0.32164338991650676,-0.9112393427917056,2.620630659625975,-1.4597276235517695,4.883230328873898,0.5779107709705072,8.137830247708825,0.8819063973044876,1.1303766671481787,8.735751584744108,-0.9862226636711876,-2.9605585025786745,4.286574765906435,-1.0771506207062995,-0.15929445676605472,3.742998973326089,4.970420289830036,6.08228792516675,3.1077533172546503,1.9813142301294349,1.6036318518253232,3.316617606545836,6.0741134301049176,-9.423974113473463,null,3.7222780980974988,1.6560980904219667,4.190079527303285,1.8585957655243532,2.978495393944926,2.1262370186595865,2.6693930247345,-5.648865871910032,0.9407023369454188,6.687767197154512,6.592540634333196,0.8565786009596207,null,-1.9872953397839268,4.945606325457607,0.7392725782934945,1.2388099963530983,-3.2521961325912785,-4.385183278653345,-22.977467061997192,-33.04053347897724,3.3088845899164485,2.8659075449393425,2.8830908686025207,-0.24941673202355302,-0.9547473973435625,2.150381925343399,-1.5747700778328495,3.921841162157595,0.5616796377575147,5.767890246586474,4.415756752435014,1.0698923620434362,6.063996272461856,-1.2255242996945817,3.2152456509327645,4.223575037505935,-1.1048715358140064,-0.18917833043300236,2.91778546942246,1.378306380841433,1.48226511417841,3.9439902430177423,1.8026049735246967,1.2612171801602217,2.712237181260271,2.5168296548689266,-0.7803330468490346,null,4.8458808568542855,1.0963869426575095,0.22320349137104034,0.737890750192117,3.4364308631968337,-0.3876403346594728,0.3428076602760678,0.5392872327671083,-0.2028293945365211,2.640455169350376,3.110700051909647,0.42424404740119426,null,1.3617377904774475,1.962637591204904,-0.002993115839169555,2.4367228436863457,2.3485448441688663,2.6590543119641104,4.120702736452202,-0.18880415837873818,5.667482176638107,2.8364110007275496,6.863713730089831,1.2844764947649556,1.5250824828498715,3.2298708591902217,-1.3054726576358293,8.471532721910243,-0.1847612957520407,4.391109458959102,1.1902825506481542,1.8802427792364282,4.646798234081119,-0.9690908132832857,3.2376906032014188,4.16411567408455,-1.7458475124156139,1.0141527783507696,1.774135431497489,1.2894131562855644,1.0072433046353861,3.29287759733546,1.6548398749491946,-27.370119574681894,2.38535536946656,2.233592468102481,-2.6297450733684733,null,3.897755875190765,0.9049735955562488,0.22651614281578558,0.7116325249180511,2.931651818690084,-0.3936389265843129,0.33627111077954425,0.5555912821415134,-3.0851522566766327,1.6706025380285845,1.0869863027320963,0.42456601239707675,13.862943611198904,2.2902227897277134,1.787134531831789,-0.0029935638433367033,2.1718242869668374,2.1016179017840537,2.3456099697158987,3.415022851455654,-0.19200147458038463,6.214110191291457,1.4694555675633778,6.047812601340401,2.5777971091318905,1.416983028610358,2.782242139312188,-1.396673228580102,5.9323258633793845,3.2764628904218727,11.126145309597238,3.5722195479483783,1.7189972753087128,3.768116244965178,-1.0064545954063837,1.709749572301831,3.327822654813221,-1.7476642613465005,4.435732254600066,1.4223243890398247,1.2112947717742197,1.014890373324995,1.4631902870358722,0.9818734193352484,2.5818233932357577,2.1332791385366074,-0.2764304892979246,-2.106874175878054,1.7163786426213652,3.063182162099266,1.0721802666311442,0.22397936886750452,0.5033396583656213,2.436397795133269,-0.43381272016818195,0.4944080415151684,1.1533128369961816,-2.167014309433127,0.5698391158861249,1.0837577816111987,0.42468277359166,0.790838786444185,0.9892913461423319,1.4397168167986776,0.0044901777550646026,2.8796852956356265,0.6766253113901053,0.8666796404212276,3.119668078396621,0.7140673309667185,4.177331981851721,1.60181928798654,3.17209730854459,2.4785662240659003,2.875783191311649,3.0374284679461385,3.7162619637165224,4.791161009647912,1.550573322072405,3.549278886336275,1.572237751393069,1.582872464492931,3.1694804689338483,-0.507868961774185,1.6375650437465243,3.319192155058225,-1.2138327890049683,1.0355078099730428,5.566026404231433,8.369830071692792,8.565689526337108,2.8642683068258004,1.423842744356751,2.0430029764504525,4.971069004460082,8.12748207461321,-4.744992747878498,null,4.2702105097275584,2.5786368344636426,5.203730176725401,2.8517411541902735,2.9450400352457438,1.7803689206922102,4.307687068098699,-4.467952972697003,1.0147803801064388,5.380280107606141,5.790795463064511,0.7874276727443716,null,-1.889923099184871,6.595617855211759,0.9601498482225548,2.572249111381598,-2.6674157281743374,-3.6260771658936304,-10.596019724256022,-11.875473790927849,-8.334042171387583,-8.780424755909513,2.8378548763299727,-0.07524336135818291,-0.4636113376892236,2.383565540742545,-1.5034068408200227,6.3617255571474685,0.42884334274820424,7.092492052389251,-0.4965772330774,2.902343714349978,8.83137730442336,-0.9611849111180917,-2.4990770072439945,4.148118075868195,-0.8937128716769669,-0.03578076072229401,4.340164152975139,5.8842117794697115,5.977988200412879,2.504984372917852,1.3291783794177554,1.8535165675710932,3.981465020659879,5.7648208791757805,-6.23487660719749,null,3.3143615824084782,2.283675204107661,4.1255171041367955,2.495401392754032,2.5665194265456837,1.636363742010364,3.541613485007196,-5.79604129531633,1.0148211531940485,6.237506897482562,6.283855867080954,0.775720500703129,null,-1.8896052448478873,4.9515515330298365,0.9597125723968594,2.2788079451362684,-3.078861311475883,-4.432378857816442,-23.985957066343055,-33.299960551615435,3.0856339699521245,2.4281224383435585,3.6676270461735725,0.003077854234954828,-0.4746136556197666,1.9604187672377866,-1.6256713471462978,4.8188245111612416,0.41984071038779397,5.225169815817564,3.71150207406095,2.5335165219718774,6.105132522182475,-0.957142529114052,3.0162345713748797,4.222917792909951,-0.9095544544957184,-0.05927558866830273,2.7794811117614033,1.4133847803920094,1.6163394490096978,5.063161179912982,1.246320665274956,1.2604494306114902,2.708606812131298,2.1816733663965535,-1.0176389507451054,null,4.848273944693112,1.1439880449917217,0.22553368963924292,1.9233686432450345,3.1223731226215086,-0.6498530870878803,1.3976175250758944,0.5360454875850958,-0.12841446345770866,2.5301068116871153,2.8985836681699717,0.38574867019492637,null,1.4589352554984818,1.9646343555103134,0.026754962018148955,2.642187413245738,3.30427999343809,2.445911430341179,2.952195305679884,-0.6576697430344052,5.563997054267154,2.718512485134339,6.864547041616333,1.4931780576252047,1.7676077155625796,2.7890726868219784,-1.4910412425627773,8.825299141054108,-0.5622829776410284,4.103464116310378,2.6067207538154546,2.9429744454438107,4.670838272424686,-0.9719600460702141,3.031869696500328,3.8935634716163126,-1.3497407218270205,1.1706288582007043,1.6592229738121387,1.3214284819683804,1.1193017041678455,4.036842955243294,1.173189854335667,-30.642773814126294,2.387684817310345,1.9686252999086682,-2.890265465080316,null,3.8993013083229973,0.9456217808656551,0.22301875119508202,1.7545205007693168,2.7000967480503446,-0.6716797290825706,1.3062975795040046,0.48982040016591394,-2.690799124944098,1.5597023736624405,1.0585568338394427,0.38716563175826546,13.862943611198904,0.738522947935717,1.7887897753135908,0.02738674175077287,2.333512377035309,2.8348904046320915,2.179118802012112,2.571385624883118,-0.6800337063132261,6.107045278379577,1.199793914250262,5.591080626401886,2.599765460409585,1.6239927532189657,2.4496966448113793,-1.6112212405148003,6.102251627034755,2.4427226845890804,10.935708798089346,4.953742578118399,2.564951226214729,3.783884201528847,-0.9249028109231054,1.5217424367848398,3.277635701073762,-1.3447018573191967,4.288582724579086,1.359013238170155,1.2395046924206279,1.0150299701019219,1.7486652066547228,0.9800698152280126,2.5221490710648076,2.130514434542884,-0.277782243213343,-2.1080226443440635,1.6092856029015117,3.0683990544261035,1.0918694655671752,0.21493419526717783,0.9269325936249493,2.2904136327132845,-0.4372517347908705,0.8808989965062676,1.0983151519222927,-1.9863367595327266,0.5053383960757154,1.0750213143822478,0.3883617171420303,0.8447104359770011,0.38159598069959466,1.4442860623210239,0.0206821801434863,3.1205313303085633,0.8916703628696234,0.8079756893144562,2.513244793975295,0.3996167414744593,4.123440123689217,1.4143237320995488,3.2531671567054423,2.5106381388003483,2.8948093797423335,3.0359468080212624,3.716218705037559,4.791025051851291,1.1827622060456042,3.4390689762412303,2.0817569212386373,2.2730799968684914,3.1806191889211273,-0.45930048792923606,1.4794291980989693,3.2757861733005393,-1.200162680827482,1.0985417912008921],\"y0\":\" \",\"yaxis\":\"y4\",\"type\":\"box\"},{\"alignmentgroup\":\"True\",\"hovertemplate\":\"continent=Northern America<br>year=%{x}<br>Annual Rate of Change of Migrant Stock=%{y}<extra></extra>\",\"legendgroup\":\"\",\"marker\":{\"color\":\"#F8766D\"},\"name\":\"\",\"notched\":false,\"offsetgroup\":\"\",\"orientation\":\"v\",\"showlegend\":false,\"x\":[\"1990-1995\",\"1990-1995\",\"1990-1995\",\"1990-1995\",\"1990-1995\",\"1995-2000\",\"1995-2000\",\"1995-2000\",\"1995-2000\",\"1995-2000\",\"2000-2005\",\"2000-2005\",\"2000-2005\",\"2000-2005\",\"2000-2005\",\"2005-2010\",\"2005-2010\",\"2005-2010\",\"2005-2010\",\"2005-2010\",\"2010-2015\",\"2010-2015\",\"2010-2015\",\"2010-2015\",\"2010-2015\",\"1990-1995\",\"1990-1995\",\"1990-1995\",\"1990-1995\",\"1990-1995\",\"1995-2000\",\"1995-2000\",\"1995-2000\",\"1995-2000\",\"1995-2000\",\"2000-2005\",\"2000-2005\",\"2000-2005\",\"2000-2005\",\"2000-2005\",\"2005-2010\",\"2005-2010\",\"2005-2010\",\"2005-2010\",\"2005-2010\",\"2010-2015\",\"2010-2015\",\"2010-2015\",\"2010-2015\",\"2010-2015\",\"1990-1995\",\"1990-1995\",\"1990-1995\",\"1990-1995\",\"1990-1995\",\"1995-2000\",\"1995-2000\",\"1995-2000\",\"1995-2000\",\"1995-2000\",\"2000-2005\",\"2000-2005\",\"2000-2005\",\"2000-2005\",\"2000-2005\",\"2005-2010\",\"2005-2010\",\"2005-2010\",\"2005-2010\",\"2005-2010\",\"2010-2015\",\"2010-2015\",\"2010-2015\",\"2010-2015\",\"2010-2015\"],\"x0\":\" \",\"xaxis\":\"x5\",\"y\":[1.2278647373252567,2.313751044107795,-5.036000839695108,3.6646212235359035,4.036718241954401,1.1556906743145932,2.4978169747283148,-1.60654713122116,1.9886779397637375,4.0367190983145615,0.676672599334899,1.9585161997000693,-0.20534366828510617,-4.798315908784657,2.4028316285866347,0.6545255796603054,2.853496750240951,-1.4256343195698082,-2.4058544216162154,2.363838883671791,0.2546732648662137,2.2230473293032884,-0.7095145333525106,-0.6191208289184896,1.0765461467870154,1.2490437174364575,2.2097365376664455,-5.402340235543437,3.941857482285342,4.202219210405609,1.1756023203230432,2.419821001590663,-1.1838261012721518,2.0602343667214162,4.199559017206235,0.7703429679260808,1.8431275021795888,-0.7507352465222608,-4.722485255738619,2.4991728448712043,0.7439423082083021,2.813108040964056,-1.5488956178715398,-2.3431018430132657,2.015103096954116,0.2891408650195607,2.2096188147335027,-1.2698787253007275,-0.5731051152075213,1.0156509962850102,1.2081486078059718,2.4119348565460608,-4.217105591163534,3.3724542487158544,3.8769605707777863,1.1371175212130014,2.5707935765847587,-2.555880013122457,1.9119024136204261,3.8769635293235676,0.5888169916160961,2.065476223971694,1.0076489324155027,-4.88030251598589,2.307091225914119,0.5699107584042876,2.8906555810253245,-1.165752522557768,-2.474193086520456,2.706104197543106,0.22185930049832825,2.2353701031385866,0.41238574405471223,-0.6695185839277892,1.1351126646368321],\"y0\":\" \",\"yaxis\":\"y5\",\"type\":\"box\"},{\"alignmentgroup\":\"True\",\"hovertemplate\":\"continent=Oceania<br>year=%{x}<br>Annual Rate of Change of Migrant Stock=%{y}<extra></extra>\",\"legendgroup\":\"\",\"marker\":{\"color\":\"#F8766D\"},\"name\":\"\",\"notched\":false,\"offsetgroup\":\"\",\"orientation\":\"v\",\"showlegend\":false,\"x\":[\"1990-1995\",\"1990-1995\",\"1990-1995\",\"1990-1995\",\"1990-1995\",\"1990-1995\",\"1990-1995\",\"1990-1995\",\"1990-1995\",\"1990-1995\",\"1990-1995\",\"1990-1995\",\"1990-1995\",\"1990-1995\",\"1990-1995\",\"1990-1995\",\"1990-1995\",\"1990-1995\",\"1990-1995\",\"1990-1995\",\"1990-1995\",\"1990-1995\",\"1990-1995\",\"1995-2000\",\"1995-2000\",\"1995-2000\",\"1995-2000\",\"1995-2000\",\"1995-2000\",\"1995-2000\",\"1995-2000\",\"1995-2000\",\"1995-2000\",\"1995-2000\",\"1995-2000\",\"1995-2000\",\"1995-2000\",\"1995-2000\",\"1995-2000\",\"1995-2000\",\"1995-2000\",\"1995-2000\",\"1995-2000\",\"1995-2000\",\"1995-2000\",\"1995-2000\",\"2000-2005\",\"2000-2005\",\"2000-2005\",\"2000-2005\",\"2000-2005\",\"2000-2005\",\"2000-2005\",\"2000-2005\",\"2000-2005\",\"2000-2005\",\"2000-2005\",\"2000-2005\",\"2000-2005\",\"2000-2005\",\"2000-2005\",\"2000-2005\",\"2000-2005\",\"2000-2005\",\"2000-2005\",\"2000-2005\",\"2000-2005\",\"2000-2005\",\"2000-2005\",\"2005-2010\",\"2005-2010\",\"2005-2010\",\"2005-2010\",\"2005-2010\",\"2005-2010\",\"2005-2010\",\"2005-2010\",\"2005-2010\",\"2005-2010\",\"2005-2010\",\"2005-2010\",\"2005-2010\",\"2005-2010\",\"2005-2010\",\"2005-2010\",\"2005-2010\",\"2005-2010\",\"2005-2010\",\"2005-2010\",\"2005-2010\",\"2005-2010\",\"2005-2010\",\"2010-2015\",\"2010-2015\",\"2010-2015\",\"2010-2015\",\"2010-2015\",\"2010-2015\",\"2010-2015\",\"2010-2015\",\"2010-2015\",\"2010-2015\",\"2010-2015\",\"2010-2015\",\"2010-2015\",\"2010-2015\",\"2010-2015\",\"2010-2015\",\"2010-2015\",\"2010-2015\",\"2010-2015\",\"2010-2015\",\"2010-2015\",\"2010-2015\",\"2010-2015\",\"1990-1995\",\"1990-1995\",\"1990-1995\",\"1990-1995\",\"1990-1995\",\"1990-1995\",\"1990-1995\",\"1990-1995\",\"1990-1995\",\"1990-1995\",\"1990-1995\",\"1990-1995\",\"1990-1995\",\"1990-1995\",\"1990-1995\",\"1990-1995\",\"1990-1995\",\"1990-1995\",\"1990-1995\",\"1990-1995\",\"1990-1995\",\"1990-1995\",\"1990-1995\",\"1995-2000\",\"1995-2000\",\"1995-2000\",\"1995-2000\",\"1995-2000\",\"1995-2000\",\"1995-2000\",\"1995-2000\",\"1995-2000\",\"1995-2000\",\"1995-2000\",\"1995-2000\",\"1995-2000\",\"1995-2000\",\"1995-2000\",\"1995-2000\",\"1995-2000\",\"1995-2000\",\"1995-2000\",\"1995-2000\",\"1995-2000\",\"1995-2000\",\"1995-2000\",\"2000-2005\",\"2000-2005\",\"2000-2005\",\"2000-2005\",\"2000-2005\",\"2000-2005\",\"2000-2005\",\"2000-2005\",\"2000-2005\",\"2000-2005\",\"2000-2005\",\"2000-2005\",\"2000-2005\",\"2000-2005\",\"2000-2005\",\"2000-2005\",\"2000-2005\",\"2000-2005\",\"2000-2005\",\"2000-2005\",\"2000-2005\",\"2000-2005\",\"2000-2005\",\"2005-2010\",\"2005-2010\",\"2005-2010\",\"2005-2010\",\"2005-2010\",\"2005-2010\",\"2005-2010\",\"2005-2010\",\"2005-2010\",\"2005-2010\",\"2005-2010\",\"2005-2010\",\"2005-2010\",\"2005-2010\",\"2005-2010\",\"2005-2010\",\"2005-2010\",\"2005-2010\",\"2005-2010\",\"2005-2010\",\"2005-2010\",\"2005-2010\",\"2005-2010\",\"2010-2015\",\"2010-2015\",\"2010-2015\",\"2010-2015\",\"2010-2015\",\"2010-2015\",\"2010-2015\",\"2010-2015\",\"2010-2015\",\"2010-2015\",\"2010-2015\",\"2010-2015\",\"2010-2015\",\"2010-2015\",\"2010-2015\",\"2010-2015\",\"2010-2015\",\"2010-2015\",\"2010-2015\",\"2010-2015\",\"2010-2015\",\"2010-2015\",\"2010-2015\",\"1990-1995\",\"1990-1995\",\"1990-1995\",\"1990-1995\",\"1990-1995\",\"1990-1995\",\"1990-1995\",\"1990-1995\",\"1990-1995\",\"1990-1995\",\"1990-1995\",\"1990-1995\",\"1990-1995\",\"1990-1995\",\"1990-1995\",\"1990-1995\",\"1990-1995\",\"1990-1995\",\"1990-1995\",\"1990-1995\",\"1990-1995\",\"1990-1995\",\"1990-1995\",\"1995-2000\",\"1995-2000\",\"1995-2000\",\"1995-2000\",\"1995-2000\",\"1995-2000\",\"1995-2000\",\"1995-2000\",\"1995-2000\",\"1995-2000\",\"1995-2000\",\"1995-2000\",\"1995-2000\",\"1995-2000\",\"1995-2000\",\"1995-2000\",\"1995-2000\",\"1995-2000\",\"1995-2000\",\"1995-2000\",\"1995-2000\",\"1995-2000\",\"1995-2000\",\"2000-2005\",\"2000-2005\",\"2000-2005\",\"2000-2005\",\"2000-2005\",\"2000-2005\",\"2000-2005\",\"2000-2005\",\"2000-2005\",\"2000-2005\",\"2000-2005\",\"2000-2005\",\"2000-2005\",\"2000-2005\",\"2000-2005\",\"2000-2005\",\"2000-2005\",\"2000-2005\",\"2000-2005\",\"2000-2005\",\"2000-2005\",\"2000-2005\",\"2000-2005\",\"2005-2010\",\"2005-2010\",\"2005-2010\",\"2005-2010\",\"2005-2010\",\"2005-2010\",\"2005-2010\",\"2005-2010\",\"2005-2010\",\"2005-2010\",\"2005-2010\",\"2005-2010\",\"2005-2010\",\"2005-2010\",\"2005-2010\",\"2005-2010\",\"2005-2010\",\"2005-2010\",\"2005-2010\",\"2005-2010\",\"2005-2010\",\"2005-2010\",\"2005-2010\",\"2010-2015\",\"2010-2015\",\"2010-2015\",\"2010-2015\",\"2010-2015\",\"2010-2015\",\"2010-2015\",\"2010-2015\",\"2010-2015\",\"2010-2015\",\"2010-2015\",\"2010-2015\",\"2010-2015\",\"2010-2015\",\"2010-2015\",\"2010-2015\",\"2010-2015\",\"2010-2015\",\"2010-2015\",\"2010-2015\",\"2010-2015\",\"2010-2015\",\"2010-2015\"],\"x0\":\" \",\"xaxis\":\"x6\",\"y\":[0.9775193294916206,2.5541949148244347,-0.42917489140669157,2.9506900218013303,0.48669490949079675,-0.22846512118981868,1.2837284552613135,0.6090809310205345,0.556478315300858,4.906954172504404,-1.9540219093619602,-1.5505917277264682,3.9353876862552513,10.559151465780266,1.636748034244579,0.7510838979430741,1.8688618911235528,0.8077612181057606,6.7047475886186785,-0.2985130043335141,2.3503162837091405,-3.7979470120482444,3.6178800960553854,1.0912845158526145,2.851399342900276,-0.43858678221368413,2.5708074536451715,-5.788271424550297,-0.9659923823238779,1.2978800894337141,0.5913488550819949,0.5326546513119796,4.901274038005936,-1.400386043294003,-1.6893413613909762,4.290148094526641,5.68403213972274,1.512071627974935,0.7238955055640315,1.3424929767380573,0.736279462454328,4.90281965795971,-0.30303610041204443,2.3597327888823463,-3.845133572746101,3.636508039669574,2.125336038420595,4.259981254541843,-0.4516372242795887,2.1930262222605155,3.5437818047310237,-3.928745909238665,1.2831528260110752,0.18089940751272127,1.711735945472184,4.9084262409005115,-1.4023347540925466,-1.214058913713481,-1.3292901211123012,-0.8647019834740064,-0.5526854894613169,3.253609926748603,1.2505869846901596,0.9413502171597147,-0.8584423953943897,-0.3076983767895891,3.0969687081707766,-3.4082240139807722,3.2031765309050013,3.7464397282836286,2.4084405897630146,1.4215242230517986,1.9758167405208398,-3.2880633284752427,-3.3973013765437634,1.319767249333056,0.17927783386030796,2.850755158322128,4.906406244301976,-0.7005970265842989,-1.292545912121847,-8.80861724319821,-0.8657310957543959,-0.567544569331444,2.797626891366416,-0.4042311367176899,0.8623641356121058,-2.2991794555952847,10.169946680127993,3.0996141386758786,-3.450671008555835,3.2046604140132358,2.7900234190893,1.8591067384306375,0.5904052066569954,0.998868374785292,0.2796592845310585,-1.3101034353733225,1.269445115747766,0.17768507353542878,1.8947891565109978,1.2242955530747441,-0.35246371646494984,8.172334045410182,-2.202327453118772,-0.42967332400566194,-0.289928320203447,1.9356086315717818,-1.0258658877510116,0.43558890528079897,-0.7681772010818563,2.536144083091458,2.641235496684142,-1.7638542407092168,0.5191402574242654,0.7801740949776738,2.267973333303192,-0.35659973641696063,2.70363866025738,1.0762466931685106,-0.17960351615168701,0.4056301283850099,-0.27729193575678973,0.5699406147709054,4.787544547783625,0.18966476895331957,-1.5312542820874586,2.1090333841208246,8.893716425228915,1.4861219779593062,0.7347765129151476,1.5505848271855194,0.9563574870098547,6.499034914905582,-0.40405414635038933,2.8745577430232694,-3.9148915425219073,3.364378143189186,0.9024733380995664,2.6329839704780995,-0.37518921222888235,2.3820407944205324,-4.769772023170231,-0.914043069617108,0.3824208289355675,-0.2811905932829211,0.8424107295081626,4.7920252723450565,-4.160775241135193,-1.6738665927965906,1.8548518516996306,6.595705942561693,1.3817404238117568,0.7216263264707156,1.067526583751581,0.838217912312739,4.704570711446727,-0.412385744054714,2.8488188830870045,-4.02843456334748,3.396525502524253,1.9915378542248494,4.232713276339888,-0.11241958957578524,2.096885355313396,3.8514697045906363,-3.8998281907001275,1.1482181442667803,0.1675304403052535,1.9856293916288836,4.871048458908335,-1.9003938647457177,-1.2046997224175227,-1.6914522500043643,-1.5156751490793912,-0.630072581625914,2.102055009609488,0.8899243576427894,1.018401808545139,-1.0663011753544331,-1.5892834270849359,3.228155243055552,-3.6134005751096328,3.1893819368415883,3.7769161363921,2.3729103929448647,1.6738469352217171,1.897751936866602,-2.918625748417321,-3.372900333761987,1.23436047332799,0.16613876719452872,2.837611744708878,4.876081325594535,-0.8217654130034706,-1.281942349335079,-8.93020208541115,-1.5741684654609491,-0.6505696364433479,1.8914333258577671,-0.40394326285844473,0.9013657080341251,-2.5041699091267633,8.750540811356547,3.1638514798852024,-3.449385207018861,3.1975450476891925,2.6593482652057916,1.820280396769601,0.7804259799813219,1.0282679815282951,0.4446238445527756,-1.2821478746549448,1.25122226841714,0.16477002494776222,1.8917683735183055,1.1882654451225076,-0.3899283172289958,10.413246891448255,-2.3273134050414526,-0.8049867049862269,-0.33339661838017187,1.8437410828529188,-1.024873799653384,0.4690332207009976,-0.9877575106241928,2.4632456955223887,2.737439492245057,-1.7188485960144952,0.521339838879698,1.1800626131755416,2.8346514429286493,-0.5066748822457836,3.253833140291823,-0.3374324274416743,-0.28978237028276727,2.306407516224208,1.7016921997031056,0.542342721788492,5.102421128049376,-5.198165330152419,-1.5728625463822623,5.858378078226249,13.244076077075793,1.8019643678833859,0.7716344950207732,2.332967740161788,0.6378672755190757,6.931982646508302,-0.1673649934103316,1.7870221329696894,-3.646431135879092,3.8866006681892835,1.2813327457621058,3.060163408157137,-0.5067647857827181,2.7969115262771966,-7.361799404216265,-1.031556597705467,2.267798858518775,1.5687480568882732,0.20192920502019188,5.077444520709208,2.6317511713658726,-1.7071969790231352,6.375783466835153,4.286931987417026,1.6529445701570489,0.7267521294712498,1.729228600127395,0.6181507492615341,5.117229264982844,-0.1687773729172919,1.8054595184870286,-3.6116787379082775,3.8845532101882028,2.25785604753908,4.285733292260038,-0.8242053729332572,2.3063999663048,3.025952216897039,-3.965409843751502,1.4186151551631794,0.19518860349782022,1.4102756865531627,4.968126743041436,-0.8044960262101799,-1.2248725048143734,-1.0566791435433476,0.14913076553328136,-0.46993614249965676,4.6147663996868555,1.7390487231277167,0.851192288375918,-0.638314742138883,1.1525822567327284,2.943276507198542,-3.1525788840716635,3.21725187271758,3.71640937546259,2.4418933260959674,1.135596677776134,2.067006769246107,-3.9391754463828574,-3.42833248760157,1.404568738304995,0.1933020706080513,2.8654208384416298,4.954629585339125,-0.5600063164022383,-1.3048104373680194,-8.719012180407082,0.1480269915286885,-0.4794986478299592,3.757732792993609,-0.40461283883358523,0.816439890405104,-2.086630107913164,11.577160683156354,3.023552329440605,-3.4522548533398756,3.211912930059087,2.918149266437999,1.8955313147374393,0.3699085037045842,0.9646162815840242,-0.02210189196086823,-1.3457608340788105,1.2874456783334922,0.1914516562625787,1.8981569252879507,1.281346092097184,-0.3093642501841731,5.220552573178874,-2.1111946150204104,0.07360466291625366,-0.244130363823136,2.0280785198221025,-1.0271814303063853,0.39605254592359457,-0.5453425268067917,2.6032499111683554,2.526317616676286,-1.819435564114535,0.5168988350428447],\"y0\":\" \",\"yaxis\":\"y6\",\"type\":\"box\"}],                        {\"template\":{\"data\":{\"barpolar\":[{\"marker\":{\"line\":{\"color\":\"rgb(237,237,237)\",\"width\":0.5},\"pattern\":{\"fillmode\":\"overlay\",\"size\":10,\"solidity\":0.2}},\"type\":\"barpolar\"}],\"bar\":[{\"error_x\":{\"color\":\"rgb(51,51,51)\"},\"error_y\":{\"color\":\"rgb(51,51,51)\"},\"marker\":{\"line\":{\"color\":\"rgb(237,237,237)\",\"width\":0.5},\"pattern\":{\"fillmode\":\"overlay\",\"size\":10,\"solidity\":0.2}},\"type\":\"bar\"}],\"carpet\":[{\"aaxis\":{\"endlinecolor\":\"rgb(51,51,51)\",\"gridcolor\":\"white\",\"linecolor\":\"white\",\"minorgridcolor\":\"white\",\"startlinecolor\":\"rgb(51,51,51)\"},\"baxis\":{\"endlinecolor\":\"rgb(51,51,51)\",\"gridcolor\":\"white\",\"linecolor\":\"white\",\"minorgridcolor\":\"white\",\"startlinecolor\":\"rgb(51,51,51)\"},\"type\":\"carpet\"}],\"choropleth\":[{\"colorbar\":{\"outlinewidth\":0,\"tickcolor\":\"rgb(237,237,237)\",\"ticklen\":6,\"ticks\":\"inside\"},\"type\":\"choropleth\"}],\"contourcarpet\":[{\"colorbar\":{\"outlinewidth\":0,\"tickcolor\":\"rgb(237,237,237)\",\"ticklen\":6,\"ticks\":\"inside\"},\"type\":\"contourcarpet\"}],\"contour\":[{\"colorbar\":{\"outlinewidth\":0,\"tickcolor\":\"rgb(237,237,237)\",\"ticklen\":6,\"ticks\":\"inside\"},\"colorscale\":[[0,\"rgb(20,44,66)\"],[1,\"rgb(90,179,244)\"]],\"type\":\"contour\"}],\"heatmapgl\":[{\"colorbar\":{\"outlinewidth\":0,\"tickcolor\":\"rgb(237,237,237)\",\"ticklen\":6,\"ticks\":\"inside\"},\"colorscale\":[[0,\"rgb(20,44,66)\"],[1,\"rgb(90,179,244)\"]],\"type\":\"heatmapgl\"}],\"heatmap\":[{\"colorbar\":{\"outlinewidth\":0,\"tickcolor\":\"rgb(237,237,237)\",\"ticklen\":6,\"ticks\":\"inside\"},\"colorscale\":[[0,\"rgb(20,44,66)\"],[1,\"rgb(90,179,244)\"]],\"type\":\"heatmap\"}],\"histogram2dcontour\":[{\"colorbar\":{\"outlinewidth\":0,\"tickcolor\":\"rgb(237,237,237)\",\"ticklen\":6,\"ticks\":\"inside\"},\"colorscale\":[[0,\"rgb(20,44,66)\"],[1,\"rgb(90,179,244)\"]],\"type\":\"histogram2dcontour\"}],\"histogram2d\":[{\"colorbar\":{\"outlinewidth\":0,\"tickcolor\":\"rgb(237,237,237)\",\"ticklen\":6,\"ticks\":\"inside\"},\"colorscale\":[[0,\"rgb(20,44,66)\"],[1,\"rgb(90,179,244)\"]],\"type\":\"histogram2d\"}],\"histogram\":[{\"marker\":{\"pattern\":{\"fillmode\":\"overlay\",\"size\":10,\"solidity\":0.2}},\"type\":\"histogram\"}],\"mesh3d\":[{\"colorbar\":{\"outlinewidth\":0,\"tickcolor\":\"rgb(237,237,237)\",\"ticklen\":6,\"ticks\":\"inside\"},\"type\":\"mesh3d\"}],\"parcoords\":[{\"line\":{\"colorbar\":{\"outlinewidth\":0,\"tickcolor\":\"rgb(237,237,237)\",\"ticklen\":6,\"ticks\":\"inside\"}},\"type\":\"parcoords\"}],\"pie\":[{\"automargin\":true,\"type\":\"pie\"}],\"scatter3d\":[{\"line\":{\"colorbar\":{\"outlinewidth\":0,\"tickcolor\":\"rgb(237,237,237)\",\"ticklen\":6,\"ticks\":\"inside\"}},\"marker\":{\"colorbar\":{\"outlinewidth\":0,\"tickcolor\":\"rgb(237,237,237)\",\"ticklen\":6,\"ticks\":\"inside\"}},\"type\":\"scatter3d\"}],\"scattercarpet\":[{\"marker\":{\"colorbar\":{\"outlinewidth\":0,\"tickcolor\":\"rgb(237,237,237)\",\"ticklen\":6,\"ticks\":\"inside\"}},\"type\":\"scattercarpet\"}],\"scattergeo\":[{\"marker\":{\"colorbar\":{\"outlinewidth\":0,\"tickcolor\":\"rgb(237,237,237)\",\"ticklen\":6,\"ticks\":\"inside\"}},\"type\":\"scattergeo\"}],\"scattergl\":[{\"marker\":{\"colorbar\":{\"outlinewidth\":0,\"tickcolor\":\"rgb(237,237,237)\",\"ticklen\":6,\"ticks\":\"inside\"}},\"type\":\"scattergl\"}],\"scattermapbox\":[{\"marker\":{\"colorbar\":{\"outlinewidth\":0,\"tickcolor\":\"rgb(237,237,237)\",\"ticklen\":6,\"ticks\":\"inside\"}},\"type\":\"scattermapbox\"}],\"scatterpolargl\":[{\"marker\":{\"colorbar\":{\"outlinewidth\":0,\"tickcolor\":\"rgb(237,237,237)\",\"ticklen\":6,\"ticks\":\"inside\"}},\"type\":\"scatterpolargl\"}],\"scatterpolar\":[{\"marker\":{\"colorbar\":{\"outlinewidth\":0,\"tickcolor\":\"rgb(237,237,237)\",\"ticklen\":6,\"ticks\":\"inside\"}},\"type\":\"scatterpolar\"}],\"scatter\":[{\"marker\":{\"colorbar\":{\"outlinewidth\":0,\"tickcolor\":\"rgb(237,237,237)\",\"ticklen\":6,\"ticks\":\"inside\"}},\"type\":\"scatter\"}],\"scatterternary\":[{\"marker\":{\"colorbar\":{\"outlinewidth\":0,\"tickcolor\":\"rgb(237,237,237)\",\"ticklen\":6,\"ticks\":\"inside\"}},\"type\":\"scatterternary\"}],\"surface\":[{\"colorbar\":{\"outlinewidth\":0,\"tickcolor\":\"rgb(237,237,237)\",\"ticklen\":6,\"ticks\":\"inside\"},\"colorscale\":[[0,\"rgb(20,44,66)\"],[1,\"rgb(90,179,244)\"]],\"type\":\"surface\"}],\"table\":[{\"cells\":{\"fill\":{\"color\":\"rgb(237,237,237)\"},\"line\":{\"color\":\"white\"}},\"header\":{\"fill\":{\"color\":\"rgb(217,217,217)\"},\"line\":{\"color\":\"white\"}},\"type\":\"table\"}]},\"layout\":{\"annotationdefaults\":{\"arrowhead\":0,\"arrowwidth\":1},\"autotypenumbers\":\"strict\",\"coloraxis\":{\"colorbar\":{\"outlinewidth\":0,\"tickcolor\":\"rgb(237,237,237)\",\"ticklen\":6,\"ticks\":\"inside\"}},\"colorscale\":{\"sequential\":[[0,\"rgb(20,44,66)\"],[1,\"rgb(90,179,244)\"]],\"sequentialminus\":[[0,\"rgb(20,44,66)\"],[1,\"rgb(90,179,244)\"]]},\"colorway\":[\"#F8766D\",\"#A3A500\",\"#00BF7D\",\"#00B0F6\",\"#E76BF3\"],\"font\":{\"color\":\"rgb(51,51,51)\"},\"geo\":{\"bgcolor\":\"white\",\"lakecolor\":\"white\",\"landcolor\":\"rgb(237,237,237)\",\"showlakes\":true,\"showland\":true,\"subunitcolor\":\"white\"},\"hoverlabel\":{\"align\":\"left\"},\"hovermode\":\"closest\",\"paper_bgcolor\":\"white\",\"plot_bgcolor\":\"rgb(237,237,237)\",\"polar\":{\"angularaxis\":{\"gridcolor\":\"white\",\"linecolor\":\"white\",\"showgrid\":true,\"tickcolor\":\"rgb(51,51,51)\",\"ticks\":\"outside\"},\"bgcolor\":\"rgb(237,237,237)\",\"radialaxis\":{\"gridcolor\":\"white\",\"linecolor\":\"white\",\"showgrid\":true,\"tickcolor\":\"rgb(51,51,51)\",\"ticks\":\"outside\"}},\"scene\":{\"xaxis\":{\"backgroundcolor\":\"rgb(237,237,237)\",\"gridcolor\":\"white\",\"gridwidth\":2,\"linecolor\":\"white\",\"showbackground\":true,\"showgrid\":true,\"tickcolor\":\"rgb(51,51,51)\",\"ticks\":\"outside\",\"zerolinecolor\":\"white\"},\"yaxis\":{\"backgroundcolor\":\"rgb(237,237,237)\",\"gridcolor\":\"white\",\"gridwidth\":2,\"linecolor\":\"white\",\"showbackground\":true,\"showgrid\":true,\"tickcolor\":\"rgb(51,51,51)\",\"ticks\":\"outside\",\"zerolinecolor\":\"white\"},\"zaxis\":{\"backgroundcolor\":\"rgb(237,237,237)\",\"gridcolor\":\"white\",\"gridwidth\":2,\"linecolor\":\"white\",\"showbackground\":true,\"showgrid\":true,\"tickcolor\":\"rgb(51,51,51)\",\"ticks\":\"outside\",\"zerolinecolor\":\"white\"}},\"shapedefaults\":{\"fillcolor\":\"black\",\"line\":{\"width\":0},\"opacity\":0.3},\"ternary\":{\"aaxis\":{\"gridcolor\":\"white\",\"linecolor\":\"white\",\"showgrid\":true,\"tickcolor\":\"rgb(51,51,51)\",\"ticks\":\"outside\"},\"baxis\":{\"gridcolor\":\"white\",\"linecolor\":\"white\",\"showgrid\":true,\"tickcolor\":\"rgb(51,51,51)\",\"ticks\":\"outside\"},\"bgcolor\":\"rgb(237,237,237)\",\"caxis\":{\"gridcolor\":\"white\",\"linecolor\":\"white\",\"showgrid\":true,\"tickcolor\":\"rgb(51,51,51)\",\"ticks\":\"outside\"}},\"xaxis\":{\"automargin\":true,\"gridcolor\":\"white\",\"linecolor\":\"white\",\"showgrid\":true,\"tickcolor\":\"rgb(51,51,51)\",\"ticks\":\"outside\",\"title\":{\"standoff\":15},\"zerolinecolor\":\"white\"},\"yaxis\":{\"automargin\":true,\"gridcolor\":\"white\",\"linecolor\":\"white\",\"showgrid\":true,\"tickcolor\":\"rgb(51,51,51)\",\"ticks\":\"outside\",\"title\":{\"standoff\":15},\"zerolinecolor\":\"white\"}}},\"xaxis\":{\"anchor\":\"y\",\"domain\":[0.0,0.16658333333333333],\"title\":{\"text\":\"year\"},\"showgrid\":false,\"ticks\":\"\"},\"yaxis\":{\"anchor\":\"x\",\"domain\":[0.0,1.0],\"title\":{\"text\":\"Annual Rate of Change of Migrant Stock\"},\"showgrid\":false,\"ticks\":\"\"},\"xaxis2\":{\"anchor\":\"y2\",\"domain\":[0.16668333333333332,0.33326666666666666],\"matches\":\"x\",\"title\":{\"text\":\"year\"},\"showgrid\":false,\"ticks\":\"\"},\"yaxis2\":{\"anchor\":\"x2\",\"domain\":[0.0,1.0],\"matches\":\"y\",\"showticklabels\":false,\"showgrid\":false,\"ticks\":\"\"},\"xaxis3\":{\"anchor\":\"y3\",\"domain\":[0.33336666666666664,0.49995],\"matches\":\"x\",\"title\":{\"text\":\"year\"},\"showgrid\":false,\"ticks\":\"\"},\"yaxis3\":{\"anchor\":\"x3\",\"domain\":[0.0,1.0],\"matches\":\"y\",\"showticklabels\":false,\"showgrid\":false,\"ticks\":\"\"},\"xaxis4\":{\"anchor\":\"y4\",\"domain\":[0.50005,0.6666333333333333],\"matches\":\"x\",\"title\":{\"text\":\"year\"},\"showgrid\":false,\"ticks\":\"\"},\"yaxis4\":{\"anchor\":\"x4\",\"domain\":[0.0,1.0],\"matches\":\"y\",\"showticklabels\":false,\"showgrid\":false,\"ticks\":\"\"},\"xaxis5\":{\"anchor\":\"y5\",\"domain\":[0.6667333333333333,0.8333166666666666],\"matches\":\"x\",\"title\":{\"text\":\"year\"},\"showgrid\":false,\"ticks\":\"\"},\"yaxis5\":{\"anchor\":\"x5\",\"domain\":[0.0,1.0],\"matches\":\"y\",\"showticklabels\":false,\"showgrid\":false,\"ticks\":\"\"},\"xaxis6\":{\"anchor\":\"y6\",\"domain\":[0.8334166666666666,0.9999999999999999],\"matches\":\"x\",\"title\":{\"text\":\"year\"},\"showgrid\":false,\"ticks\":\"\"},\"yaxis6\":{\"anchor\":\"x6\",\"domain\":[0.0,1.0],\"matches\":\"y\",\"showticklabels\":false,\"showgrid\":false,\"ticks\":\"\"},\"annotations\":[{\"font\":{},\"showarrow\":false,\"text\":\"Africa\",\"x\":0.08329166666666667,\"xanchor\":\"center\",\"xref\":\"paper\",\"y\":1.0,\"yanchor\":\"bottom\",\"yref\":\"paper\"},{\"font\":{},\"showarrow\":false,\"text\":\"Asia\",\"x\":0.249975,\"xanchor\":\"center\",\"xref\":\"paper\",\"y\":1.0,\"yanchor\":\"bottom\",\"yref\":\"paper\"},{\"font\":{},\"showarrow\":false,\"text\":\"Europe\",\"x\":0.41665833333333335,\"xanchor\":\"center\",\"xref\":\"paper\",\"y\":1.0,\"yanchor\":\"bottom\",\"yref\":\"paper\"},{\"font\":{},\"showarrow\":false,\"text\":\"Latin America and Caribbean\",\"x\":0.5833416666666666,\"xanchor\":\"center\",\"xref\":\"paper\",\"y\":1.0,\"yanchor\":\"bottom\",\"yref\":\"paper\"},{\"font\":{},\"showarrow\":false,\"text\":\"Northern America\",\"x\":0.7500249999999999,\"xanchor\":\"center\",\"xref\":\"paper\",\"y\":1.0,\"yanchor\":\"bottom\",\"yref\":\"paper\"},{\"font\":{},\"showarrow\":false,\"text\":\"Oceania\",\"x\":0.9167083333333332,\"xanchor\":\"center\",\"xref\":\"paper\",\"y\":1.0,\"yanchor\":\"bottom\",\"yref\":\"paper\"}],\"legend\":{\"tracegroupgap\":0},\"title\":{\"text\":\"Annual Rate of Change of Migrant Stock Per Continent\"},\"boxmode\":\"group\"},                        {\"responsive\": true}                    ).then(function(){\n",
              "                            \n",
              "var gd = document.getElementById('d8c1a383-b965-4f36-9122-dec74ae60a42');\n",
              "var x = new MutationObserver(function (mutations, observer) {{\n",
              "        var display = window.getComputedStyle(gd).display;\n",
              "        if (!display || display === 'none') {{\n",
              "            console.log([gd, 'removed!']);\n",
              "            Plotly.purge(gd);\n",
              "            observer.disconnect();\n",
              "        }}\n",
              "}});\n",
              "\n",
              "// Listen for the removal of the full notebook cells\n",
              "var notebookContainer = gd.closest('#notebook-container');\n",
              "if (notebookContainer) {{\n",
              "    x.observe(notebookContainer, {childList: true});\n",
              "}}\n",
              "\n",
              "// Listen for the clearing of the current output cell\n",
              "var outputEl = gd.closest('.output');\n",
              "if (outputEl) {{\n",
              "    x.observe(outputEl, {childList: true});\n",
              "}}\n",
              "\n",
              "                        })                };                            </script>        </div>\n",
              "</body>\n",
              "</html>"
            ]
          },
          "metadata": {}
        }
      ]
    },
    {
      "cell_type": "code",
      "source": [
        "DF1europe = DF1[DF1['continent'] == 'Europe']\n",
        "DF1europe"
      ],
      "metadata": {
        "colab": {
          "base_uri": "https://localhost:8080/",
          "height": 424
        },
        "id": "evcyC2b0PGkF",
        "outputId": "bb42a817-0391-43e7-84aa-da28bb4e9a56"
      },
      "id": "evcyC2b0PGkF",
      "execution_count": null,
      "outputs": [
        {
          "output_type": "execute_result",
          "data": {
            "text/plain": [
              "             country Country code          region continent  MigrantStock  \\\n",
              "108          Belarus          112  Eastern Europe    Europe     1248977.0   \n",
              "109         Bulgaria          100  Eastern Europe    Europe       21510.0   \n",
              "110   Czech Republic          203  Eastern Europe    Europe      110394.0   \n",
              "111          Hungary          348  Eastern Europe    Europe      347510.0   \n",
              "112           Poland          616  Eastern Europe    Europe     1127771.0   \n",
              "...              ...          ...             ...       ...           ...   \n",
              "4112   Liechtenstein          438  Western Europe    Europe       12065.0   \n",
              "4113      Luxembourg          442  Western Europe    Europe      123145.0   \n",
              "4114          Monaco          492  Western Europe    Europe       10716.0   \n",
              "4115     Netherlands          528  Western Europe    Europe     1037008.0   \n",
              "4116     Switzerland          756  Western Europe    Europe     1243659.0   \n",
              "\n",
              "      year sex  \n",
              "108   1990   b  \n",
              "109   1990   b  \n",
              "110   1990   b  \n",
              "111   1990   b  \n",
              "112   1990   b  \n",
              "...    ...  ..  \n",
              "4112  2015   f  \n",
              "4113  2015   f  \n",
              "4114  2015   f  \n",
              "4115  2015   f  \n",
              "4116  2015   f  \n",
              "\n",
              "[864 rows x 7 columns]"
            ],
            "text/html": [
              "\n",
              "  <div id=\"df-d3e1b9cc-321b-4e8d-b3b7-f9685b2d3564\">\n",
              "    <div class=\"colab-df-container\">\n",
              "      <div>\n",
              "<style scoped>\n",
              "    .dataframe tbody tr th:only-of-type {\n",
              "        vertical-align: middle;\n",
              "    }\n",
              "\n",
              "    .dataframe tbody tr th {\n",
              "        vertical-align: top;\n",
              "    }\n",
              "\n",
              "    .dataframe thead th {\n",
              "        text-align: right;\n",
              "    }\n",
              "</style>\n",
              "<table border=\"1\" class=\"dataframe\">\n",
              "  <thead>\n",
              "    <tr style=\"text-align: right;\">\n",
              "      <th></th>\n",
              "      <th>country</th>\n",
              "      <th>Country code</th>\n",
              "      <th>region</th>\n",
              "      <th>continent</th>\n",
              "      <th>MigrantStock</th>\n",
              "      <th>year</th>\n",
              "      <th>sex</th>\n",
              "    </tr>\n",
              "  </thead>\n",
              "  <tbody>\n",
              "    <tr>\n",
              "      <th>108</th>\n",
              "      <td>Belarus</td>\n",
              "      <td>112</td>\n",
              "      <td>Eastern Europe</td>\n",
              "      <td>Europe</td>\n",
              "      <td>1248977.0</td>\n",
              "      <td>1990</td>\n",
              "      <td>b</td>\n",
              "    </tr>\n",
              "    <tr>\n",
              "      <th>109</th>\n",
              "      <td>Bulgaria</td>\n",
              "      <td>100</td>\n",
              "      <td>Eastern Europe</td>\n",
              "      <td>Europe</td>\n",
              "      <td>21510.0</td>\n",
              "      <td>1990</td>\n",
              "      <td>b</td>\n",
              "    </tr>\n",
              "    <tr>\n",
              "      <th>110</th>\n",
              "      <td>Czech Republic</td>\n",
              "      <td>203</td>\n",
              "      <td>Eastern Europe</td>\n",
              "      <td>Europe</td>\n",
              "      <td>110394.0</td>\n",
              "      <td>1990</td>\n",
              "      <td>b</td>\n",
              "    </tr>\n",
              "    <tr>\n",
              "      <th>111</th>\n",
              "      <td>Hungary</td>\n",
              "      <td>348</td>\n",
              "      <td>Eastern Europe</td>\n",
              "      <td>Europe</td>\n",
              "      <td>347510.0</td>\n",
              "      <td>1990</td>\n",
              "      <td>b</td>\n",
              "    </tr>\n",
              "    <tr>\n",
              "      <th>112</th>\n",
              "      <td>Poland</td>\n",
              "      <td>616</td>\n",
              "      <td>Eastern Europe</td>\n",
              "      <td>Europe</td>\n",
              "      <td>1127771.0</td>\n",
              "      <td>1990</td>\n",
              "      <td>b</td>\n",
              "    </tr>\n",
              "    <tr>\n",
              "      <th>...</th>\n",
              "      <td>...</td>\n",
              "      <td>...</td>\n",
              "      <td>...</td>\n",
              "      <td>...</td>\n",
              "      <td>...</td>\n",
              "      <td>...</td>\n",
              "      <td>...</td>\n",
              "    </tr>\n",
              "    <tr>\n",
              "      <th>4112</th>\n",
              "      <td>Liechtenstein</td>\n",
              "      <td>438</td>\n",
              "      <td>Western Europe</td>\n",
              "      <td>Europe</td>\n",
              "      <td>12065.0</td>\n",
              "      <td>2015</td>\n",
              "      <td>f</td>\n",
              "    </tr>\n",
              "    <tr>\n",
              "      <th>4113</th>\n",
              "      <td>Luxembourg</td>\n",
              "      <td>442</td>\n",
              "      <td>Western Europe</td>\n",
              "      <td>Europe</td>\n",
              "      <td>123145.0</td>\n",
              "      <td>2015</td>\n",
              "      <td>f</td>\n",
              "    </tr>\n",
              "    <tr>\n",
              "      <th>4114</th>\n",
              "      <td>Monaco</td>\n",
              "      <td>492</td>\n",
              "      <td>Western Europe</td>\n",
              "      <td>Europe</td>\n",
              "      <td>10716.0</td>\n",
              "      <td>2015</td>\n",
              "      <td>f</td>\n",
              "    </tr>\n",
              "    <tr>\n",
              "      <th>4115</th>\n",
              "      <td>Netherlands</td>\n",
              "      <td>528</td>\n",
              "      <td>Western Europe</td>\n",
              "      <td>Europe</td>\n",
              "      <td>1037008.0</td>\n",
              "      <td>2015</td>\n",
              "      <td>f</td>\n",
              "    </tr>\n",
              "    <tr>\n",
              "      <th>4116</th>\n",
              "      <td>Switzerland</td>\n",
              "      <td>756</td>\n",
              "      <td>Western Europe</td>\n",
              "      <td>Europe</td>\n",
              "      <td>1243659.0</td>\n",
              "      <td>2015</td>\n",
              "      <td>f</td>\n",
              "    </tr>\n",
              "  </tbody>\n",
              "</table>\n",
              "<p>864 rows × 7 columns</p>\n",
              "</div>\n",
              "      <button class=\"colab-df-convert\" onclick=\"convertToInteractive('df-d3e1b9cc-321b-4e8d-b3b7-f9685b2d3564')\"\n",
              "              title=\"Convert this dataframe to an interactive table.\"\n",
              "              style=\"display:none;\">\n",
              "        \n",
              "  <svg xmlns=\"http://www.w3.org/2000/svg\" height=\"24px\"viewBox=\"0 0 24 24\"\n",
              "       width=\"24px\">\n",
              "    <path d=\"M0 0h24v24H0V0z\" fill=\"none\"/>\n",
              "    <path d=\"M18.56 5.44l.94 2.06.94-2.06 2.06-.94-2.06-.94-.94-2.06-.94 2.06-2.06.94zm-11 1L8.5 8.5l.94-2.06 2.06-.94-2.06-.94L8.5 2.5l-.94 2.06-2.06.94zm10 10l.94 2.06.94-2.06 2.06-.94-2.06-.94-.94-2.06-.94 2.06-2.06.94z\"/><path d=\"M17.41 7.96l-1.37-1.37c-.4-.4-.92-.59-1.43-.59-.52 0-1.04.2-1.43.59L10.3 9.45l-7.72 7.72c-.78.78-.78 2.05 0 2.83L4 21.41c.39.39.9.59 1.41.59.51 0 1.02-.2 1.41-.59l7.78-7.78 2.81-2.81c.8-.78.8-2.07 0-2.86zM5.41 20L4 18.59l7.72-7.72 1.47 1.35L5.41 20z\"/>\n",
              "  </svg>\n",
              "      </button>\n",
              "      \n",
              "  <style>\n",
              "    .colab-df-container {\n",
              "      display:flex;\n",
              "      flex-wrap:wrap;\n",
              "      gap: 12px;\n",
              "    }\n",
              "\n",
              "    .colab-df-convert {\n",
              "      background-color: #E8F0FE;\n",
              "      border: none;\n",
              "      border-radius: 50%;\n",
              "      cursor: pointer;\n",
              "      display: none;\n",
              "      fill: #1967D2;\n",
              "      height: 32px;\n",
              "      padding: 0 0 0 0;\n",
              "      width: 32px;\n",
              "    }\n",
              "\n",
              "    .colab-df-convert:hover {\n",
              "      background-color: #E2EBFA;\n",
              "      box-shadow: 0px 1px 2px rgba(60, 64, 67, 0.3), 0px 1px 3px 1px rgba(60, 64, 67, 0.15);\n",
              "      fill: #174EA6;\n",
              "    }\n",
              "\n",
              "    [theme=dark] .colab-df-convert {\n",
              "      background-color: #3B4455;\n",
              "      fill: #D2E3FC;\n",
              "    }\n",
              "\n",
              "    [theme=dark] .colab-df-convert:hover {\n",
              "      background-color: #434B5C;\n",
              "      box-shadow: 0px 1px 3px 1px rgba(0, 0, 0, 0.15);\n",
              "      filter: drop-shadow(0px 1px 2px rgba(0, 0, 0, 0.3));\n",
              "      fill: #FFFFFF;\n",
              "    }\n",
              "  </style>\n",
              "\n",
              "      <script>\n",
              "        const buttonEl =\n",
              "          document.querySelector('#df-d3e1b9cc-321b-4e8d-b3b7-f9685b2d3564 button.colab-df-convert');\n",
              "        buttonEl.style.display =\n",
              "          google.colab.kernel.accessAllowed ? 'block' : 'none';\n",
              "\n",
              "        async function convertToInteractive(key) {\n",
              "          const element = document.querySelector('#df-d3e1b9cc-321b-4e8d-b3b7-f9685b2d3564');\n",
              "          const dataTable =\n",
              "            await google.colab.kernel.invokeFunction('convertToInteractive',\n",
              "                                                     [key], {});\n",
              "          if (!dataTable) return;\n",
              "\n",
              "          const docLinkHtml = 'Like what you see? Visit the ' +\n",
              "            '<a target=\"_blank\" href=https://colab.research.google.com/notebooks/data_table.ipynb>data table notebook</a>'\n",
              "            + ' to learn more about interactive tables.';\n",
              "          element.innerHTML = '';\n",
              "          dataTable['output_type'] = 'display_data';\n",
              "          await google.colab.output.renderOutput(dataTable, element);\n",
              "          const docLink = document.createElement('div');\n",
              "          docLink.innerHTML = docLinkHtml;\n",
              "          element.appendChild(docLink);\n",
              "        }\n",
              "      </script>\n",
              "    </div>\n",
              "  </div>\n",
              "  "
            ]
          },
          "metadata": {},
          "execution_count": 180
        }
      ]
    },
    {
      "cell_type": "code",
      "source": [
        "DF61westerneurope = DF61[DF61['region'] == 'Western Europe']\n",
        "vizWE= sns.lineplot(data=DF61westerneurope, x=\"Year\", y=\"Estimated Refugee Stock MidYear\", hue = \"country\")\n",
        "\n",
        "title = vizWE.set_title(\"Refugee Stock Mid-Year in Western European Countries\") \n",
        "title.set_position((1,1.05))\n",
        "plt.legend(bbox_to_anchor=(1.5, 1))\n",
        "\n",
        "plt.show()\n",
        "fig = vizWE.get_figure()\n",
        "fig.savefig(\"chart.png\", format=\"png\")"
      ],
      "metadata": {
        "colab": {
          "base_uri": "https://localhost:8080/",
          "height": 306
        },
        "id": "KqX3kbsuRt0W",
        "outputId": "6e55ebf6-b7d2-4dc2-8be4-254a8bba453c"
      },
      "id": "KqX3kbsuRt0W",
      "execution_count": null,
      "outputs": [
        {
          "output_type": "display_data",
          "data": {
            "text/plain": [
              "<Figure size 432x288 with 1 Axes>"
            ],
            "image/png": "[encoded data removed]"
          },
          "metadata": {
            "needs_background": "light"
          }
        }
      ]
    },
    {
      "cell_type": "code",
      "source": [
        "df5_largest = DF5both.nlargest(25, ['Annual Rate of Change of Migrant Stock'], keep='first')\n",
        "\n",
        "df5_largest.head(3)"
      ],
      "metadata": {
        "colab": {
          "base_uri": "https://localhost:8080/",
          "height": 143
        },
        "id": "dmB-Gjc-UA4n",
        "outputId": "9fc5f709-88fd-4e5d-b916-73caeefaedde"
      },
      "id": "dmB-Gjc-UA4n",
      "execution_count": null,
      "outputs": [
        {
          "output_type": "execute_result",
          "data": {
            "text/plain": [
              "          country Country code           region continent  \\\n",
              "143        Serbia          688  Southern Europe    Europe   \n",
              "1013  Afghanistan            4    Southern Asia      Asia   \n",
              "489          Chad          148    Middle Africa    Africa   \n",
              "\n",
              "      Annual Rate of Change of Migrant Stock       year sex  \n",
              "143                                36.964744  1990-1995   b  \n",
              "1013                               26.379880  2010-2015   b  \n",
              "489                                24.230300  2000-2005   b  "
            ],
            "text/html": [
              "\n",
              "  <div id=\"df-c5acbb56-1ec8-4391-952b-8086a833435c\">\n",
              "    <div class=\"colab-df-container\">\n",
              "      <div>\n",
              "<style scoped>\n",
              "    .dataframe tbody tr th:only-of-type {\n",
              "        vertical-align: middle;\n",
              "    }\n",
              "\n",
              "    .dataframe tbody tr th {\n",
              "        vertical-align: top;\n",
              "    }\n",
              "\n",
              "    .dataframe thead th {\n",
              "        text-align: right;\n",
              "    }\n",
              "</style>\n",
              "<table border=\"1\" class=\"dataframe\">\n",
              "  <thead>\n",
              "    <tr style=\"text-align: right;\">\n",
              "      <th></th>\n",
              "      <th>country</th>\n",
              "      <th>Country code</th>\n",
              "      <th>region</th>\n",
              "      <th>continent</th>\n",
              "      <th>Annual Rate of Change of Migrant Stock</th>\n",
              "      <th>year</th>\n",
              "      <th>sex</th>\n",
              "    </tr>\n",
              "  </thead>\n",
              "  <tbody>\n",
              "    <tr>\n",
              "      <th>143</th>\n",
              "      <td>Serbia</td>\n",
              "      <td>688</td>\n",
              "      <td>Southern Europe</td>\n",
              "      <td>Europe</td>\n",
              "      <td>36.964744</td>\n",
              "      <td>1990-1995</td>\n",
              "      <td>b</td>\n",
              "    </tr>\n",
              "    <tr>\n",
              "      <th>1013</th>\n",
              "      <td>Afghanistan</td>\n",
              "      <td>4</td>\n",
              "      <td>Southern Asia</td>\n",
              "      <td>Asia</td>\n",
              "      <td>26.379880</td>\n",
              "      <td>2010-2015</td>\n",
              "      <td>b</td>\n",
              "    </tr>\n",
              "    <tr>\n",
              "      <th>489</th>\n",
              "      <td>Chad</td>\n",
              "      <td>148</td>\n",
              "      <td>Middle Africa</td>\n",
              "      <td>Africa</td>\n",
              "      <td>24.230300</td>\n",
              "      <td>2000-2005</td>\n",
              "      <td>b</td>\n",
              "    </tr>\n",
              "  </tbody>\n",
              "</table>\n",
              "</div>\n",
              "      <button class=\"colab-df-convert\" onclick=\"convertToInteractive('df-c5acbb56-1ec8-4391-952b-8086a833435c')\"\n",
              "              title=\"Convert this dataframe to an interactive table.\"\n",
              "              style=\"display:none;\">\n",
              "        \n",
              "  <svg xmlns=\"http://www.w3.org/2000/svg\" height=\"24px\"viewBox=\"0 0 24 24\"\n",
              "       width=\"24px\">\n",
              "    <path d=\"M0 0h24v24H0V0z\" fill=\"none\"/>\n",
              "    <path d=\"M18.56 5.44l.94 2.06.94-2.06 2.06-.94-2.06-.94-.94-2.06-.94 2.06-2.06.94zm-11 1L8.5 8.5l.94-2.06 2.06-.94-2.06-.94L8.5 2.5l-.94 2.06-2.06.94zm10 10l.94 2.06.94-2.06 2.06-.94-2.06-.94-.94-2.06-.94 2.06-2.06.94z\"/><path d=\"M17.41 7.96l-1.37-1.37c-.4-.4-.92-.59-1.43-.59-.52 0-1.04.2-1.43.59L10.3 9.45l-7.72 7.72c-.78.78-.78 2.05 0 2.83L4 21.41c.39.39.9.59 1.41.59.51 0 1.02-.2 1.41-.59l7.78-7.78 2.81-2.81c.8-.78.8-2.07 0-2.86zM5.41 20L4 18.59l7.72-7.72 1.47 1.35L5.41 20z\"/>\n",
              "  </svg>\n",
              "      </button>\n",
              "      \n",
              "  <style>\n",
              "    .colab-df-container {\n",
              "      display:flex;\n",
              "      flex-wrap:wrap;\n",
              "      gap: 12px;\n",
              "    }\n",
              "\n",
              "    .colab-df-convert {\n",
              "      background-color: #E8F0FE;\n",
              "      border: none;\n",
              "      border-radius: 50%;\n",
              "      cursor: pointer;\n",
              "      display: none;\n",
              "      fill: #1967D2;\n",
              "      height: 32px;\n",
              "      padding: 0 0 0 0;\n",
              "      width: 32px;\n",
              "    }\n",
              "\n",
              "    .colab-df-convert:hover {\n",
              "      background-color: #E2EBFA;\n",
              "      box-shadow: 0px 1px 2px rgba(60, 64, 67, 0.3), 0px 1px 3px 1px rgba(60, 64, 67, 0.15);\n",
              "      fill: #174EA6;\n",
              "    }\n",
              "\n",
              "    [theme=dark] .colab-df-convert {\n",
              "      background-color: #3B4455;\n",
              "      fill: #D2E3FC;\n",
              "    }\n",
              "\n",
              "    [theme=dark] .colab-df-convert:hover {\n",
              "      background-color: #434B5C;\n",
              "      box-shadow: 0px 1px 3px 1px rgba(0, 0, 0, 0.15);\n",
              "      filter: drop-shadow(0px 1px 2px rgba(0, 0, 0, 0.3));\n",
              "      fill: #FFFFFF;\n",
              "    }\n",
              "  </style>\n",
              "\n",
              "      <script>\n",
              "        const buttonEl =\n",
              "          document.querySelector('#df-c5acbb56-1ec8-4391-952b-8086a833435c button.colab-df-convert');\n",
              "        buttonEl.style.display =\n",
              "          google.colab.kernel.accessAllowed ? 'block' : 'none';\n",
              "\n",
              "        async function convertToInteractive(key) {\n",
              "          const element = document.querySelector('#df-c5acbb56-1ec8-4391-952b-8086a833435c');\n",
              "          const dataTable =\n",
              "            await google.colab.kernel.invokeFunction('convertToInteractive',\n",
              "                                                     [key], {});\n",
              "          if (!dataTable) return;\n",
              "\n",
              "          const docLinkHtml = 'Like what you see? Visit the ' +\n",
              "            '<a target=\"_blank\" href=https://colab.research.google.com/notebooks/data_table.ipynb>data table notebook</a>'\n",
              "            + ' to learn more about interactive tables.';\n",
              "          element.innerHTML = '';\n",
              "          dataTable['output_type'] = 'display_data';\n",
              "          await google.colab.output.renderOutput(dataTable, element);\n",
              "          const docLink = document.createElement('div');\n",
              "          docLink.innerHTML = docLinkHtml;\n",
              "          element.appendChild(docLink);\n",
              "        }\n",
              "      </script>\n",
              "    </div>\n",
              "  </div>\n",
              "  "
            ]
          },
          "metadata": {},
          "execution_count": 192
        }
      ]
    },
    {
      "cell_type": "code",
      "source": [
        "sns.set_style\n",
        "\n",
        "# create the plot\n",
        "sns.lineplot(data=DF1MF[DF1MF['country'] == 'Serbia'], x=\"year\", y=\"MigrantStock\", label=\"Serbia Migrant Stock\", color = \"red\", linestyle= \"solid\")\n",
        "sns.lineplot(data=DF61[DF1['country'] == 'Serbia'], x=\"Year\", y=\"Estimated Refugee Stock MidYear\", label=\"Serbia Refugee Stock\", color = \"red\", linestyle= \"dotted\")\n",
        "sns.lineplot(data=DF1MF[DF1MF['country'] == 'Bosnia and Herzegovina'], x=\"year\", y=\"MigrantStock\", label=\"Bosnia and Herzegovina Migrant Stock\", color = \"blue\", linestyle= \"solid\")\n",
        "sns.lineplot(data=DF61[DF1['country'] == 'Bosnia and Herzegovina'], x=\"Year\", y=\"Estimated Refugee Stock MidYear\", label=\"Bosnia and Herzegovina Refugee Stock\", color = \"blue\", linestyle= \"dotted\")\n",
        "sns.lineplot(data=DF1MF[DF1MF['country'] == 'Croatia'], x=\"year\", y=\"MigrantStock\", label=\"Croatia Migrant Stock\", color = \"green\", linestyle= \"solid\")\n",
        "sns.lineplot(data=DF61[DF1['country'] == 'Croatia'], x=\"Year\", y=\"Estimated Refugee Stock MidYear\", label=\"Croatia Refugee Stock\", color = \"green\", linestyle= \"dotted\")\n",
        "\n",
        "# show the legend\n",
        "plt.legend(bbox_to_anchor=(0, -0.3))\n",
        "\n",
        "plt.title(\"Migrant and Refugee Stock Trends in Croatia, Serbia and Bosnia\") \n",
        "\n",
        "plt.legend(bbox_to_anchor=(1, 1))\n",
        "plt.ylabel(\"Stock Count\")\n",
        "plt.show()\n",
        "\n",
        "\n",
        "\n",
        "# show the plot\n",
        "plt.show()"
      ],
      "metadata": {
        "colab": {
          "base_uri": "https://localhost:8080/",
          "height": 509
        },
        "id": "2CAOmkfqUMRi",
        "outputId": "8950ba16-be98-4dc1-c84a-74e1634d836e"
      },
      "id": "2CAOmkfqUMRi",
      "execution_count": null,
      "outputs": [
        {
          "output_type": "stream",
          "name": "stderr",
          "text": [
            "<ipython-input-71-5cf8ff53962e>:5: UserWarning:\n",
            "\n",
            "Boolean Series key will be reindexed to match DataFrame index.\n",
            "\n",
            "<ipython-input-71-5cf8ff53962e>:7: UserWarning:\n",
            "\n",
            "Boolean Series key will be reindexed to match DataFrame index.\n",
            "\n",
            "<ipython-input-71-5cf8ff53962e>:9: UserWarning:\n",
            "\n",
            "Boolean Series key will be reindexed to match DataFrame index.\n",
            "\n"
          ]
        },
        {
          "output_type": "display_data",
          "data": {
            "text/plain": [
              "<Figure size 432x288 with 1 Axes>"
            ],
            "image/png": "[encoded data removed]"
          },
          "metadata": {
            "needs_background": "light"
          }
        }
      ]
    },
    {
      "cell_type": "code",
      "source": [
        "sns.lineplot(data=DF2MF[DF2MF['country'] == 'Bosnia and Herzegovina'], x=\"year\", y=\"Total Population Mid Year\", label=\"Bosnia and Herzegovina\", linestyle= \"solid\")\n",
        "sns.lineplot(data=DF2MF[DF2MF['country'] == 'Serbia'], x=\"year\", y=\"Total Population Mid Year\", label=\"Serbia\", linestyle= \"solid\")\n",
        "sns.lineplot(data=DF2MF[DF2MF['country'] == 'Croatia'], x=\"year\", y=\"Total Population Mid Year\", label=\"Crotia\", linestyle= \"solid\")\n",
        "\n",
        "plt.legend(bbox_to_anchor=(0, -0.3))\n",
        "\n",
        "plt.title(\"Total Population Trends in Croatia, Serbia and Bosnia\") \n",
        "plt.xlabel(\"Year\")\n",
        "plt.legend(bbox_to_anchor=(1, 1))\n",
        "\n",
        "plt.show()\n",
        "\n",
        "\n"
      ],
      "metadata": {
        "colab": {
          "base_uri": "https://localhost:8080/",
          "height": 295
        },
        "id": "P6QjH3PVTO4Y",
        "outputId": "542979fc-0804-4ff9-ed3a-b8b1e0a092c0"
      },
      "id": "P6QjH3PVTO4Y",
      "execution_count": null,
      "outputs": [
        {
          "output_type": "display_data",
          "data": {
            "text/plain": [
              "<Figure size 432x288 with 1 Axes>"
            ],
            "image/png": "[encoded data removed]"
          },
          "metadata": {
            "needs_background": "light"
          }
        }
      ]
    },
    {
      "cell_type": "code",
      "source": [],
      "metadata": {
        "id": "VARwpkTLlC6O"
      },
      "id": "VARwpkTLlC6O",
      "execution_count": null,
      "outputs": []
    },
    {
      "cell_type": "code",
      "source": [
        "sns.lineplot(data=DF3MF[DF3MF['country'] == 'Bosnia and Herzegovina'], x=\"year\", y=\"Migrant Stock as Percentage\", label=\"Bosnia and Herzegovina\", linestyle= \"solid\")\n",
        "sns.lineplot(data=DF3MF[DF3MF['country'] == 'Serbia'], x=\"year\", y=\"Migrant Stock as Percentage\", label=\"Serbia\", linestyle= \"solid\")\n",
        "sns.lineplot(data=DF3MF[DF3MF['country'] == 'Croatia'], x=\"year\", y=\"Migrant Stock as Percentage\", label=\"Croatia\", linestyle= \"solid\")\n",
        "sns.lineplot(data=DF3MF[DF3MF['country'] == 'Germany'], x=\"year\", y=\"Migrant Stock as Percentage\", label=\"Germany\", linestyle= \"solid\")\n",
        "\n",
        "plt.legend(bbox_to_anchor=(0, -0.3))\n",
        "\n",
        "plt.title(\"Migrant Stock as Percentage of Total Population in Germany, Croatia, Serbia and Bosnia\") \n",
        "plt.xlabel(\"Year\")\n",
        "plt.legend(bbox_to_anchor=(1, 1))\n",
        "\n",
        "plt.show()\n",
        "\n",
        "\n"
      ],
      "metadata": {
        "colab": {
          "base_uri": "https://localhost:8080/",
          "height": 295
        },
        "outputId": "62f34f6a-bc59-45ce-d495-092191990076",
        "id": "zjUwmYtOlD-2"
      },
      "execution_count": null,
      "outputs": [
        {
          "output_type": "display_data",
          "data": {
            "text/plain": [
              "<Figure size 432x288 with 1 Axes>"
            ],
            "image/png": "[encoded data removed]"
          },
          "metadata": {
            "needs_background": "light"
          }
        }
      ],
      "id": "zjUwmYtOlD-2"
    },
    {
      "cell_type": "code",
      "source": [
        "temp = DF4[DF4['Year'] == 1995]\n",
        "temp = temp[temp['country'].isin(['Croatia', 'Serbia', 'Bosnia and Herzegovina', 'Germany'])]\n",
        "temp.head()"
      ],
      "metadata": {
        "colab": {
          "base_uri": "https://localhost:8080/",
          "height": 175
        },
        "id": "k6cO5ESAGj6K",
        "outputId": "0fe7360f-d585-4b19-ff01-beba9ef3cfc9"
      },
      "id": "k6cO5ESAGj6K",
      "execution_count": null,
      "outputs": [
        {
          "output_type": "execute_result",
          "data": {
            "text/plain": [
              "                    country Country code           region continent  Year  \\\n",
              "366  Bosnia and Herzegovina           70  Southern Europe    Europe  1995   \n",
              "367                 Croatia          191  Southern Europe    Europe  1995   \n",
              "376                  Serbia          688  Southern Europe    Europe  1995   \n",
              "383                 Germany          276   Western Europe    Europe  1995   \n",
              "\n",
              "     Female Migrants as Percentage of Total Pop  \n",
              "366                                   52.336058  \n",
              "367                                   53.161248  \n",
              "376                                   54.056593  \n",
              "383                                   47.773513  "
            ],
            "text/html": [
              "\n",
              "  <div id=\"df-c88e6596-9f15-4fdd-bd90-e843136887e0\">\n",
              "    <div class=\"colab-df-container\">\n",
              "      <div>\n",
              "<style scoped>\n",
              "    .dataframe tbody tr th:only-of-type {\n",
              "        vertical-align: middle;\n",
              "    }\n",
              "\n",
              "    .dataframe tbody tr th {\n",
              "        vertical-align: top;\n",
              "    }\n",
              "\n",
              "    .dataframe thead th {\n",
              "        text-align: right;\n",
              "    }\n",
              "</style>\n",
              "<table border=\"1\" class=\"dataframe\">\n",
              "  <thead>\n",
              "    <tr style=\"text-align: right;\">\n",
              "      <th></th>\n",
              "      <th>country</th>\n",
              "      <th>Country code</th>\n",
              "      <th>region</th>\n",
              "      <th>continent</th>\n",
              "      <th>Year</th>\n",
              "      <th>Female Migrants as Percentage of Total Pop</th>\n",
              "    </tr>\n",
              "  </thead>\n",
              "  <tbody>\n",
              "    <tr>\n",
              "      <th>366</th>\n",
              "      <td>Bosnia and Herzegovina</td>\n",
              "      <td>70</td>\n",
              "      <td>Southern Europe</td>\n",
              "      <td>Europe</td>\n",
              "      <td>1995</td>\n",
              "      <td>52.336058</td>\n",
              "    </tr>\n",
              "    <tr>\n",
              "      <th>367</th>\n",
              "      <td>Croatia</td>\n",
              "      <td>191</td>\n",
              "      <td>Southern Europe</td>\n",
              "      <td>Europe</td>\n",
              "      <td>1995</td>\n",
              "      <td>53.161248</td>\n",
              "    </tr>\n",
              "    <tr>\n",
              "      <th>376</th>\n",
              "      <td>Serbia</td>\n",
              "      <td>688</td>\n",
              "      <td>Southern Europe</td>\n",
              "      <td>Europe</td>\n",
              "      <td>1995</td>\n",
              "      <td>54.056593</td>\n",
              "    </tr>\n",
              "    <tr>\n",
              "      <th>383</th>\n",
              "      <td>Germany</td>\n",
              "      <td>276</td>\n",
              "      <td>Western Europe</td>\n",
              "      <td>Europe</td>\n",
              "      <td>1995</td>\n",
              "      <td>47.773513</td>\n",
              "    </tr>\n",
              "  </tbody>\n",
              "</table>\n",
              "</div>\n",
              "      <button class=\"colab-df-convert\" onclick=\"convertToInteractive('df-c88e6596-9f15-4fdd-bd90-e843136887e0')\"\n",
              "              title=\"Convert this dataframe to an interactive table.\"\n",
              "              style=\"display:none;\">\n",
              "        \n",
              "  <svg xmlns=\"http://www.w3.org/2000/svg\" height=\"24px\"viewBox=\"0 0 24 24\"\n",
              "       width=\"24px\">\n",
              "    <path d=\"M0 0h24v24H0V0z\" fill=\"none\"/>\n",
              "    <path d=\"M18.56 5.44l.94 2.06.94-2.06 2.06-.94-2.06-.94-.94-2.06-.94 2.06-2.06.94zm-11 1L8.5 8.5l.94-2.06 2.06-.94-2.06-.94L8.5 2.5l-.94 2.06-2.06.94zm10 10l.94 2.06.94-2.06 2.06-.94-2.06-.94-.94-2.06-.94 2.06-2.06.94z\"/><path d=\"M17.41 7.96l-1.37-1.37c-.4-.4-.92-.59-1.43-.59-.52 0-1.04.2-1.43.59L10.3 9.45l-7.72 7.72c-.78.78-.78 2.05 0 2.83L4 21.41c.39.39.9.59 1.41.59.51 0 1.02-.2 1.41-.59l7.78-7.78 2.81-2.81c.8-.78.8-2.07 0-2.86zM5.41 20L4 18.59l7.72-7.72 1.47 1.35L5.41 20z\"/>\n",
              "  </svg>\n",
              "      </button>\n",
              "      \n",
              "  <style>\n",
              "    .colab-df-container {\n",
              "      display:flex;\n",
              "      flex-wrap:wrap;\n",
              "      gap: 12px;\n",
              "    }\n",
              "\n",
              "    .colab-df-convert {\n",
              "      background-color: #E8F0FE;\n",
              "      border: none;\n",
              "      border-radius: 50%;\n",
              "      cursor: pointer;\n",
              "      display: none;\n",
              "      fill: #1967D2;\n",
              "      height: 32px;\n",
              "      padding: 0 0 0 0;\n",
              "      width: 32px;\n",
              "    }\n",
              "\n",
              "    .colab-df-convert:hover {\n",
              "      background-color: #E2EBFA;\n",
              "      box-shadow: 0px 1px 2px rgba(60, 64, 67, 0.3), 0px 1px 3px 1px rgba(60, 64, 67, 0.15);\n",
              "      fill: #174EA6;\n",
              "    }\n",
              "\n",
              "    [theme=dark] .colab-df-convert {\n",
              "      background-color: #3B4455;\n",
              "      fill: #D2E3FC;\n",
              "    }\n",
              "\n",
              "    [theme=dark] .colab-df-convert:hover {\n",
              "      background-color: #434B5C;\n",
              "      box-shadow: 0px 1px 3px 1px rgba(0, 0, 0, 0.15);\n",
              "      filter: drop-shadow(0px 1px 2px rgba(0, 0, 0, 0.3));\n",
              "      fill: #FFFFFF;\n",
              "    }\n",
              "  </style>\n",
              "\n",
              "      <script>\n",
              "        const buttonEl =\n",
              "          document.querySelector('#df-c88e6596-9f15-4fdd-bd90-e843136887e0 button.colab-df-convert');\n",
              "        buttonEl.style.display =\n",
              "          google.colab.kernel.accessAllowed ? 'block' : 'none';\n",
              "\n",
              "        async function convertToInteractive(key) {\n",
              "          const element = document.querySelector('#df-c88e6596-9f15-4fdd-bd90-e843136887e0');\n",
              "          const dataTable =\n",
              "            await google.colab.kernel.invokeFunction('convertToInteractive',\n",
              "                                                     [key], {});\n",
              "          if (!dataTable) return;\n",
              "\n",
              "          const docLinkHtml = 'Like what you see? Visit the ' +\n",
              "            '<a target=\"_blank\" href=https://colab.research.google.com/notebooks/data_table.ipynb>data table notebook</a>'\n",
              "            + ' to learn more about interactive tables.';\n",
              "          element.innerHTML = '';\n",
              "          dataTable['output_type'] = 'display_data';\n",
              "          await google.colab.output.renderOutput(dataTable, element);\n",
              "          const docLink = document.createElement('div');\n",
              "          docLink.innerHTML = docLinkHtml;\n",
              "          element.appendChild(docLink);\n",
              "        }\n",
              "      </script>\n",
              "    </div>\n",
              "  </div>\n",
              "  "
            ]
          },
          "metadata": {},
          "execution_count": 55
        }
      ]
    },
    {
      "cell_type": "code",
      "source": [
        "temp2 = DF3MF[DF3MF['year'] == 1995]\n",
        "temp2 = temp2[temp2['country'].isin(['Croatia', 'Serbia', 'Bosnia and Herzegovina', 'Germany'])]\n",
        "temp2.loc[temp2['sex'] == 'f', 'sex'] = \"Female\"\n",
        "temp2.loc[temp2['sex'] == 'm', 'sex'] = \"Male\"\n",
        "temp2.head(10)"
      ],
      "metadata": {
        "colab": {
          "base_uri": "https://localhost:8080/",
          "height": 300
        },
        "outputId": "026ec92f-79e6-4c2c-a03a-57f242f910be",
        "id": "Eab-yzVYK8kL"
      },
      "execution_count": null,
      "outputs": [
        {
          "output_type": "execute_result",
          "data": {
            "text/plain": [
              "                     country Country code           region continent  \\\n",
              "1764  Bosnia and Herzegovina           70  Southern Europe    Europe   \n",
              "1765                 Croatia          191  Southern Europe    Europe   \n",
              "1774                  Serbia          688  Southern Europe    Europe   \n",
              "1781                 Germany          276   Western Europe    Europe   \n",
              "3162  Bosnia and Herzegovina           70  Southern Europe    Europe   \n",
              "3163                 Croatia          191  Southern Europe    Europe   \n",
              "3172                  Serbia          688  Southern Europe    Europe   \n",
              "3179                 Germany          276   Western Europe    Europe   \n",
              "\n",
              "      Migrant Stock as Percentage  year     sex  \n",
              "1764                     1.713128  1995    Male  \n",
              "1765                    14.138162  1995    Male  \n",
              "1774                     5.944810  1995    Male  \n",
              "1781                     9.801749  1995    Male  \n",
              "3162                     1.868246  1995  Female  \n",
              "3163                    15.034287  1995  Female  \n",
              "3172                     6.795044  1995  Female  \n",
              "3179                     8.522877  1995  Female  "
            ],
            "text/html": [
              "\n",
              "  <div id=\"df-2d5c4f4c-f15c-4188-a021-0d6b372b25c7\">\n",
              "    <div class=\"colab-df-container\">\n",
              "      <div>\n",
              "<style scoped>\n",
              "    .dataframe tbody tr th:only-of-type {\n",
              "        vertical-align: middle;\n",
              "    }\n",
              "\n",
              "    .dataframe tbody tr th {\n",
              "        vertical-align: top;\n",
              "    }\n",
              "\n",
              "    .dataframe thead th {\n",
              "        text-align: right;\n",
              "    }\n",
              "</style>\n",
              "<table border=\"1\" class=\"dataframe\">\n",
              "  <thead>\n",
              "    <tr style=\"text-align: right;\">\n",
              "      <th></th>\n",
              "      <th>country</th>\n",
              "      <th>Country code</th>\n",
              "      <th>region</th>\n",
              "      <th>continent</th>\n",
              "      <th>Migrant Stock as Percentage</th>\n",
              "      <th>year</th>\n",
              "      <th>sex</th>\n",
              "    </tr>\n",
              "  </thead>\n",
              "  <tbody>\n",
              "    <tr>\n",
              "      <th>1764</th>\n",
              "      <td>Bosnia and Herzegovina</td>\n",
              "      <td>70</td>\n",
              "      <td>Southern Europe</td>\n",
              "      <td>Europe</td>\n",
              "      <td>1.713128</td>\n",
              "      <td>1995</td>\n",
              "      <td>Male</td>\n",
              "    </tr>\n",
              "    <tr>\n",
              "      <th>1765</th>\n",
              "      <td>Croatia</td>\n",
              "      <td>191</td>\n",
              "      <td>Southern Europe</td>\n",
              "      <td>Europe</td>\n",
              "      <td>14.138162</td>\n",
              "      <td>1995</td>\n",
              "      <td>Male</td>\n",
              "    </tr>\n",
              "    <tr>\n",
              "      <th>1774</th>\n",
              "      <td>Serbia</td>\n",
              "      <td>688</td>\n",
              "      <td>Southern Europe</td>\n",
              "      <td>Europe</td>\n",
              "      <td>5.944810</td>\n",
              "      <td>1995</td>\n",
              "      <td>Male</td>\n",
              "    </tr>\n",
              "    <tr>\n",
              "      <th>1781</th>\n",
              "      <td>Germany</td>\n",
              "      <td>276</td>\n",
              "      <td>Western Europe</td>\n",
              "      <td>Europe</td>\n",
              "      <td>9.801749</td>\n",
              "      <td>1995</td>\n",
              "      <td>Male</td>\n",
              "    </tr>\n",
              "    <tr>\n",
              "      <th>3162</th>\n",
              "      <td>Bosnia and Herzegovina</td>\n",
              "      <td>70</td>\n",
              "      <td>Southern Europe</td>\n",
              "      <td>Europe</td>\n",
              "      <td>1.868246</td>\n",
              "      <td>1995</td>\n",
              "      <td>Female</td>\n",
              "    </tr>\n",
              "    <tr>\n",
              "      <th>3163</th>\n",
              "      <td>Croatia</td>\n",
              "      <td>191</td>\n",
              "      <td>Southern Europe</td>\n",
              "      <td>Europe</td>\n",
              "      <td>15.034287</td>\n",
              "      <td>1995</td>\n",
              "      <td>Female</td>\n",
              "    </tr>\n",
              "    <tr>\n",
              "      <th>3172</th>\n",
              "      <td>Serbia</td>\n",
              "      <td>688</td>\n",
              "      <td>Southern Europe</td>\n",
              "      <td>Europe</td>\n",
              "      <td>6.795044</td>\n",
              "      <td>1995</td>\n",
              "      <td>Female</td>\n",
              "    </tr>\n",
              "    <tr>\n",
              "      <th>3179</th>\n",
              "      <td>Germany</td>\n",
              "      <td>276</td>\n",
              "      <td>Western Europe</td>\n",
              "      <td>Europe</td>\n",
              "      <td>8.522877</td>\n",
              "      <td>1995</td>\n",
              "      <td>Female</td>\n",
              "    </tr>\n",
              "  </tbody>\n",
              "</table>\n",
              "</div>\n",
              "      <button class=\"colab-df-convert\" onclick=\"convertToInteractive('df-2d5c4f4c-f15c-4188-a021-0d6b372b25c7')\"\n",
              "              title=\"Convert this dataframe to an interactive table.\"\n",
              "              style=\"display:none;\">\n",
              "        \n",
              "  <svg xmlns=\"http://www.w3.org/2000/svg\" height=\"24px\"viewBox=\"0 0 24 24\"\n",
              "       width=\"24px\">\n",
              "    <path d=\"M0 0h24v24H0V0z\" fill=\"none\"/>\n",
              "    <path d=\"M18.56 5.44l.94 2.06.94-2.06 2.06-.94-2.06-.94-.94-2.06-.94 2.06-2.06.94zm-11 1L8.5 8.5l.94-2.06 2.06-.94-2.06-.94L8.5 2.5l-.94 2.06-2.06.94zm10 10l.94 2.06.94-2.06 2.06-.94-2.06-.94-.94-2.06-.94 2.06-2.06.94z\"/><path d=\"M17.41 7.96l-1.37-1.37c-.4-.4-.92-.59-1.43-.59-.52 0-1.04.2-1.43.59L10.3 9.45l-7.72 7.72c-.78.78-.78 2.05 0 2.83L4 21.41c.39.39.9.59 1.41.59.51 0 1.02-.2 1.41-.59l7.78-7.78 2.81-2.81c.8-.78.8-2.07 0-2.86zM5.41 20L4 18.59l7.72-7.72 1.47 1.35L5.41 20z\"/>\n",
              "  </svg>\n",
              "      </button>\n",
              "      \n",
              "  <style>\n",
              "    .colab-df-container {\n",
              "      display:flex;\n",
              "      flex-wrap:wrap;\n",
              "      gap: 12px;\n",
              "    }\n",
              "\n",
              "    .colab-df-convert {\n",
              "      background-color: #E8F0FE;\n",
              "      border: none;\n",
              "      border-radius: 50%;\n",
              "      cursor: pointer;\n",
              "      display: none;\n",
              "      fill: #1967D2;\n",
              "      height: 32px;\n",
              "      padding: 0 0 0 0;\n",
              "      width: 32px;\n",
              "    }\n",
              "\n",
              "    .colab-df-convert:hover {\n",
              "      background-color: #E2EBFA;\n",
              "      box-shadow: 0px 1px 2px rgba(60, 64, 67, 0.3), 0px 1px 3px 1px rgba(60, 64, 67, 0.15);\n",
              "      fill: #174EA6;\n",
              "    }\n",
              "\n",
              "    [theme=dark] .colab-df-convert {\n",
              "      background-color: #3B4455;\n",
              "      fill: #D2E3FC;\n",
              "    }\n",
              "\n",
              "    [theme=dark] .colab-df-convert:hover {\n",
              "      background-color: #434B5C;\n",
              "      box-shadow: 0px 1px 3px 1px rgba(0, 0, 0, 0.15);\n",
              "      filter: drop-shadow(0px 1px 2px rgba(0, 0, 0, 0.3));\n",
              "      fill: #FFFFFF;\n",
              "    }\n",
              "  </style>\n",
              "\n",
              "      <script>\n",
              "        const buttonEl =\n",
              "          document.querySelector('#df-2d5c4f4c-f15c-4188-a021-0d6b372b25c7 button.colab-df-convert');\n",
              "        buttonEl.style.display =\n",
              "          google.colab.kernel.accessAllowed ? 'block' : 'none';\n",
              "\n",
              "        async function convertToInteractive(key) {\n",
              "          const element = document.querySelector('#df-2d5c4f4c-f15c-4188-a021-0d6b372b25c7');\n",
              "          const dataTable =\n",
              "            await google.colab.kernel.invokeFunction('convertToInteractive',\n",
              "                                                     [key], {});\n",
              "          if (!dataTable) return;\n",
              "\n",
              "          const docLinkHtml = 'Like what you see? Visit the ' +\n",
              "            '<a target=\"_blank\" href=https://colab.research.google.com/notebooks/data_table.ipynb>data table notebook</a>'\n",
              "            + ' to learn more about interactive tables.';\n",
              "          element.innerHTML = '';\n",
              "          dataTable['output_type'] = 'display_data';\n",
              "          await google.colab.output.renderOutput(dataTable, element);\n",
              "          const docLink = document.createElement('div');\n",
              "          docLink.innerHTML = docLinkHtml;\n",
              "          element.appendChild(docLink);\n",
              "        }\n",
              "      </script>\n",
              "    </div>\n",
              "  </div>\n",
              "  "
            ]
          },
          "metadata": {},
          "execution_count": 134
        }
      ],
      "id": "Eab-yzVYK8kL"
    },
    {
      "cell_type": "code",
      "source": [
        "figgy2 = px.histogram(data_frame = temp2\n",
        "            , x = 'country'\n",
        "            , y = 'Migrant Stock as Percentage'\n",
        "            , color = 'sex'\n",
        "            , title = 'Migrant Stock as Percentage of Total Population in 1995 by Sex'\n",
        "            , template = 'ggplot2')  \n",
        "\n",
        "figgy2.update_xaxes(showgrid=False, gridcolor=None, ticks = \"\")\n",
        "figgy2.update_yaxes(showgrid=False, gridcolor=None, ticks = \"\")\n",
        "figgy2.update_yaxes(title_text=\"Migrant Stock as Percentage as Total Population\")\n",
        "\n",
        "\n",
        "figgy2.update_layout(\n",
        "    legend_title_text='Sex',\n",
        "    legend=dict(\n",
        "        orientation=\"h\",\n",
        "        yanchor=\"bottom\",\n",
        "        y=1.02,\n",
        "        xanchor=\"right\",\n",
        "        x=1\n",
        "    )\n",
        ")\n",
        "\n",
        "figgy2.show()"
      ],
      "metadata": {
        "colab": {
          "base_uri": "https://localhost:8080/",
          "height": 542
        },
        "id": "bCJVlP1wLKdv",
        "outputId": "6101975c-f58c-471b-a8c9-540f6a385e2f"
      },
      "id": "bCJVlP1wLKdv",
      "execution_count": null,
      "outputs": [
        {
          "output_type": "display_data",
          "data": {
            "text/html": [
              "<html>\n",
              "<head><meta charset=\"utf-8\" /></head>\n",
              "<body>\n",
              "    <div>            <script src=\"https://cdnjs.cloudflare.com/ajax/libs/mathjax/2.7.5/MathJax.js?config=TeX-AMS-MML_SVG\"></script><script type=\"text/javascript\">if (window.MathJax) {MathJax.Hub.Config({SVG: {font: \"STIX-Web\"}});}</script>                <script type=\"text/javascript\">window.PlotlyConfig = {MathJaxConfig: 'local'};</script>\n",
              "        <script src=\"https://cdn.plot.ly/plotly-2.8.3.min.js\"></script>                <div id=\"61ddbf11-a256-4a0f-a4fa-0428aef787e1\" class=\"plotly-graph-div\" style=\"height:525px; width:100%;\"></div>            <script type=\"text/javascript\">                                    window.PLOTLYENV=window.PLOTLYENV || {};                                    if (document.getElementById(\"61ddbf11-a256-4a0f-a4fa-0428aef787e1\")) {                    Plotly.newPlot(                        \"61ddbf11-a256-4a0f-a4fa-0428aef787e1\",                        [{\"alignmentgroup\":\"True\",\"bingroup\":\"x\",\"histfunc\":\"sum\",\"hovertemplate\":\"sex=Male<br>country=%{x}<br>sum of Migrant Stock as Percentage=%{y}<extra></extra>\",\"legendgroup\":\"Male\",\"marker\":{\"color\":\"#F8766D\",\"pattern\":{\"shape\":\"\"}},\"name\":\"Male\",\"offsetgroup\":\"Male\",\"orientation\":\"v\",\"showlegend\":true,\"x\":[\"Bosnia and Herzegovina\",\"Croatia\",\"Serbia\",\"Germany\"],\"xaxis\":\"x\",\"y\":[1.7131277890382584,14.138161568370368,5.944809940394834,9.801749014135734],\"yaxis\":\"y\",\"type\":\"histogram\"},{\"alignmentgroup\":\"True\",\"bingroup\":\"x\",\"histfunc\":\"sum\",\"hovertemplate\":\"sex=Female<br>country=%{x}<br>sum of Migrant Stock as Percentage=%{y}<extra></extra>\",\"legendgroup\":\"Female\",\"marker\":{\"color\":\"#A3A500\",\"pattern\":{\"shape\":\"\"}},\"name\":\"Female\",\"offsetgroup\":\"Female\",\"orientation\":\"v\",\"showlegend\":true,\"x\":[\"Bosnia and Herzegovina\",\"Croatia\",\"Serbia\",\"Germany\"],\"xaxis\":\"x\",\"y\":[1.868246034453702,15.034286877009857,6.795044274617315,8.522877043564339],\"yaxis\":\"y\",\"type\":\"histogram\"}],                        {\"template\":{\"data\":{\"barpolar\":[{\"marker\":{\"line\":{\"color\":\"rgb(237,237,237)\",\"width\":0.5},\"pattern\":{\"fillmode\":\"overlay\",\"size\":10,\"solidity\":0.2}},\"type\":\"barpolar\"}],\"bar\":[{\"error_x\":{\"color\":\"rgb(51,51,51)\"},\"error_y\":{\"color\":\"rgb(51,51,51)\"},\"marker\":{\"line\":{\"color\":\"rgb(237,237,237)\",\"width\":0.5},\"pattern\":{\"fillmode\":\"overlay\",\"size\":10,\"solidity\":0.2}},\"type\":\"bar\"}],\"carpet\":[{\"aaxis\":{\"endlinecolor\":\"rgb(51,51,51)\",\"gridcolor\":\"white\",\"linecolor\":\"white\",\"minorgridcolor\":\"white\",\"startlinecolor\":\"rgb(51,51,51)\"},\"baxis\":{\"endlinecolor\":\"rgb(51,51,51)\",\"gridcolor\":\"white\",\"linecolor\":\"white\",\"minorgridcolor\":\"white\",\"startlinecolor\":\"rgb(51,51,51)\"},\"type\":\"carpet\"}],\"choropleth\":[{\"colorbar\":{\"outlinewidth\":0,\"tickcolor\":\"rgb(237,237,237)\",\"ticklen\":6,\"ticks\":\"inside\"},\"type\":\"choropleth\"}],\"contourcarpet\":[{\"colorbar\":{\"outlinewidth\":0,\"tickcolor\":\"rgb(237,237,237)\",\"ticklen\":6,\"ticks\":\"inside\"},\"type\":\"contourcarpet\"}],\"contour\":[{\"colorbar\":{\"outlinewidth\":0,\"tickcolor\":\"rgb(237,237,237)\",\"ticklen\":6,\"ticks\":\"inside\"},\"colorscale\":[[0,\"rgb(20,44,66)\"],[1,\"rgb(90,179,244)\"]],\"type\":\"contour\"}],\"heatmapgl\":[{\"colorbar\":{\"outlinewidth\":0,\"tickcolor\":\"rgb(237,237,237)\",\"ticklen\":6,\"ticks\":\"inside\"},\"colorscale\":[[0,\"rgb(20,44,66)\"],[1,\"rgb(90,179,244)\"]],\"type\":\"heatmapgl\"}],\"heatmap\":[{\"colorbar\":{\"outlinewidth\":0,\"tickcolor\":\"rgb(237,237,237)\",\"ticklen\":6,\"ticks\":\"inside\"},\"colorscale\":[[0,\"rgb(20,44,66)\"],[1,\"rgb(90,179,244)\"]],\"type\":\"heatmap\"}],\"histogram2dcontour\":[{\"colorbar\":{\"outlinewidth\":0,\"tickcolor\":\"rgb(237,237,237)\",\"ticklen\":6,\"ticks\":\"inside\"},\"colorscale\":[[0,\"rgb(20,44,66)\"],[1,\"rgb(90,179,244)\"]],\"type\":\"histogram2dcontour\"}],\"histogram2d\":[{\"colorbar\":{\"outlinewidth\":0,\"tickcolor\":\"rgb(237,237,237)\",\"ticklen\":6,\"ticks\":\"inside\"},\"colorscale\":[[0,\"rgb(20,44,66)\"],[1,\"rgb(90,179,244)\"]],\"type\":\"histogram2d\"}],\"histogram\":[{\"marker\":{\"pattern\":{\"fillmode\":\"overlay\",\"size\":10,\"solidity\":0.2}},\"type\":\"histogram\"}],\"mesh3d\":[{\"colorbar\":{\"outlinewidth\":0,\"tickcolor\":\"rgb(237,237,237)\",\"ticklen\":6,\"ticks\":\"inside\"},\"type\":\"mesh3d\"}],\"parcoords\":[{\"line\":{\"colorbar\":{\"outlinewidth\":0,\"tickcolor\":\"rgb(237,237,237)\",\"ticklen\":6,\"ticks\":\"inside\"}},\"type\":\"parcoords\"}],\"pie\":[{\"automargin\":true,\"type\":\"pie\"}],\"scatter3d\":[{\"line\":{\"colorbar\":{\"outlinewidth\":0,\"tickcolor\":\"rgb(237,237,237)\",\"ticklen\":6,\"ticks\":\"inside\"}},\"marker\":{\"colorbar\":{\"outlinewidth\":0,\"tickcolor\":\"rgb(237,237,237)\",\"ticklen\":6,\"ticks\":\"inside\"}},\"type\":\"scatter3d\"}],\"scattercarpet\":[{\"marker\":{\"colorbar\":{\"outlinewidth\":0,\"tickcolor\":\"rgb(237,237,237)\",\"ticklen\":6,\"ticks\":\"inside\"}},\"type\":\"scattercarpet\"}],\"scattergeo\":[{\"marker\":{\"colorbar\":{\"outlinewidth\":0,\"tickcolor\":\"rgb(237,237,237)\",\"ticklen\":6,\"ticks\":\"inside\"}},\"type\":\"scattergeo\"}],\"scattergl\":[{\"marker\":{\"colorbar\":{\"outlinewidth\":0,\"tickcolor\":\"rgb(237,237,237)\",\"ticklen\":6,\"ticks\":\"inside\"}},\"type\":\"scattergl\"}],\"scattermapbox\":[{\"marker\":{\"colorbar\":{\"outlinewidth\":0,\"tickcolor\":\"rgb(237,237,237)\",\"ticklen\":6,\"ticks\":\"inside\"}},\"type\":\"scattermapbox\"}],\"scatterpolargl\":[{\"marker\":{\"colorbar\":{\"outlinewidth\":0,\"tickcolor\":\"rgb(237,237,237)\",\"ticklen\":6,\"ticks\":\"inside\"}},\"type\":\"scatterpolargl\"}],\"scatterpolar\":[{\"marker\":{\"colorbar\":{\"outlinewidth\":0,\"tickcolor\":\"rgb(237,237,237)\",\"ticklen\":6,\"ticks\":\"inside\"}},\"type\":\"scatterpolar\"}],\"scatter\":[{\"marker\":{\"colorbar\":{\"outlinewidth\":0,\"tickcolor\":\"rgb(237,237,237)\",\"ticklen\":6,\"ticks\":\"inside\"}},\"type\":\"scatter\"}],\"scatterternary\":[{\"marker\":{\"colorbar\":{\"outlinewidth\":0,\"tickcolor\":\"rgb(237,237,237)\",\"ticklen\":6,\"ticks\":\"inside\"}},\"type\":\"scatterternary\"}],\"surface\":[{\"colorbar\":{\"outlinewidth\":0,\"tickcolor\":\"rgb(237,237,237)\",\"ticklen\":6,\"ticks\":\"inside\"},\"colorscale\":[[0,\"rgb(20,44,66)\"],[1,\"rgb(90,179,244)\"]],\"type\":\"surface\"}],\"table\":[{\"cells\":{\"fill\":{\"color\":\"rgb(237,237,237)\"},\"line\":{\"color\":\"white\"}},\"header\":{\"fill\":{\"color\":\"rgb(217,217,217)\"},\"line\":{\"color\":\"white\"}},\"type\":\"table\"}]},\"layout\":{\"annotationdefaults\":{\"arrowhead\":0,\"arrowwidth\":1},\"autotypenumbers\":\"strict\",\"coloraxis\":{\"colorbar\":{\"outlinewidth\":0,\"tickcolor\":\"rgb(237,237,237)\",\"ticklen\":6,\"ticks\":\"inside\"}},\"colorscale\":{\"sequential\":[[0,\"rgb(20,44,66)\"],[1,\"rgb(90,179,244)\"]],\"sequentialminus\":[[0,\"rgb(20,44,66)\"],[1,\"rgb(90,179,244)\"]]},\"colorway\":[\"#F8766D\",\"#A3A500\",\"#00BF7D\",\"#00B0F6\",\"#E76BF3\"],\"font\":{\"color\":\"rgb(51,51,51)\"},\"geo\":{\"bgcolor\":\"white\",\"lakecolor\":\"white\",\"landcolor\":\"rgb(237,237,237)\",\"showlakes\":true,\"showland\":true,\"subunitcolor\":\"white\"},\"hoverlabel\":{\"align\":\"left\"},\"hovermode\":\"closest\",\"paper_bgcolor\":\"white\",\"plot_bgcolor\":\"rgb(237,237,237)\",\"polar\":{\"angularaxis\":{\"gridcolor\":\"white\",\"linecolor\":\"white\",\"showgrid\":true,\"tickcolor\":\"rgb(51,51,51)\",\"ticks\":\"outside\"},\"bgcolor\":\"rgb(237,237,237)\",\"radialaxis\":{\"gridcolor\":\"white\",\"linecolor\":\"white\",\"showgrid\":true,\"tickcolor\":\"rgb(51,51,51)\",\"ticks\":\"outside\"}},\"scene\":{\"xaxis\":{\"backgroundcolor\":\"rgb(237,237,237)\",\"gridcolor\":\"white\",\"gridwidth\":2,\"linecolor\":\"white\",\"showbackground\":true,\"showgrid\":true,\"tickcolor\":\"rgb(51,51,51)\",\"ticks\":\"outside\",\"zerolinecolor\":\"white\"},\"yaxis\":{\"backgroundcolor\":\"rgb(237,237,237)\",\"gridcolor\":\"white\",\"gridwidth\":2,\"linecolor\":\"white\",\"showbackground\":true,\"showgrid\":true,\"tickcolor\":\"rgb(51,51,51)\",\"ticks\":\"outside\",\"zerolinecolor\":\"white\"},\"zaxis\":{\"backgroundcolor\":\"rgb(237,237,237)\",\"gridcolor\":\"white\",\"gridwidth\":2,\"linecolor\":\"white\",\"showbackground\":true,\"showgrid\":true,\"tickcolor\":\"rgb(51,51,51)\",\"ticks\":\"outside\",\"zerolinecolor\":\"white\"}},\"shapedefaults\":{\"fillcolor\":\"black\",\"line\":{\"width\":0},\"opacity\":0.3},\"ternary\":{\"aaxis\":{\"gridcolor\":\"white\",\"linecolor\":\"white\",\"showgrid\":true,\"tickcolor\":\"rgb(51,51,51)\",\"ticks\":\"outside\"},\"baxis\":{\"gridcolor\":\"white\",\"linecolor\":\"white\",\"showgrid\":true,\"tickcolor\":\"rgb(51,51,51)\",\"ticks\":\"outside\"},\"bgcolor\":\"rgb(237,237,237)\",\"caxis\":{\"gridcolor\":\"white\",\"linecolor\":\"white\",\"showgrid\":true,\"tickcolor\":\"rgb(51,51,51)\",\"ticks\":\"outside\"}},\"xaxis\":{\"automargin\":true,\"gridcolor\":\"white\",\"linecolor\":\"white\",\"showgrid\":true,\"tickcolor\":\"rgb(51,51,51)\",\"ticks\":\"outside\",\"title\":{\"standoff\":15},\"zerolinecolor\":\"white\"},\"yaxis\":{\"automargin\":true,\"gridcolor\":\"white\",\"linecolor\":\"white\",\"showgrid\":true,\"tickcolor\":\"rgb(51,51,51)\",\"ticks\":\"outside\",\"title\":{\"standoff\":15},\"zerolinecolor\":\"white\"}}},\"xaxis\":{\"anchor\":\"y\",\"domain\":[0.0,1.0],\"title\":{\"text\":\"country\"},\"showgrid\":false,\"ticks\":\"\"},\"yaxis\":{\"anchor\":\"x\",\"domain\":[0.0,1.0],\"title\":{\"text\":\"Migrant Stock as Percentage as Total Population\"},\"showgrid\":false,\"ticks\":\"\"},\"legend\":{\"title\":{\"text\":\"Sex\"},\"tracegroupgap\":0,\"orientation\":\"h\",\"yanchor\":\"bottom\",\"y\":1.02,\"xanchor\":\"right\",\"x\":1},\"title\":{\"text\":\"Migrant Stock as Percentage of Total Population in 1995 by Sex\"},\"barmode\":\"relative\"},                        {\"responsive\": true}                    ).then(function(){\n",
              "                            \n",
              "var gd = document.getElementById('61ddbf11-a256-4a0f-a4fa-0428aef787e1');\n",
              "var x = new MutationObserver(function (mutations, observer) {{\n",
              "        var display = window.getComputedStyle(gd).display;\n",
              "        if (!display || display === 'none') {{\n",
              "            console.log([gd, 'removed!']);\n",
              "            Plotly.purge(gd);\n",
              "            observer.disconnect();\n",
              "        }}\n",
              "}});\n",
              "\n",
              "// Listen for the removal of the full notebook cells\n",
              "var notebookContainer = gd.closest('#notebook-container');\n",
              "if (notebookContainer) {{\n",
              "    x.observe(notebookContainer, {childList: true});\n",
              "}}\n",
              "\n",
              "// Listen for the clearing of the current output cell\n",
              "var outputEl = gd.closest('.output');\n",
              "if (outputEl) {{\n",
              "    x.observe(outputEl, {childList: true});\n",
              "}}\n",
              "\n",
              "                        })                };                            </script>        </div>\n",
              "</body>\n",
              "</html>"
            ]
          },
          "metadata": {}
        }
      ]
    },
    {
      "cell_type": "code",
      "source": [
        "figgy = px.histogram(data_frame = temp\n",
        "            , x = 'country'\n",
        "            , y = 'Female Migrants as Percentage of Total Pop'\n",
        "            , title = 'Female Migrants as Percentage of Total Migrant Population in 1995'\n",
        "            , template = 'ggplot2')  \n",
        "figgy.update_xaxes(showgrid=False, gridcolor=None, ticks = \"\")\n",
        "figgy.update_yaxes(showgrid=False, gridcolor=None, ticks = \"\")\n",
        "figgy.update_yaxes(title_text=\"Female Migrants as Percentage as Total Migrant Population\")\n",
        "figgy.show()"
      ],
      "metadata": {
        "colab": {
          "base_uri": "https://localhost:8080/",
          "height": 542
        },
        "outputId": "d4ac3bfe-489c-4a00-a10e-865036b8d77b",
        "id": "Tm5Hw9i4xKcJ"
      },
      "execution_count": null,
      "outputs": [
        {
          "output_type": "display_data",
          "data": {
            "text/html": [
              "<html>\n",
              "<head><meta charset=\"utf-8\" /></head>\n",
              "<body>\n",
              "    <div>            <script src=\"https://cdnjs.cloudflare.com/ajax/libs/mathjax/2.7.5/MathJax.js?config=TeX-AMS-MML_SVG\"></script><script type=\"text/javascript\">if (window.MathJax) {MathJax.Hub.Config({SVG: {font: \"STIX-Web\"}});}</script>                <script type=\"text/javascript\">window.PlotlyConfig = {MathJaxConfig: 'local'};</script>\n",
              "        <script src=\"https://cdn.plot.ly/plotly-2.8.3.min.js\"></script>                <div id=\"b75fe043-695d-4675-9869-f255fec0acdc\" class=\"plotly-graph-div\" style=\"height:525px; width:100%;\"></div>            <script type=\"text/javascript\">                                    window.PLOTLYENV=window.PLOTLYENV || {};                                    if (document.getElementById(\"b75fe043-695d-4675-9869-f255fec0acdc\")) {                    Plotly.newPlot(                        \"b75fe043-695d-4675-9869-f255fec0acdc\",                        [{\"alignmentgroup\":\"True\",\"bingroup\":\"x\",\"histfunc\":\"sum\",\"hovertemplate\":\"country=%{x}<br>sum of Female Migrants as Percentage of Total Pop=%{y}<extra></extra>\",\"legendgroup\":\"\",\"marker\":{\"color\":\"#F8766D\",\"pattern\":{\"shape\":\"\"}},\"name\":\"\",\"offsetgroup\":\"\",\"orientation\":\"v\",\"showlegend\":false,\"x\":[\"Bosnia and Herzegovina\",\"Croatia\",\"Serbia\",\"Germany\"],\"xaxis\":\"x\",\"y\":[52.33605849501986,53.16124821053725,54.056592846001635,47.773513391420565],\"yaxis\":\"y\",\"type\":\"histogram\"}],                        {\"template\":{\"data\":{\"barpolar\":[{\"marker\":{\"line\":{\"color\":\"rgb(237,237,237)\",\"width\":0.5},\"pattern\":{\"fillmode\":\"overlay\",\"size\":10,\"solidity\":0.2}},\"type\":\"barpolar\"}],\"bar\":[{\"error_x\":{\"color\":\"rgb(51,51,51)\"},\"error_y\":{\"color\":\"rgb(51,51,51)\"},\"marker\":{\"line\":{\"color\":\"rgb(237,237,237)\",\"width\":0.5},\"pattern\":{\"fillmode\":\"overlay\",\"size\":10,\"solidity\":0.2}},\"type\":\"bar\"}],\"carpet\":[{\"aaxis\":{\"endlinecolor\":\"rgb(51,51,51)\",\"gridcolor\":\"white\",\"linecolor\":\"white\",\"minorgridcolor\":\"white\",\"startlinecolor\":\"rgb(51,51,51)\"},\"baxis\":{\"endlinecolor\":\"rgb(51,51,51)\",\"gridcolor\":\"white\",\"linecolor\":\"white\",\"minorgridcolor\":\"white\",\"startlinecolor\":\"rgb(51,51,51)\"},\"type\":\"carpet\"}],\"choropleth\":[{\"colorbar\":{\"outlinewidth\":0,\"tickcolor\":\"rgb(237,237,237)\",\"ticklen\":6,\"ticks\":\"inside\"},\"type\":\"choropleth\"}],\"contourcarpet\":[{\"colorbar\":{\"outlinewidth\":0,\"tickcolor\":\"rgb(237,237,237)\",\"ticklen\":6,\"ticks\":\"inside\"},\"type\":\"contourcarpet\"}],\"contour\":[{\"colorbar\":{\"outlinewidth\":0,\"tickcolor\":\"rgb(237,237,237)\",\"ticklen\":6,\"ticks\":\"inside\"},\"colorscale\":[[0,\"rgb(20,44,66)\"],[1,\"rgb(90,179,244)\"]],\"type\":\"contour\"}],\"heatmapgl\":[{\"colorbar\":{\"outlinewidth\":0,\"tickcolor\":\"rgb(237,237,237)\",\"ticklen\":6,\"ticks\":\"inside\"},\"colorscale\":[[0,\"rgb(20,44,66)\"],[1,\"rgb(90,179,244)\"]],\"type\":\"heatmapgl\"}],\"heatmap\":[{\"colorbar\":{\"outlinewidth\":0,\"tickcolor\":\"rgb(237,237,237)\",\"ticklen\":6,\"ticks\":\"inside\"},\"colorscale\":[[0,\"rgb(20,44,66)\"],[1,\"rgb(90,179,244)\"]],\"type\":\"heatmap\"}],\"histogram2dcontour\":[{\"colorbar\":{\"outlinewidth\":0,\"tickcolor\":\"rgb(237,237,237)\",\"ticklen\":6,\"ticks\":\"inside\"},\"colorscale\":[[0,\"rgb(20,44,66)\"],[1,\"rgb(90,179,244)\"]],\"type\":\"histogram2dcontour\"}],\"histogram2d\":[{\"colorbar\":{\"outlinewidth\":0,\"tickcolor\":\"rgb(237,237,237)\",\"ticklen\":6,\"ticks\":\"inside\"},\"colorscale\":[[0,\"rgb(20,44,66)\"],[1,\"rgb(90,179,244)\"]],\"type\":\"histogram2d\"}],\"histogram\":[{\"marker\":{\"pattern\":{\"fillmode\":\"overlay\",\"size\":10,\"solidity\":0.2}},\"type\":\"histogram\"}],\"mesh3d\":[{\"colorbar\":{\"outlinewidth\":0,\"tickcolor\":\"rgb(237,237,237)\",\"ticklen\":6,\"ticks\":\"inside\"},\"type\":\"mesh3d\"}],\"parcoords\":[{\"line\":{\"colorbar\":{\"outlinewidth\":0,\"tickcolor\":\"rgb(237,237,237)\",\"ticklen\":6,\"ticks\":\"inside\"}},\"type\":\"parcoords\"}],\"pie\":[{\"automargin\":true,\"type\":\"pie\"}],\"scatter3d\":[{\"line\":{\"colorbar\":{\"outlinewidth\":0,\"tickcolor\":\"rgb(237,237,237)\",\"ticklen\":6,\"ticks\":\"inside\"}},\"marker\":{\"colorbar\":{\"outlinewidth\":0,\"tickcolor\":\"rgb(237,237,237)\",\"ticklen\":6,\"ticks\":\"inside\"}},\"type\":\"scatter3d\"}],\"scattercarpet\":[{\"marker\":{\"colorbar\":{\"outlinewidth\":0,\"tickcolor\":\"rgb(237,237,237)\",\"ticklen\":6,\"ticks\":\"inside\"}},\"type\":\"scattercarpet\"}],\"scattergeo\":[{\"marker\":{\"colorbar\":{\"outlinewidth\":0,\"tickcolor\":\"rgb(237,237,237)\",\"ticklen\":6,\"ticks\":\"inside\"}},\"type\":\"scattergeo\"}],\"scattergl\":[{\"marker\":{\"colorbar\":{\"outlinewidth\":0,\"tickcolor\":\"rgb(237,237,237)\",\"ticklen\":6,\"ticks\":\"inside\"}},\"type\":\"scattergl\"}],\"scattermapbox\":[{\"marker\":{\"colorbar\":{\"outlinewidth\":0,\"tickcolor\":\"rgb(237,237,237)\",\"ticklen\":6,\"ticks\":\"inside\"}},\"type\":\"scattermapbox\"}],\"scatterpolargl\":[{\"marker\":{\"colorbar\":{\"outlinewidth\":0,\"tickcolor\":\"rgb(237,237,237)\",\"ticklen\":6,\"ticks\":\"inside\"}},\"type\":\"scatterpolargl\"}],\"scatterpolar\":[{\"marker\":{\"colorbar\":{\"outlinewidth\":0,\"tickcolor\":\"rgb(237,237,237)\",\"ticklen\":6,\"ticks\":\"inside\"}},\"type\":\"scatterpolar\"}],\"scatter\":[{\"marker\":{\"colorbar\":{\"outlinewidth\":0,\"tickcolor\":\"rgb(237,237,237)\",\"ticklen\":6,\"ticks\":\"inside\"}},\"type\":\"scatter\"}],\"scatterternary\":[{\"marker\":{\"colorbar\":{\"outlinewidth\":0,\"tickcolor\":\"rgb(237,237,237)\",\"ticklen\":6,\"ticks\":\"inside\"}},\"type\":\"scatterternary\"}],\"surface\":[{\"colorbar\":{\"outlinewidth\":0,\"tickcolor\":\"rgb(237,237,237)\",\"ticklen\":6,\"ticks\":\"inside\"},\"colorscale\":[[0,\"rgb(20,44,66)\"],[1,\"rgb(90,179,244)\"]],\"type\":\"surface\"}],\"table\":[{\"cells\":{\"fill\":{\"color\":\"rgb(237,237,237)\"},\"line\":{\"color\":\"white\"}},\"header\":{\"fill\":{\"color\":\"rgb(217,217,217)\"},\"line\":{\"color\":\"white\"}},\"type\":\"table\"}]},\"layout\":{\"annotationdefaults\":{\"arrowhead\":0,\"arrowwidth\":1},\"autotypenumbers\":\"strict\",\"coloraxis\":{\"colorbar\":{\"outlinewidth\":0,\"tickcolor\":\"rgb(237,237,237)\",\"ticklen\":6,\"ticks\":\"inside\"}},\"colorscale\":{\"sequential\":[[0,\"rgb(20,44,66)\"],[1,\"rgb(90,179,244)\"]],\"sequentialminus\":[[0,\"rgb(20,44,66)\"],[1,\"rgb(90,179,244)\"]]},\"colorway\":[\"#F8766D\",\"#A3A500\",\"#00BF7D\",\"#00B0F6\",\"#E76BF3\"],\"font\":{\"color\":\"rgb(51,51,51)\"},\"geo\":{\"bgcolor\":\"white\",\"lakecolor\":\"white\",\"landcolor\":\"rgb(237,237,237)\",\"showlakes\":true,\"showland\":true,\"subunitcolor\":\"white\"},\"hoverlabel\":{\"align\":\"left\"},\"hovermode\":\"closest\",\"paper_bgcolor\":\"white\",\"plot_bgcolor\":\"rgb(237,237,237)\",\"polar\":{\"angularaxis\":{\"gridcolor\":\"white\",\"linecolor\":\"white\",\"showgrid\":true,\"tickcolor\":\"rgb(51,51,51)\",\"ticks\":\"outside\"},\"bgcolor\":\"rgb(237,237,237)\",\"radialaxis\":{\"gridcolor\":\"white\",\"linecolor\":\"white\",\"showgrid\":true,\"tickcolor\":\"rgb(51,51,51)\",\"ticks\":\"outside\"}},\"scene\":{\"xaxis\":{\"backgroundcolor\":\"rgb(237,237,237)\",\"gridcolor\":\"white\",\"gridwidth\":2,\"linecolor\":\"white\",\"showbackground\":true,\"showgrid\":true,\"tickcolor\":\"rgb(51,51,51)\",\"ticks\":\"outside\",\"zerolinecolor\":\"white\"},\"yaxis\":{\"backgroundcolor\":\"rgb(237,237,237)\",\"gridcolor\":\"white\",\"gridwidth\":2,\"linecolor\":\"white\",\"showbackground\":true,\"showgrid\":true,\"tickcolor\":\"rgb(51,51,51)\",\"ticks\":\"outside\",\"zerolinecolor\":\"white\"},\"zaxis\":{\"backgroundcolor\":\"rgb(237,237,237)\",\"gridcolor\":\"white\",\"gridwidth\":2,\"linecolor\":\"white\",\"showbackground\":true,\"showgrid\":true,\"tickcolor\":\"rgb(51,51,51)\",\"ticks\":\"outside\",\"zerolinecolor\":\"white\"}},\"shapedefaults\":{\"fillcolor\":\"black\",\"line\":{\"width\":0},\"opacity\":0.3},\"ternary\":{\"aaxis\":{\"gridcolor\":\"white\",\"linecolor\":\"white\",\"showgrid\":true,\"tickcolor\":\"rgb(51,51,51)\",\"ticks\":\"outside\"},\"baxis\":{\"gridcolor\":\"white\",\"linecolor\":\"white\",\"showgrid\":true,\"tickcolor\":\"rgb(51,51,51)\",\"ticks\":\"outside\"},\"bgcolor\":\"rgb(237,237,237)\",\"caxis\":{\"gridcolor\":\"white\",\"linecolor\":\"white\",\"showgrid\":true,\"tickcolor\":\"rgb(51,51,51)\",\"ticks\":\"outside\"}},\"xaxis\":{\"automargin\":true,\"gridcolor\":\"white\",\"linecolor\":\"white\",\"showgrid\":true,\"tickcolor\":\"rgb(51,51,51)\",\"ticks\":\"outside\",\"title\":{\"standoff\":15},\"zerolinecolor\":\"white\"},\"yaxis\":{\"automargin\":true,\"gridcolor\":\"white\",\"linecolor\":\"white\",\"showgrid\":true,\"tickcolor\":\"rgb(51,51,51)\",\"ticks\":\"outside\",\"title\":{\"standoff\":15},\"zerolinecolor\":\"white\"}}},\"xaxis\":{\"anchor\":\"y\",\"domain\":[0.0,1.0],\"title\":{\"text\":\"country\"},\"showgrid\":false,\"ticks\":\"\"},\"yaxis\":{\"anchor\":\"x\",\"domain\":[0.0,1.0],\"title\":{\"text\":\"Female Migrants as Percentage as Total Migrant Population\"},\"showgrid\":false,\"ticks\":\"\"},\"legend\":{\"tracegroupgap\":0},\"title\":{\"text\":\"Female Migrants as Percentage of Total Migrant Population in 1995\"},\"barmode\":\"relative\"},                        {\"responsive\": true}                    ).then(function(){\n",
              "                            \n",
              "var gd = document.getElementById('b75fe043-695d-4675-9869-f255fec0acdc');\n",
              "var x = new MutationObserver(function (mutations, observer) {{\n",
              "        var display = window.getComputedStyle(gd).display;\n",
              "        if (!display || display === 'none') {{\n",
              "            console.log([gd, 'removed!']);\n",
              "            Plotly.purge(gd);\n",
              "            observer.disconnect();\n",
              "        }}\n",
              "}});\n",
              "\n",
              "// Listen for the removal of the full notebook cells\n",
              "var notebookContainer = gd.closest('#notebook-container');\n",
              "if (notebookContainer) {{\n",
              "    x.observe(notebookContainer, {childList: true});\n",
              "}}\n",
              "\n",
              "// Listen for the clearing of the current output cell\n",
              "var outputEl = gd.closest('.output');\n",
              "if (outputEl) {{\n",
              "    x.observe(outputEl, {childList: true});\n",
              "}}\n",
              "\n",
              "                        })                };                            </script>        </div>\n",
              "</body>\n",
              "</html>"
            ]
          },
          "metadata": {}
        }
      ],
      "id": "Tm5Hw9i4xKcJ"
    }
  ],
  "metadata": {
    "kernelspec": {
      "display_name": "Python 3 (ipykernel)",
      "language": "python",
      "name": "python3"
    },
    "language_info": {
      "codemirror_mode": {
        "name": "ipython",
        "version": 3
      },
      "file_extension": ".py",
      "mimetype": "text/x-python",
      "name": "python",
      "nbconvert_exporter": "python",
      "pygments_lexer": "ipython3",
      "version": "3.8.13"
    },
    "colab": {
      "provenance": [],
      "collapsed_sections": [
        "sq1K5JfG3j7D",
        "b2c56aaf",
        "R5GVhllnLHsF"
      ]
    }
  },
  "nbformat": 4,
  "nbformat_minor": 5
}