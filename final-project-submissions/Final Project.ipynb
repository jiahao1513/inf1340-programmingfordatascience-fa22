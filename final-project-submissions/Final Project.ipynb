{
 "cells": [
  {
   "cell_type": "code",
   "execution_count": null,
   "id": "7e3774d6",
   "metadata": {},
   "outputs": [],
   "source": [
    "import pandas as pd\n",
    "import numpy as np\n",
    "import seaborn as sns\n",
    "import matplotlib.pyplot as plt"
   ]
  },
  {
   "cell_type": "code",
   "execution_count": null,
   "id": "2927d5c5",
   "metadata": {},
   "outputs": [],
   "source": [
    "pip install openpyxl"
   ]
  },
  {
   "cell_type": "code",
   "execution_count": null,
   "id": "a047741c",
   "metadata": {},
   "outputs": [],
   "source": [
    "df = pd.read_excel(\"UN_MigrantStockTotal_2015.xlsx\", sheet_name=\"Table 1\")"
   ]
  },
  {
   "cell_type": "code",
   "execution_count": null,
   "id": "458f3ce6",
   "metadata": {},
   "outputs": [],
   "source": [
    "## identifiers and migrant stock sex and year are not in the same row\n",
    "## read from two rows and merge the sex info to the year\n",
    "ids = list(df.iloc[13])[:5]\n",
    "new_cols = [\"both\", \"male\", \"female\"]\n",
    "values = [str(int(value)) + new_cols[i // 6] for i, value in enumerate(list(df.iloc[14])[5:])]\n",
    "df.columns = ids + values\n",
    "## drop the header rows\n",
    "df = df.drop(df.index[0:15])"
   ]
  },
  {
   "cell_type": "code",
   "execution_count": null,
   "id": "03d79c1a",
   "metadata": {},
   "outputs": [],
   "source": [
    "## merge the data on year/sex row\n",
    "df = df.melt(id_vars=ids, var_name=\"year/sex\", value_name=\"tmp\")"
   ]
  },
  {
   "cell_type": "code",
   "execution_count": null,
   "id": "9f022d49",
   "metadata": {},
   "outputs": [],
   "source": [
    "## since two variables is stored inside the indicator variable above, split the variable\n",
    "df = df.assign(Year=lambda x: x[\"year/sex\"].str[:4],\n",
    "               Sex=lambda x: x[\"year/sex\"].str[4:],\n",
    "               Migrant_Stock=lambda x: x[\"tmp\"])\n",
    "## drop intermidate columns and columns that are not informative\n",
    "df = df.drop(columns=[\"Notes\", \"year/sex\", \"tmp\"])"
   ]
  },
  {
   "cell_type": "code",
   "execution_count": null,
   "id": "e58c94ce",
   "metadata": {},
   "outputs": [],
   "source": [
    "## problem found in stock, replace .. with NaN\n",
    "df[\"Migrant_Stock\"] = df[\"Migrant_Stock\"].replace('..', np.nan)\n",
    "## maintain sort order\n",
    "df = df.sort_values(by=[\"Sort\\norder\", \"Year\", \"Sex\"], ignore_index=True).drop(columns=[\"Sort\\norder\"])\n",
    "df.head()\n",
    "# print(df.groupby(by=[\"Country code\", \"Year\"]).sum().head())\n",
    "sns.barplot(data=df[df[\"Country code\"]==900], x=\"Year\", y=\"Migrant_Stock\", hue=\"Sex\")\n",
    "# sns.barplot(data=df[df[\"Sex\"] == \"both\"], x=\"Country code\", y=\"Migrant_Stock\", hue=\"Year\")\n",
    "plt.tight_layout()\n",
    "plt.title(label=\"WORLD Migrant Stock\")\n",
    "plt.show()"
   ]
  },
  {
   "cell_type": "code",
   "execution_count": null,
   "id": "50339472",
   "metadata": {
    "lines_to_next_cell": 0
   },
   "outputs": [],
   "source": [
    " df = pd.read_excel(\"UN_MigrantStockTotal_2015.xlsx\", sheet_name = \"Table 2\")\n",
    "\n",
    "## read from two rows and merge the sex info to the year\n",
    "ids = list(df.iloc[13])[:4]\n",
    "new_cols = [\"both\", \"male\", \"female\"]\n",
    "values = [str(int(value)) + new_cols[i//6] for i,value in enumerate(list(df.iloc[14])[4:])]\n",
    "df.columns = ids + values\n",
    "## drop the header rows\n",
    "df = df.drop(df.index[0:15])"
   ]
  },
  {
   "cell_type": "code",
   "execution_count": null,
   "id": "9347f0cc",
   "metadata": {},
   "outputs": [],
   "source": [
    "## merge the data on year/sex row\n",
    "df = df.melt(id_vars = ids, var_name = \"year/sex\", value_name=\"tmp\")\n",
    "\n",
    "## since two variables is stored inside the indicator variable above, split the variable\n",
    "df = df.assign(Year = lambda x: x[\"year/sex\"].str[:4],\n",
    "               Sex = lambda x: x[\"year/sex\"].str[4:],\n",
    "               Population = lambda x: x[\"tmp\"])\n",
    "## drop intermidate columns and columns that are not informative\n",
    "df = df.drop(columns=[\"Notes\", \"year/sex\", \"tmp\"])"
   ]
  },
  {
   "cell_type": "code",
   "execution_count": null,
   "id": "cb1e1f94",
   "metadata": {},
   "outputs": [],
   "source": [
    "## problem found in stock, replace .. with NaN\n",
    "df[\"Population\"] = df[\"Population\"].replace('..', np.nan)\n",
    "## maintain sort order\n",
    "df = df.sort_values(by=[\"Sort\\norder\", \"Year\", \"Sex\"], ignore_index=True).drop(columns=[\"Sort\\norder\"])\n",
    "df.head()\n",
    "sns.pointplot(data=df[df[\"Country code\"]==900], x=\"Year\", y=\"Population\", hue=\"Sex\")\n",
    "# sns.pointplot(data=df[df[\"Sex\"] == \"both\"], x=\"Country code\", y=\"Migrant_Stock\", hue=\"Year\")\n",
    "plt.tight_layout()\n",
    "plt.title(label=\"WORLD Population\")\n",
    "plt.show()"
   ]
  },
  {
   "cell_type": "code",
   "execution_count": null,
   "id": "3efdb138",
   "metadata": {},
   "outputs": [],
   "source": [
    "df = pd.read_excel(\"UN_MigrantStockTotal_2015.xlsx\", sheet_name=\"Table 3\")\n",
    "\n",
    "## read from two rows and merge the sex info to the year\n",
    "ids = list(df.iloc[13])[:5]\n",
    "new_cols = [\"both\", \"male\", \"female\"]\n",
    "values = [str(int(value)) + new_cols[i // 6] for i, value in enumerate(list(df.iloc[14])[5:])]\n",
    "df.columns = ids + values\n",
    "## drop the header rows\n",
    "df = df.drop(df.index[0:15])"
   ]
  },
  {
   "cell_type": "code",
   "execution_count": null,
   "id": "b97f6638",
   "metadata": {},
   "outputs": [],
   "source": [
    "## merge the data on year/sex row\n",
    "df = df.melt(id_vars=ids, var_name=\"year/sex\", value_name=\"tmp\")\n",
    "\n",
    "## since two variables is stored inside the indicator variable above, split the variable\n",
    "df = df.assign(Year=lambda x: x[\"year/sex\"].str[:4],\n",
    "               Sex=lambda x: x[\"year/sex\"].str[4:])\n",
    "## drop intermidate columns and columns that are not informative\n",
    "df = df.drop(columns=[\"Notes\", \"year/sex\"])"
   ]
  },
  {
   "cell_type": "code",
   "execution_count": null,
   "id": "36dfd604",
   "metadata": {},
   "outputs": [],
   "source": [
    "## problem found in stock, replace .. with NaN\n",
    "df[\"Stock/Population\"] = df[\"tmp\"].replace('..', np.nan)\n",
    "## maintain sort order\n",
    "df = df.sort_values(by=[\"Sort\\norder\", \"Year\", \"Sex\"], ignore_index=True).drop(columns=[\"Sort\\norder\", \"tmp\"])\n",
    "df.head()\n",
    "sns.boxplot(data=df[df[\"Country code\"] == 900], x=\"Year\", y=\"Stock/Population\")\n",
    "# sns.boxplot(data=df[df[\"Sex\"] == \"both\"], x=\"Country code\", y=\"Migrant_Stock\", hue=\"Year\")\n",
    "plt.tight_layout()\n",
    "plt.title(label=\"WORLD Stock/Population\")\n",
    "plt.show()"
   ]
  },
  {
   "cell_type": "code",
   "execution_count": null,
   "id": "bd88d0f5",
   "metadata": {
    "lines_to_next_cell": 2
   },
   "outputs": [],
   "source": [
    "df = pd.read_excel(\"UN_MigrantStockTotal_2015.xlsx\", sheet_name = \"Table 4\")\n",
    "\n",
    "ids = list(df.iloc[13])[:5]\n",
    "values = list(df.iloc[14])[5:]\n",
    "df.columns = ids + values\n",
    "## drop the header rows\n",
    "df = df.drop(df.index[0:15])"
   ]
  },
  {
   "cell_type": "code",
   "execution_count": null,
   "id": "968c6c1f",
   "metadata": {},
   "outputs": [],
   "source": [
    "df = df.melt(id_vars = ids, var_name = \"Year\", value_name=\"tmp\")\n",
    "df[\"Year\"] = df[\"Year\"].astype(int)\n",
    "## drop intermidate columns and columns that are not informative\n",
    "df = df.drop(columns=[\"Notes\"])\n",
    "\n",
    "## problem found in stock, replace .. with NaN\n",
    "df[\"Female Stock/Population\"] = df[\"tmp\"].replace('..', np.nan)\n",
    "## maintain sort order\n",
    "df = df.sort_values(by=[\"Sort\\norder\", \"Year\"], ignore_index=True).drop(columns=[\"Sort\\norder\", \"tmp\"])"
   ]
  },
  {
   "cell_type": "code",
   "execution_count": null,
   "id": "22b3036a",
   "metadata": {
    "lines_to_next_cell": 2
   },
   "outputs": [],
   "source": [
    "df.head()\n",
    "sns.lineplot(data=df[df[\"Country code\"] == 900], x=\"Year\", y=\"Female Stock/Population\")\n",
    "# sns.lineplot(data=df[df[\"Sex\"] == \"both\"], x=\"Country code\", y=\"Migrant_Stock\", hue=\"Year\")\n",
    "plt.tight_layout()\n",
    "plt.title(label=\"WORLD Female Stock/Population\")\n",
    "plt.show()"
   ]
  },
  {
   "cell_type": "code",
   "execution_count": null,
   "id": "8eb5ece4",
   "metadata": {},
   "outputs": [],
   "source": [
    "df = pd.read_excel(\"UN_MigrantStockTotal_2015.xlsx\", sheet_name = \"Table 5\")\n",
    "\n",
    "## read from two rows and merge the sex info to the year\n",
    "ids = list(df.iloc[13])[:5]\n",
    "new_cols = [\"both\", \"male\", \"female\"]\n",
    "values = [value + new_cols[i//5] for i,value in enumerate(list(df.iloc[14])[5:])]\n",
    "df.columns = ids + values\n",
    "## drop the header rows\n",
    "df = df.drop(df.index[0:15])"
   ]
  },
  {
   "cell_type": "code",
   "execution_count": null,
   "id": "db907c07",
   "metadata": {},
   "outputs": [],
   "source": [
    "## merge the data on year/sex row\n",
    "df = df.melt(id_vars = ids, var_name = \"period/sex\", value_name=\"tmp\")\n",
    "\n",
    "## since two variables is stored inside the indicator variable above, split the variable\n",
    "df = df.assign(Period = lambda x: x[\"period/sex\"].str[:9],\n",
    "               Sex = lambda x: x[\"period/sex\"].str[9:])\n",
    "## drop intermidate columns and columns that are not informative\n",
    "df = df.drop(columns=[\"Notes\", \"period/sex\"])"
   ]
  },
  {
   "cell_type": "code",
   "execution_count": null,
   "id": "64c23ae2",
   "metadata": {},
   "outputs": [],
   "source": [
    "## problem found in stock, replace .. with NaN\n",
    "df[\"Annual rate of change for Stock\"] = df[\"tmp\"].replace('..', np.nan)\n",
    "## maintain sort order\n",
    "df = df.sort_values(by=[\"Sort\\norder\", \"Period\", \"Sex\"], ignore_index=True).drop(columns=[\"Sort\\norder\", \"tmp\"])\n",
    "df.head()\n",
    "sns.lineplot(data=df[df[\"Country code\"] == 900], x=\"Period\", y=\"Annual rate of change for Stock\")\n",
    "# sns.lineplot(data=df[df[\"Sex\"] == \"both\"], x=\"Country code\", y=\"Migrant_Stock\", hue=\"Year\")\n",
    "plt.tight_layout()\n",
    "plt.title(label=\"WORLD Female Annual rate of change for Stock\")\n",
    "plt.show()"
   ]
  },
  {
   "cell_type": "code",
   "execution_count": null,
   "id": "830cac9b",
   "metadata": {},
   "outputs": [],
   "source": [
    "df = pd.read_excel(\"UN_MigrantStockTotal_2015.xlsx\", sheet_name = \"Table 6\")\n",
    "\n",
    "## identifiers and migrant stock sex and year are not in the same row\n",
    "## read from two rows and merge the sex info to the year\n",
    "ids = list(df.iloc[13])[:5]\n",
    "stock_values = [\"stock\"+str(int(value)) for value in list(df.iloc[14])[5:11]]\n",
    "per_values = [\"perce\"+str(int(value)) for value in list(df.iloc[14])[11:17]]\n",
    "change_values = [\"chang\"+value for value in list(df.iloc[14])[17:]]\n",
    "\n",
    "df.columns = ids + stock_values + per_values + change_values\n"
   ]
  },
  {
   "cell_type": "code",
   "execution_count": null,
   "id": "07bcbc8b",
   "metadata": {},
   "outputs": [],
   "source": [
    "## drop the header rows\n",
    "df = df.drop(df.index[0:15])\n",
    "df_stock = df.drop(columns = per_values + change_values)\n",
    "df_percentage = df.drop(columns = stock_values + change_values)\n",
    "df_rc = df.drop(columns=stock_values + per_values)\n",
    "df_stock = df_stock.melt(id_vars = ids, var_name = \"Year\", value_name=\"tmp\")\n",
    "df_stock[\"Year\"] = df_stock[\"Year\"].str[5:]\n",
    "## drop intermidate columns and columns that are not informative\n",
    "df_stock = df_stock.drop(columns=[\"Notes\"])"
   ]
  },
  {
   "cell_type": "code",
   "execution_count": null,
   "id": "3975fc3f",
   "metadata": {},
   "outputs": [],
   "source": [
    "## problem found in stock, replace .. with NaN\n",
    "df_stock[\"Refugee Stock\"] = df_stock[\"tmp\"].replace('..', np.nan)\n",
    "## maintain sort order\n",
    "df_stock = df_stock.sort_values(by=[\"Sort\\norder\", \"Year\"], ignore_index=True)\n",
    "df_stock = df_stock.drop(columns=[\"Sort\\norder\", \"tmp\"])\n",
    "df_stock.head()\n",
    "\n",
    "df_percentage = df_percentage.melt(id_vars = ids, var_name = \"Year\", value_name=\"tmp\")\n",
    "df_percentage[\"Year\"] = df_percentage[\"Year\"].str[5:]\n",
    "## drop intermidate columns and columns that are not informative\n",
    "df_percentage = df_percentage.drop(columns=[\"Notes\"])"
   ]
  },
  {
   "cell_type": "code",
   "execution_count": null,
   "id": "44bbc692",
   "metadata": {},
   "outputs": [],
   "source": [
    "## problem found in stock, replace .. with NaN\n",
    "df_percentage[\"Refugee Stock/Population\"] = df_percentage[\"tmp\"].replace('..', np.nan)\n",
    "## maintain sort order\n",
    "df_percentage = df_percentage.sort_values(by=[\"Sort\\norder\", \"Year\"], ignore_index=True)\n",
    "df_percentage = df_percentage.drop(columns=[\"Sort\\norder\", \"tmp\"])\n",
    "df_percentage.head()\n",
    "\n",
    "df_rc = df_rc.melt(id_vars = ids, var_name = \"Period\", value_name=\"tmp\")\n",
    "df_rc[\"Period\"] = df_rc[\"Period\"].str[5:]\n",
    "## drop intermidate columns and columns that are not informative\n",
    "df_rc = df_rc.drop(columns=[\"Notes\"])"
   ]
  },
  {
   "cell_type": "code",
   "execution_count": null,
   "id": "65a3ee50",
   "metadata": {
    "lines_to_next_cell": 0
   },
   "outputs": [],
   "source": [
    "## problem found in stock, replace .. with NaN\n",
    "df_rc[\"Refugee Stock Rate of Change\"] = df_rc[\"tmp\"].replace('..', np.nan)\n",
    "## maintain sort order\n",
    "df_rc = df_rc.sort_values(by=[\"Sort\\norder\", \"Period\"], ignore_index=True)\n",
    "df_rc = df_rc.drop(columns=[\"Sort\\norder\", \"tmp\"])\n",
    "df_rc.head()\n",
    "\n",
    "sns.set()\n",
    "fig,ax = plt.subplots(1,2)\n",
    "sns.barplot(data=df_stock[df_stock[\"Country code\"] == 900], x=\"Year\", y=\"Refugee Stock\",ax=ax[0])\n",
    "sns.pointplot(data=df_percentage[df_percentage[\"Country code\"] == 900], x=\"Year\", y=\"Refugee Stock/Population\",ax=ax[1])\n",
    "ax[0].set_title(\"WORLD Refugee Stock\")\n",
    "ax[1].set_title(\"WORLD Refugee Stock/Population\")\n",
    "# sns.barplot(data=df[df[\"Sex\"] == \"both\"], x=\"Country code\", y=\"Migrant_Stock\", hue=\"Year\")\n",
    "plt.tight_layout()\n",
    "plt.show()\n",
    "\n",
    "sns.lineplot(data=df_rc[df_rc[\"Country code\"] == 900], x=\"Period\", y=\"Refugee Stock Rate of Change\")\n",
    "plt.title(label=\"WORLD Refugee Stock Rate of Change\")\n",
    "plt.tight_layout()\n",
    "plt.show()\n"
   ]
  },
  {
   "cell_type": "code",
   "execution_count": null,
   "id": "dfe1d65b",
   "metadata": {},
   "outputs": [],
   "source": []
  },
  {
   "cell_type": "code",
   "execution_count": null,
   "id": "c8afc16b",
   "metadata": {},
   "outputs": [],
   "source": []
  },
  {
   "cell_type": "code",
   "execution_count": null,
   "id": "9d804804",
   "metadata": {},
   "outputs": [],
   "source": []
  },
  {
   "cell_type": "code",
   "execution_count": null,
   "id": "a82535a4",
   "metadata": {
    "lines_to_next_cell": 2
   },
   "outputs": [],
   "source": []
  }
 ],
 "metadata": {
  "jupytext": {
   "cell_metadata_filter": "-all",
   "main_language": "python",
   "notebook_metadata_filter": "-all",
   "text_representation": {
    "extension": ".py",
    "format_name": "light"
   }
  }
 },
 "nbformat": 4,
 "nbformat_minor": 5
}
